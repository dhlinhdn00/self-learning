{
 "cells": [
  {
   "cell_type": "code",
   "execution_count": null,
   "metadata": {},
   "outputs": [],
   "source": [
    "def bisectLeft(arr, t, l, h):\n",
    "    \"\"\"\n",
    "    :note: t = targer, l = low, h = high, m = mid\n",
    "    :statement: Perform binary search on the range arr[l : h] to find the first position where its value >= target. \n",
    "                If no such elements exist, returns the insertion point to keep the array sorted in ascending order.\n",
    "    :time-complexity: O(logn)\n",
    "    \"\"\"\n",
    "    while l < h:\n",
    "        m = (l + h) // 2\n",
    "        if arr[m] < t:\n",
    "            l = m + 1\n",
    "        else:\n",
    "            h = m\n",
    "    return l"
   ]
  },
  {
   "cell_type": "code",
   "execution_count": null,
   "metadata": {},
   "outputs": [],
   "source": [
    "def bisectRight(arr, t, l, h):\n",
    "    \"\"\"\n",
    "    :note: t = target, l = low, h = high, m = mid\n",
    "    :statement: Perform binary search on the range arr[l : h] to find the first position where its value > target.\n",
    "                If no such elements exist, returns the insertion point to keep sorted in ascending order.\n",
    "                :time-complexity: O(logn)\n",
    "    \"\"\"\n",
    "    while l < h:\n",
    "        m = (l + h) // 2\n",
    "        if arr[m] <= t:\n",
    "            l = m + 1\n",
    "        else:\n",
    "            h = m\n",
    "    return l"
   ]
  }
 ],
 "metadata": {
  "language_info": {
   "name": "python"
  }
 },
 "nbformat": 4,
 "nbformat_minor": 2
}
