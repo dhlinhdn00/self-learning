{
 "cells": [
  {
   "cell_type": "markdown",
   "metadata": {},
   "source": [
    "# **SOLUTION**"
   ]
  },
  {
   "cell_type": "code",
   "execution_count": null,
   "metadata": {},
   "outputs": [],
   "source": [
    "class Solution(object):\n",
    "    def countSubarrays(self, nums, minK, maxK):\n",
    "        \"\"\"\n",
    "        :type nums: List[int]\n",
    "        :type minK: int\n",
    "        :type maxK: int\n",
    "        :rtype: int\n",
    "        \"\"\"\n",
    "        return self.solverNaive(nums, minK, maxK)\n",
    "    \n",
    "    def solverNaive(self, nums, minK, maxK):\n",
    "        n = len(nums)\n",
    "        count = 0\n",
    "\n",
    "        for r in range(n):\n",
    "            for l in range(r, -1, -1):\n",
    "                if min(nums[l:r + 1]) == minK and max(nums[l:r + 1]) == maxK:\n",
    "                    count += 1\n",
    "        return count  \n",
    "        "
   ]
  },
  {
   "cell_type": "markdown",
   "metadata": {},
   "source": [
    "# **DRAFT**"
   ]
  },
  {
   "cell_type": "code",
   "execution_count": 9,
   "metadata": {},
   "outputs": [
    {
     "name": "stdout",
     "output_type": "stream",
     "text": [
      "2\n"
     ]
    }
   ],
   "source": [
    "nums = [1,3,5,2,7,5]\n",
    "minK = 1\n",
    "maxK = 5\n",
    "\n",
    "\n",
    "n = len(nums)\n",
    "l = 0\n",
    "count = 0\n",
    "\n",
    "for r in range(n):\n",
    "    for l in range(r, -1, -1):\n",
    "        if min(nums[l:r + 1]) == minK and max(nums[l:r + 1]) == maxK:\n",
    "            count += 1\n",
    "print(count)\n"
   ]
  },
  {
   "cell_type": "markdown",
   "metadata": {},
   "source": [
    "# **TESTCASES**"
   ]
  },
  {
   "cell_type": "code",
   "execution_count": 11,
   "metadata": {},
   "outputs": [
    {
     "ename": "TypeError",
     "evalue": "'bool' object is not iterable",
     "output_type": "error",
     "traceback": [
      "\u001b[0;31m---------------------------------------------------------------------------\u001b[0m",
      "\u001b[0;31mTypeError\u001b[0m                                 Traceback (most recent call last)",
      "Cell \u001b[0;32mIn[11], line 14\u001b[0m\n\u001b[1;32m      8\u001b[0m test_cases \u001b[38;5;241m=\u001b[39m [\n\u001b[1;32m      9\u001b[0m     (\u001b[38;5;241m1\u001b[39m, [\u001b[38;5;241m1\u001b[39m,\u001b[38;5;241m3\u001b[39m,\u001b[38;5;241m5\u001b[39m,\u001b[38;5;241m2\u001b[39m,\u001b[38;5;241m7\u001b[39m,\u001b[38;5;241m5\u001b[39m], \u001b[38;5;241m1\u001b[39m, \u001b[38;5;241m5\u001b[39m, \u001b[38;5;241m2\u001b[39m),\n\u001b[1;32m     10\u001b[0m     (\u001b[38;5;241m2\u001b[39m, [\u001b[38;5;241m1\u001b[39m,\u001b[38;5;241m1\u001b[39m,\u001b[38;5;241m1\u001b[39m,\u001b[38;5;241m1\u001b[39m], \u001b[38;5;241m1\u001b[39m, \u001b[38;5;241m1\u001b[39m, \u001b[38;5;241m10\u001b[39m)\n\u001b[1;32m     11\u001b[0m     ]\n\u001b[1;32m     13\u001b[0m \u001b[38;5;28;01mfor\u001b[39;00m case_number, input_nums, input_minK, input_maxK, expected \u001b[38;5;129;01min\u001b[39;00m test_cases:\n\u001b[0;32m---> 14\u001b[0m     \u001b[43mrun_test_case\u001b[49m\u001b[43m(\u001b[49m\u001b[43mcase_number\u001b[49m\u001b[43m,\u001b[49m\u001b[43m \u001b[49m\u001b[43minput_nums\u001b[49m\u001b[43m,\u001b[49m\u001b[43m \u001b[49m\u001b[43minput_minK\u001b[49m\u001b[43m,\u001b[49m\u001b[43m \u001b[49m\u001b[43minput_maxK\u001b[49m\u001b[43m,\u001b[49m\u001b[43m \u001b[49m\u001b[43mexpected\u001b[49m\u001b[43m)\u001b[49m\n",
      "Cell \u001b[0;32mIn[11], line 4\u001b[0m, in \u001b[0;36mrun_test_case\u001b[0;34m(case_number, input_nums, input_minK, input_maxK, expected)\u001b[0m\n\u001b[1;32m      3\u001b[0m \u001b[38;5;28;01mdef\u001b[39;00m \u001b[38;5;21mrun_test_case\u001b[39m(case_number, input_nums, input_minK, input_maxK, expected):\n\u001b[0;32m----> 4\u001b[0m     result \u001b[38;5;241m=\u001b[39m \u001b[43msolution\u001b[49m\u001b[38;5;241;43m.\u001b[39;49m\u001b[43mcountSubarrays\u001b[49m\u001b[43m(\u001b[49m\u001b[43minput_nums\u001b[49m\u001b[43m,\u001b[49m\u001b[43m \u001b[49m\u001b[43minput_minK\u001b[49m\u001b[43m,\u001b[49m\u001b[43m \u001b[49m\u001b[43minput_maxK\u001b[49m\u001b[43m)\u001b[49m\n\u001b[1;32m      5\u001b[0m     status \u001b[38;5;241m=\u001b[39m \u001b[38;5;124m\"\u001b[39m\u001b[38;5;124mPASSED\u001b[39m\u001b[38;5;124m\"\u001b[39m \u001b[38;5;28;01mif\u001b[39;00m result \u001b[38;5;241m==\u001b[39m expected \u001b[38;5;28;01melse\u001b[39;00m \u001b[38;5;124m\"\u001b[39m\u001b[38;5;124mFAILED\u001b[39m\u001b[38;5;124m\"\u001b[39m\n\u001b[1;32m      6\u001b[0m     \u001b[38;5;28mprint\u001b[39m(\u001b[38;5;124mf\u001b[39m\u001b[38;5;124m\"\u001b[39m\u001b[38;5;124mCase \u001b[39m\u001b[38;5;132;01m{\u001b[39;00mcase_number\u001b[38;5;132;01m}\u001b[39;00m\u001b[38;5;124m - nums: \u001b[39m\u001b[38;5;132;01m{\u001b[39;00minput_nums\u001b[38;5;132;01m}\u001b[39;00m\u001b[38;5;124m, input_minK: \u001b[39m\u001b[38;5;132;01m{\u001b[39;00minput_minK\u001b[38;5;132;01m}\u001b[39;00m\u001b[38;5;124m, input_maxK: \u001b[39m\u001b[38;5;132;01m{\u001b[39;00minput_maxK\u001b[38;5;132;01m}\u001b[39;00m\u001b[38;5;124m Output: \u001b[39m\u001b[38;5;132;01m{\u001b[39;00mresult\u001b[38;5;132;01m}\u001b[39;00m\u001b[38;5;124m, Expected: \u001b[39m\u001b[38;5;132;01m{\u001b[39;00mexpected\u001b[38;5;132;01m}\u001b[39;00m\u001b[38;5;124m, Status: \u001b[39m\u001b[38;5;132;01m{\u001b[39;00mstatus\u001b[38;5;132;01m}\u001b[39;00m\u001b[38;5;124m\"\u001b[39m)\n",
      "Cell \u001b[0;32mIn[10], line 9\u001b[0m, in \u001b[0;36mSolution.countSubarrays\u001b[0;34m(self, nums, minK, maxK)\u001b[0m\n\u001b[1;32m      2\u001b[0m \u001b[38;5;28;01mdef\u001b[39;00m \u001b[38;5;21mcountSubarrays\u001b[39m(\u001b[38;5;28mself\u001b[39m, nums, minK, maxK):\n\u001b[1;32m      3\u001b[0m \u001b[38;5;250m    \u001b[39m\u001b[38;5;124;03m\"\"\"\u001b[39;00m\n\u001b[1;32m      4\u001b[0m \u001b[38;5;124;03m    :type nums: List[int]\u001b[39;00m\n\u001b[1;32m      5\u001b[0m \u001b[38;5;124;03m    :type minK: int\u001b[39;00m\n\u001b[1;32m      6\u001b[0m \u001b[38;5;124;03m    :type maxK: int\u001b[39;00m\n\u001b[1;32m      7\u001b[0m \u001b[38;5;124;03m    :rtype: int\u001b[39;00m\n\u001b[1;32m      8\u001b[0m \u001b[38;5;124;03m    \"\"\"\u001b[39;00m\n\u001b[0;32m----> 9\u001b[0m     \u001b[38;5;28;01mreturn\u001b[39;00m \u001b[38;5;28;43mself\u001b[39;49m\u001b[38;5;241;43m.\u001b[39;49m\u001b[43msolverNaive\u001b[49m\u001b[43m(\u001b[49m\u001b[43mnums\u001b[49m\u001b[43m,\u001b[49m\u001b[43m \u001b[49m\u001b[43mminK\u001b[49m\u001b[43m,\u001b[49m\u001b[43m \u001b[49m\u001b[43mmaxK\u001b[49m\u001b[43m)\u001b[49m\n",
      "Cell \u001b[0;32mIn[10], line 17\u001b[0m, in \u001b[0;36mSolution.solverNaive\u001b[0;34m(self, nums, minK, maxK)\u001b[0m\n\u001b[1;32m     15\u001b[0m \u001b[38;5;28;01mfor\u001b[39;00m r \u001b[38;5;129;01min\u001b[39;00m \u001b[38;5;28mrange\u001b[39m(n):\n\u001b[1;32m     16\u001b[0m     \u001b[38;5;28;01mfor\u001b[39;00m l \u001b[38;5;129;01min\u001b[39;00m \u001b[38;5;28mrange\u001b[39m(r, \u001b[38;5;241m-\u001b[39m\u001b[38;5;241m1\u001b[39m, \u001b[38;5;241m-\u001b[39m\u001b[38;5;241m1\u001b[39m):\n\u001b[0;32m---> 17\u001b[0m         \u001b[38;5;28;01mif\u001b[39;00m \u001b[38;5;28mmin\u001b[39m(nums[l:r \u001b[38;5;241m+\u001b[39m \u001b[38;5;241m1\u001b[39m]) \u001b[38;5;241m==\u001b[39m minK \u001b[38;5;129;01mand\u001b[39;00m \u001b[38;5;28;43mmax\u001b[39;49m\u001b[43m(\u001b[49m\u001b[43mnums\u001b[49m\u001b[43m[\u001b[49m\u001b[43ml\u001b[49m\u001b[43m:\u001b[49m\u001b[43mr\u001b[49m\u001b[43m \u001b[49m\u001b[38;5;241;43m+\u001b[39;49m\u001b[43m \u001b[49m\u001b[38;5;241;43m1\u001b[39;49m\u001b[43m]\u001b[49m\u001b[43m \u001b[49m\u001b[38;5;241;43m==\u001b[39;49m\u001b[43m \u001b[49m\u001b[43mmaxK\u001b[49m\u001b[43m)\u001b[49m:\n\u001b[1;32m     18\u001b[0m             count \u001b[38;5;241m+\u001b[39m\u001b[38;5;241m=\u001b[39m \u001b[38;5;241m1\u001b[39m\n\u001b[1;32m     19\u001b[0m \u001b[38;5;28;01mreturn\u001b[39;00m count\n",
      "\u001b[0;31mTypeError\u001b[0m: 'bool' object is not iterable"
     ]
    }
   ],
   "source": [
    "solution = Solution()\n",
    "\n",
    "def run_test_case(case_number, input_nums, input_minK, input_maxK, expected):\n",
    "    result = solution.countSubarrays(input_nums, input_minK, input_maxK)\n",
    "    status = \"PASSED\" if result == expected else \"FAILED\"\n",
    "    print(f\"Case {case_number} - nums: {input_nums}, input_minK: {input_minK}, input_maxK: {input_maxK} Output: {result}, Expected: {expected}, Status: {status}\")\n",
    "\n",
    "test_cases = [\n",
    "    (1, [1,3,5,2,7,5], 1, 5, 2),\n",
    "    (2, [1,1,1,1], 1, 1, 10)\n",
    "    ]\n",
    "\n",
    "for case_number, input_nums, input_minK, input_maxK, expected in test_cases:\n",
    "    run_test_case(case_number, input_nums, input_minK, input_maxK, expected)"
   ]
  }
 ],
 "metadata": {
  "kernelspec": {
   "display_name": "Python 3",
   "language": "python",
   "name": "python3"
  },
  "language_info": {
   "codemirror_mode": {
    "name": "ipython",
    "version": 3
   },
   "file_extension": ".py",
   "mimetype": "text/x-python",
   "name": "python",
   "nbconvert_exporter": "python",
   "pygments_lexer": "ipython3",
   "version": "3.10.12"
  }
 },
 "nbformat": 4,
 "nbformat_minor": 2
}
