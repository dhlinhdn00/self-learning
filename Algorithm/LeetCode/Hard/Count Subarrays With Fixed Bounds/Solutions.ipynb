{
 "cells": [
  {
   "cell_type": "markdown",
   "metadata": {},
   "source": [
    "# **SOLUTION**"
   ]
  },
  {
   "cell_type": "code",
   "execution_count": 1,
   "metadata": {},
   "outputs": [],
   "source": [
    "class Solution(object):\n",
    "    def countSubarrays(self, nums, minK, maxK):\n",
    "        \"\"\"\n",
    "        :type nums: List[int]\n",
    "        :type minK: int\n",
    "        :type maxK: int\n",
    "        :rtype: int\n",
    "        \"\"\"\n",
    "        return self.solverNaive(nums, minK, maxK)\n",
    "    def solverNaive(self, nums, minK, maxK):\n",
    "        pass\n",
    "        "
   ]
  },
  {
   "cell_type": "markdown",
   "metadata": {},
   "source": [
    "# **DRAFT**"
   ]
  },
  {
   "cell_type": "markdown",
   "metadata": {},
   "source": [
    "# **TESTCASES**"
   ]
  },
  {
   "cell_type": "code",
   "execution_count": 6,
   "metadata": {},
   "outputs": [
    {
     "name": "stdout",
     "output_type": "stream",
     "text": [
      "Case 1 - nums: [1, 3, 5, 2, 7, 5], input_minK: 1, input_maxK: 5 Output: None, Expected: 2, Status: FAILED\n",
      "Case 2 - nums: [1, 1, 1, 1], input_minK: 1, input_maxK: 1 Output: None, Expected: 10, Status: FAILED\n"
     ]
    }
   ],
   "source": [
    "solution = Solution()\n",
    "\n",
    "def run_test_case(case_number, input_nums, input_minK, input_maxK, expected):\n",
    "    result = solution.countSubarrays(input_nums, input_minK, input_maxK)\n",
    "    status = \"PASSED\" if result == expected else \"FAILED\"\n",
    "    print(f\"Case {case_number} - nums: {input_nums}, input_minK: {input_minK}, input_maxK: {input_maxK} Output: {result}, Expected: {expected}, Status: {status}\")\n",
    "\n",
    "test_cases = [\n",
    "    (1, [1,3,5,2,7,5], 1, 5, 2),\n",
    "    (2, [1,1,1,1], 1, 1, 10)\n",
    "    ]\n",
    "\n",
    "for case_number, input_nums, input_minK, input_maxK, expected in test_cases:\n",
    "    run_test_case(case_number, input_nums, input_minK, input_maxK, expected)"
   ]
  }
 ],
 "metadata": {
  "kernelspec": {
   "display_name": "Python 3",
   "language": "python",
   "name": "python3"
  },
  "language_info": {
   "codemirror_mode": {
    "name": "ipython",
    "version": 3
   },
   "file_extension": ".py",
   "mimetype": "text/x-python",
   "name": "python",
   "nbconvert_exporter": "python",
   "pygments_lexer": "ipython3",
   "version": "3.10.12"
  }
 },
 "nbformat": 4,
 "nbformat_minor": 2
}
