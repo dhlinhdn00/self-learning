{
 "cells": [
  {
   "cell_type": "markdown",
   "metadata": {},
   "source": [
    "# **SOLUTION**"
   ]
  },
  {
   "cell_type": "code",
   "execution_count": 25,
   "metadata": {},
   "outputs": [],
   "source": [
    "class Solution(object):\n",
    "    def countSubarrays(self, nums, minK, maxK):\n",
    "        \"\"\"\n",
    "        :type nums: List[int]\n",
    "        :type minK: int\n",
    "        :type maxK: int\n",
    "        :rtype: int\n",
    "        \"\"\"\n",
    "        return self.solverImproved(nums, minK, maxK)\n",
    "    \n",
    "    def solverNaive1(self, nums, minK, maxK):\n",
    "        \"\"\"\n",
    "        :cost: Time Limit Exceeded\n",
    "        \"\"\"\n",
    "        n = len(nums)\n",
    "        count = 0\n",
    "\n",
    "        for r in range(n):\n",
    "            for l in range(r, -1, -1):\n",
    "                if min(nums[l:r + 1]) == minK and max(nums[l:r + 1]) == maxK:\n",
    "                    count += 1\n",
    "        return count  \n",
    "\n",
    "    def solverNaive2(self, nums, minK, maxK):\n",
    "        \"\"\"\n",
    "        :cost: Time Limit Exceeded\n",
    "        \"\"\"\n",
    "        n = len(nums)\n",
    "        count = 0\n",
    "        for r in range(n):\n",
    "            for l in range(r, -1, -1):\n",
    "                if min(nums[l:r + 1]) == minK and max(nums[l:r + 1]) == maxK:\n",
    "                    count += 1\n",
    "        return count\n",
    "    \n",
    "    def solverImproved(self, nums, minK, maxK):\n",
    "        \"\"\"\n",
    "        :cost: 139ms(100%) | 20.65ms(25%)\n",
    "        \"\"\"\n",
    "        count = 0\n",
    "        bad_idx, max_idx, min_idx = -1, -1, -1\n",
    "\n",
    "        for i, v in enumerate(nums):\n",
    "            if v < minK or v > maxK:\n",
    "                bad_idx = i\n",
    "            if v == minK:\n",
    "                min_idx = i\n",
    "            if v == maxK:\n",
    "                max_idx = i\n",
    "            \n",
    "            valid_start = min(min_idx, max_idx)\n",
    "\n",
    "            if  valid_start > bad_idx:\n",
    "                count += valid_start - bad_idx\n",
    "                \n",
    "        return count\n"
   ]
  },
  {
   "cell_type": "markdown",
   "metadata": {},
   "source": [
    "# **DRAFT**"
   ]
  },
  {
   "cell_type": "code",
   "execution_count": null,
   "metadata": {},
   "outputs": [
    {
     "name": "stdout",
     "output_type": "stream",
     "text": [
      "2\n"
     ]
    }
   ],
   "source": [
    "# Brute force\n",
    "nums = [1,3,5,2,7,5]\n",
    "minK = 1\n",
    "maxK = 5\n",
    "\n",
    "\n",
    "n = len(nums)\n",
    "l = 0\n",
    "count = 0\n",
    "\n",
    "for r in range(n):\n",
    "    for l in range(r, -1, -1):\n",
    "        if min(nums[l:r + 1]) == minK and max(nums[l:r + 1]) == maxK:\n",
    "            count += 1\n",
    "print(count)\n"
   ]
  },
  {
   "cell_type": "code",
   "execution_count": 15,
   "metadata": {},
   "outputs": [
    {
     "name": "stdout",
     "output_type": "stream",
     "text": [
      "2\n"
     ]
    }
   ],
   "source": [
    "# Sliding windows\n",
    "nums = [1,3,5,2,7,5]\n",
    "minK = 1\n",
    "maxK = 5\n",
    "\n",
    "\n",
    "n = len(nums)\n",
    "l = 0\n",
    "count = 0\n",
    "\n",
    "for r in range(1, n):\n",
    "    mi = min(nums[l:r])\n",
    "    ma = max(nums[l:r])\n",
    "    while mi == minK and ma == maxK:\n",
    "        count += 1\n",
    "        if nums[l] == mi or nums[l] == ma:\n",
    "            break\n",
    "        else:\n",
    "            l += 1\n",
    "\n",
    "\n",
    "\n",
    "print(count)\n"
   ]
  },
  {
   "cell_type": "code",
   "execution_count": 20,
   "metadata": {},
   "outputs": [
    {
     "name": "stdout",
     "output_type": "stream",
     "text": [
      "2\n"
     ]
    }
   ],
   "source": [
    "nums = [1,3,5,2,7,5]\n",
    "minK = 1\n",
    "maxK = 5\n",
    "\n",
    "count = 0\n",
    "bad_idx, max_idx, min_idx = -1, -1, -1\n",
    "\n",
    "for i, v in enumerate(nums):\n",
    "    if v < minK or v > maxK:\n",
    "        bad_idx = i\n",
    "    if v == minK:\n",
    "        min_idx = i\n",
    "    if v == maxK:\n",
    "        max_idx = i\n",
    "    \n",
    "    valid_start = min(min_idx, max_idx)\n",
    "\n",
    "    if  valid_start > bad_idx:\n",
    "        count += valid_start - bad_idx\n",
    "\n",
    "\n",
    "\n",
    "\n",
    "print(count)\n"
   ]
  },
  {
   "cell_type": "markdown",
   "metadata": {},
   "source": [
    "# **TESTCASES**"
   ]
  },
  {
   "cell_type": "code",
   "execution_count": 26,
   "metadata": {},
   "outputs": [
    {
     "name": "stdout",
     "output_type": "stream",
     "text": [
      "Case 1 - nums: [1, 3, 5, 2, 7, 5], input_minK: 1, input_maxK: 5 Output: 2, Expected: 2, Status: PASSED\n",
      "Case 2 - nums: [1, 1, 1, 1], input_minK: 1, input_maxK: 1 Output: 10, Expected: 10, Status: PASSED\n"
     ]
    }
   ],
   "source": [
    "solution = Solution()\n",
    "\n",
    "def run_test_case(case_number, input_nums, input_minK, input_maxK, expected):\n",
    "    result = solution.countSubarrays(input_nums, input_minK, input_maxK)\n",
    "    status = \"PASSED\" if result == expected else \"FAILED\"\n",
    "    print(f\"Case {case_number} - nums: {input_nums}, input_minK: {input_minK}, input_maxK: {input_maxK} Output: {result}, Expected: {expected}, Status: {status}\")\n",
    "\n",
    "test_cases = [\n",
    "    (1, [1,3,5,2,7,5], 1, 5, 2),\n",
    "    (2, [1,1,1,1], 1, 1, 10)\n",
    "    ]\n",
    "\n",
    "for case_number, input_nums, input_minK, input_maxK, expected in test_cases:\n",
    "    run_test_case(case_number, input_nums, input_minK, input_maxK, expected)"
   ]
  }
 ],
 "metadata": {
  "kernelspec": {
   "display_name": "Python 3",
   "language": "python",
   "name": "python3"
  },
  "language_info": {
   "codemirror_mode": {
    "name": "ipython",
    "version": 3
   },
   "file_extension": ".py",
   "mimetype": "text/x-python",
   "name": "python",
   "nbconvert_exporter": "python",
   "pygments_lexer": "ipython3",
   "version": "3.10.12"
  }
 },
 "nbformat": 4,
 "nbformat_minor": 2
}
