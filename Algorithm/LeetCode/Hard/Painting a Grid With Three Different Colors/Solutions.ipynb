{
 "cells": [
  {
   "cell_type": "markdown",
   "metadata": {},
   "source": [
    "# **SOLUTION**"
   ]
  },
  {
   "cell_type": "code",
   "execution_count": 75,
   "metadata": {},
   "outputs": [],
   "source": [
    "class Solution(object):\n",
    "    def colorTheGrid(self, m, n):\n",
    "        \"\"\"\n",
    "        :type m: int\n",
    "        :type n: int\n",
    "        :rtype: int\n",
    "        \"\"\"\n",
    "        MOD = 10**9 + 7\n",
    "        return self.solverDP(m, n, MOD)\n",
    "    \n",
    "    def solverDP(self, m, n, MOD):\n",
    "        candidates = []\n",
    "        def _backtracking(curr):\n",
    "            if len(curr) == m:\n",
    "                candidates.append(curr.copy())\n",
    "                return\n",
    "            \n",
    "            for v in range(3):\n",
    "                if len(curr) == 0 or v != curr[-1]:\n",
    "                    curr.append(v)\n",
    "                    _backtracking(curr)\n",
    "                    curr.pop()\n",
    "            \n",
    "        _backtracking([])\n",
    "\n",
    "        cand_len = len(candidates)\n",
    "        mapping = [[] for _ in range(cand_len)]\n",
    "\n",
    "        for i in range(cand_len):\n",
    "            for j in range(cand_len):\n",
    "                for k in range(m):\n",
    "                    check = True\n",
    "                    if candidates[i][k] == candidates[j][k]:\n",
    "                        check = False\n",
    "                        break\n",
    "                if check:\n",
    "                    mapping[i].append(j)\n",
    "        \n",
    "        dp = [1] * cand_len\n",
    "\n",
    "        for _ in range(1, n):\n",
    "            new_dp = [0] * cand_len\n",
    "            for i in range(cand_len):\n",
    "                way = dp[i]\n",
    "                for v in mapping[i]:\n",
    "                    new_dp[v] = (new_dp[v] + way) % MOD\n",
    "                \n",
    "            dp = new_dp\n",
    "        return sum(dp) % MOD\n"
   ]
  },
  {
   "cell_type": "markdown",
   "metadata": {},
   "source": [
    "# **DRAFT**"
   ]
  },
  {
   "cell_type": "code",
   "execution_count": 70,
   "metadata": {},
   "outputs": [],
   "source": [
    "m, n = 5, 6"
   ]
  },
  {
   "cell_type": "code",
   "execution_count": 71,
   "metadata": {},
   "outputs": [
    {
     "name": "stdout",
     "output_type": "stream",
     "text": [
      "[(0, 1, 0, 1, 0), (2, 1, 0, 1, 0), (0, 2, 0, 1, 0), (1, 2, 0, 1, 0), (1, 0, 2, 1, 0), (2, 0, 2, 1, 0), (0, 1, 2, 1, 0), (2, 1, 2, 1, 0), (0, 1, 0, 2, 0), (2, 1, 0, 2, 0), (0, 2, 0, 2, 0), (1, 2, 0, 2, 0), (1, 0, 1, 2, 0), (2, 0, 1, 2, 0), (0, 2, 1, 2, 0), (1, 2, 1, 2, 0), (1, 0, 1, 0, 1), (2, 0, 1, 0, 1), (0, 2, 1, 0, 1), (1, 2, 1, 0, 1), (1, 0, 2, 0, 1), (2, 0, 2, 0, 1), (0, 1, 2, 0, 1), (2, 1, 2, 0, 1), (0, 1, 0, 2, 1), (2, 1, 0, 2, 1), (0, 2, 0, 2, 1), (1, 2, 0, 2, 1), (1, 0, 1, 2, 1), (2, 0, 1, 2, 1), (0, 2, 1, 2, 1), (1, 2, 1, 2, 1), (1, 0, 1, 0, 2), (2, 0, 1, 0, 2), (0, 2, 1, 0, 2), (1, 2, 1, 0, 2), (1, 0, 2, 0, 2), (2, 0, 2, 0, 2), (0, 1, 2, 0, 2), (2, 1, 2, 0, 2), (0, 1, 0, 1, 2), (2, 1, 0, 1, 2), (0, 2, 0, 1, 2), (1, 2, 0, 1, 2), (1, 0, 2, 1, 2), (2, 0, 2, 1, 2), (0, 1, 2, 1, 2), (2, 1, 2, 1, 2)]\n",
      "48\n"
     ]
    }
   ],
   "source": [
    "# Normal Iteration\n",
    "candidates_list = []\n",
    "\n",
    "for i in range(3 ** m):\n",
    "    temp_arr = []\n",
    "    temp_i = i\n",
    "    temp_condition = True\n",
    "    for _ in range(m):\n",
    "        temp_arr.append(temp_i % 3)\n",
    "        temp_i //= 3\n",
    "\n",
    "    for j in range(m - 1):\n",
    "        if temp_arr[j] == temp_arr[j + 1]:\n",
    "            temp_condition = False\n",
    "            break\n",
    "    if temp_condition:\n",
    "        candidates_list.append(tuple(temp_arr))\n",
    "\n",
    "print(candidates_list)\n",
    "print(len(candidates_list))"
   ]
  },
  {
   "cell_type": "code",
   "execution_count": 72,
   "metadata": {},
   "outputs": [
    {
     "name": "stdout",
     "output_type": "stream",
     "text": [
      "[[0, 1, 0, 1, 0], [0, 1, 0, 1, 2], [0, 1, 0, 2, 0], [0, 1, 0, 2, 1], [0, 1, 2, 0, 1], [0, 1, 2, 0, 2], [0, 1, 2, 1, 0], [0, 1, 2, 1, 2], [0, 2, 0, 1, 0], [0, 2, 0, 1, 2], [0, 2, 0, 2, 0], [0, 2, 0, 2, 1], [0, 2, 1, 0, 1], [0, 2, 1, 0, 2], [0, 2, 1, 2, 0], [0, 2, 1, 2, 1], [1, 0, 1, 0, 1], [1, 0, 1, 0, 2], [1, 0, 1, 2, 0], [1, 0, 1, 2, 1], [1, 0, 2, 0, 1], [1, 0, 2, 0, 2], [1, 0, 2, 1, 0], [1, 0, 2, 1, 2], [1, 2, 0, 1, 0], [1, 2, 0, 1, 2], [1, 2, 0, 2, 0], [1, 2, 0, 2, 1], [1, 2, 1, 0, 1], [1, 2, 1, 0, 2], [1, 2, 1, 2, 0], [1, 2, 1, 2, 1], [2, 0, 1, 0, 1], [2, 0, 1, 0, 2], [2, 0, 1, 2, 0], [2, 0, 1, 2, 1], [2, 0, 2, 0, 1], [2, 0, 2, 0, 2], [2, 0, 2, 1, 0], [2, 0, 2, 1, 2], [2, 1, 0, 1, 0], [2, 1, 0, 1, 2], [2, 1, 0, 2, 0], [2, 1, 0, 2, 1], [2, 1, 2, 0, 1], [2, 1, 2, 0, 2], [2, 1, 2, 1, 0], [2, 1, 2, 1, 2]]\n",
      "48\n"
     ]
    }
   ],
   "source": [
    "# Backtracking\n",
    "candidates_list = []\n",
    "\n",
    "def backtracking(current):\n",
    "    if len(current) == m:\n",
    "        candidates_list.append(current.copy())\n",
    "        return\n",
    "    \n",
    "    for v in range(3):\n",
    "        if len(current) == 0 or v != current[-1]:\n",
    "            current.append(v)\n",
    "            backtracking(current)\n",
    "            current.pop()\n",
    "\n",
    "backtracking([])\n",
    "print(candidates_list)\n",
    "print(len(candidates_list))\n"
   ]
  },
  {
   "cell_type": "code",
   "execution_count": 73,
   "metadata": {},
   "outputs": [
    {
     "name": "stdout",
     "output_type": "stream",
     "text": [
      "[[16, 17, 19, 20, 21, 28, 29, 31, 32, 33, 35, 36, 37], [16, 18, 19, 20, 28, 30, 31, 32, 34, 35, 36], [16, 17, 20, 21, 23, 28, 29, 32, 33, 36, 37, 39], [17, 21, 22, 23, 29, 33, 37, 38, 39], [18, 24, 25, 26, 30, 34], [18, 19, 24, 26, 27, 30, 31, 34, 35], [16, 17, 19, 27, 28, 29, 31, 32, 33, 35], [16, 18, 19, 26, 27, 28, 30, 31, 32, 34, 35], [16, 17, 19, 20, 21, 32, 33, 35, 36, 37, 44, 45], [16, 18, 19, 20, 32, 34, 35, 36, 44], [16, 17, 20, 21, 23, 32, 33, 36, 37, 39, 44, 45, 47], [17, 21, 22, 23, 33, 37, 38, 39, 45, 46, 47], [22, 23, 38, 39, 40, 41, 42, 46, 47], [22, 38, 40, 42, 43, 46], [20, 21, 23, 36, 37, 39, 41, 44, 45, 47], [21, 22, 23, 37, 38, 39, 40, 41, 45, 46, 47], [0, 1, 2, 6, 7, 8, 9, 10, 40, 41, 42, 46, 47], [0, 2, 3, 6, 8, 10, 11, 40, 42, 43, 46], [1, 4, 5, 7, 9, 41, 44, 45, 47], [0, 1, 5, 6, 7, 8, 9, 40, 41, 45, 46, 47], [0, 1, 2, 8, 9, 10, 14, 40, 41, 42], [0, 2, 3, 8, 10, 11, 14, 15, 40, 42, 43], [3, 11, 12, 13, 15, 43], [2, 3, 10, 11, 12, 14, 15, 42, 43], [4, 5, 32, 33, 35, 36, 37, 44, 45], [4, 32, 34, 35, 36, 44], [4, 5, 7, 32, 33, 36, 37, 39, 44, 45, 47], [5, 6, 7, 33, 37, 38, 39, 45, 46, 47], [0, 1, 2, 6, 7, 38, 39, 40, 41, 42, 46, 47], [0, 2, 3, 6, 38, 40, 42, 43, 46], [1, 4, 5, 7, 36, 37, 39, 41, 44, 45, 47], [0, 1, 5, 6, 7, 37, 38, 39, 40, 41, 45, 46, 47], [0, 1, 2, 6, 7, 8, 9, 10, 24, 25, 26], [0, 2, 3, 6, 8, 10, 11, 24, 26, 27], [1, 4, 5, 7, 9, 25], [0, 1, 5, 6, 7, 8, 9, 24, 25], [0, 1, 2, 8, 9, 10, 14, 24, 25, 26, 30], [0, 2, 3, 8, 10, 11, 14, 15, 24, 26, 27, 30, 31], [3, 11, 12, 13, 15, 27, 28, 29, 31], [2, 3, 10, 11, 12, 14, 15, 26, 27, 28, 30, 31], [12, 13, 15, 16, 17, 19, 20, 21, 28, 29, 31], [12, 14, 15, 16, 18, 19, 20, 28, 30, 31], [12, 13, 16, 17, 20, 21, 23, 28, 29], [13, 17, 21, 22, 23, 29], [8, 9, 10, 14, 18, 24, 25, 26, 30], [8, 10, 11, 14, 15, 18, 19, 24, 26, 27, 30, 31], [11, 12, 13, 15, 16, 17, 19, 27, 28, 29, 31], [10, 11, 12, 14, 15, 16, 18, 19, 26, 27, 28, 30, 31]]\n"
     ]
    }
   ],
   "source": [
    "candidates_len = len(candidates_list)\n",
    "mapping_list = [[] for _ in range(candidates_len)]\n",
    "for i in range(candidates_len):\n",
    "    for j in range(candidates_len):\n",
    "        check = True\n",
    "        for k in range(m):\n",
    "            if candidates_list[i][k] == candidates_list[j][k]:\n",
    "                check = False\n",
    "                break\n",
    "        if check:\n",
    "            mapping_list[i].append(j)\n",
    "print(mapping_list)"
   ]
  },
  {
   "cell_type": "code",
   "execution_count": 74,
   "metadata": {},
   "outputs": [
    {
     "name": "stdout",
     "output_type": "stream",
     "text": [
      "6204438\n"
     ]
    }
   ],
   "source": [
    "dp = [1] * candidates_len  \n",
    "\n",
    "for _ in range(1, n):\n",
    "    new_dp = [0] * candidates_len\n",
    "    for i in range(candidates_len):\n",
    "        ways = dp[i]\n",
    "        for j in mapping_list[i]:\n",
    "            new_dp[j] = (new_dp[j] + ways)\n",
    "    dp = new_dp\n",
    "print(sum(dp))"
   ]
  },
  {
   "cell_type": "markdown",
   "metadata": {},
   "source": [
    "# **TESTCASES**"
   ]
  },
  {
   "cell_type": "code",
   "execution_count": 76,
   "metadata": {},
   "outputs": [
    {
     "name": "stdout",
     "output_type": "stream",
     "text": [
      "Case 1 - n: 1, m: 1, Output: 3, Expected: 3, Status: PASSED\n",
      "Case 2 - n: 1, m: 2, Output: 6, Expected: 6, Status: PASSED\n",
      "Case 3 - n: 5, m: 5, Output: 580986, Expected: 580986, Status: PASSED\n"
     ]
    }
   ],
   "source": [
    "solution = Solution()\n",
    "\n",
    "def run_test_case(case_number, input_n, input_m, expected):\n",
    "    result = solution.colorTheGrid(input_n, input_m)\n",
    "    status = \"PASSED\" if result == expected else \"FAILED\"\n",
    "    print(f\"Case {case_number} - n: {input_n}, m: {input_m}, Output: {result}, Expected: {expected}, Status: {status}\")\n",
    "\n",
    "test_cases = [\n",
    "    (1, 1, 1, 3),\n",
    "    (2, 1, 2, 6),\n",
    "    (3, 5, 5, 580986)\n",
    "]\n",
    "\n",
    "for case_number, input_n, input_m, expected in test_cases:\n",
    "    run_test_case(case_number, input_n, input_m, expected)"
   ]
  }
 ],
 "metadata": {
  "kernelspec": {
   "display_name": "base",
   "language": "python",
   "name": "python3"
  },
  "language_info": {
   "codemirror_mode": {
    "name": "ipython",
    "version": 3
   },
   "file_extension": ".py",
   "mimetype": "text/x-python",
   "name": "python",
   "nbconvert_exporter": "python",
   "pygments_lexer": "ipython3",
   "version": "3.11.5"
  }
 },
 "nbformat": 4,
 "nbformat_minor": 2
}
