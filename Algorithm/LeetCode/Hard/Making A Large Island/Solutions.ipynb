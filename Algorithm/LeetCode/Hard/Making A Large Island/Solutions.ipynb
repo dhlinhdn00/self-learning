{
 "cells": [
  {
   "cell_type": "markdown",
   "metadata": {},
   "source": [
    "# **SOLUTION**"
   ]
  },
  {
   "cell_type": "code",
   "execution_count": 5,
   "metadata": {},
   "outputs": [],
   "source": [
    "class Solution(object):\n",
    "    def largestIsland(self, grid):\n",
    "        \"\"\"\n",
    "        :type grid: List[List[int]]\n",
    "        :rtype: int\n",
    "        \"\"\"\n",
    "        return self.solverGPT(grid)\n",
    "    \n",
    "    def solverGPT(self, grid):\n",
    "        n = len(grid)\n",
    "        dirs = [(1,0),(-1,0),(0,1),(0,-1)]\n",
    "        \n",
    "        area_map = {}        \n",
    "        current_id = 2        \n",
    "        \n",
    "        def dfs(i, j):\n",
    "            stack = [(i,j)]\n",
    "            grid[i][j] = current_id\n",
    "            cnt = 0\n",
    "            while stack:\n",
    "                x,y = stack.pop()\n",
    "                cnt += 1\n",
    "                for dx,dy in dirs:\n",
    "                    nx, ny = x+dx, y+dy\n",
    "                    if 0 <= nx < n and 0 <= ny < n and grid[nx][ny] == 1:\n",
    "                        grid[nx][ny] = current_id\n",
    "                        stack.append((nx,ny))\n",
    "            return cnt\n",
    "        \n",
    "        for i in range(n):\n",
    "            for j in range(n):\n",
    "                if grid[i][j] == 1:\n",
    "                    area = dfs(i, j)\n",
    "                    area_map[current_id] = area\n",
    "                    current_id += 1\n",
    "        \n",
    "        if not area_map:\n",
    "            return 1\n",
    "        max_area = max(area_map.values())\n",
    "        \n",
    "        for i in range(n):\n",
    "            for j in range(n):\n",
    "                if grid[i][j] == 0:\n",
    "                    seen_ids = set()\n",
    "                    for dx,dy in dirs:\n",
    "                        ni, nj = i+dx, j+dy\n",
    "                        if 0 <= ni < n and 0 <= nj < n:\n",
    "                            idx = grid[ni][nj]\n",
    "                            if idx > 1:\n",
    "                                seen_ids.add(idx)\n",
    "                    new_area = 1 + sum(area_map[idx] for idx in seen_ids)\n",
    "                    max_area = max(max_area, new_area)\n",
    "        \n",
    "        return max_area"
   ]
  },
  {
   "cell_type": "markdown",
   "metadata": {},
   "source": [
    "# **DRAFT**"
   ]
  },
  {
   "cell_type": "markdown",
   "metadata": {},
   "source": [
    "# **TESTCASES**"
   ]
  },
  {
   "cell_type": "code",
   "execution_count": 6,
   "metadata": {},
   "outputs": [
    {
     "name": "stdout",
     "output_type": "stream",
     "text": [
      "Case 1 - grid: [[2, 0], [0, 3]], Output: 3, Expected: 3, Status: PASSED\n",
      "Case 2 - grid: [[2, 2], [2, 0]], Output: 4, Expected: 4, Status: PASSED\n",
      "Case 3 - grid: [[2, 2], [2, 2]], Output: 4, Expected: 4, Status: PASSED\n"
     ]
    }
   ],
   "source": [
    "solution = Solution()\n",
    "\n",
    "def run_test_case(case_number, input_grid, expected):\n",
    "    result = solution.largestIsland(input_grid)\n",
    "    status = \"PASSED\" if result == expected else \"FAILED\"\n",
    "    print(f\"Case {case_number} - grid: {input_grid}, Output: {result}, Expected: {expected}, Status: {status}\")\n",
    "\n",
    "test_cases = [\n",
    "    (1, [[1,0],[0,1]], 3),\n",
    "    (2, [[1,1],[1,0]], 4),\n",
    "    (3, [[1,1],[1,1]], 4)\n",
    "]\n",
    "\n",
    "for case_number, input_grid, expected in test_cases:\n",
    "    run_test_case(case_number, input_grid, expected)"
   ]
  }
 ],
 "metadata": {
  "kernelspec": {
   "display_name": "Python 3",
   "language": "python",
   "name": "python3"
  },
  "language_info": {
   "codemirror_mode": {
    "name": "ipython",
    "version": 3
   },
   "file_extension": ".py",
   "mimetype": "text/x-python",
   "name": "python",
   "nbconvert_exporter": "python",
   "pygments_lexer": "ipython3",
   "version": "3.10.12"
  }
 },
 "nbformat": 4,
 "nbformat_minor": 2
}
