{
 "cells": [
  {
   "cell_type": "markdown",
   "metadata": {},
   "source": [
    "# **SOLUTION**"
   ]
  },
  {
   "cell_type": "code",
   "execution_count": 1,
   "metadata": {},
   "outputs": [],
   "source": [
    "class Solution(object):\n",
    "    def maximumValueSum(self, nums, k, edges):\n",
    "        \"\"\"\n",
    "        :type nums: List[int]\n",
    "        :type k: int\n",
    "        :type edges: List[List[int]]\n",
    "        :rtype: int\n",
    "        \"\"\"\n",
    "        return self.solverGPT(nums, k, edges)\n",
    "    \n",
    "    def solverGPT(self, nums, k, edges):\n",
    "        total = sum(nums)\n",
    "        deltas = [(x ^ k) - x for x in nums]\n",
    "        \n",
    "        sum_pos = 0\n",
    "        cnt_pos = 0\n",
    "        min_pos = float('inf')\n",
    "        max_neg = float('-inf')\n",
    "        \n",
    "        for d in deltas:\n",
    "            if d > 0:\n",
    "                sum_pos += d\n",
    "                cnt_pos += 1\n",
    "                min_pos = min(min_pos, d)\n",
    "            else:\n",
    "                max_neg = max(max_neg, d)\n",
    "        \n",
    "        if cnt_pos % 2 == 0:\n",
    "            best_delta_sum = sum_pos\n",
    "        else:\n",
    "            best_delta_sum = max(sum_pos - min_pos, sum_pos + max_neg)\n",
    "        \n",
    "        return total + best_delta_sum\n"
   ]
  },
  {
   "cell_type": "markdown",
   "metadata": {},
   "source": [
    "# **DRAFT**"
   ]
  },
  {
   "cell_type": "markdown",
   "metadata": {},
   "source": [
    "# **TESTCASES**"
   ]
  },
  {
   "cell_type": "code",
   "execution_count": 4,
   "metadata": {},
   "outputs": [
    {
     "name": "stdout",
     "output_type": "stream",
     "text": [
      "Case 1 - nums: [1, 2, 1], k: 3, edges: [[0, 1], [0, 2]], Output: 6, Expected: 6, Status: PASSED\n",
      "Case 2 - nums: [2, 3], k: 7, edges: [[0, 1]], Output: 9, Expected: 9, Status: PASSED\n",
      "Case 3 - nums: [7, 7, 7, 7, 7, 7], k: 3, edges: [[0, 1], [0, 2], [0, 3], [0, 4], [0, 5]], Output: 42, Expected: 42, Status: PASSED\n"
     ]
    }
   ],
   "source": [
    "solution = Solution()\n",
    "\n",
    "def run_test_case(case_number, input_nums, input_k, input_edges, expected):\n",
    "    result = solution.maximumValueSum(input_nums, input_k, input_edges)\n",
    "    status = \"PASSED\" if result == expected else \"FAILED\"\n",
    "    print(f\"Case {case_number} - nums: {input_nums}, k: {input_k}, edges: {input_edges}, Output: {result}, Expected: {expected}, Status: {status}\")\n",
    "\n",
    "test_cases = [\n",
    "    (1, [1,2,1], 3, [[0,1],[0,2]], 6),\n",
    "    (2, [2,3], 7, [[0,1]], 9),\n",
    "    (3, [7,7,7,7,7,7], 3, [[0,1],[0,2],[0,3],[0,4],[0,5]], 42)\n",
    "]\n",
    "\n",
    "for case_number, input_nums, input_k, input_edges, expected in test_cases:\n",
    "    run_test_case(case_number, input_nums, input_k, input_edges, expected)"
   ]
  }
 ],
 "metadata": {
  "kernelspec": {
   "display_name": "base",
   "language": "python",
   "name": "python3"
  },
  "language_info": {
   "codemirror_mode": {
    "name": "ipython",
    "version": 3
   },
   "file_extension": ".py",
   "mimetype": "text/x-python",
   "name": "python",
   "nbconvert_exporter": "python",
   "pygments_lexer": "ipython3",
   "version": "3.11.5"
  }
 },
 "nbformat": 4,
 "nbformat_minor": 2
}
