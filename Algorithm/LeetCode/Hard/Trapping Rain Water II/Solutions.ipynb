{
 "cells": [
  {
   "cell_type": "markdown",
   "metadata": {},
   "source": [
    "# **SOLUTION**"
   ]
  },
  {
   "cell_type": "code",
   "execution_count": 1,
   "metadata": {},
   "outputs": [],
   "source": [
    "import heapq\n",
    "\n",
    "class Solution(object):\n",
    "    def trapRainWater(self, heightMap):\n",
    "        \"\"\"\n",
    "        :type heightMap: List[List[int]]\n",
    "        :rtype: int\n",
    "        \"\"\"\n",
    "        \n",
    "        return self.solverGPT(heightMap)\n",
    "    \n",
    "    def solverGPT(self, heightMap):\n",
    "        if not heightMap or not heightMap[0]:\n",
    "            return 0\n",
    "        m, n = len(heightMap), len(heightMap[0])\n",
    "        if m < 2 or n < 2:\n",
    "            return 0\n",
    "\n",
    "        visited = [[False]*n for _ in range(m)]\n",
    "        heap = []\n",
    "        for i in range(m):\n",
    "            for j in (0, n-1):\n",
    "                heapq.heappush(heap, (heightMap[i][j], i, j))\n",
    "                visited[i][j] = True\n",
    "        for j in range(n):\n",
    "            for i in (0, m-1):\n",
    "                if not visited[i][j]:\n",
    "                    heapq.heappush(heap, (heightMap[i][j], i, j))\n",
    "                    visited[i][j] = True\n",
    "\n",
    "        res = 0\n",
    "        dirs = [(1,0),(-1,0),(0,1),(0,-1)]\n",
    "        while heap:\n",
    "            h, x, y = heapq.heappop(heap)\n",
    "            for dx, dy in dirs:\n",
    "                nx, ny = x + dx, y + dy\n",
    "                if 0 <= nx < m and 0 <= ny < n and not visited[nx][ny]:\n",
    "                    visited[nx][ny] = True\n",
    "                    nh = heightMap[nx][ny]\n",
    "                    if nh < h:\n",
    "                        res += h - nh\n",
    "                        nh = h\n",
    "                    heapq.heappush(heap, (nh, nx, ny))\n",
    "\n",
    "        return res\n"
   ]
  },
  {
   "cell_type": "markdown",
   "metadata": {},
   "source": [
    "# **DRAFT**"
   ]
  },
  {
   "cell_type": "code",
   "execution_count": null,
   "metadata": {},
   "outputs": [],
   "source": [
    "hm = [[1,4,3,1,3,2],\n",
    "      [3,2,1,3,2,4],\n",
    "      [2,3,3,2,3,1]]"
   ]
  },
  {
   "cell_type": "code",
   "execution_count": 14,
   "metadata": {},
   "outputs": [
    {
     "data": {
      "text/plain": [
       "[3, 2, 1, 3, 2, 4]"
      ]
     },
     "execution_count": 14,
     "metadata": {},
     "output_type": "execute_result"
    }
   ],
   "source": [
    "hm[1]"
   ]
  },
  {
   "cell_type": "code",
   "execution_count": 10,
   "metadata": {},
   "outputs": [],
   "source": [
    "A = hm[1]"
   ]
  },
  {
   "cell_type": "code",
   "execution_count": 11,
   "metadata": {},
   "outputs": [],
   "source": [
    "B = len(hm[1])*[1]"
   ]
  },
  {
   "cell_type": "code",
   "execution_count": 12,
   "metadata": {},
   "outputs": [],
   "source": [
    "C = [A[i] - B[i] for i in range(len(A))]\n"
   ]
  },
  {
   "cell_type": "code",
   "execution_count": 13,
   "metadata": {},
   "outputs": [
    {
     "data": {
      "text/plain": [
       "[2, 1, 0, 2, 1, 3]"
      ]
     },
     "execution_count": 13,
     "metadata": {},
     "output_type": "execute_result"
    }
   ],
   "source": [
    "C"
   ]
  },
  {
   "cell_type": "markdown",
   "metadata": {},
   "source": [
    "# **TESTCASES**"
   ]
  },
  {
   "cell_type": "code",
   "execution_count": 2,
   "metadata": {},
   "outputs": [
    {
     "name": "stdout",
     "output_type": "stream",
     "text": [
      "Case 1 - heightMap: [[1, 4, 3, 1, 3, 2], [3, 2, 1, 3, 2, 4], [2, 3, 3, 2, 3, 1]], Output: 4, Expected: 4, Status: PASSED\n",
      "Case 2 - heightMap: [[3, 3, 3, 3, 3], [3, 2, 2, 2, 3], [3, 2, 1, 2, 3], [3, 2, 2, 2, 3], [3, 3, 3, 3, 3]], Output: 10, Expected: 10, Status: PASSED\n"
     ]
    }
   ],
   "source": [
    "solution = Solution()\n",
    "\n",
    "def run_test_case(case_number, input_heightMap, expected):\n",
    "    result = solution.trapRainWater(input_heightMap)\n",
    "    status = \"PASSED\" if result == expected else \"FAILED\"\n",
    "    print(f\"Case {case_number} - heightMap: {input_heightMap}, Output: {result}, Expected: {expected}, Status: {status}\")\n",
    "\n",
    "test_cases = [\n",
    "    (1, [[1,4,3,1,3,2],[3,2,1,3,2,4],[2,3,3,2,3,1]], 4),\n",
    "    (2, [[3,3,3,3,3],[3,2,2,2,3],[3,2,1,2,3],[3,2,2,2,3],[3,3,3,3,3]], 10)\n",
    "]\n",
    "\n",
    "for case_number, input_heightMap, expected in test_cases:\n",
    "    run_test_case(case_number, input_heightMap, expected)"
   ]
  }
 ],
 "metadata": {
  "kernelspec": {
   "display_name": "Python 3",
   "language": "python",
   "name": "python3"
  },
  "language_info": {
   "codemirror_mode": {
    "name": "ipython",
    "version": 3
   },
   "file_extension": ".py",
   "mimetype": "text/x-python",
   "name": "python",
   "nbconvert_exporter": "python",
   "pygments_lexer": "ipython3",
   "version": "3.10.12"
  }
 },
 "nbformat": 4,
 "nbformat_minor": 2
}
