{
 "cells": [
  {
   "cell_type": "markdown",
   "metadata": {},
   "source": [
    "# **SOLUTION**"
   ]
  },
  {
   "cell_type": "code",
   "execution_count": null,
   "metadata": {},
   "outputs": [],
   "source": [
    "class Solution(object):\n",
    "    def maxTargetNodes(self, edges1, edges2):\n",
    "        \"\"\"\n",
    "        :type edges1: List[List[int]]\n",
    "        :type edges2: List[List[int]]\n",
    "        :type k: int\n",
    "        :rtype: List[int]\n",
    "        \"\"\"\n",
    "\n",
    "        return self.solverBFS(edges1, edges2)\n",
    "    \n",
    "    @staticmethod\n",
    "    def _adjacentList(edges, n):\n",
    "        \"\"\" Using for undirected tree\"\"\"\n",
    "        \"\"\"\n",
    "        :type edges: List[List[int]]\n",
    "        :type n: int\n",
    "        :rtype: List[List[int]]\n",
    "        \"\"\"\n",
    "        adjacent_list = [[] for _ in range(n)]\n",
    "\n",
    "        for o, d in edges:\n",
    "            adjacent_list[o].append(d)\n",
    "            adjacent_list[d].append(o)\n",
    "\n",
    "        return adjacent_list\n",
    "    \n",
    "    @staticmethod\n",
    "    def _bfsEvenCount1(adjacent_list, source_node):\n",
    "        \"\"\"\n",
    "        :complexity: O(n^2)\n",
    "        :point: Not save the depth\n",
    "        \"\"\"\n",
    "        visited = [0] * len(adjacent_list)\n",
    "        from collections import deque\n",
    "        q = deque([(source_node, 0)])\n",
    "        \n",
    "        visited[source_node] = 1\n",
    "        count = 0\n",
    "\n",
    "        while q:\n",
    "            node, depth = q.popleft()\n",
    "            \n",
    "            if depth % 2 == 0:\n",
    "                count += 1\n",
    "\n",
    "            for adjacent_node in adjacent_list[node]:\n",
    "                if visited[adjacent_node] == 0:\n",
    "                    visited[adjacent_node] = 1\n",
    "                    q.append((adjacent_node, depth + 1))\n",
    "                    \n",
    "        return count\n",
    "    \n",
    "    @staticmethod\n",
    "    def _bfsEvenCount2(adjacent_list, source_node):\n",
    "        \"\"\"\n",
    "        :complexity: O(n)\n",
    "        :point: Save the depth\n",
    "        \"\"\"\n",
    "        n = len(adjacent_list)\n",
    "        visited = [-1] * n # store depth and check if node has been visited, value can be larger than 0\n",
    "        from collections import deque\n",
    "\n",
    "        q = deque([source_node])\n",
    "        visited[source_node] = 0 # node 0 | depth = 0 -> fix it run from node 0\n",
    "        count = 1  # Number of nodes at even depth starting from node 0 (including node 0 itself)\n",
    "\n",
    "        while q:\n",
    "            node = q.popleft() # node\n",
    "            for adj_node in adjacent_list[node]:\n",
    "                if visited[adj_node] == -1:\n",
    "                    visited[adj_node] = visited[node] + 1\n",
    "                    if visited[adj_node] % 2 == 0:\n",
    "                        count += 1\n",
    "                    q.append(adj_node)\n",
    "        \n",
    "        ans = [0] * n\n",
    "\n",
    "        # ans[i] stores the number of nodes in the tree that would be at even depth if node i were chosen as the root.\n",
    "        #\n",
    "        # Since the input is a tree (acyclic and connected), changing the root\n",
    "        # can flip the parity (even/odd) of node depths.\n",
    "        # - If node i has the same depth parity as node 0, \n",
    "        #   the number of even-depth nodes remains the same (count).\n",
    "        # - If node i has opposite parity, the even-depth nodes become odd-depth and vice versa,\n",
    "        #   so the new count is (n - count).\n",
    "\n",
    "        for i in range(n):\n",
    "            if visited[i] % 2 == 0:\n",
    "                ans[i] = count\n",
    "            else:\n",
    "                ans[i] = n - count\n",
    "        \n",
    "        return ans\n",
    "        \n",
    "    def solverBFS(self, edges1, edges2):\n",
    "        \"\"\"\n",
    "        :cost _bfsEvenCount2: 732ms (75.00%) | 93.52MB (50%)\n",
    "        :cost _bfsEvenCount1: TLE\n",
    "        \"\"\"\n",
    "        n1 = len(edges1) + 1\n",
    "        n2 = len(edges2) + 1\n",
    "        adj_l1 = Solution._adjacentList(edges1, n1)\n",
    "        adj_l2 = Solution._adjacentList(edges2, n2)\n",
    "\n",
    "\n",
    "        # t1 = [Solution._bfsCount1(adj_l1, i, \"Deque\") for i in range(n1)]\n",
    "        # t2 = [Solution._bfsCount1(adj_l2, j, \"Deque\") for j in range(n2)]\n",
    "\n",
    "        t1 = Solution._bfsEvenCount2(adj_l1, 0)\n",
    "        t2_max = max(Solution._bfsEvenCount2(adj_l2, 0))\n",
    "\n",
    "        return [t + t2_max for t in t1]\n"
   ]
  },
  {
   "cell_type": "markdown",
   "metadata": {},
   "source": [
    "# **DRAFT**"
   ]
  },
  {
   "cell_type": "code",
   "execution_count": 1,
   "metadata": {},
   "outputs": [],
   "source": [
    "edges1, edges2, k = [[0,1],[0,2],[2,3],[2,4]], [[0,1],[0,2],[0,3],[2,7],[1,4],[4,5],[4,6]], 2\n",
    "# In the indirected tree, number of nodes = number of edges + 1\n",
    "n1 = len(edges1) + 1 \n",
    "n2 = len(edges2) + 1\n"
   ]
  },
  {
   "cell_type": "code",
   "execution_count": 2,
   "metadata": {},
   "outputs": [],
   "source": [
    "# adjacent list\n",
    "adj_l1 = [[] for _ in range(n1)]\n",
    "adj_l2 = [[] for _ in range(n2)]\n",
    "\n",
    "for o1, d1 in edges1:\n",
    "    # For the undirected tree\n",
    "    adj_l1[o1].append(d1)\n",
    "    adj_l1[d1].append(o1)\n",
    "\n",
    "for o2, d2 in edges2:\n",
    "    adj_l2[o2].append(d2)\n",
    "    adj_l2[d2].append(o2)\n"
   ]
  },
  {
   "cell_type": "code",
   "execution_count": 3,
   "metadata": {},
   "outputs": [
    {
     "name": "stdout",
     "output_type": "stream",
     "text": [
      "[[1, 2], [0], [0, 3, 4], [2], [2]]\n"
     ]
    }
   ],
   "source": [
    "print(adj_l1)"
   ]
  },
  {
   "cell_type": "code",
   "execution_count": 10,
   "metadata": {},
   "outputs": [],
   "source": [
    "from collections import deque\n",
    "def _bfsCount(adjacent_list, source_node):\n",
    "    seen = [0] * len(adjacent_list)\n",
    "    # q = [(source_node, 0)] # not optimal\n",
    "    dq = deque([(source_node, 0)]) # create the initial element: tuple (source_node, 0); popleft - pop: get the first element and get the last element.\n",
    "    seen[source_node] = 1\n",
    "    count = 0\n",
    "    while dq: # not empty, or len(dq) > 0\n",
    "        # n, d = q.pop()\n",
    "        n, d = dq.popleft() # node, depth\n",
    "        if d % 2 == 0:\n",
    "            count += 1\n",
    "\n",
    "        for adj_n in adjacent_list[n]:\n",
    "            if seen[adj_n] == 0:\n",
    "                seen[adj_n] = 1\n",
    "                dq.append((adj_n, d + 1))\n",
    "    return count\n",
    "\n",
    "    "
   ]
  },
  {
   "cell_type": "code",
   "execution_count": 11,
   "metadata": {},
   "outputs": [
    {
     "data": {
      "text/plain": [
       "[3, 2, 2, 3, 3]"
      ]
     },
     "execution_count": 11,
     "metadata": {},
     "output_type": "execute_result"
    }
   ],
   "source": [
    "Tree_1_list = [_bfsCount(adj_l1, i) for i in range(n1)]\n",
    "Tree_1_list"
   ]
  },
  {
   "cell_type": "code",
   "execution_count": 12,
   "metadata": {},
   "outputs": [
    {
     "data": {
      "text/plain": [
       "5"
      ]
     },
     "execution_count": 12,
     "metadata": {},
     "output_type": "execute_result"
    }
   ],
   "source": [
    "\n",
    "Tree_2_list = [_bfsCount(adj_l2, j) for j in range(n2)]\n",
    "\n",
    "Tree_2_max = max(Tree_2_list) # Undepend on the node of Tree 1\n",
    "Tree_2_max"
   ]
  },
  {
   "cell_type": "code",
   "execution_count": 13,
   "metadata": {},
   "outputs": [
    {
     "name": "stdout",
     "output_type": "stream",
     "text": [
      "[8, 7, 7, 8, 8]\n"
     ]
    }
   ],
   "source": [
    "print([v + Tree_2_max for v in Tree_1_list])"
   ]
  },
  {
   "cell_type": "code",
   "execution_count": 83,
   "metadata": {},
   "outputs": [
    {
     "data": {
      "text/plain": [
       "5"
      ]
     },
     "execution_count": 83,
     "metadata": {},
     "output_type": "execute_result"
    }
   ],
   "source": [
    "Tree_1_list = _bfsCount(adj_l1, 0, 2)\n",
    "Tree_1_list"
   ]
  },
  {
   "cell_type": "markdown",
   "metadata": {},
   "source": [
    "# **TESTCASES**"
   ]
  },
  {
   "cell_type": "code",
   "execution_count": 5,
   "metadata": {},
   "outputs": [
    {
     "name": "stdout",
     "output_type": "stream",
     "text": [
      "Case 1 - edges1: [[0, 1], [0, 2], [2, 3], [2, 4]], edges2: [[0, 1], [0, 2], [0, 3], [2, 7], [1, 4], [4, 5], [4, 6]], Output: [8, 7, 7, 8, 8], Expected: [8, 7, 7, 8, 8], Status: PASSED\n",
      "Case 2 - edges1: [[0, 1], [0, 2], [0, 3], [0, 4]], edges2: [[0, 1], [1, 2], [2, 3]], Output: [3, 6, 6, 6, 6], Expected: [3, 6, 6, 6, 6], Status: PASSED\n"
     ]
    }
   ],
   "source": [
    "solution = Solution()\n",
    "\n",
    "def run_test_case(case_number, input_edges1, input_edges2, expected):\n",
    "    result = solution.maxTargetNodes(input_edges1, input_edges2)\n",
    "    status = \"PASSED\" if result == expected else \"FAILED\"\n",
    "    print(f\"Case {case_number} - edges1: {input_edges1}, edges2: {input_edges2}, Output: {result}, Expected: {expected}, Status: {status}\")\n",
    "\n",
    "test_cases = [\n",
    "    (1, [[0,1],[0,2],[2,3],[2,4]], [[0,1],[0,2],[0,3],[2,7],[1,4],[4,5],[4,6]], [8,7,7,8,8]),\n",
    "    (2, [[0,1],[0,2],[0,3],[0,4]], [[0,1],[1,2],[2,3]], [3,6,6,6,6])\n",
    "]\n",
    "\n",
    "for case_number, input_edges1, input_edges2, expected in test_cases:\n",
    "    run_test_case(case_number, input_edges1, input_edges2, expected)"
   ]
  }
 ],
 "metadata": {
  "kernelspec": {
   "display_name": "base",
   "language": "python",
   "name": "python3"
  },
  "language_info": {
   "codemirror_mode": {
    "name": "ipython",
    "version": 3
   },
   "file_extension": ".py",
   "mimetype": "text/x-python",
   "name": "python",
   "nbconvert_exporter": "python",
   "pygments_lexer": "ipython3",
   "version": "3.11.5"
  }
 },
 "nbformat": 4,
 "nbformat_minor": 2
}
