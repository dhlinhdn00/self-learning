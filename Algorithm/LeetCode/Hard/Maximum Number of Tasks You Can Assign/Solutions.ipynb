{
 "cells": [
  {
   "cell_type": "markdown",
   "metadata": {},
   "source": [
    "# **SOLUTION**"
   ]
  },
  {
   "cell_type": "code",
   "execution_count": 1,
   "metadata": {},
   "outputs": [],
   "source": [
    "import bisect\n",
    "\n",
    "class Solution(object):\n",
    "    def maxTaskAssign(self, tasks, workers, pills, strength):\n",
    "        \"\"\"\n",
    "        :type tasks: List[int]\n",
    "        :type workers: List[int]\n",
    "        :type pills: int\n",
    "        :type strength: int\n",
    "        :rtype: int\n",
    "        \"\"\"\n",
    "        return self.solverGPT(tasks, workers, pills, strength)\n",
    "\n",
    "    def solverGPT(self, tasks, workers, pills, strength):\n",
    "        tasks.sort()\n",
    "        workers.sort()\n",
    "        lo, hi = 0, min(len(tasks), len(workers))\n",
    "        while lo < hi:\n",
    "            mid = (lo + hi + 1) // 2\n",
    "            if self._canDo(tasks, workers, pills, strength, mid):\n",
    "                lo = mid\n",
    "            else:\n",
    "                hi = mid - 1\n",
    "        return lo\n",
    "\n",
    "    def _canDo(self, tasks, workers, pills, strength, k):\n",
    "        tasks_k = tasks[:k]\n",
    "        wlist = workers[-k:]\n",
    "        pills_left = pills\n",
    "\n",
    "        for t in reversed(tasks_k):\n",
    "            idx = bisect.bisect_left(wlist, t)\n",
    "            if idx < len(wlist):\n",
    "                wlist.pop(idx)\n",
    "            else:\n",
    "                if pills_left == 0:\n",
    "                    return False\n",
    "                need = t - strength\n",
    "                idx2 = bisect.bisect_left(wlist, need)\n",
    "                if idx2 == len(wlist):\n",
    "                    return False\n",
    "                wlist.pop(idx2)\n",
    "                pills_left -= 1\n",
    "\n",
    "        return True\n"
   ]
  },
  {
   "cell_type": "markdown",
   "metadata": {},
   "source": [
    "# **DRAFT**"
   ]
  },
  {
   "cell_type": "markdown",
   "metadata": {},
   "source": [
    "# **TESTCASES**"
   ]
  },
  {
   "cell_type": "code",
   "execution_count": 2,
   "metadata": {},
   "outputs": [
    {
     "name": "stdout",
     "output_type": "stream",
     "text": [
      "Case 1 - tasks: [1, 2, 3], workers: [0, 3, 3], pills: 1, strength: 1, Ouput: 3, Expected: 3, Status: PASSED\n",
      "Case 2 - tasks: [4, 5], workers: [0, 0, 0], pills: 1, strength: 5, Ouput: 1, Expected: 1, Status: PASSED\n",
      "Case 3 - tasks: [10, 15, 30], workers: [0, 10, 10, 10, 10], pills: 3, strength: 10, Ouput: 2, Expected: 2, Status: PASSED\n"
     ]
    }
   ],
   "source": [
    "solution = Solution()\n",
    "\n",
    "def run_test_case(case_number, input_tasks, input_workers, input_pills, input_strength, expected):\n",
    "    result = solution.maxTaskAssign(input_tasks, input_workers, input_pills, input_strength)\n",
    "    status = \"PASSED\" if result == expected else \"FAILED\"\n",
    "    print(f\"Case {case_number} - tasks: {input_tasks}, workers: {input_workers}, pills: {input_pills}, strength: {input_strength}, Ouput: {result}, Expected: {expected}, Status: {status}\")\n",
    "\n",
    "test_cases = [\n",
    "    (1, [3, 2, 1], [0, 3, 3], 1, 1, 3),\n",
    "    (2, [5, 4], [0, 0, 0], 1, 5, 1),\n",
    "    (3, [10, 15, 30], [0, 10, 10, 10, 10], 3, 10, 2)\n",
    "    ]\n",
    "\n",
    "for case_number, input_tasks, input_workers, input_pills, input_strength, expected in test_cases:\n",
    "    run_test_case(case_number, input_tasks, input_workers, input_pills, input_strength, expected)"
   ]
  }
 ],
 "metadata": {
  "kernelspec": {
   "display_name": "Python 3",
   "language": "python",
   "name": "python3"
  },
  "language_info": {
   "codemirror_mode": {
    "name": "ipython",
    "version": 3
   },
   "file_extension": ".py",
   "mimetype": "text/x-python",
   "name": "python",
   "nbconvert_exporter": "python",
   "pygments_lexer": "ipython3",
   "version": "3.10.12"
  }
 },
 "nbformat": 4,
 "nbformat_minor": 2
}
