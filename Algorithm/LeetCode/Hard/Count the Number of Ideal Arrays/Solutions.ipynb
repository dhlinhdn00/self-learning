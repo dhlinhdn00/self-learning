{
 "cells": [
  {
   "cell_type": "markdown",
   "metadata": {},
   "source": [
    "# **SOLUTION**"
   ]
  },
  {
   "cell_type": "code",
   "execution_count": 2,
   "metadata": {},
   "outputs": [],
   "source": [
    "class Solution(object):\n",
    "    def idealArrays(self, n, maxValue):\n",
    "        \"\"\"\n",
    "        :type n: int\n",
    "        :type maxValue: int\n",
    "        :rtype: int\n",
    "        \"\"\"\n",
    "        return self.solverNaive(n, maxValue)\n",
    "    def solverNaive(self, n, maxValue):\n",
    "        pass\n",
    "        "
   ]
  },
  {
   "cell_type": "markdown",
   "metadata": {},
   "source": [
    "# **DRAFT**"
   ]
  },
  {
   "cell_type": "markdown",
   "metadata": {},
   "source": [
    "# **TESTCASES**"
   ]
  },
  {
   "cell_type": "code",
   "execution_count": 4,
   "metadata": {},
   "outputs": [
    {
     "name": "stdout",
     "output_type": "stream",
     "text": [
      "Case 1 - n: 2, maxValue: 5, Output: None, Expected: 10, Status: FAILED\n",
      "Case 2 - n: 5, maxValue: 3, Output: None, Expected: 11, Status: FAILED\n"
     ]
    }
   ],
   "source": [
    "solution = Solution()\n",
    "\n",
    "def run_test_case(case_number, input_n, input_maxValue, expected):\n",
    "    result = solution.idealArrays(input_n, input_maxValue)\n",
    "    status = \"PASSED\" if result == expected else \"FAILED\"\n",
    "    print(f\"Case {case_number} - n: {input_n}, maxValue: {input_maxValue}, Output: {result}, Expected: {expected}, Status: {status}\")\n",
    "\n",
    "test_cases = [\n",
    "    (1, 2, 5, 10),\n",
    "    (2, 5, 3, 11)\n",
    "    ]\n",
    "\n",
    "for case_number, input_n, input_maxValue, expected in test_cases:\n",
    "    run_test_case(case_number, input_n, input_maxValue, expected)"
   ]
  }
 ],
 "metadata": {
  "kernelspec": {
   "display_name": "Python 3",
   "language": "python",
   "name": "python3"
  },
  "language_info": {
   "codemirror_mode": {
    "name": "ipython",
    "version": 3
   },
   "file_extension": ".py",
   "mimetype": "text/x-python",
   "name": "python",
   "nbconvert_exporter": "python",
   "pygments_lexer": "ipython3",
   "version": "3.10.12"
  }
 },
 "nbformat": 4,
 "nbformat_minor": 2
}
