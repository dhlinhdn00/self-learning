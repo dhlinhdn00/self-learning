{
 "cells": [
  {
   "cell_type": "markdown",
   "metadata": {},
   "source": [
    "# **SOLUTION**"
   ]
  },
  {
   "cell_type": "code",
   "execution_count": null,
   "metadata": {},
   "outputs": [],
   "source": [
    "import sys\n",
    "import math\n",
    "\n",
    "\n",
    "class Solution(object):\n",
    "    def idealArrays(self, n, maxValue):\n",
    "        \"\"\"\n",
    "        :type n: int\n",
    "        :type maxValue: int\n",
    "        :rtype: int\n",
    "        \"\"\"\n",
    "        return self.solverNaive(n, maxValue)\n",
    "    \n",
    "    def solverNaive(self, n, maxValue):\n",
    "        MOD = 10**9 + 7\n",
    "        K = maxValue.bit_length()\n",
    "\n",
    "        f = [[0] * (maxValue + 1) for _ in range(K + 1)]\n",
    "        for x in range(1, maxValue + 1):\n",
    "            f[1][x] = 1\n",
    "\n",
    "        for k in range(2, K + 1):\n",
    "            for x in range(maxValue, 0, -1):\n",
    "                s = 0\n",
    "                for m in range(2 * x, maxValue + 1, x):\n",
    "                    s += f[k - 1][m]\n",
    "                f[k][x] = s % MOD\n",
    "\n",
    "        inv = [1] * (K + 1)\n",
    "        for i in range(2, K + 1):\n",
    "            inv[i] = pow(i, MOD - 2, MOD)\n",
    "\n",
    "        # C[j] = C(n-1, j)\n",
    "        C = [1] * (K + 1)\n",
    "        for j in range(1, K):\n",
    "            C[j] = C[j-1] * ((n - 1) - (j - 1)) % MOD\n",
    "            C[j] = C[j] * inv[j] % MOD\n",
    "\n",
    "        ans = 0\n",
    "        for k in range(1, K + 1):\n",
    "            total_fk = sum(f[k][1:]) % MOD\n",
    "            ans = (ans + total_fk * C[k - 1]) % MOD\n",
    "\n",
    "        return ans\n",
    "    "
   ]
  },
  {
   "cell_type": "markdown",
   "metadata": {},
   "source": [
    "# **DRAFT**"
   ]
  },
  {
   "cell_type": "code",
   "execution_count": 1,
   "metadata": {},
   "outputs": [],
   "source": [
    "import math\n",
    "\n",
    "def countDivisible(a, b):\n",
    "    \"\"\"\n",
    "    [b/a] -[(a-1)/a]\n",
    "    \"\"\"\n",
    "    if a > b:\n",
    "        return 0 \n",
    "    return b // a - (a - 1) // a"
   ]
  },
  {
   "cell_type": "code",
   "execution_count": 18,
   "metadata": {},
   "outputs": [
    {
     "data": {
      "text/plain": [
       "15"
      ]
     },
     "execution_count": 18,
     "metadata": {},
     "output_type": "execute_result"
    }
   ],
   "source": [
    "components = 3\n",
    "n = 5\n",
    "math.comb(components + n - 2, n - 1) "
   ]
  },
  {
   "cell_type": "code",
   "execution_count": null,
   "metadata": {},
   "outputs": [
    {
     "name": "stdout",
     "output_type": "stream",
     "text": [
      "3\n",
      "1\n",
      "1\n",
      "17\n"
     ]
    }
   ],
   "source": [
    "n = 5\n",
    "maxValue = 3\n",
    "ans = 0\n",
    "\n",
    "for i in range(1, maxValue + 1):\n",
    "    components = countDivisible(i, maxValue)\n",
    "    print(components)\n",
    "    ans += math.comb(components + n - 2, n - 1) \n",
    "\n",
    "print(ans)"
   ]
  },
  {
   "cell_type": "markdown",
   "metadata": {},
   "source": [
    "# **TESTCASES**"
   ]
  },
  {
   "cell_type": "code",
   "execution_count": 21,
   "metadata": {},
   "outputs": [
    {
     "name": "stdout",
     "output_type": "stream",
     "text": [
      "Case 1 - n: 2, maxValue: 5, Output: 10, Expected: 10, Status: PASSED\n",
      "Case 2 - n: 5, maxValue: 3, Output: 11, Expected: 11, Status: PASSED\n"
     ]
    }
   ],
   "source": [
    "solution = Solution()\n",
    "\n",
    "def run_test_case(case_number, input_n, input_maxValue, expected):\n",
    "    result = solution.idealArrays(input_n, input_maxValue)\n",
    "    status = \"PASSED\" if result == expected else \"FAILED\"\n",
    "    print(f\"Case {case_number} - n: {input_n}, maxValue: {input_maxValue}, Output: {result}, Expected: {expected}, Status: {status}\")\n",
    "\n",
    "test_cases = [\n",
    "    (1, 2, 5, 10),\n",
    "    (2, 5, 3, 11)\n",
    "    ]\n",
    "\n",
    "for case_number, input_n, input_maxValue, expected in test_cases:\n",
    "    run_test_case(case_number, input_n, input_maxValue, expected)"
   ]
  }
 ],
 "metadata": {
  "kernelspec": {
   "display_name": "Python 3",
   "language": "python",
   "name": "python3"
  },
  "language_info": {
   "codemirror_mode": {
    "name": "ipython",
    "version": 3
   },
   "file_extension": ".py",
   "mimetype": "text/x-python",
   "name": "python",
   "nbconvert_exporter": "python",
   "pygments_lexer": "ipython3",
   "version": "3.10.12"
  }
 },
 "nbformat": 4,
 "nbformat_minor": 2
}
