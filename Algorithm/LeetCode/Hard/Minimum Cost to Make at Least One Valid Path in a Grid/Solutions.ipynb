{
 "cells": [
  {
   "cell_type": "markdown",
   "metadata": {},
   "source": [
    "# **SOLUTION**"
   ]
  },
  {
   "cell_type": "code",
   "execution_count": 5,
   "metadata": {},
   "outputs": [],
   "source": [
    "from collections import deque\n",
    "\n",
    "class Solution(object):\n",
    "    def minCost(self, grid):\n",
    "        \"\"\"\n",
    "        :type grid: List[List[int]]\n",
    "        :rtype: int\n",
    "        \"\"\"\n",
    "        return self.solverGPT(grid)\n",
    "    \n",
    "    def solverGPT(self, grid):\n",
    "        m, n = len(grid), len(grid[0])\n",
    "\n",
    "        dist = [[float('inf')] * n for _ in range(m)]\n",
    "        dist[0][0] = 0\n",
    "        \n",
    "\n",
    "        dirs = {\n",
    "            1: (0, 1),\n",
    "            2: (0, -1),\n",
    "            3: (1, 0),\n",
    "            4: (-1, 0),\n",
    "        }\n",
    "\n",
    "        all_moves = [(0,1),(0,-1),(1,0),(-1,0)]\n",
    "        \n",
    "        dq = deque()\n",
    "        dq.append((0,0))\n",
    "        \n",
    "        while dq:\n",
    "            x, y = dq.popleft()\n",
    "            current_cost = dist[x][y]\n",
    "            \n",
    "\n",
    "            for dx, dy in all_moves:\n",
    "                nx, ny = x + dx, y + dy\n",
    "                if not (0 <= nx < m and 0 <= ny < n):\n",
    "                    continue\n",
    "                \n",
    "\n",
    "\n",
    "                expected_dx, expected_dy = dirs[grid[x][y]]\n",
    "                add_cost = 0 if (dx,dy) == (expected_dx, expected_dy) else 1\n",
    "                new_cost = current_cost + add_cost\n",
    "                \n",
    "\n",
    "                if new_cost < dist[nx][ny]:\n",
    "                    dist[nx][ny] = new_cost\n",
    "\n",
    "                    if add_cost == 0:\n",
    "                        dq.appendleft((nx,ny))\n",
    "                    else:\n",
    "                        dq.append((nx,ny))\n",
    "        \n",
    "\n",
    "        return dist[m-1][n-1]\n"
   ]
  },
  {
   "cell_type": "markdown",
   "metadata": {},
   "source": [
    "# **DRAFT**"
   ]
  },
  {
   "cell_type": "markdown",
   "metadata": {},
   "source": [
    "# **TESTCASES**"
   ]
  },
  {
   "cell_type": "code",
   "execution_count": 7,
   "metadata": {},
   "outputs": [
    {
     "name": "stdout",
     "output_type": "stream",
     "text": [
      "Case 1 - grid: [[1, 1, 1, 1], [2, 2, 2, 2], [1, 1, 1, 1], [2, 2, 2, 2]], Output: 3, Expected: 3, Status: PASSED\n",
      "Case 2 - grid: [[1, 1, 3], [3, 2, 2], [1, 1, 4]], Output: 0, Expected: 0, Status: PASSED\n"
     ]
    }
   ],
   "source": [
    "solution = Solution()\n",
    "\n",
    "def run_test_case(case_number, input_grid, expected):\n",
    "    result = solution.minCost(input_grid)\n",
    "    status = \"PASSED\" if result == expected else \"FAILED\"\n",
    "    print(f\"Case {case_number} - grid: {input_grid}, Output: {result}, Expected: {expected}, Status: {status}\")\n",
    "\n",
    "test_cases = [\n",
    "    (1, [[1,1,1,1],[2,2,2,2],[1,1,1,1],[2,2,2,2]], 3),\n",
    "    (2, [[1,1,3],[3,2,2],[1,1,4]], 0),\n",
    "]\n",
    "\n",
    "for case_number, input_grid, expected in test_cases:\n",
    "    run_test_case(case_number, input_grid, expected)"
   ]
  }
 ],
 "metadata": {
  "kernelspec": {
   "display_name": "Python 3",
   "language": "python",
   "name": "python3"
  },
  "language_info": {
   "codemirror_mode": {
    "name": "ipython",
    "version": 3
   },
   "file_extension": ".py",
   "mimetype": "text/x-python",
   "name": "python",
   "nbconvert_exporter": "python",
   "pygments_lexer": "ipython3",
   "version": "3.10.12"
  }
 },
 "nbformat": 4,
 "nbformat_minor": 2
}
