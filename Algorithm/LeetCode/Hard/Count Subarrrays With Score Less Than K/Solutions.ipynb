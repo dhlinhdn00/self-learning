{
 "cells": [
  {
   "cell_type": "markdown",
   "metadata": {},
   "source": [
    "# **SOLUTION**"
   ]
  },
  {
   "cell_type": "code",
   "execution_count": null,
   "metadata": {},
   "outputs": [],
   "source": [
    "class Solution(object):\n",
    "    def countSubarrays(self, nums, k):\n",
    "        \"\"\"\n",
    "        :type nums: List[int]\n",
    "        :type k: int\n",
    "        :rtype: int\n",
    "        \"\"\"\n",
    "        return self.solver2Pointers(nums, k)\n",
    "    \n",
    "    def solver2Pointers(self, nums, k):\n",
    "        \"\"\"\n",
    "        :cost: 116ms (73.85%) | 20.56MB (58.46%)\n",
    "        \"\"\"\n",
    "        n = len(nums)\n",
    "        ans = 0\n",
    "        l = 0\n",
    "        curr_sum = 0\n",
    "\n",
    "        for r in range(n):\n",
    "            curr_sum += nums[r]\n",
    "            \n",
    "            while l <= r and curr_sum * (r - l + 1) >= k:\n",
    "                curr_sum -= nums[l]\n",
    "                l += 1\n",
    "                \n",
    "            ans += (r - l + 1)\n",
    "        \n",
    "        return ans\n"
   ]
  },
  {
   "cell_type": "markdown",
   "metadata": {},
   "source": [
    "# **DRAFT**"
   ]
  },
  {
   "cell_type": "code",
   "execution_count": null,
   "metadata": {},
   "outputs": [
    {
     "name": "stdout",
     "output_type": "stream",
     "text": [
      "6\n"
     ]
    }
   ],
   "source": [
    "nums = [2,1,4,3,5]\n",
    "k = 10\n",
    "\n",
    "n = len(nums)\n",
    "ans = 0\n",
    "curr_sum = 0\n",
    "l = 0\n",
    "\n",
    "for r in range(n):\n",
    "    curr_sum += nums[r]\n",
    "    # unsatisfied left values\n",
    "    while l <= r and curr_sum *(r - l + 1) >= k:\n",
    "        curr_sum -= nums[l]\n",
    "        l += 1\n",
    "    # stop at satisfied left value => values between left and right are certainly satisfied\n",
    "    ans += (r - l + 1)\n",
    "\n",
    "print(ans)\n"
   ]
  },
  {
   "cell_type": "markdown",
   "metadata": {},
   "source": [
    "# **TESTCASES**"
   ]
  },
  {
   "cell_type": "code",
   "execution_count": 30,
   "metadata": {},
   "outputs": [
    {
     "name": "stdout",
     "output_type": "stream",
     "text": [
      "Case 1 - nums: [2, 1, 4, 3, 5], k: 10, Output: 6, Expected: 6, Status: PASSED\n",
      "Case 2 - nums: [1, 1, 1], k: 5, Output: 5, Expected: 5, Status: PASSED\n"
     ]
    }
   ],
   "source": [
    "solution = Solution()\n",
    "\n",
    "def run_test_case(case_number, input_nums, input_k, expected):\n",
    "    result = solution.countSubarrays(input_nums, input_k)\n",
    "    status = \"PASSED\" if result == expected else \"FAILED\"\n",
    "    print(f\"Case {case_number} - nums: {input_nums}, k: {input_k}, Output: {result}, Expected: {expected}, Status: {status}\")\n",
    "\n",
    "test_cases = [\n",
    "    (1, [2,1,4,3,5], 10, 6),\n",
    "    (2, [1,1,1], 5, 5),\n",
    "    ]\n",
    "\n",
    "for case_number, input_nums, input_k, expected in test_cases:\n",
    "    run_test_case(case_number, input_nums, input_k, expected)"
   ]
  }
 ],
 "metadata": {
  "kernelspec": {
   "display_name": "Python 3",
   "language": "python",
   "name": "python3"
  },
  "language_info": {
   "codemirror_mode": {
    "name": "ipython",
    "version": 3
   },
   "file_extension": ".py",
   "mimetype": "text/x-python",
   "name": "python",
   "nbconvert_exporter": "python",
   "pygments_lexer": "ipython3",
   "version": "3.10.12"
  }
 },
 "nbformat": 4,
 "nbformat_minor": 2
}
