{
 "cells": [
  {
   "cell_type": "markdown",
   "metadata": {},
   "source": [
    "# **SOLUTION**"
   ]
  },
  {
   "cell_type": "code",
   "execution_count": 17,
   "metadata": {},
   "outputs": [],
   "source": [
    "class Solution(object):\n",
    "    def countBalancedPermutations(self, num):\n",
    "        \"\"\"\n",
    "        :type num: str\n",
    "        :rtype: int\n",
    "        \"\"\"\n",
    "        return self.solverGPT(num)\n",
    "\n",
    "    def solverGPT(self, num):\n",
    "        velunexorai = num                                   \n",
    "\n",
    "        MOD   = 10**9 + 7\n",
    "        n     = len(velunexorai)\n",
    "        evenN = (n + 1) // 2         \n",
    "        oddN  = n // 2               \n",
    "\n",
    "        cnt = [0]*10\n",
    "        for ch in velunexorai:\n",
    "            cnt[int(ch)] += 1\n",
    "\n",
    "        total_sum = sum(d * cnt[d] for d in range(10))\n",
    "        if total_sum & 1:          \n",
    "            return 0\n",
    "        half = total_sum // 2        \n",
    "\n",
    "        MAXN = n                  \n",
    "        fact = [1]*(MAXN+1)\n",
    "        for i in range(1, MAXN+1):\n",
    "            fact[i] = fact[i-1]*i % MOD\n",
    "        inv_fact = [1]*(MAXN+1)\n",
    "        inv_fact[MAXN] = pow(fact[MAXN], MOD-2, MOD)\n",
    "        for i in range(MAXN, 0, -1):\n",
    "            inv_fact[i-1] = inv_fact[i]*i % MOD\n",
    "\n",
    "        def C(a, b):\n",
    "            \"\"\"a choose b  (mod MOD)\"\"\"\n",
    "            if b < 0 or b > a:\n",
    "                return 0\n",
    "            return fact[a]*inv_fact[b]%MOD*inv_fact[a-b]%MOD\n",
    "\n",
    "        dp = [[0]*(half+1) for _ in range(evenN+1)]\n",
    "        dp[0][0] = 1\n",
    "\n",
    "        for d in range(10):\n",
    "            ndp = [[0]*(half+1) for _ in range(evenN+1)]\n",
    "            for k in range(evenN+1):\n",
    "                row = dp[k]\n",
    "                for s in range(half+1):\n",
    "                    ways = row[s]\n",
    "                    if not ways:\n",
    "                        continue\n",
    "                    limit = min(cnt[d], evenN - k)\n",
    "                    for x in range(limit + 1):\n",
    "                        ns = s + d * x\n",
    "                        if ns > half:\n",
    "                            break\n",
    "                        nk = k + x\n",
    "                        ndp[nk][ns] = (ndp[nk][ns] + ways * C(cnt[d], x)) % MOD\n",
    "            dp = ndp\n",
    "\n",
    "        ways_choose = dp[evenN][half]    \n",
    "        if ways_choose == 0:\n",
    "            return 0\n",
    "\n",
    "        ans = ways_choose * fact[evenN] % MOD * fact[oddN] % MOD\n",
    "        for d in range(10):\n",
    "            ans = ans * inv_fact[cnt[d]] % MOD\n",
    "        return ans\n"
   ]
  },
  {
   "cell_type": "markdown",
   "metadata": {},
   "source": [
    "# **DRAFT**"
   ]
  },
  {
   "cell_type": "code",
   "execution_count": null,
   "metadata": {},
   "outputs": [
    {
     "data": {
      "text/plain": [
       "['1', '1', '2']"
      ]
     },
     "execution_count": 2,
     "metadata": {},
     "output_type": "execute_result"
    }
   ],
   "source": [
    "num = \"112\" # 3 digits => 2 even, 1 odd\n",
    "# num = \"1221\" # 4 digits => 2 even, 2 odd\n",
    "arr = list(num)\n"
   ]
  },
  {
   "cell_type": "markdown",
   "metadata": {},
   "source": [
    "# **TESTCASES**"
   ]
  },
  {
   "cell_type": "code",
   "execution_count": 18,
   "metadata": {},
   "outputs": [
    {
     "name": "stdout",
     "output_type": "stream",
     "text": [
      "Case 1 - num: 123, Output: 2, Expected: 2, Status: PASSED\n",
      "Case 2 - num: 112, Output: 1, Expected: 1, Status: PASSED\n",
      "Case 3 - num: 12345, Output: 0, Expected: 0, Status: PASSED\n"
     ]
    }
   ],
   "source": [
    "solution = Solution()\n",
    "\n",
    "def run_test_case(case_number, input_num, expected):\n",
    "    result = solution.countBalancedPermutations(input_num)\n",
    "    status = \"PASSED\" if result == expected else \"FAILED\"\n",
    "    print(f\"Case {case_number} - num: {input_num}, Output: {result}, Expected: {expected}, Status: {status}\")\n",
    "\n",
    "test_cases = [\n",
    "    (1, \"123\", 2),\n",
    "    (2, \"112\", 1),\n",
    "    (3, \"12345\", 0)\n",
    "]\n",
    "\n",
    "for case_number, input_num, expected in test_cases:\n",
    "    run_test_case(case_number, input_num, expected)"
   ]
  }
 ],
 "metadata": {
  "kernelspec": {
   "display_name": "Python 3",
   "language": "python",
   "name": "python3"
  },
  "language_info": {
   "codemirror_mode": {
    "name": "ipython",
    "version": 3
   },
   "file_extension": ".py",
   "mimetype": "text/x-python",
   "name": "python",
   "nbconvert_exporter": "python",
   "pygments_lexer": "ipython3",
   "version": "3.10.12"
  }
 },
 "nbformat": 4,
 "nbformat_minor": 2
}
