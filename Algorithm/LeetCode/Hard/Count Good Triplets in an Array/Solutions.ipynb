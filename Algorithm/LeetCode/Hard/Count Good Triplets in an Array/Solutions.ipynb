{
 "cells": [
  {
   "cell_type": "markdown",
   "metadata": {},
   "source": [
    "# **SOLUTION**"
   ]
  },
  {
   "cell_type": "code",
   "execution_count": null,
   "metadata": {},
   "outputs": [],
   "source": [
    "class Solution(object):\n",
    "    def goodTriplets(self, nums1, nums2):\n",
    "        \"\"\"\n",
    "        :type nums1: List[int]\n",
    "        :type nums2: List[int]\n",
    "        :rtype: int\n",
    "        \"\"\"\n",
    "        return self.solverBucket(nums1, nums2)\n",
    "    \n",
    "    def solverNaive(self, nums1, nums2):\n",
    "        \"\"\"\n",
    "        :cost: Memory Limit Exceeded\n",
    "        \"\"\"\n",
    "        def is_strictly_increasing(arr):\n",
    "            return all(arr[i] < arr[i + 1] for i in range(len(arr) - 1))\n",
    "        \n",
    "        dict2 = dict(enumerate(nums2))\n",
    "        r_dict2 = {v: k for k, v in dict2.items()}\n",
    "\n",
    "        n1 = len(nums1)\n",
    "        index_l1s = []\n",
    "        for i in range(n1):\n",
    "            for j in range(i + 1, n1):\n",
    "                for k in range(j + 1, n1):\n",
    "                    index_l1s.append([nums1[i], nums1[j], nums1[k]])\n",
    "\n",
    "        mapped_dict2 = [[r_dict2[v] for v in index_l1] for index_l1 in index_l1s]\n",
    "\n",
    "        count = 0\n",
    "        for arr in mapped_dict2:\n",
    "            if is_strictly_increasing(arr):\n",
    "                count += 1\n",
    "\n",
    "        return count\n",
    "    \n",
    "    def solverMemoriesImproved(self, nums1, nums2):\n",
    "        \"\"\"\n",
    "        :cost: Memory Limit Exceeded\n",
    "        \"\"\"\n",
    "        def is_strictly_increasing(arr):\n",
    "            return all(arr[i] < arr[i + 1] for i in range(len(arr) - 1))\n",
    "        r_dict2 = {v: i for i, v in enumerate(nums2)}\n",
    "        n1 = len(nums1)\n",
    "        count = 0\n",
    "        \n",
    "        for i in range(n1):\n",
    "            for j in range(i + 1, n1):\n",
    "                for k in range(j + 1, n1):\n",
    "                    triplet = [nums1[i], nums1[j], nums1[k]]\n",
    "                    mapped = [r_dict2[v] for v in triplet]\n",
    "                    if is_strictly_increasing(mapped):\n",
    "                        count += 1\n",
    "        return count\n",
    "    \n",
    "    def solverBucket(self, nums1, nums2):\n",
    "        \"\"\"\n",
    "        :idea: using bucket\n",
    "        :cost:\n",
    "        \"\"\"\n",
    "        r_dict2 = {v: i for i, v in enumerate(nums2)}\n",
    "        n = len(nums1)\n",
    "        mapped1 = [r_dict2[v] for v in nums1] # position map from nums2\n",
    "\n",
    "        count = 0\n",
    "        for j in range(1, n - 1):\n",
    "            l_count = 0\n",
    "            r_count = 0\n",
    "            for i in range(j):\n",
    "                if mapped1[i] < mapped1[j]:\n",
    "                    l_count += 1\n",
    "            for k in range(j + 1, n):\n",
    "                if mapped1[j] < mapped1[k]:\n",
    "                    r_count +=1\n",
    "            count += l_count*r_count\n",
    "        return count\n",
    "\n",
    "\n"
   ]
  },
  {
   "cell_type": "markdown",
   "metadata": {},
   "source": [
    "# **DRAFT**"
   ]
  },
  {
   "cell_type": "code",
   "execution_count": 18,
   "metadata": {},
   "outputs": [
    {
     "name": "stdout",
     "output_type": "stream",
     "text": [
      "{0: 0, 1: 1, 2: 2, 3: 3}\n"
     ]
    }
   ],
   "source": [
    "nums1 = [2,0,1,3]\n",
    "nums2 = [0,1,2,3]\n",
    "dict2 = dict(enumerate(nums2)) # key = index : value = value\n",
    "r_dict2 = {v: k for k, v in dict2.items()} # key = value : value = index\n",
    "\n",
    "print(r_dict2)\n"
   ]
  },
  {
   "cell_type": "code",
   "execution_count": 19,
   "metadata": {},
   "outputs": [],
   "source": [
    "n1 = len(nums1)\n",
    "index_l1s = []\n",
    "for i in range(n1):\n",
    "    for j in range(i + 1, n1):\n",
    "        for k in range(j + 1, n1):\n",
    "            index_l1s.append([nums1[i], nums1[j], nums1[k]])\n",
    "mapped_dict2 = [[r_dict2[v] for v in index_l1] for index_l1 in index_l1s]"
   ]
  },
  {
   "cell_type": "code",
   "execution_count": 20,
   "metadata": {},
   "outputs": [
    {
     "name": "stdout",
     "output_type": "stream",
     "text": [
      "[[2, 0, 1], [2, 0, 3], [2, 1, 3], [0, 1, 3]]\n",
      "[[2, 0, 1], [2, 0, 3], [2, 1, 3], [0, 1, 3]]\n"
     ]
    }
   ],
   "source": [
    "print(index_l1s)\n",
    "print(mapped_dict2)"
   ]
  },
  {
   "cell_type": "code",
   "execution_count": null,
   "metadata": {},
   "outputs": [],
   "source": [
    "def is_strictly_increasing(arr):\n",
    "    return all(arr[i] < arr[i + 1] for i in range(len(arr) - 1))"
   ]
  },
  {
   "cell_type": "code",
   "execution_count": 22,
   "metadata": {},
   "outputs": [
    {
     "name": "stdout",
     "output_type": "stream",
     "text": [
      "False\n",
      "False\n",
      "False\n",
      "True\n"
     ]
    }
   ],
   "source": [
    "for arr in mapped_dict2:\n",
    "    print(is_strictly_increasing(arr))"
   ]
  },
  {
   "cell_type": "markdown",
   "metadata": {},
   "source": [
    "# **TESTCASES**"
   ]
  },
  {
   "cell_type": "code",
   "execution_count": 2,
   "metadata": {},
   "outputs": [
    {
     "name": "stdout",
     "output_type": "stream",
     "text": [
      "Case 1 - nums1: [2, 0, 1, 3], nums2: [0, 1, 2, 3], Output: 1, Expected: 1, Status: PASSED\n",
      "Case 2 - nums1: [4, 0, 1, 3, 2], nums2: [4, 1, 0, 2, 3], Output: 4, Expected: 4, Status: PASSED\n"
     ]
    }
   ],
   "source": [
    "solution = Solution()\n",
    "\n",
    "def run_test_case(case_number, input_nums1, input_nums2, expected):\n",
    "    result = solution.goodTriplets(input_nums1, input_nums2)\n",
    "    status = \"PASSED\" if result == expected else \"FAILED\"\n",
    "    print(f\"Case {case_number} - nums1: {input_nums1}, nums2: {input_nums2}, Output: {result}, Expected: {expected}, Status: {status}\")\n",
    "\n",
    "test_cases = [\n",
    "    (1, [2,0,1,3], [0,1,2,3], 1),\n",
    "    (2, [4, 0, 1, 3, 2], [4,1,0,2,3], 4)\n",
    "    ]\n",
    "\n",
    "for case_number, input_nums1, input_nums2, expected in test_cases:\n",
    "    run_test_case(case_number, input_nums1, input_nums2, expected)"
   ]
  }
 ],
 "metadata": {
  "kernelspec": {
   "display_name": "Python 3",
   "language": "python",
   "name": "python3"
  },
  "language_info": {
   "codemirror_mode": {
    "name": "ipython",
    "version": 3
   },
   "file_extension": ".py",
   "mimetype": "text/x-python",
   "name": "python",
   "nbconvert_exporter": "python",
   "pygments_lexer": "ipython3",
   "version": "3.10.12"
  }
 },
 "nbformat": 4,
 "nbformat_minor": 2
}
