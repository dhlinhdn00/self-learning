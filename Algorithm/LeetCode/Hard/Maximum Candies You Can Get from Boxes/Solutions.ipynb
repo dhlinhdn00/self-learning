{
 "cells": [
  {
   "cell_type": "markdown",
   "metadata": {},
   "source": [
    "# **SOLUTION**"
   ]
  },
  {
   "cell_type": "code",
   "execution_count": 1,
   "metadata": {},
   "outputs": [],
   "source": [
    "class Solution(object):\n",
    "    def maxCandies(self, status, candies, keys, containedBoxes, initialBoxes):\n",
    "        \"\"\"\n",
    "        :type status: List[int]\n",
    "        :type candies: List[int]\n",
    "        :type keys: List[List[int]]\n",
    "        :type containedBoxes: List[List[int]]\n",
    "        :type initialBoxes: List[int]\n",
    "        :rtype: int\n",
    "        \"\"\"\n",
    "        return self.solverGPT(status, candies, keys, containedBoxes, initialBoxes)\n",
    "        \n",
    "    def solverGPT(self, status, candies, keys, containedBoxes, initialBoxes):\n",
    "        have_boxes = set(initialBoxes)    \n",
    "        have_keys = set()               \n",
    "        opened = set()                  \n",
    "        total_candies = 0\n",
    "\n",
    "        while True:\n",
    "            opened_this_round = False\n",
    "\n",
    "            for box in list(have_boxes):\n",
    "                if box not in opened and (status[box] == 1 or box in have_keys):\n",
    "                    total_candies += candies[box]\n",
    "\n",
    "                    opened.add(box)\n",
    "\n",
    "                    for k in keys[box]:\n",
    "                        if k not in have_keys:\n",
    "                            have_keys.add(k)\n",
    "\n",
    "                    for b in containedBoxes[box]:\n",
    "                        if b not in have_boxes:\n",
    "                            have_boxes.add(b)\n",
    "\n",
    "                    opened_this_round = True\n",
    "            if not opened_this_round:\n",
    "                break\n",
    "        return total_candies\n",
    "        "
   ]
  },
  {
   "cell_type": "markdown",
   "metadata": {},
   "source": [
    "# **DRAFT**"
   ]
  },
  {
   "cell_type": "markdown",
   "metadata": {},
   "source": [
    "# **TESTCASES**"
   ]
  },
  {
   "cell_type": "code",
   "execution_count": 3,
   "metadata": {},
   "outputs": [
    {
     "name": "stdout",
     "output_type": "stream",
     "text": [
      "Case 1 - status: [1, 0, 1, 0], candies: [7, 5, 4, 100], keys: [[], [], [1], []], containedBoxes: [[1, 2], [3], [], []], initialBoxes: [0] Output: 16, Expected: 16, Status: PASSED\n",
      "Case 2 - status: [1, 0, 0, 0, 0, 0], candies: [1, 1, 1, 1, 1, 1], keys: [[1, 2, 3, 4, 5], [], [], [], [], []], containedBoxes: [[1, 2, 3, 4, 5], [], [], [], [], []], initialBoxes: [0] Output: 6, Expected: 6, Status: PASSED\n"
     ]
    }
   ],
   "source": [
    "solution = Solution()\n",
    "\n",
    "def run_test_case(case_number, input_status, input_candies, input_keys, input_containedBoxes, input_initialBoxes, expected):\n",
    "    result = solution.maxCandies(input_status, input_candies, input_keys, input_containedBoxes, input_initialBoxes)\n",
    "    status = \"PASSED\" if result == expected else \"FAILED\"\n",
    "    print(f\"Case {case_number} - status: {input_status}, candies: {input_candies}, keys: {input_keys}, containedBoxes: {input_containedBoxes}, initialBoxes: {input_initialBoxes} Output: {result}, Expected: {expected}, Status: {status}\")\n",
    "\n",
    "test_cases = [\n",
    "    (1, [1,0,1,0], [7,5,4,100], [[],[],[1],[]], [[1,2],[3],[],[]], [0], 16),\n",
    "    (2, [1,0,0,0,0,0], [1,1,1,1,1,1], [[1,2,3,4,5],[],[],[],[],[]], [[1,2,3,4,5],[],[],[],[],[]], [0], 6)\n",
    "]\n",
    "\n",
    "for case_number, input_status, input_candies, input_keys, input_containedBoxes, input_initialBoxes, expected in test_cases:\n",
    "    run_test_case(case_number, input_status, input_candies, input_keys, input_containedBoxes, input_initialBoxes, expected)"
   ]
  }
 ],
 "metadata": {
  "kernelspec": {
   "display_name": "base",
   "language": "python",
   "name": "python3"
  },
  "language_info": {
   "codemirror_mode": {
    "name": "ipython",
    "version": 3
   },
   "file_extension": ".py",
   "mimetype": "text/x-python",
   "name": "python",
   "nbconvert_exporter": "python",
   "pygments_lexer": "ipython3",
   "version": "3.11.5"
  }
 },
 "nbformat": 4,
 "nbformat_minor": 2
}
