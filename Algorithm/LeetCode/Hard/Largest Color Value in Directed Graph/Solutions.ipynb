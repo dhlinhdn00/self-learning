{
 "cells": [
  {
   "cell_type": "markdown",
   "metadata": {},
   "source": [
    "# **SOLUTION**"
   ]
  },
  {
   "cell_type": "code",
   "execution_count": null,
   "metadata": {},
   "outputs": [],
   "source": [
    "class Solution(object):\n",
    "    def largestPathValue(self, colors, edges):\n",
    "        \"\"\"\n",
    "        :type colors: str\n",
    "        :type edges: List[List[int]]\n",
    "        :rtype: int\n",
    "        \"\"\"\n",
    "        return self.solverKahn(colors, edges)\n",
    "\n",
    "    def solverKahn(self, colors, edges):\n",
    "        n = len(colors)\n",
    "        adj_g = [[] for _ in range(n)]\n",
    "        indegree = n * [0] # The number of edges coming to the node i\n",
    "\n",
    "        for o, d in edges:\n",
    "            adj_g[o].append(d)\n",
    "            indegree[d] += 1\n",
    "        \n",
    "        dp = [[0] * 26 for _ in range(n)] # Shape n x 26: dp[o][c]: dp[o][c] stores number of nodes of color c on any path ending at node u.\n",
    "\n",
    "        for o, ch in enumerate(colors):\n",
    "            dp[o][ord(ch) - ord('a')] = 1\n",
    "        \n",
    "        q = []\n",
    "        index = 0\n",
    "\n",
    "        for o in range(n):\n",
    "            if indegree[o] == 0:\n",
    "                q.append(o)\n",
    "\n",
    "        ans = 0\n",
    "        while index < len(q):\n",
    "            o = q[index]\n",
    "            ans = max(ans, max(dp[o]))\n",
    "\n",
    "            for d in adj_g[o]:\n",
    "                col_d = ord(colors[d]) - ord('a')\n",
    "                for c in range(26):\n",
    "                    if c == col_d:\n",
    "                        add = 1\n",
    "                    else:\n",
    "                        add = 0\n",
    "                    dp[d][c] = max(dp[o][c] + add, dp[d][c])\n",
    "\n",
    "                indegree[d] -= 1\n",
    "                if indegree[d] == 0:\n",
    "                    q.append(d)\n",
    "            \n",
    "            index += 1\n",
    "        \n",
    "        return -1 if index < n else ans"
   ]
  },
  {
   "cell_type": "markdown",
   "metadata": {},
   "source": [
    "# **DRAFT**"
   ]
  },
  {
   "cell_type": "code",
   "execution_count": null,
   "metadata": {},
   "outputs": [
    {
     "name": "stdout",
     "output_type": "stream",
     "text": [
      "[[1, 2], [], [3], [4], []]\n",
      "[0, 1, 1, 1, 1]\n"
     ]
    }
   ],
   "source": [
    "colors, edges = \"abaca\", [[0,1],[0,2],[2,3],[3,4]]\n",
    "\n",
    "n = len(colors)\n",
    "\n",
    "adj_g = [[] for _ in range(n)]\n",
    "\n",
    "indegree = [0] * n # The numbers of edges comming to the node i\n",
    "\n",
    "for o, d in edges:\n",
    "    adj_g[o].append(d)\n",
    "    indegree[d] += 1\n",
    "\n",
    "print(adj_g)\n",
    "print(indegree)\n"
   ]
  },
  {
   "cell_type": "code",
   "execution_count": null,
   "metadata": {},
   "outputs": [
    {
     "data": {
      "text/plain": [
       "26"
      ]
     },
     "execution_count": 9,
     "metadata": {},
     "output_type": "execute_result"
    }
   ],
   "source": [
    "dp = [[0] * 26 for _ in range(n)] # Shape nx26: dp[u][c]: dp[u][c] stores the maximum number of nodes of color c on any path ending at node u.\n",
    "for u, ch in enumerate(colors):\n",
    "    dp[u][ord(ch) - ord('a')] = 1\n",
    "len(dp[0])"
   ]
  },
  {
   "cell_type": "code",
   "execution_count": null,
   "metadata": {},
   "outputs": [
    {
     "name": "stdout",
     "output_type": "stream",
     "text": [
      "[0]\n"
     ]
    }
   ],
   "source": [
    "q = []\n",
    "index = 0\n",
    "\n",
    "for o in range(n):\n",
    "    if indegree[o] == 0:\n",
    "        q.append(o)\n",
    "print(q)"
   ]
  },
  {
   "cell_type": "code",
   "execution_count": null,
   "metadata": {},
   "outputs": [
    {
     "name": "stdout",
     "output_type": "stream",
     "text": [
      "3\n"
     ]
    }
   ],
   "source": [
    "ans = 0\n",
    "\n",
    "while index < len(q):\n",
    "    o = q[index]\n",
    "    ans = max(ans, max(dp[o]))\n",
    "\n",
    "    for d in adj_g[o]:\n",
    "        col_d = ord(colors[d]) - ord('a')\n",
    "        for c in range(26):\n",
    "            if c == col_d:\n",
    "                add = 1\n",
    "            else:\n",
    "                add = 0\n",
    "            dp[d][c] = max(dp[d][c], dp[o][c] + add)\n",
    "\n",
    "        indegree[d] -= 1\n",
    "        if indegree[d] == 0:\n",
    "            q.append(d)\n",
    "\n",
    "    index += 1\n",
    "\n",
    "if index < n:\n",
    "    print(-1)\n",
    "else:\n",
    "    print(ans)"
   ]
  },
  {
   "cell_type": "markdown",
   "metadata": {},
   "source": [
    "# **TESTCASES**"
   ]
  },
  {
   "cell_type": "code",
   "execution_count": 15,
   "metadata": {},
   "outputs": [
    {
     "name": "stdout",
     "output_type": "stream",
     "text": [
      "Case 1 - colors: abaca, edges: [[0, 1], [0, 2], [2, 3], [3, 4]], Output: 3, Expected: 3, Status: PASSED\n",
      "Case 2 - colors: a, edges: [[0, 0]], Output: -1, Expected: -1, Status: PASSED\n"
     ]
    }
   ],
   "source": [
    "solution = Solution()\n",
    "\n",
    "def run_test_case(case_number, input_colors, input_edges, expected):\n",
    "    result = solution.largestPathValue(input_colors, input_edges)\n",
    "    status = \"PASSED\" if result == expected else \"FAILED\"\n",
    "    print(f\"Case {case_number} - colors: {input_colors}, edges: {input_edges}, Output: {result}, Expected: {expected}, Status: {status}\")\n",
    "\n",
    "test_cases = [\n",
    "    (1, \"abaca\", [[0,1],[0,2],[2,3],[3,4]], 3),\n",
    "    (2, \"a\", [[0,0]], -1),\n",
    "]\n",
    "\n",
    "for case_number, input_colors, input_edges, expected in test_cases:\n",
    "    run_test_case(case_number, input_colors, input_edges, expected)"
   ]
  }
 ],
 "metadata": {
  "kernelspec": {
   "display_name": "base",
   "language": "python",
   "name": "python3"
  },
  "language_info": {
   "codemirror_mode": {
    "name": "ipython",
    "version": 3
   },
   "file_extension": ".py",
   "mimetype": "text/x-python",
   "name": "python",
   "nbconvert_exporter": "python",
   "pygments_lexer": "ipython3",
   "version": "3.11.5"
  }
 },
 "nbformat": 4,
 "nbformat_minor": 2
}
