{
 "cells": [
  {
   "cell_type": "markdown",
   "metadata": {},
   "source": [
    "# **SOLUTION**"
   ]
  },
  {
   "cell_type": "code",
   "execution_count": 24,
   "metadata": {},
   "outputs": [],
   "source": [
    "class Solution(object):\n",
    "    def minimumRecolors(self, blocks, k):\n",
    "        \"\"\"\n",
    "        :type blocks: str\n",
    "        :type k: int\n",
    "        :rtype: int\n",
    "        \"\"\"\n",
    "        return self.solverImproved(blocks, k)\n",
    "    \n",
    "    def solverNaive(self, blocks, k):\n",
    "        \"\"\"\n",
    "        :method: sliding window, brute-force\n",
    "        \"\"\"\n",
    "        min_change = float(\"inf\")\n",
    "        current_change = 0\n",
    "        for i in range(len(blocks) - k + 1):\n",
    "            current_change = blocks[i: i + k].count(\"W\")\n",
    "            min_change = min(current_change, min_change)\n",
    "\n",
    "        return min_change\n",
    "\n",
    "    def solverImproved(self, blocks, k):\n",
    "        \"\"\"\n",
    "        :method: sliding window\n",
    "        :improvement: W-count way\n",
    "        \"\"\"\n",
    "        current_change = blocks[:k].count(\"W\")\n",
    "        min_change = current_change\n",
    "\n",
    "        for i in range(k, len(blocks)):\n",
    "            # Changes will happen only in first and last elements. So check them!\n",
    "            if blocks[i - k] == \"W\":\n",
    "                current_change -= 1\n",
    "            if blocks[i] == \"W\":\n",
    "                current_change += 1\n",
    "            min_change = min(current_change, min_change)\n",
    "\n",
    "        return min_change\n",
    "\n",
    "            "
   ]
  },
  {
   "cell_type": "markdown",
   "metadata": {},
   "source": [
    "# **DRAFT**"
   ]
  },
  {
   "cell_type": "code",
   "execution_count": 8,
   "metadata": {},
   "outputs": [
    {
     "name": "stdout",
     "output_type": "stream",
     "text": [
      "0\n",
      "1\n",
      "2\n",
      "3\n"
     ]
    }
   ],
   "source": [
    "k = 7\n",
    "n = 10\n",
    "for i in range(n - k + 1):\n",
    "    print(i)\n",
    "# 0 -> 6; 1 -> 7; 2-> 8; 3 -> 9\n"
   ]
  },
  {
   "cell_type": "code",
   "execution_count": 19,
   "metadata": {},
   "outputs": [
    {
     "name": "stdout",
     "output_type": "stream",
     "text": [
      "0\n"
     ]
    }
   ],
   "source": [
    "string = \"WBWBBBW\"\n",
    "print(string[3:5].count(\"W\"))"
   ]
  },
  {
   "cell_type": "code",
   "execution_count": 23,
   "metadata": {},
   "outputs": [
    {
     "name": "stdout",
     "output_type": "stream",
     "text": [
      "7\n",
      "8\n",
      "9\n"
     ]
    }
   ],
   "source": [
    "k = 7\n",
    "n = 10\n",
    "for i in range(k, n):\n",
    "    print(i)"
   ]
  },
  {
   "cell_type": "markdown",
   "metadata": {},
   "source": [
    "# **TESTCASES**"
   ]
  },
  {
   "cell_type": "code",
   "execution_count": 25,
   "metadata": {},
   "outputs": [
    {
     "name": "stdout",
     "output_type": "stream",
     "text": [
      "Case 1 - Blocks: WBBWWBBWBW, K: 7, Output: 3, Expected: 3, Status: PASSED\n",
      "Case 2 - Blocks: WBWBBBW, K: 2, Output: 0, Expected: 0, Status: PASSED\n"
     ]
    }
   ],
   "source": [
    "solution = Solution()\n",
    "\n",
    "def run_test_case(case_number, input_blocks, input_k, expected):\n",
    "    result = solution.minimumRecolors(input_blocks, input_k)\n",
    "    status = \"PASSED\" if result == expected else \"FAILED\"\n",
    "    print(f\"Case {case_number} - Blocks: {input_blocks}, K: {input_k}, Output: {result}, Expected: {expected}, Status: {status}\")\n",
    "\n",
    "test_cases = [\n",
    "    (1, \"WBBWWBBWBW\", 7, 3),\n",
    "    (2, \"WBWBBBW\", 2, 0)\n",
    "]\n",
    "\n",
    "for case_number, input_blocks, input_k, expected in test_cases:\n",
    "    run_test_case(case_number, input_blocks, input_k, expected)"
   ]
  }
 ],
 "metadata": {
  "kernelspec": {
   "display_name": "base",
   "language": "python",
   "name": "python3"
  },
  "language_info": {
   "codemirror_mode": {
    "name": "ipython",
    "version": 3
   },
   "file_extension": ".py",
   "mimetype": "text/x-python",
   "name": "python",
   "nbconvert_exporter": "python",
   "pygments_lexer": "ipython3",
   "version": "3.10.12"
  }
 },
 "nbformat": 4,
 "nbformat_minor": 2
}
