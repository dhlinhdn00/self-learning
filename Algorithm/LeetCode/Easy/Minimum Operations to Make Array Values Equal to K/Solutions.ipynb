{
 "cells": [
  {
   "cell_type": "markdown",
   "metadata": {},
   "source": [
    "# **SOLUTION**"
   ]
  },
  {
   "cell_type": "code",
   "execution_count": null,
   "metadata": {},
   "outputs": [],
   "source": [
    "class Solution(object):\n",
    "    def minOperations(self, nums, k):\n",
    "        \"\"\"\n",
    "        :type nums: List[int]\n",
    "        :type k: int\n",
    "        :rtype: int\n",
    "        \"\"\"\n",
    "        return self.solverNaive(nums, k)\n",
    "\n",
    "    def solverNaive(self, nums, k):\n",
    "        m = min(nums)\n",
    "        n = len(set(nums))\n",
    "        if k > m:\n",
    "            return -1\n",
    "        elif k == m:\n",
    "            return n - 1\n",
    "        else:\n",
    "            return n"
   ]
  },
  {
   "cell_type": "markdown",
   "metadata": {},
   "source": [
    "# **DRAFT**"
   ]
  },
  {
   "cell_type": "markdown",
   "metadata": {},
   "source": [
    "# **TESTCASES**"
   ]
  },
  {
   "cell_type": "code",
   "execution_count": 8,
   "metadata": {},
   "outputs": [
    {
     "name": "stdout",
     "output_type": "stream",
     "text": [
      "Case 1 - Blocks: [5, 2, 5, 4, 5], K: 2, Output: 2, Expected: 2, Status: PASSED\n",
      "Case 2 - Blocks: [2, 1, 2], K: 2, Output: -1, Expected: -1, Status: PASSED\n",
      "Case 3 - Blocks: [9, 7, 5, 3], K: 1, Output: 4, Expected: 4, Status: PASSED\n"
     ]
    }
   ],
   "source": [
    "solution = Solution()\n",
    "\n",
    "def run_test_case(case_number, input_blocks, input_k, expected):\n",
    "    result = solution.minOperations(input_blocks, input_k)\n",
    "    status = \"PASSED\" if result == expected else \"FAILED\"\n",
    "    print(f\"Case {case_number} - Blocks: {input_blocks}, K: {input_k}, Output: {result}, Expected: {expected}, Status: {status}\")\n",
    "\n",
    "test_cases = [\n",
    "    (1, [5,2,5,4,5], 2, 2),\n",
    "    (2, [2,1,2], 2, -1),\n",
    "    (3, [9,7,5,3], 1, 4)\n",
    "]\n",
    "\n",
    "for case_number, input_blocks, input_k, expected in test_cases:\n",
    "    run_test_case(case_number, input_blocks, input_k, expected)"
   ]
  }
 ],
 "metadata": {
  "kernelspec": {
   "display_name": "Python 3",
   "language": "python",
   "name": "python3"
  },
  "language_info": {
   "codemirror_mode": {
    "name": "ipython",
    "version": 3
   },
   "file_extension": ".py",
   "mimetype": "text/x-python",
   "name": "python",
   "nbconvert_exporter": "python",
   "pygments_lexer": "ipython3",
   "version": "3.10.12"
  }
 },
 "nbformat": 4,
 "nbformat_minor": 2
}
