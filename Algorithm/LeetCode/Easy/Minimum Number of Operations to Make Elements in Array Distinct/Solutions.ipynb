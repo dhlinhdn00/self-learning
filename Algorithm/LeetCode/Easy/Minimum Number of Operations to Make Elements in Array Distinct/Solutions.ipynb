{
 "cells": [
  {
   "cell_type": "markdown",
   "metadata": {},
   "source": [
    "# **SOLUTION**"
   ]
  },
  {
   "cell_type": "code",
   "execution_count": 49,
   "metadata": {},
   "outputs": [],
   "source": [
    "class Solution(object):\n",
    "    def minimumOperations(self, nums):\n",
    "        \"\"\"\n",
    "        :type nums: List[int]\n",
    "        :rtype: int\n",
    "        \"\"\"\n",
    "        return self.solverNaive(nums)\n",
    "    \n",
    "    def solverNaive(self, nums):\n",
    "        step = len(nums) // 3\n",
    "        for i in range(0, step + 1):\n",
    "            check = nums[i * 3:]\n",
    "            if len(check) == len(set(check)):\n",
    "                return i\n",
    "        return step + 1"
   ]
  },
  {
   "cell_type": "markdown",
   "metadata": {},
   "source": [
    "# **DRAFT**"
   ]
  },
  {
   "cell_type": "code",
   "execution_count": null,
   "metadata": {},
   "outputs": [
    {
     "data": {
      "text/plain": [
       "3"
      ]
     },
     "execution_count": 5,
     "metadata": {},
     "output_type": "execute_result"
    }
   ],
   "source": [
    "nums = [1,2,3,4,2,3,3,5,7,9]\n",
    "len(nums) // 3"
   ]
  },
  {
   "cell_type": "code",
   "execution_count": 42,
   "metadata": {},
   "outputs": [
    {
     "name": "stdout",
     "output_type": "stream",
     "text": [
      "__________________________________________________\n",
      "[1, 2, 3, 4, 2, 3, 3, 5, 7, 1]\n",
      "__________________________________________________\n",
      "[4, 2, 3, 3, 5, 7, 1]\n",
      "__________________________________________________\n",
      "[3, 5, 7, 1]\n",
      "2\n",
      "__________________________________________________\n",
      "[1]\n",
      "3\n"
     ]
    }
   ],
   "source": [
    "nums = [1,2,3,4,2,3,3,5,7,1]\n",
    "if len(nums) == len(set(nums)):\n",
    "    print(0)\n",
    "surplus = len(nums) % 3\n",
    "# print(surplus)\n",
    "step = len(nums) // 3\n",
    "\n",
    "for i in range(0, step + 1):\n",
    "\n",
    "    print(\"_\"*50)\n",
    "    check = nums[i * 3:]\n",
    "    print(check)\n",
    "    if len(check) == len(set(check)):\n",
    "        print(i)\n",
    "\n",
    "\n"
   ]
  },
  {
   "cell_type": "code",
   "execution_count": 48,
   "metadata": {},
   "outputs": [
    {
     "name": "stdout",
     "output_type": "stream",
     "text": [
      "0\n",
      "1\n",
      "2\n",
      "3\n"
     ]
    }
   ],
   "source": [
    "for i in range(0, 3 + 1):\n",
    "    print(i)"
   ]
  },
  {
   "cell_type": "markdown",
   "metadata": {},
   "source": [
    "# **TESTCASES**"
   ]
  },
  {
   "cell_type": "code",
   "execution_count": 50,
   "metadata": {},
   "outputs": [
    {
     "name": "stdout",
     "output_type": "stream",
     "text": [
      "Case 1 - Nums: [1, 2, 3, 4, 2, 3, 3, 5, 7], Output: 2, Expected: 2, Status: PASSED\n",
      "Case 2 - Nums: [4, 5, 6, 4, 4], Output: 2, Expected: 2, Status: PASSED\n",
      "Case 3 - Nums: [6, 7, 8, 9], Output: 0, Expected: 0, Status: PASSED\n"
     ]
    }
   ],
   "source": [
    "solution = Solution()\n",
    "\n",
    "def run_test_case(case_number, input_nums, expected):\n",
    "    result = solution.minimumOperations(input_nums)\n",
    "    status = \"PASSED\" if result == expected else \"FAILED\"\n",
    "    print(f\"Case {case_number} - Nums: {input_nums}, Output: {result}, Expected: {expected}, Status: {status}\")\n",
    "\n",
    "test_cases = [\n",
    "    (1, [1,2,3,4,2,3,3,5,7], 2),\n",
    "    (2, [4,5,6,4,4], 2),\n",
    "    (3, [6,7,8,9], 0)\n",
    "]\n",
    "\n",
    "for case_number, input_nums, expected in test_cases:\n",
    "    run_test_case(case_number, input_nums, expected)"
   ]
  }
 ],
 "metadata": {
  "kernelspec": {
   "display_name": "Python 3",
   "language": "python",
   "name": "python3"
  },
  "language_info": {
   "codemirror_mode": {
    "name": "ipython",
    "version": 3
   },
   "file_extension": ".py",
   "mimetype": "text/x-python",
   "name": "python",
   "nbconvert_exporter": "python",
   "pygments_lexer": "ipython3",
   "version": "3.10.12"
  }
 },
 "nbformat": 4,
 "nbformat_minor": 2
}
