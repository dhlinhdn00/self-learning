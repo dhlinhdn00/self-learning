{
 "cells": [
  {
   "cell_type": "markdown",
   "metadata": {},
   "source": [
    "# **SOLUTION**"
   ]
  },
  {
   "cell_type": "code",
   "execution_count": null,
   "metadata": {},
   "outputs": [],
   "source": [
    "from functools import lru_cache\n",
    "\n",
    "class Solution(object):\n",
    "    def numTilings(self, n):\n",
    "        \"\"\"\n",
    "        :type n: int\n",
    "        :rtype: int\n",
    "        \"\"\"        \n",
    "        MOD = 10**9 + 7\n",
    "        return self.solverRecursionMemoization(n, MOD)\n",
    "    \n",
    "    def solverDP(self, n, MOD):\n",
    "        \"\"\"\n",
    "        :cost: 3ms(50.82%) | 12.43MB(64.26%)\n",
    "        \"\"\"\n",
    "        if n == 0: return 1\n",
    "        if n == 1: return 1\n",
    "        if n == 2: return 2\n",
    "\n",
    "        dp = [0] * (n + 1)\n",
    "        dp[0], dp[1], dp[2] = 1, 1, 2\n",
    "\n",
    "        for i in range(3, n + 1):\n",
    "            dp[i] = (2 * dp[i - 1] + dp[i - 3]) % MOD\n",
    "\n",
    "        return dp[n]\n",
    "    \n",
    "    def solverImproved(self, n, MOD):\n",
    "        \"\"\"\n",
    "        :cost: 0ms(100%) | 12.53MB(32.13%)\n",
    "        \"\"\"\n",
    "        if n == 0: return 1\n",
    "        if n == 1: return 1\n",
    "        if n == 2: return 2\n",
    "\n",
    "        a, b, c = 1, 1, 2\n",
    "\n",
    "        for i in range(3, n + 1):\n",
    "\n",
    "            d = (2 * c + a) % MOD\n",
    "\n",
    "            a, b, c = b, c, d\n",
    "\n",
    "        return c\n",
    "    \n",
    "    def solverRecursion(self, n, MOD):\n",
    "        \"\"\"\n",
    "        :cost: Time Limit Exceeded\n",
    "        \"\"\"\n",
    "        if n == 0: return 1\n",
    "        if n == 1: return 1\n",
    "        if n == 2: return 2\n",
    "\n",
    "        return (2 * self.solverRecursion(n - 1, MOD) + self.solverRecursion(n - 3, MOD)) % MOD\n",
    "    \n",
    "    def solverRecursionMemoization(self, n, MOD):\n",
    "        \"\"\"\n",
    "        :cost: 3ms(50.82%) | 14.18MB(8.20%)\n",
    "        \"\"\"\n",
    "        memo = {0: 1, 1: 1, 2: 2}\n",
    "\n",
    "        def _f(i):\n",
    "            if i not in memo:\n",
    "                memo[i] = (2 * _f(i - 1) + _f(i - 3)) % MOD\n",
    "            return memo[i]\n",
    "        \n",
    "        return _f(n)\n",
    "\n",
    "    def solverRecursionLRU(self, n, MOD):\n",
    "        \"\"\"\n",
    "        :cost: 7ms(21.88%) | 19.17MB(15.32%)\n",
    "        \"\"\"\n",
    "\n",
    "        @lru_cache(maxsize=None)\n",
    "        \n",
    "        def _f(i):\n",
    "            if i == 0: return 1\n",
    "            if i == 1: return 1\n",
    "            if i == 2: return 2\n",
    "            return (2 * _f(i - 1) + _f(i - 3)) % MOD\n",
    "\n",
    "        return _f(n)\n",
    "\n"
   ]
  },
  {
   "cell_type": "markdown",
   "metadata": {},
   "source": [
    "# **DRAFT**"
   ]
  },
  {
   "cell_type": "markdown",
   "metadata": {},
   "source": [
    "# **TESTCASES**"
   ]
  },
  {
   "cell_type": "code",
   "execution_count": 19,
   "metadata": {},
   "outputs": [
    {
     "name": "stdout",
     "output_type": "stream",
     "text": [
      "Case 1 - n: 3, Output: 5, Expected: 5, Status: PASSED\n",
      "Case 2 - n: 1, Output: 1, Expected: 1, Status: PASSED\n"
     ]
    }
   ],
   "source": [
    "solution = Solution()\n",
    "\n",
    "def run_test_case(case_number, input_n, expected):\n",
    "    result = solution.numTilings(input_n)\n",
    "    status = \"PASSED\" if result == expected else \"FAILED\"\n",
    "    print(f\"Case {case_number} - n: {input_n}, Output: {result}, Expected: {expected}, Status: {status}\")\n",
    "\n",
    "test_cases = [\n",
    "    (1, 3, 5),\n",
    "    (2, 1, 1)\n",
    "]\n",
    "\n",
    "for case_number, input_edges, expected in test_cases:\n",
    "    run_test_case(case_number, input_edges, expected)"
   ]
  }
 ],
 "metadata": {
  "kernelspec": {
   "display_name": "Python 3",
   "language": "python",
   "name": "python3"
  },
  "language_info": {
   "codemirror_mode": {
    "name": "ipython",
    "version": 3
   },
   "file_extension": ".py",
   "mimetype": "text/x-python",
   "name": "python",
   "nbconvert_exporter": "python",
   "pygments_lexer": "ipython3",
   "version": "3.10.12"
  }
 },
 "nbformat": 4,
 "nbformat_minor": 2
}
