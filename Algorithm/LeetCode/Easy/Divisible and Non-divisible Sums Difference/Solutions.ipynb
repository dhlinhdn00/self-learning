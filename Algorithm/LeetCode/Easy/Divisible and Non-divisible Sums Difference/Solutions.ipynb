{
 "cells": [
  {
   "cell_type": "markdown",
   "metadata": {},
   "source": [
    "# **SOLUTION**"
   ]
  },
  {
   "cell_type": "code",
   "execution_count": 1,
   "metadata": {},
   "outputs": [],
   "source": [
    "class Solution(object):\n",
    "    def differenceOfSums(self, n, m):\n",
    "        \"\"\"\n",
    "        :type n: int\n",
    "        :type m: int\n",
    "        :rtype: int\n",
    "        \"\"\"\n",
    "        return self.solverImproved(n, m)\n",
    "\n",
    "    def solverNaive(self, n, m):\n",
    "        if n < m:\n",
    "            return sum(range(n + 1))\n",
    "        elif n == m:\n",
    "            return sum(range(n)) - n\n",
    "\n",
    "        ans = sum(range(m)) - m\n",
    "\n",
    "        for num in range(m + 1, n + 1):\n",
    "            if num % m != 0:\n",
    "                ans += num\n",
    "            else:\n",
    "                ans -= num\n",
    "\n",
    "        return ans\n",
    "        \n",
    "    def solverImproved(self, n, m):\n",
    "        total = n * (n + 1) // 2\n",
    "        k = n // m\n",
    "        divisible_sum = m * k * (k + 1) // 2\n",
    "        return total - 2 * divisible_sum"
   ]
  },
  {
   "cell_type": "markdown",
   "metadata": {},
   "source": [
    "# **DRAFT**"
   ]
  },
  {
   "cell_type": "markdown",
   "metadata": {},
   "source": [
    "# **TESTCASES**"
   ]
  },
  {
   "cell_type": "code",
   "execution_count": 4,
   "metadata": {},
   "outputs": [
    {
     "name": "stdout",
     "output_type": "stream",
     "text": [
      "Case 1 - n: 10, m: 3 Output: 19, Expected: 19, Status: PASSED\n",
      "Case 2 - n: 5, m: 6 Output: 15, Expected: 15, Status: PASSED\n",
      "Case 3 - n: 5, m: 1 Output: -15, Expected: -15, Status: PASSED\n"
     ]
    }
   ],
   "source": [
    "solution = Solution()\n",
    "\n",
    "def run_test_case(case_number, input_n, input_m, expected):\n",
    "    result = solution.differenceOfSums(input_n, input_m)\n",
    "    status = \"PASSED\" if result == expected else \"FAILED\"\n",
    "    print(f\"Case {case_number} - n: {input_n}, m: {input_m} Output: {result}, Expected: {expected}, Status: {status}\")\n",
    "\n",
    "test_cases = [\n",
    "    (1, 10, 3, 19),\n",
    "    (2, 5, 6, 15),\n",
    "    (3, 5, 1, -15)\n",
    "]\n",
    "\n",
    "for case_number, input_n, input_m, expected in test_cases:\n",
    "    run_test_case(case_number, input_n, input_m, expected)"
   ]
  }
 ],
 "metadata": {
  "kernelspec": {
   "display_name": "base",
   "language": "python",
   "name": "python3"
  },
  "language_info": {
   "codemirror_mode": {
    "name": "ipython",
    "version": 3
   },
   "file_extension": ".py",
   "mimetype": "text/x-python",
   "name": "python",
   "nbconvert_exporter": "python",
   "pygments_lexer": "ipython3",
   "version": "3.11.5"
  }
 },
 "nbformat": 4,
 "nbformat_minor": 2
}
