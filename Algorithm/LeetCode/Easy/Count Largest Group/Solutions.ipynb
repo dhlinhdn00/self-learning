{
 "cells": [
  {
   "cell_type": "markdown",
   "metadata": {},
   "source": [
    "# **SOLUTION**"
   ]
  },
  {
   "cell_type": "code",
   "execution_count": null,
   "metadata": {},
   "outputs": [],
   "source": [
    "from collections import Counter\n",
    "\n",
    "class Solution(object):\n",
    "    def countLargestGroup(self, n):\n",
    "        \"\"\"\n",
    "        :type n: int\n",
    "        :rtype: int\n",
    "        \"\"\"\n",
    "        return self.solverNaive(n)\n",
    "\n",
    "    def solverNaive(self, n):\n",
    "        \"\"\"\n",
    "        :cost: 135ms(42.10%) | 12.63MB(75.00%)\n",
    "        \"\"\"\n",
    "        sum_dict = {}\n",
    "        for i in range(1, n + 1):\n",
    "            check = sum(map(int, str(abs(i))))\n",
    "            if check not in sum_dict:\n",
    "                sum_dict[check] = 1\n",
    "            else:\n",
    "                sum_dict[check] += 1\n",
    "        print(sum_dict)\n",
    "        max_val = max(sum_dict.values())\n",
    "\n",
    "        count = 0\n",
    "        for v in sum_dict.values():\n",
    "            if v == max_val:\n",
    "                count += 1\n",
    "        return count\n",
    "    \n",
    "    def solverLib(self, n):\n",
    "        def digitSum(x):\n",
    "            s = 0\n",
    "            while x > 0:\n",
    "                s += x % 10\n",
    "                x //= 10\n",
    "            return s\n",
    "        counter = Counter(digitSum(i) for i in range(1, n + 1))\n",
    "        max_size = max(counter.values())\n",
    "        return sum(1 for v in counter.values() if v == max_size)"
   ]
  },
  {
   "cell_type": "markdown",
   "metadata": {},
   "source": [
    "# **DRAFT**"
   ]
  },
  {
   "cell_type": "code",
   "execution_count": 13,
   "metadata": {},
   "outputs": [
    {
     "name": "stdout",
     "output_type": "stream",
     "text": [
      "way 1: n = 102 => 3\n",
      "way 2: n = 102 => 3\n"
     ]
    }
   ],
   "source": [
    "# DIGITS SUM OF A NUMBER\n",
    "n = 102\n",
    "check = sum(map(int, str(abs(n))))\n",
    "print(f\"way 1: n = {n} => {check}\")\n",
    "\n",
    "def digitSum(x):\n",
    "    s = 0\n",
    "    while x > 0:\n",
    "        s += x % 10\n",
    "        x //= 10\n",
    "    return s\n",
    "\n",
    "print(f\"way 2: n = {n} => {digitSum(n)}\")\n"
   ]
  },
  {
   "cell_type": "code",
   "execution_count": 11,
   "metadata": {},
   "outputs": [
    {
     "name": "stdout",
     "output_type": "stream",
     "text": [
      "{1: 4, 2: 10, 3: 19, 4: 31, 5: 46, 6: 64, 7: 85, 8: 106, 9: 130, 10: 153, 11: 172, 12: 185, 13: 192, 14: 193, 15: 188, 16: 177, 17: 162, 18: 143, 19: 120, 20: 96, 21: 74, 22: 55, 23: 39, 24: 26, 25: 16, 26: 9, 27: 4, 28: 1}\n"
     ]
    },
    {
     "data": {
      "text/plain": [
       "1"
      ]
     },
     "execution_count": 11,
     "metadata": {},
     "output_type": "execute_result"
    }
   ],
   "source": [
    "test = Solution()\n",
    "n = 2500\n",
    "\n",
    "test.countLargestGroup(n)"
   ]
  },
  {
   "cell_type": "markdown",
   "metadata": {},
   "source": [
    "# **TESTCASES**"
   ]
  },
  {
   "cell_type": "code",
   "execution_count": null,
   "metadata": {},
   "outputs": [
    {
     "name": "stdout",
     "output_type": "stream",
     "text": [
      "Case 1 - Nums: 13, Output: 4, Expected: 4, Status: PASSED\n",
      "Case 2 - Nums: 2, Output: 2, Expected: 2, Status: PASSED\n"
     ]
    }
   ],
   "source": [
    "solution = Solution()\n",
    "\n",
    "def run_test_case(case_number, input_n, expected):\n",
    "    result = solution.countLargestGroup(input_n)\n",
    "    status = \"PASSED\" if result == expected else \"FAILED\"\n",
    "    print(f\"Case {case_number} - Nums: {input_n}, Output: {result}, Expected: {expected}, Status: {status}\")\n",
    "\n",
    "test_cases = [\n",
    "    (1, 13, 4),\n",
    "    (2, 2, 2)\n",
    "]\n",
    "\n",
    "for case_number, input_n, expected in test_cases:\n",
    "    run_test_case(case_number, input_n, expected)"
   ]
  }
 ],
 "metadata": {
  "kernelspec": {
   "display_name": "Python 3",
   "language": "python",
   "name": "python3"
  },
  "language_info": {
   "codemirror_mode": {
    "name": "ipython",
    "version": 3
   },
   "file_extension": ".py",
   "mimetype": "text/x-python",
   "name": "python",
   "nbconvert_exporter": "python",
   "pygments_lexer": "ipython3",
   "version": "3.10.12"
  }
 },
 "nbformat": 4,
 "nbformat_minor": 2
}
