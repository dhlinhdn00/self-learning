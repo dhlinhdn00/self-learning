{
 "cells": [
  {
   "cell_type": "markdown",
   "metadata": {},
   "source": [
    "# **SOLUTION**"
   ]
  },
  {
   "cell_type": "code",
   "execution_count": null,
   "metadata": {},
   "outputs": [],
   "source": [
    "from itertools import permutations\n",
    "\n",
    "class Solution(object):\n",
    "    def findEvenNumbers(self, digits):\n",
    "        \"\"\"\n",
    "        :type digits: List[int]\n",
    "        :rtype: List[int]\n",
    "        \"\"\"\n",
    "        # return self.solverNaive(digits)\n",
    "        return self.solverLib(digits)\n",
    "    \n",
    "    def solverNaive(self, digits):\n",
    "        \"\"\"\n",
    "        :cost: 4642ms (18.38%) | 42.00MB (12.50%)\n",
    "        \"\"\"\n",
    "        n = len(digits)\n",
    "        ans = []\n",
    "        for i in range(n):\n",
    "            for j in range(n):\n",
    "                for k in range(n):\n",
    "                    if i != j and j != k and k != i:\n",
    "                        digit1, digit2, digit3 = digits[i], digits[j], digits[k]\n",
    "\n",
    "                        if digit1 == 0 or digit3 % 2 != 0:\n",
    "                            continue\n",
    "\n",
    "                        num = digit1 * 100 + digit2 * 10 + digit3\n",
    "\n",
    "                        ans.append(num)\n",
    "        return sorted(set(ans))\n",
    "    \n",
    "    def solverLib(self, digits):\n",
    "        \"\"\"\n",
    "        :cost: 3896ms (36.03%) | 12.600MB (50.74%)\n",
    "        \"\"\"\n",
    "        ans = set()\n",
    "\n",
    "        for perm in permutations(digits, 3):\n",
    "            if perm[0] == 0:\n",
    "                continue\n",
    "            num = perm[0] * 100 + perm[1] * 10 + perm[2]\n",
    "            if num % 2 == 0:\n",
    "                ans.add(num)\n",
    "        return sorted(ans)\n",
    "    "
   ]
  },
  {
   "cell_type": "markdown",
   "metadata": {},
   "source": [
    "# **DRAFT**"
   ]
  },
  {
   "cell_type": "markdown",
   "metadata": {},
   "source": [
    "# **TESTCASES**"
   ]
  },
  {
   "cell_type": "code",
   "execution_count": 8,
   "metadata": {},
   "outputs": [
    {
     "name": "stdout",
     "output_type": "stream",
     "text": [
      "Case 1 - digits: [2, 1, 3, 0], Output: [102, 120, 130, 132, 210, 230, 302, 310, 312, 320], Expected: [102, 120, 130, 132, 210, 230, 302, 310, 312, 320], Status: PASSED\n",
      "Case 2 - digits: [2, 2, 8, 8, 2], Output: [222, 228, 282, 288, 822, 828, 882], Expected: [222, 228, 282, 288, 822, 828, 882], Status: PASSED\n",
      "Case 3 - digits: [3, 7, 5], Output: [], Expected: [], Status: PASSED\n"
     ]
    }
   ],
   "source": [
    "solution = Solution()\n",
    "\n",
    "def run_test_case(case_number, input_digits, expected):\n",
    "    result = solution.findEvenNumbers(input_digits)\n",
    "    status = \"PASSED\" if result == expected else \"FAILED\"\n",
    "    print(f\"Case {case_number} - digits: {input_digits}, Output: {result}, Expected: {expected}, Status: {status}\")\n",
    "\n",
    "test_cases = [\n",
    "    (1, [2,1,3,0], [102,120,130,132,210,230,302,310,312,320]),\n",
    "    (2, [2,2,8,8,2], [222,228,282,288,822,828,882]),\n",
    "    (3, [3,7,5], [])\n",
    "]\n",
    "\n",
    "for case_number, input_digits, expected in test_cases:\n",
    "    run_test_case(case_number, input_digits, expected)"
   ]
  }
 ],
 "metadata": {
  "kernelspec": {
   "display_name": "Python 3",
   "language": "python",
   "name": "python3"
  },
  "language_info": {
   "codemirror_mode": {
    "name": "ipython",
    "version": 3
   },
   "file_extension": ".py",
   "mimetype": "text/x-python",
   "name": "python",
   "nbconvert_exporter": "python",
   "pygments_lexer": "ipython3",
   "version": "3.10.12"
  }
 },
 "nbformat": 4,
 "nbformat_minor": 2
}
