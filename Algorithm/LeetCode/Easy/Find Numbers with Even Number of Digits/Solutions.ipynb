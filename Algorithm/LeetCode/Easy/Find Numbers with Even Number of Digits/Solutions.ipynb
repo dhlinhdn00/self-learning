{
 "cells": [
  {
   "cell_type": "markdown",
   "metadata": {},
   "source": [
    "# **SOLUTION**"
   ]
  },
  {
   "cell_type": "code",
   "execution_count": null,
   "metadata": {},
   "outputs": [],
   "source": [
    "class Solution(object):\n",
    "    def findNumbers(self, nums):\n",
    "        \"\"\"\n",
    "        :type nums: List[int]\n",
    "        :rtype: int\n",
    "        \"\"\"\n",
    "        return self.solverWhile(nums)\n",
    "        return self.solverFor(nums)\n",
    "    \n",
    "    def solverWhile(self, nums):\n",
    "        \"\"\"\n",
    "        :cost: 0s(100%) | 12.38MB(92.15%)\n",
    "        \"\"\"\n",
    "        count = 0\n",
    "        index = 0\n",
    "        n = len(nums)\n",
    "        \n",
    "        while index < n:\n",
    "            if len(str(nums[index])) % 2 == 0:\n",
    "                count += 1\n",
    "            index += 1\n",
    "        return count\n",
    "\n",
    "    def solverFor(self, nums):\n",
    "        \"\"\"\n",
    "        :cost: 3ms(54.62%) | 12.37MB(92.15%)\n",
    "        \"\"\"\n",
    "        pass\n"
   ]
  },
  {
   "cell_type": "markdown",
   "metadata": {},
   "source": [
    "# **DRAFT**"
   ]
  },
  {
   "cell_type": "markdown",
   "metadata": {},
   "source": [
    "# **TESTCASES**"
   ]
  },
  {
   "cell_type": "code",
   "execution_count": null,
   "metadata": {},
   "outputs": [
    {
     "name": "stdout",
     "output_type": "stream",
     "text": [
      "Case 1 - Nums: [1, 4, 2, 0, 0, 0], Output: [1, 4, 2, 0, 0, 0], Expected: [1, 4, 2, 0, 0, 0], Status: PASSED\n",
      "Case 2 - Nums: [1, 0], Output: [1, 0], Expected: [1, 0], Status: PASSED\n"
     ]
    }
   ],
   "source": [
    "solution = Solution()\n",
    "\n",
    "def run_test_case(case_number, input_nums, expected):\n",
    "    result = solution.findNumbers(input_nums)\n",
    "    status = \"PASSED\" if result == expected else \"FAILED\"\n",
    "    print(f\"Case {case_number} - Nums: {input_nums}, Output: {result}, Expected: {expected}, Status: {status}\")\n",
    "\n",
    "test_cases = [\n",
    "    (1, [12,345,2,6,7896], 2),\n",
    "    (2, [555,901,482,1771], 1)\n",
    "]\n",
    "\n",
    "for case_number, input_nums, expected in test_cases:\n",
    "    run_test_case(case_number, input_nums, expected)"
   ]
  }
 ],
 "metadata": {
  "kernelspec": {
   "display_name": "base",
   "language": "python",
   "name": "python3"
  },
  "language_info": {
   "codemirror_mode": {
    "name": "ipython",
    "version": 3
   },
   "file_extension": ".py",
   "mimetype": "text/x-python",
   "name": "python",
   "nbconvert_exporter": "python",
   "pygments_lexer": "ipython3",
   "version": "3.10.12"
  }
 },
 "nbformat": 4,
 "nbformat_minor": 2
}
