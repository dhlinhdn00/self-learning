{
 "cells": [
  {
   "cell_type": "markdown",
   "metadata": {},
   "source": [
    "# **SOLUTION**"
   ]
  },
  {
   "cell_type": "code",
   "execution_count": 1,
   "metadata": {},
   "outputs": [],
   "source": [
    "class Solution(object):\n",
    "    def getLongestSubsequence(self, words, groups):\n",
    "        \"\"\"\n",
    "        :type words: List[str]\n",
    "        :type groups: List[int]\n",
    "        :rtype: List[str]\n",
    "        \"\"\"\n",
    "        return self.solverNaive(words, groups)\n",
    "\n",
    "    def solverNaive(self, words, groups):\n",
    "        r = [words[0]]\n",
    "        pg = groups[0]\n",
    "        n = len(words)\n",
    "\n",
    "        for i in range(1, n):\n",
    "            if groups[i] != pg:\n",
    "                r.append(words[i])\n",
    "                pg = groups[i]\n",
    "\n",
    "        return r"
   ]
  },
  {
   "cell_type": "markdown",
   "metadata": {},
   "source": [
    "# **DRAFT**"
   ]
  },
  {
   "cell_type": "markdown",
   "metadata": {},
   "source": [
    "# **TESTCASES**"
   ]
  },
  {
   "cell_type": "code",
   "execution_count": 4,
   "metadata": {},
   "outputs": [
    {
     "name": "stdout",
     "output_type": "stream",
     "text": [
      "Case 1 - words: ['e', 'a', 'b'], groups: [0, 0, 1], Output: ['e', 'b'], Expected: ['e', 'b'], Status: PASSED\n",
      "Case 2 - words: ['a', 'b', 'c', 'd'], groups: [1, 0, 1, 1], Output: ['a', 'b', 'c'], Expected: ['a', 'b', 'c'], Status: PASSED\n"
     ]
    }
   ],
   "source": [
    "solution = Solution()\n",
    "\n",
    "def run_test_case(case_number, input_words, input_groups, expected):\n",
    "    result = solution.getLongestSubsequence(input_words, input_groups)\n",
    "    status = \"PASSED\" if result == expected else \"FAILED\"\n",
    "    print(f\"Case {case_number} - words: {input_words}, groups: {input_groups}, Output: {result}, Expected: {expected}, Status: {status}\")\n",
    "\n",
    "test_cases = [\n",
    "    (1, [\"e\",\"a\",\"b\"], [0,0,1], [\"e\",\"b\"]),\n",
    "    (2, [\"a\",\"b\",\"c\",\"d\"], [1,0,1,1], [\"a\",\"b\",\"c\"])\n",
    "]\n",
    "\n",
    "for case_number, input_words, input_groups, expected in test_cases:\n",
    "    run_test_case(case_number, input_words, input_groups, expected)"
   ]
  }
 ],
 "metadata": {
  "kernelspec": {
   "display_name": "base",
   "language": "python",
   "name": "python3"
  },
  "language_info": {
   "codemirror_mode": {
    "name": "ipython",
    "version": 3
   },
   "file_extension": ".py",
   "mimetype": "text/x-python",
   "name": "python",
   "nbconvert_exporter": "python",
   "pygments_lexer": "ipython3",
   "version": "3.11.5"
  }
 },
 "nbformat": 4,
 "nbformat_minor": 2
}
