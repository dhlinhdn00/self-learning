{
 "cells": [
  {
   "cell_type": "markdown",
   "metadata": {},
   "source": [
    "# **SOLUTION**"
   ]
  },
  {
   "cell_type": "code",
   "execution_count": null,
   "metadata": {},
   "outputs": [],
   "source": [
    "import math\n",
    "from collections import Counter\n",
    "class Solution(object):\n",
    "    def numEquivDominoPairs(self, dominoes):\n",
    "        \"\"\"\n",
    "        :type dominoes: List[List[int]]\n",
    "        :rtype: int\n",
    "        \"\"\"\n",
    "        return self.solverNaive(dominoes)\n",
    "    \n",
    "    def solverNaive(self, dominoes):\n",
    "        def _combinationCount(k, n):\n",
    "            return int(math.factorial(n) / (math.factorial(n-k)*math.factorial(k)))\n",
    "        dominoes_count = Counter(tuple(sorted(domino)) for domino in dominoes)\n",
    "        ans = 0\n",
    "        for v in dominoes_count.values():\n",
    "            if v >= 2:\n",
    "                ans += _combinationCount(2, v)\n",
    "        return ans\n",
    "    def solverRef(self, dominoes):\n",
    "        freq=[0]*100\n",
    "        ans=0\n",
    "        for a,b in dominoes:\n",
    "            key=a*10+b if a<=b else b*10+a\n",
    "            ans+=freq[key]\n",
    "            freq[key]+=1\n",
    "        return ans"
   ]
  },
  {
   "cell_type": "markdown",
   "metadata": {},
   "source": [
    "# **DRAFT**"
   ]
  },
  {
   "cell_type": "code",
   "execution_count": 18,
   "metadata": {},
   "outputs": [
    {
     "name": "stdout",
     "output_type": "stream",
     "text": [
      "dict_items([((1, 2), 2), ((3, 4), 1), ((5, 6), 1)])\n",
      "(1, 2)\n",
      "(3, 4)\n",
      "(5, 6)\n",
      "\n",
      "(1, 2)\n",
      "(3, 4)\n",
      "(5, 6)\n",
      "\n",
      "2\n",
      "1\n",
      "1\n"
     ]
    }
   ],
   "source": [
    "dominoes = [[1,2],[2,1],[3,4],[5,6]]\n",
    "from collections import Counter\n",
    "\n",
    "count = Counter(tuple(sorted(domino)) for domino in dominoes)\n",
    "print(count.items())\n",
    "for k, v in count.items():\n",
    "    print(k)\n",
    "\n",
    "print()\n",
    "for k in count.keys():\n",
    "    print(k)\n",
    "\n",
    "print()\n",
    "for v in count.values():\n",
    "    print(v)\n",
    "# dominoes_counter = Counter(dominoes)"
   ]
  },
  {
   "cell_type": "code",
   "execution_count": 27,
   "metadata": {},
   "outputs": [],
   "source": [
    "import math\n",
    "\n",
    "def _C_count(n, k):\n",
    "    return int(math.factorial(n) / ((math.factorial(n-k))*(math.factorial(k))))\n"
   ]
  },
  {
   "cell_type": "code",
   "execution_count": 28,
   "metadata": {},
   "outputs": [
    {
     "name": "stdout",
     "output_type": "stream",
     "text": [
      "1\n"
     ]
    }
   ],
   "source": [
    "dominoes = [[1,2],[2,1],[3,4],[5,6]]\n",
    "from collections import Counter\n",
    "\n",
    "count = Counter(tuple(sorted(domino)) for domino in dominoes)\n",
    "ans = 0\n",
    "for v in count.values():\n",
    "    if v >= 2:\n",
    "        ans += _C_count(v, 2)\n",
    "print(ans)"
   ]
  },
  {
   "cell_type": "markdown",
   "metadata": {},
   "source": [
    "# **TESTCASES**"
   ]
  },
  {
   "cell_type": "code",
   "execution_count": 30,
   "metadata": {},
   "outputs": [
    {
     "name": "stdout",
     "output_type": "stream",
     "text": [
      "Case 1 - Dominoes: [[1, 2], [2, 1], [3, 4], [5, 6]], Output: 1, Expected: 1, Status: PASSED\n",
      "Case 2 - Dominoes: [[1, 2], [1, 2], [1, 1], [1, 2], [2, 2]], Output: 3, Expected: 3, Status: PASSED\n"
     ]
    }
   ],
   "source": [
    "solution = Solution()\n",
    "\n",
    "def run_test_case(case_number, input_dominoes, expected):\n",
    "    result = solution.numEquivDominoPairs(input_dominoes)\n",
    "    status = \"PASSED\" if result == expected else \"FAILED\"\n",
    "    print(f\"Case {case_number} - Dominoes: {input_dominoes}, Output: {result}, Expected: {expected}, Status: {status}\")\n",
    "\n",
    "test_cases = [\n",
    "    (1, [[1,2],[2,1],[3,4],[5,6]], 1),\n",
    "    (2, [[1,2],[1,2],[1,1],[1,2],[2,2]], 3)\n",
    "]\n",
    "\n",
    "for case_number, input_dominoes, expected in test_cases:\n",
    "    run_test_case(case_number, input_dominoes, expected)"
   ]
  }
 ],
 "metadata": {
  "kernelspec": {
   "display_name": "Python 3",
   "language": "python",
   "name": "python3"
  },
  "language_info": {
   "codemirror_mode": {
    "name": "ipython",
    "version": 3
   },
   "file_extension": ".py",
   "mimetype": "text/x-python",
   "name": "python",
   "nbconvert_exporter": "python",
   "pygments_lexer": "ipython3",
   "version": "3.10.12"
  }
 },
 "nbformat": 4,
 "nbformat_minor": 2
}
