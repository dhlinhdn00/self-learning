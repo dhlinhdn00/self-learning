{
 "cells": [
  {
   "cell_type": "markdown",
   "metadata": {},
   "source": [
    "# **SOLUTION**"
   ]
  },
  {
   "cell_type": "code",
   "execution_count": 3,
   "metadata": {},
   "outputs": [],
   "source": [
    "class Solution(object):\n",
    "    def numEquivDominoPairs(self, dominoes):\n",
    "        \"\"\"\n",
    "        :type dominoes: List[List[int]]\n",
    "        :rtype: int\n",
    "        \"\"\"\n",
    "        return self.solverNaive(dominoes)\n",
    "    \n",
    "    def solverNaive(self, dominoes):\n",
    "        pass"
   ]
  },
  {
   "cell_type": "markdown",
   "metadata": {},
   "source": [
    "# **DRAFT**"
   ]
  },
  {
   "cell_type": "markdown",
   "metadata": {},
   "source": [
    "# **TESTCASES**"
   ]
  },
  {
   "cell_type": "code",
   "execution_count": 4,
   "metadata": {},
   "outputs": [
    {
     "name": "stdout",
     "output_type": "stream",
     "text": [
      "Case 1 - Dominoes: [[1, 2], [2, 1], [3, 4], [5, 6]], Output: None, Expected: 1, Status: FAILED\n",
      "Case 2 - Dominoes: [[1, 2], [1, 2], [1, 1], [1, 2], [2, 2]], Output: None, Expected: 3, Status: FAILED\n"
     ]
    }
   ],
   "source": [
    "solution = Solution()\n",
    "\n",
    "def run_test_case(case_number, input_dominoes, expected):\n",
    "    result = solution.numEquivDominoPairs(input_dominoes)\n",
    "    status = \"PASSED\" if result == expected else \"FAILED\"\n",
    "    print(f\"Case {case_number} - Dominoes: {input_dominoes}, Output: {result}, Expected: {expected}, Status: {status}\")\n",
    "\n",
    "test_cases = [\n",
    "    (1, [[1,2],[2,1],[3,4],[5,6]], 1),\n",
    "    (2, [[1,2],[1,2],[1,1],[1,2],[2,2]], 3)\n",
    "]\n",
    "\n",
    "for case_number, input_dominoes, expected in test_cases:\n",
    "    run_test_case(case_number, input_dominoes, expected)"
   ]
  }
 ],
 "metadata": {
  "kernelspec": {
   "display_name": "Python 3",
   "language": "python",
   "name": "python3"
  },
  "language_info": {
   "codemirror_mode": {
    "name": "ipython",
    "version": 3
   },
   "file_extension": ".py",
   "mimetype": "text/x-python",
   "name": "python",
   "nbconvert_exporter": "python",
   "pygments_lexer": "ipython3",
   "version": "3.10.12"
  }
 },
 "nbformat": 4,
 "nbformat_minor": 2
}
