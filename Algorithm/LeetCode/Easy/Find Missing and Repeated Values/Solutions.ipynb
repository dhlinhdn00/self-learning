{
 "cells": [
  {
   "cell_type": "markdown",
   "metadata": {},
   "source": [
    "# **SOLUTION**"
   ]
  },
  {
   "cell_type": "code",
   "execution_count": 11,
   "metadata": {},
   "outputs": [],
   "source": [
    "from collections import Counter"
   ]
  },
  {
   "cell_type": "code",
   "execution_count": 15,
   "metadata": {},
   "outputs": [],
   "source": [
    "class Solution(object):\n",
    "    def findMissingAndRepeatedValues(self, grid):\n",
    "        \"\"\"\n",
    "        :type grid: List[List[int]]\n",
    "        :rtype: List[int]\n",
    "        \"\"\"\n",
    "        return self.solverMath(grid)\n",
    "\n",
    "    def solverCounter(self, grid):\n",
    "        n = len(grid)\n",
    "        tmp = sum(grid, []) + list(range(1, n * n + 1))\n",
    "        count = Counter(tmp)\n",
    "        # count = self.myCounter(tmp)\n",
    "        repeated = [key for key, value in count.items() if value > 2]\n",
    "        missing = [key for key, value in count.items() if value < 2]\n",
    "        return repeated + missing\n",
    "\n",
    "    def myCounter(self, arr):\n",
    "        freq = {}\n",
    "        for num in arr:\n",
    "            freq[num] = freq.get(num, 0) + 1\n",
    "        return freq\n",
    "\n",
    "    def solverMath(self, grid):\n",
    "        \"\"\"\n",
    "        :idea: we know the result has only 2 numbers: a missing and a repeated\n",
    "        Ideal: Sum of 1->n^2: S=n^2*(n^2+1)/2\n",
    "               Sum of squares 1->n^2: S2=n^2*(n^2+1)(2n^2+1)/6\n",
    "        Reality: Sum of Grid: Sgrid\n",
    "                 Sum of squares of Grid: Sgrid2\n",
    "        deltaS = Sgrid - S = repeated - mising\n",
    "        deltaS2 = Sgrid2 - S2 = repeated^2 - missing^2\n",
    "        We have 2 equations for two variables missing and repeated. The form of a + b = ... and a - b = ... (so easy).\n",
    "        \"\"\"\n",
    "        n = len(grid)\n",
    "        n2 = n * n  # Total numbers in the grid (1 to n^2)\n",
    "\n",
    "        # Compute expected sum and sum of squares for numbers 1 to n^2\n",
    "        S = n2 * (n2 + 1) // 2\n",
    "        S2 = n2 * (n2 + 1) * (2 * n2 + 1) // 6\n",
    "\n",
    "        # Compute actual sum and sum of squares from the grid\n",
    "        S_grid = 0\n",
    "        S2_grid = 0\n",
    "\n",
    "        for row in grid:\n",
    "            for num in row:\n",
    "                S_grid += num\n",
    "                S2_grid += num * num\n",
    "\n",
    "        # Calculate the differences\n",
    "        delta_S = S_grid - S  # (a - b)\n",
    "        delta_S2 = S2_grid - S2  # (a^2 - b^2)\n",
    "\n",
    "        # Find (a + b)\n",
    "        sum_ab = delta_S2 // delta_S\n",
    "\n",
    "        # Solve for a and b\n",
    "        a = (sum_ab + delta_S) // 2\n",
    "        b = sum_ab - a\n",
    "\n",
    "        return [a, b]"
   ]
  },
  {
   "cell_type": "markdown",
   "metadata": {},
   "source": [
    "# **DRAFT**"
   ]
  },
  {
   "cell_type": "markdown",
   "metadata": {},
   "source": [
    "**Test**"
   ]
  },
  {
   "cell_type": "code",
   "execution_count": 14,
   "metadata": {},
   "outputs": [
    {
     "name": "stdout",
     "output_type": "stream",
     "text": [
      "Tmp: [9, 1, 7, 8, 9, 2, 3, 4, 6, 1, 2, 3, 4, 5, 6, 7, 8, 9]\n",
      "Counter({9: 3, 1: 2, 7: 2, 8: 2, 2: 2, 3: 2, 4: 2, 6: 2, 5: 1})\n"
     ]
    },
    {
     "data": {
      "text/plain": [
       "[9, 5]"
      ]
     },
     "execution_count": 14,
     "metadata": {},
     "output_type": "execute_result"
    }
   ],
   "source": [
    "grid = [[9,1,7],[8,9,2],[3,4,6]]\n",
    "\n",
    "test_sol = Solution()\n",
    "test_sol.findMissingAndRepeatedValues(grid)"
   ]
  },
  {
   "cell_type": "code",
   "execution_count": 37,
   "metadata": {},
   "outputs": [
    {
     "data": {
      "text/plain": [
       "[1, 3, 2, 2, 1, 2, 3, 4]"
      ]
     },
     "execution_count": 37,
     "metadata": {},
     "output_type": "execute_result"
    }
   ],
   "source": [
    "grid = [[1,3],[2,2]]\n",
    "n = len(grid)\n",
    "\n",
    "tmp = sum(grid, []) + list(range(1, n * n + 1))\n",
    "tmp"
   ]
  },
  {
   "cell_type": "code",
   "execution_count": 39,
   "metadata": {},
   "outputs": [
    {
     "data": {
      "text/plain": [
       "Counter({2: 3, 1: 2, 3: 2, 4: 1})"
      ]
     },
     "execution_count": 39,
     "metadata": {},
     "output_type": "execute_result"
    }
   ],
   "source": [
    "count = Counter(tmp)\n",
    "count"
   ]
  },
  {
   "cell_type": "code",
   "execution_count": 41,
   "metadata": {},
   "outputs": [
    {
     "data": {
      "text/plain": [
       "[2, 4]"
      ]
     },
     "execution_count": 41,
     "metadata": {},
     "output_type": "execute_result"
    }
   ],
   "source": [
    "result = [key for key, value in count.items() if value != 2]\n",
    "result"
   ]
  },
  {
   "cell_type": "markdown",
   "metadata": {},
   "source": [
    "**Get size of matrix**"
   ]
  },
  {
   "cell_type": "code",
   "execution_count": 22,
   "metadata": {},
   "outputs": [
    {
     "data": {
      "text/plain": [
       "[[1, 3], [2, 2]]"
      ]
     },
     "execution_count": 22,
     "metadata": {},
     "output_type": "execute_result"
    }
   ],
   "source": [
    "grid = [[1,3],[2,2]]\n",
    "grid"
   ]
  },
  {
   "cell_type": "code",
   "execution_count": 24,
   "metadata": {},
   "outputs": [
    {
     "data": {
      "text/plain": [
       "(2, 2)"
      ]
     },
     "execution_count": 24,
     "metadata": {},
     "output_type": "execute_result"
    }
   ],
   "source": [
    "rows = len(grid)\n",
    "cols = len(grid[0])\n",
    "rows, cols"
   ]
  },
  {
   "cell_type": "code",
   "execution_count": 30,
   "metadata": {},
   "outputs": [
    {
     "data": {
      "text/plain": [
       "4"
      ]
     },
     "execution_count": 30,
     "metadata": {},
     "output_type": "execute_result"
    }
   ],
   "source": [
    "total = sum(len(row) for row in grid)\n",
    "total"
   ]
  },
  {
   "cell_type": "code",
   "execution_count": 26,
   "metadata": {},
   "outputs": [],
   "source": [
    "import numpy as np\n",
    "np_grid = np.array(grid)"
   ]
  },
  {
   "cell_type": "code",
   "execution_count": 27,
   "metadata": {},
   "outputs": [
    {
     "data": {
      "text/plain": [
       "2"
      ]
     },
     "execution_count": 27,
     "metadata": {},
     "output_type": "execute_result"
    }
   ],
   "source": [
    "# Show dim (e.g. nD -> show n)\n",
    "dim = np_grid.ndim\n",
    "dim"
   ]
  },
  {
   "cell_type": "code",
   "execution_count": 28,
   "metadata": {},
   "outputs": [
    {
     "data": {
      "text/plain": [
       "(2, 2)"
      ]
     },
     "execution_count": 28,
     "metadata": {},
     "output_type": "execute_result"
    }
   ],
   "source": [
    "# Show shape (rows, cols)\n",
    "shape = np_grid.shape\n",
    "shape"
   ]
  },
  {
   "cell_type": "code",
   "execution_count": 29,
   "metadata": {},
   "outputs": [
    {
     "data": {
      "text/plain": [
       "4"
      ]
     },
     "execution_count": 29,
     "metadata": {},
     "output_type": "execute_result"
    }
   ],
   "source": [
    "# Show size (number of elements)\n",
    "size = np_grid.size\n",
    "size"
   ]
  },
  {
   "cell_type": "markdown",
   "metadata": {},
   "source": [
    "**Convert a matrix to a vector**"
   ]
  },
  {
   "cell_type": "code",
   "execution_count": 31,
   "metadata": {},
   "outputs": [
    {
     "data": {
      "text/plain": [
       "[[1, 3], [2, 2]]"
      ]
     },
     "execution_count": 31,
     "metadata": {},
     "output_type": "execute_result"
    }
   ],
   "source": [
    "grid = [[1,3],[2,2]]\n",
    "grid"
   ]
  },
  {
   "cell_type": "code",
   "execution_count": 32,
   "metadata": {},
   "outputs": [],
   "source": []
  },
  {
   "cell_type": "code",
   "execution_count": null,
   "metadata": {},
   "outputs": [],
   "source": [
    "# Way 1\n",
    "vector = sum(grid, [])\n",
    "vector"
   ]
  },
  {
   "cell_type": "code",
   "execution_count": 3,
   "metadata": {},
   "outputs": [
    {
     "data": {
      "text/plain": [
       "array([1, 3, 2, 2])"
      ]
     },
     "execution_count": 3,
     "metadata": {},
     "output_type": "execute_result"
    }
   ],
   "source": [
    "# Way 2\n",
    "import numpy as np\n",
    "\n",
    "np_grid = np.array(grid)\n",
    "\n",
    "np_vector = np_grid.flatten()\n",
    "np_vector"
   ]
  },
  {
   "cell_type": "code",
   "execution_count": 6,
   "metadata": {},
   "outputs": [
    {
     "data": {
      "text/plain": [
       "[1, 3, 2, 2]"
      ]
     },
     "execution_count": 6,
     "metadata": {},
     "output_type": "execute_result"
    }
   ],
   "source": [
    "vector = np_vector.tolist()\n",
    "vector"
   ]
  },
  {
   "cell_type": "code",
   "execution_count": 8,
   "metadata": {},
   "outputs": [
    {
     "data": {
      "text/plain": [
       "[1, 3, 2, 2]"
      ]
     },
     "execution_count": 8,
     "metadata": {},
     "output_type": "execute_result"
    }
   ],
   "source": [
    "# Way 3\n",
    "\n",
    "vector = []\n",
    "for row in grid:\n",
    "    for element in row:\n",
    "        vector.append(element)\n",
    "vector"
   ]
  },
  {
   "cell_type": "code",
   "execution_count": 9,
   "metadata": {},
   "outputs": [
    {
     "data": {
      "text/plain": [
       "[1, 3, 2, 2]"
      ]
     },
     "execution_count": 9,
     "metadata": {},
     "output_type": "execute_result"
    }
   ],
   "source": [
    "# Way 3 - List Comprehension\n",
    "\n",
    "vector = [element for row in grid for element in row]\n",
    "vector"
   ]
  },
  {
   "cell_type": "markdown",
   "metadata": {},
   "source": [
    "**Create a List from 1 to n**"
   ]
  },
  {
   "cell_type": "code",
   "execution_count": 11,
   "metadata": {},
   "outputs": [],
   "source": [
    "n = 15"
   ]
  },
  {
   "cell_type": "code",
   "execution_count": 12,
   "metadata": {},
   "outputs": [
    {
     "data": {
      "text/plain": [
       "[1, 2, 3, 4, 5, 6, 7, 8, 9, 10, 11, 12, 13, 14, 15]"
      ]
     },
     "execution_count": 12,
     "metadata": {},
     "output_type": "execute_result"
    }
   ],
   "source": [
    "# Way 1 - range()\n",
    "lst = list(range(1, n + 1))\n",
    "lst"
   ]
  },
  {
   "cell_type": "code",
   "execution_count": 14,
   "metadata": {},
   "outputs": [
    {
     "data": {
      "text/plain": [
       "[1, 2, 3, 4, 5, 6, 7, 8, 9, 10, 11, 12, 13, 14, 15]"
      ]
     },
     "execution_count": 14,
     "metadata": {},
     "output_type": "execute_result"
    }
   ],
   "source": [
    "# Way 2 - loop\n",
    "lst = []\n",
    "for i in range(1, n + 1):\n",
    "    lst.append(i)\n",
    "\n",
    "lst"
   ]
  },
  {
   "cell_type": "code",
   "execution_count": 15,
   "metadata": {},
   "outputs": [
    {
     "data": {
      "text/plain": [
       "[1, 2, 3, 4, 5, 6, 7, 8, 9, 10, 11, 12, 13, 14, 15]"
      ]
     },
     "execution_count": 15,
     "metadata": {},
     "output_type": "execute_result"
    }
   ],
   "source": [
    "# Way 2 - loop - List Comprehension\n",
    "lst = [i for i in range(1, n + 1)]\n",
    "lst"
   ]
  },
  {
   "cell_type": "code",
   "execution_count": 20,
   "metadata": {},
   "outputs": [
    {
     "data": {
      "text/plain": [
       "[1, 2, 3, 4, 5, 6, 7, 8, 9, 10, 11, 12, 13, 14, 15]"
      ]
     },
     "execution_count": 20,
     "metadata": {},
     "output_type": "execute_result"
    }
   ],
   "source": [
    "# Way 2 - loop - while\n",
    "lst = []\n",
    "i = 1\n",
    "while i <= n:\n",
    "    lst.append(i)\n",
    "    i += 1\n",
    "lst"
   ]
  },
  {
   "cell_type": "code",
   "execution_count": 19,
   "metadata": {},
   "outputs": [
    {
     "data": {
      "text/plain": [
       "[1, 2, 3, 4, 5, 6, 7, 8, 9, 10, 11, 12, 13, 14, 15]"
      ]
     },
     "execution_count": 19,
     "metadata": {},
     "output_type": "execute_result"
    }
   ],
   "source": [
    "# Way 3 - np.arrange func\n",
    "import numpy as np\n",
    "\n",
    "lst = np.arange(1, n + 1).tolist()\n",
    "lst"
   ]
  },
  {
   "cell_type": "markdown",
   "metadata": {},
   "source": [
    "# **TESTCASES**"
   ]
  },
  {
   "cell_type": "code",
   "execution_count": 16,
   "metadata": {},
   "outputs": [
    {
     "name": "stdout",
     "output_type": "stream",
     "text": [
      "Case 1 - Grid: [[1, 3], [2, 2]], Output: [2, 4], Expected: [2, 4], Status: PASSED\n",
      "Case 2 - Grid: [[9, 1, 7], [8, 9, 2], [3, 4, 6]], Output: [9, 5], Expected: [9, 5], Status: PASSED\n"
     ]
    }
   ],
   "source": [
    "solution = Solution()\n",
    "\n",
    "def run_test_case(case_number, input_grid, expected):\n",
    "    result = solution.findMissingAndRepeatedValues(input_grid)\n",
    "    status = \"PASSED\" if result == expected else \"FAILED\"\n",
    "    print(f\"Case {case_number} - Grid: {input_grid}, Output: {result}, Expected: {expected}, Status: {status}\")\n",
    "\n",
    "test_cases = [\n",
    "    (1, [[1,3],[2,2]], [2,4]),\n",
    "    (2, [[9,1,7],[8,9,2],[3,4,6]], [9, 5])\n",
    "]\n",
    "\n",
    "for case_number, input_grid, expected in test_cases:\n",
    "    run_test_case(case_number, input_grid, expected)"
   ]
  }
 ],
 "metadata": {
  "kernelspec": {
   "display_name": "base",
   "language": "python",
   "name": "python3"
  },
  "language_info": {
   "codemirror_mode": {
    "name": "ipython",
    "version": 3
   },
   "file_extension": ".py",
   "mimetype": "text/x-python",
   "name": "python",
   "nbconvert_exporter": "python",
   "pygments_lexer": "ipython3",
   "version": "3.10.12"
  }
 },
 "nbformat": 4,
 "nbformat_minor": 2
}
