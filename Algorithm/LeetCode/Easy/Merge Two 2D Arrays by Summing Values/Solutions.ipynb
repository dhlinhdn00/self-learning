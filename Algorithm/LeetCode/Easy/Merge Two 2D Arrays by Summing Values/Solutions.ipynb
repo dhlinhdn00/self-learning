{
 "cells": [
  {
   "cell_type": "markdown",
   "metadata": {},
   "source": [
    "# **SOLUTION**"
   ]
  },
  {
   "cell_type": "code",
   "execution_count": 26,
   "metadata": {},
   "outputs": [],
   "source": [
    "class Solution(object):\n",
    "    def mergeArrays(self, nums1, nums2):\n",
    "        \"\"\"\n",
    "        :type nums1: List[List[int]]\n",
    "        :type nums2: List[List[int]]\n",
    "        :rtype: List[List[int]]\n",
    "        \"\"\"\n",
    "        return self.solverNaive(nums1, nums2)\n",
    "\n",
    "    def solverNaive(self, nums1, nums2):\n",
    "        nums = sorted(nums1 + nums2)\n",
    "        \n",
    "        ans = []\n",
    "        current_key = None\n",
    "        current_sum = 0\n",
    "\n",
    "        for num in nums:\n",
    "            if num[0] != current_key:\n",
    "                # Save previous key-sum\n",
    "                if current_key != None:\n",
    "                    ans.append([current_key, current_sum])\n",
    "                current_key = num[0]\n",
    "                current_sum = num[1]\n",
    "            else:\n",
    "                current_sum += num[1]\n",
    "        \n",
    "        # Save last key-sum\n",
    "        if current_key != None:\n",
    "            ans.append([current_key, current_sum])\n",
    "        return ans"
   ]
  },
  {
   "cell_type": "markdown",
   "metadata": {},
   "source": [
    "# **DRAFT**"
   ]
  },
  {
   "cell_type": "code",
   "execution_count": 15,
   "metadata": {},
   "outputs": [],
   "source": [
    "nums1 = [[2,4],[3,6],[5,5]]\n",
    "nums2 = [[1,4],[3,2],[4,1]]"
   ]
  },
  {
   "cell_type": "code",
   "execution_count": 19,
   "metadata": {},
   "outputs": [],
   "source": [
    "nums = sorted(nums1 + nums2)"
   ]
  },
  {
   "cell_type": "code",
   "execution_count": 24,
   "metadata": {},
   "outputs": [
    {
     "name": "stdout",
     "output_type": "stream",
     "text": [
      "[[1, 4], [2, 4], [3, 2], [3, 6], [4, 1], [5, 5]]\n"
     ]
    }
   ],
   "source": [
    "print(nums)"
   ]
  },
  {
   "cell_type": "code",
   "execution_count": 25,
   "metadata": {},
   "outputs": [
    {
     "name": "stdout",
     "output_type": "stream",
     "text": [
      "[[1, 4], [2, 4], [3, 8], [4, 1], [5, 5]]\n"
     ]
    }
   ],
   "source": [
    "result = []\n",
    "current_key = None\n",
    "current_sum = 0\n",
    "for num in nums:\n",
    "    if num[0] != current_key:\n",
    "        \n",
    "        #Save previous key-sum\n",
    "        if current_key is not None:\n",
    "            result.append([current_key, current_sum])\n",
    "        current_key = num[0]\n",
    "        current_sum = num[1]\n",
    "    else:\n",
    "        current_sum += num[1]\n",
    "\n",
    "if current_key is not None:\n",
    "    result.append([current_key, current_sum])\n",
    "\n",
    "print(result)"
   ]
  },
  {
   "cell_type": "code",
   "execution_count": 10,
   "metadata": {},
   "outputs": [
    {
     "name": "stdout",
     "output_type": "stream",
     "text": [
      "[[1, 4], [2, 4], [3, 2], [3, 6], [4, 1], [5, 5]]\n"
     ]
    }
   ],
   "source": [
    "print(nums)"
   ]
  },
  {
   "cell_type": "code",
   "execution_count": 3,
   "metadata": {},
   "outputs": [
    {
     "data": {
      "text/plain": [
       "5"
      ]
     },
     "execution_count": 3,
     "metadata": {},
     "output_type": "execute_result"
    }
   ],
   "source": [
    "nums[-1][1]\n"
   ]
  },
  {
   "cell_type": "code",
   "execution_count": 5,
   "metadata": {},
   "outputs": [
    {
     "name": "stdout",
     "output_type": "stream",
     "text": [
      "1\n",
      "2\n",
      "3\n",
      "4\n"
     ]
    }
   ],
   "source": [
    "for i in range(1, 5):\n",
    "    print(i)"
   ]
  },
  {
   "cell_type": "markdown",
   "metadata": {},
   "source": [
    "# **TESTCASES**"
   ]
  },
  {
   "cell_type": "code",
   "execution_count": 28,
   "metadata": {},
   "outputs": [
    {
     "name": "stdout",
     "output_type": "stream",
     "text": [
      "Case 1 - Nums1: [[1, 2], [2, 3], [4, 5]], Nums2: [[1, 4], [3, 2], [4, 1]] Output: [[1, 6], [2, 3], [3, 2], [4, 6]], Expected: [[1, 6], [2, 3], [3, 2], [4, 6]], Status: PASSED\n",
      "Case 2 - Nums1: [[2, 4], [3, 6], [5, 5]], Nums2: [[1, 3], [4, 3]] Output: [[1, 3], [2, 4], [3, 6], [4, 3], [5, 5]], Expected: [[1, 3], [2, 4], [3, 6], [4, 3], [5, 5]], Status: PASSED\n"
     ]
    }
   ],
   "source": [
    "solution = Solution()\n",
    "\n",
    "def run_test_case(case_number, input_nums1, input_nums2, expected):\n",
    "    result = solution.mergeArrays(input_nums1, input_nums2)\n",
    "    status = \"PASSED\" if result == expected else \"FAILED\"\n",
    "    print(f\"Case {case_number} - Nums1: {input_nums1}, Nums2: {input_nums2} Output: {result}, Expected: {expected}, Status: {status}\")\n",
    "\n",
    "test_cases = [\n",
    "    (1, [[1,2],[2,3],[4,5]], [[1,4],[3,2],[4,1]], [[1,6],[2,3],[3,2],[4,6]]),\n",
    "    (2, [[2,4],[3,6],[5,5]], [[1,3],[4,3]], [[1,3],[2,4],[3,6],[4,3],[5,5]])\n",
    "]\n",
    "\n",
    "for case_number, input_nums1, input_nums2, expected in test_cases:\n",
    "    run_test_case(case_number, input_nums1, input_nums2, expected)"
   ]
  }
 ],
 "metadata": {
  "kernelspec": {
   "display_name": "base",
   "language": "python",
   "name": "python3"
  },
  "language_info": {
   "codemirror_mode": {
    "name": "ipython",
    "version": 3
   },
   "file_extension": ".py",
   "mimetype": "text/x-python",
   "name": "python",
   "nbconvert_exporter": "python",
   "pygments_lexer": "ipython3",
   "version": "3.10.12"
  }
 },
 "nbformat": 4,
 "nbformat_minor": 2
}
