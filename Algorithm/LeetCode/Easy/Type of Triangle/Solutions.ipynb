{
 "cells": [
  {
   "cell_type": "markdown",
   "metadata": {},
   "source": [
    "# **SOLUTION**"
   ]
  },
  {
   "cell_type": "code",
   "execution_count": null,
   "metadata": {},
   "outputs": [],
   "source": [
    "class Solution(object):\n",
    "    def triangleType(self, nums):\n",
    "        \"\"\"\n",
    "        :type nums: List[int]\n",
    "        :rtype: str\n",
    "        \"\"\"\n",
    "        return self.solverNaive(nums)\n",
    "\n",
    "    def solverNaive(self, nums):\n",
    "        nums.sort()\n",
    "        x, y, z = nums[0], nums[1], nums[2]\n",
    "\n",
    "        if x == y == z:\n",
    "            return \"equilateral\"\n",
    "        elif z < x + y:\n",
    "            if x == y or y == z or z == x:\n",
    "                return \"isosceles\"\n",
    "            else:\n",
    "                return \"scalene\"\n",
    "        return \"none\"\n",
    "    \n"
   ]
  },
  {
   "cell_type": "markdown",
   "metadata": {},
   "source": [
    "# **DRAFT**"
   ]
  },
  {
   "cell_type": "markdown",
   "metadata": {},
   "source": [
    "# **TESTCASES**"
   ]
  },
  {
   "cell_type": "code",
   "execution_count": 2,
   "metadata": {},
   "outputs": [
    {
     "name": "stdout",
     "output_type": "stream",
     "text": [
      "Case 1 - nums: [3, 3, 3], Output: equilateral, Expected: equilateral, Status: PASSED\n",
      "Case 2 - nums: [3, 4, 5], Output: scalene, Expected: scalene, Status: PASSED\n"
     ]
    }
   ],
   "source": [
    "solution = Solution()\n",
    "\n",
    "def run_test_case(case_number, input_nums, expected):\n",
    "    result = solution.triangleType(input_nums)\n",
    "    status = \"PASSED\" if result == expected else \"FAILED\"\n",
    "    print(f\"Case {case_number} - nums: {input_nums}, Output: {result}, Expected: {expected}, Status: {status}\")\n",
    "\n",
    "test_cases = [\n",
    "    (1, [3,3,3], \"equilateral\"),\n",
    "    (2, [3,4,5], \"scalene\")\n",
    "]\n",
    "\n",
    "for case_number, input_nums, expected in test_cases:\n",
    "    run_test_case(case_number, input_nums, expected)"
   ]
  }
 ],
 "metadata": {
  "kernelspec": {
   "display_name": "base",
   "language": "python",
   "name": "python3"
  },
  "language_info": {
   "codemirror_mode": {
    "name": "ipython",
    "version": 3
   },
   "file_extension": ".py",
   "mimetype": "text/x-python",
   "name": "python",
   "nbconvert_exporter": "python",
   "pygments_lexer": "ipython3",
   "version": "3.11.5"
  }
 },
 "nbformat": 4,
 "nbformat_minor": 2
}
