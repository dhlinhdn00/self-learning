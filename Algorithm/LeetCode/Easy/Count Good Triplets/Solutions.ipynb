{
 "cells": [
  {
   "cell_type": "markdown",
   "metadata": {},
   "source": [
    "# **SOLUTION**"
   ]
  },
  {
   "cell_type": "code",
   "execution_count": 1,
   "metadata": {},
   "outputs": [],
   "source": [
    "class Solution(object):\n",
    "    def countGoodTriplets(self, arr, a, b, c):\n",
    "        \"\"\"\n",
    "        :type arr: List[int]\n",
    "        :type a: int\n",
    "        :type b: int\n",
    "        :type c: int\n",
    "        :rtype: int\n",
    "        \"\"\"\n",
    "        return self.solverBucket(arr, a, b, c)\n",
    "\n",
    "    def solverNaive(self, arr, a, b, c):\n",
    "        \"\"\"\n",
    "        :cost: 218ms | 12.56MB\n",
    "        \"\"\"\n",
    "        count = 0\n",
    "        n = len(arr)\n",
    "        for i in range(n):\n",
    "            for j in range(i + 1, n):\n",
    "                if abs(arr[i] - arr[j]) <= a:\n",
    "                    for k in range(j + 1, n):\n",
    "                        if abs(arr[j] - arr[k]) <= b and abs(arr[k] - arr[i]) <= c:\n",
    "                            count += 1\n",
    "        return count\n",
    "    \n",
    "    def solverNaiveImproved(self, arr, a, b, c):\n",
    "        \"\"\"\n",
    "        :cost: 212ms | 12.48MB\n",
    "        \"\"\"\n",
    "        count = 0\n",
    "        n = len(arr)\n",
    "        for i in range(n):\n",
    "            for j in range(i + 1, n):\n",
    "                if abs(arr[i] - arr[j]) > a :\n",
    "                    continue\n",
    "                for k in range(j + 1, n):\n",
    "                    if abs(arr[j] - arr[k]) <= b and abs(arr[k] - arr[i]) <= c:\n",
    "                        count += 1\n",
    "        return count\n",
    "\n",
    "    def solverBucket(self, arr, a, b, c):\n",
    "        \"\"\"\n",
    "        :idea: using bucket\n",
    "        :cost: 134ms | 12.37MB\n",
    "        \"\"\"\n",
    "        n = len(arr)\n",
    "        count = 0\n",
    "        for j in range(1, n - 1):\n",
    "            left_dict = {}\n",
    "            right_dict = {}\n",
    "            \n",
    "            for i in range(j):\n",
    "                if abs(arr[i] - arr[j]) <= a:\n",
    "                    left_dict[arr[i]] = left_dict.get(arr[i], 0) + 1\n",
    "                    \n",
    "            for k in range(j + 1, n):\n",
    "                if abs(arr[k] - arr[j]) <= b:\n",
    "                    right_dict[arr[k]] = right_dict.get(arr[k], 0) + 1\n",
    "                    \n",
    "            for left_val, left_count in left_dict.items():\n",
    "                for right_val, right_count in right_dict.items():\n",
    "                    if abs(left_val - right_val) <= c:\n",
    "                        count += left_count * right_count\n",
    "        return count\n",
    "\n",
    "\n",
    "        "
   ]
  },
  {
   "cell_type": "markdown",
   "metadata": {},
   "source": [
    "# **DRAFT**"
   ]
  },
  {
   "cell_type": "markdown",
   "metadata": {},
   "source": [
    "# **TESTCASES**"
   ]
  },
  {
   "cell_type": "code",
   "execution_count": null,
   "metadata": {},
   "outputs": [
    {
     "name": "stdout",
     "output_type": "stream",
     "text": [
      "Case 1 - Nums: [3, 0, 1, 1, 9, 7], Output: 4, Expected: 4, Status: PASSED\n",
      "Case 2 - Nums: [1, 1, 2, 2, 3], Output: 0, Expected: 0, Status: PASSED\n"
     ]
    }
   ],
   "source": [
    "solution = Solution()\n",
    "\n",
    "def run_test_case(case_number, input_arr, a, b, c, expected):\n",
    "    result = solution.countGoodTriplets(input_arr, a, b, c)\n",
    "    status = \"PASSED\" if result == expected else \"FAILED\"\n",
    "    print(f\"Case {case_number} - Nums: {input_arr}, a: {a}, b: {b}, c:  Output: {result}, Expected: {expected}, Status: {status}\")\n",
    "\n",
    "test_cases = [\n",
    "    (1, [3,0,1,1,9,7], 7, 2, 3, 4),\n",
    "    (2, [1,1,2,2,3], 0, 0, 1, 0)\n",
    "]\n",
    "\n",
    "for case_number, input_arr, a, b, c, expected in test_cases:\n",
    "    run_test_case(case_number, input_arr, a, b, c, expected)"
   ]
  }
 ],
 "metadata": {
  "kernelspec": {
   "display_name": "Python 3",
   "language": "python",
   "name": "python3"
  },
  "language_info": {
   "codemirror_mode": {
    "name": "ipython",
    "version": 3
   },
   "file_extension": ".py",
   "mimetype": "text/x-python",
   "name": "python",
   "nbconvert_exporter": "python",
   "pygments_lexer": "ipython3",
   "version": "3.10.12"
  }
 },
 "nbformat": 4,
 "nbformat_minor": 2
}
