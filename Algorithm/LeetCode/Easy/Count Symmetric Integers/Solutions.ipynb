{
 "cells": [
  {
   "cell_type": "markdown",
   "metadata": {},
   "source": [
    "# **SOLUTION**"
   ]
  },
  {
   "cell_type": "code",
   "execution_count": 40,
   "metadata": {},
   "outputs": [],
   "source": [
    "class Solution(object):\n",
    "    def countSymmetricIntegers(self, low, high):\n",
    "        \"\"\"\n",
    "        :type low: int\n",
    "        :type high: int\n",
    "        :rtype: int\n",
    "        \"\"\"\n",
    "        return self.solverNaive(low, high)\n",
    "    \n",
    "    def solverNaive(self, low, high):\n",
    "        def num2arr(num):\n",
    "            arr = []\n",
    "            while num > 0:\n",
    "                arr.append(num % 10)\n",
    "                num //= 10\n",
    "            return arr\n",
    "        count = 0\n",
    "        for i in range(low, high + 1):\n",
    "            if len(str(i)) % 2 == 0:\n",
    "                n = num2arr(i)\n",
    "                # print(n[:len(n)//2+1])\n",
    "                # print(n[len(n)//2:])\n",
    "                # print(\"\\n\")\n",
    "                if sum(n[:len(n)//2]) == sum(n[len(n)//2:]):\n",
    "                    count +=1\n",
    "        return count\n"
   ]
  },
  {
   "cell_type": "markdown",
   "metadata": {},
   "source": [
    "# **DRAFT**"
   ]
  },
  {
   "cell_type": "code",
   "execution_count": 41,
   "metadata": {},
   "outputs": [
    {
     "name": "stdout",
     "output_type": "stream",
     "text": [
      "[1, 2]\n",
      "[0, 1]\n"
     ]
    }
   ],
   "source": [
    "n = 1021\n",
    "def num2arr(num):\n",
    "    arr = []\n",
    "    while num > 0:\n",
    "        arr.append(num % 10)\n",
    "        num //= 10\n",
    "    return arr\n",
    "\n",
    "a = num2arr(n)\n",
    "print(a[:len(a)//2])\n",
    "print(a[len(a)//2:])\n"
   ]
  },
  {
   "cell_type": "markdown",
   "metadata": {},
   "source": [
    "# **TESTCASES**"
   ]
  },
  {
   "cell_type": "code",
   "execution_count": null,
   "metadata": {},
   "outputs": [
    {
     "name": "stdout",
     "output_type": "stream",
     "text": [
      "Case 1 - Low: 1, High: 100, Output: 9, Expected: 9, Status: PASSED\n",
      "Case 2 - Low: 1200, High: 1230, Output: 4, Expected: 4, Status: PASSED\n"
     ]
    }
   ],
   "source": [
    "solution = Solution()\n",
    "\n",
    "def run_test_case(case_number, input_low, input_high, expected):\n",
    "    result = solution.countSymmetricIntegers(input_low, input_high)\n",
    "    status = \"PASSED\" if result == expected else \"FAILED\"\n",
    "    print(f\"Case {case_number} - Low: {input_low}, High: {input_high}, Output: {result}, Expected: {expected}, Status: {status}\")\n",
    "\n",
    "test_cases = [\n",
    "    (1, 1, 100, 9),\n",
    "    (2, 1200, 1230, 4),\n",
    "    ]\n",
    "\n",
    "for case_number, input_low, input_high, expected in test_cases:\n",
    "    run_test_case(case_number, input_low, input_high, expected)"
   ]
  }
 ],
 "metadata": {
  "kernelspec": {
   "display_name": "Python 3",
   "language": "python",
   "name": "python3"
  },
  "language_info": {
   "codemirror_mode": {
    "name": "ipython",
    "version": 3
   },
   "file_extension": ".py",
   "mimetype": "text/x-python",
   "name": "python",
   "nbconvert_exporter": "python",
   "pygments_lexer": "ipython3",
   "version": "3.10.12"
  }
 },
 "nbformat": 4,
 "nbformat_minor": 2
}
