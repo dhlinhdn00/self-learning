{
 "cells": [
  {
   "cell_type": "markdown",
   "metadata": {},
   "source": [
    "# **SOLUTION**"
   ]
  },
  {
   "cell_type": "code",
   "execution_count": null,
   "metadata": {},
   "outputs": [],
   "source": [
    "class Solution(object):\n",
    "    def numRabbits(self, answers):\n",
    "        \"\"\"\n",
    "        :type answers: List[int]\n",
    "        :rtype: int\n",
    "        \"\"\"\n",
    "        return self.solverNaive(answers)\n",
    "    def solverNaive(self, answers):\n",
    "        \"\"\"\n",
    "        :cost: 0ms | 12.50MB\n",
    "        \"\"\"\n",
    "        n_dict = {}\n",
    "        for answer in answers:\n",
    "            if answer not in n_dict:\n",
    "                n_dict[answer] = 1\n",
    "            else:\n",
    "                n_dict[answer] += 1\n",
    "\n",
    "        count = 0\n",
    "\n",
    "        for k, v in n_dict.items():\n",
    "            if k == 0:\n",
    "                count += v\n",
    "            elif v % (k + 1) == 0:\n",
    "                count += v\n",
    "            else:\n",
    "                count += (v//(k + 1) + 1)*(k + 1)\n",
    "        return count"
   ]
  },
  {
   "cell_type": "markdown",
   "metadata": {},
   "source": [
    "# **DRAFT**"
   ]
  },
  {
   "cell_type": "code",
   "execution_count": 46,
   "metadata": {},
   "outputs": [
    {
     "name": "stdout",
     "output_type": "stream",
     "text": [
      "{0: 2, 1: 3}\n"
     ]
    },
    {
     "data": {
      "text/plain": [
       "6"
      ]
     },
     "execution_count": 46,
     "metadata": {},
     "output_type": "execute_result"
    }
   ],
   "source": [
    "nums = [0,0,1,1,1]\n",
    "n_dict = {}\n",
    "for num in nums:\n",
    "    if num not in n_dict:\n",
    "        n_dict[num] = 1\n",
    "    else:\n",
    "        n_dict[num] += 1\n",
    "print(n_dict)\n",
    "\n",
    "count = 0\n",
    "\n",
    "for k, v in n_dict.items():\n",
    "    if k == 0:\n",
    "        count += v\n",
    "    elif v % (k + 1) == 0:\n",
    "        count += v\n",
    "    else:\n",
    "        count += (v//(k + 1) + 1)*(k + 1)\n",
    "\n",
    "\n",
    "\n",
    "count\n"
   ]
  },
  {
   "cell_type": "markdown",
   "metadata": {},
   "source": [
    "# **TESTCASES**"
   ]
  },
  {
   "cell_type": "code",
   "execution_count": 49,
   "metadata": {},
   "outputs": [
    {
     "name": "stdout",
     "output_type": "stream",
     "text": [
      "Case 1 - edges: [1, 1, 2], Output: 5, Expected: 5, Status: PASSED\n",
      "Case 2 - edges: [10, 10, 10], Output: 11, Expected: 11, Status: PASSED\n"
     ]
    }
   ],
   "source": [
    "solution = Solution()\n",
    "\n",
    "def run_test_case(case_number, input_edges, expected):\n",
    "    result = solution.numRabbits(input_edges)\n",
    "    status = \"PASSED\" if result == expected else \"FAILED\"\n",
    "    print(f\"Case {case_number} - edges: {input_edges}, Output: {result}, Expected: {expected}, Status: {status}\")\n",
    "\n",
    "test_cases = [\n",
    "    (1, [1,1,2], 5),\n",
    "    (2, [10,10,10], 11)\n",
    "]\n",
    "\n",
    "for case_number, input_edges, expected in test_cases:\n",
    "    run_test_case(case_number, input_edges, expected)"
   ]
  }
 ],
 "metadata": {
  "kernelspec": {
   "display_name": "Python 3",
   "language": "python",
   "name": "python3"
  },
  "language_info": {
   "codemirror_mode": {
    "name": "ipython",
    "version": 3
   },
   "file_extension": ".py",
   "mimetype": "text/x-python",
   "name": "python",
   "nbconvert_exporter": "python",
   "pygments_lexer": "ipython3",
   "version": "3.10.12"
  }
 },
 "nbformat": 4,
 "nbformat_minor": 2
}
