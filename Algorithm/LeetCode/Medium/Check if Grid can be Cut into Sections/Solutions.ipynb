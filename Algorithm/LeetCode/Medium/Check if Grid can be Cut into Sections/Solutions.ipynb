{
 "cells": [
  {
   "cell_type": "markdown",
   "metadata": {},
   "source": [
    "# **SOLUTION**"
   ]
  },
  {
   "cell_type": "code",
   "execution_count": 26,
   "metadata": {},
   "outputs": [],
   "source": [
    "class Solution(object):\n",
    "    def checkValidCuts(self, n, rectangles):\n",
    "        \"\"\"\n",
    "        :type n: int\n",
    "        :type rectangles: List[List[int]]\n",
    "        :rtype: bool\n",
    "        \"\"\"\n",
    "        return self.solverNaive(n, rectangles)\n",
    "\n",
    "    def solverNaive(self, n, rectangles):\n",
    "        vertical_check = [[rectangle[1], rectangle[3]] for rectangle in rectangles]\n",
    "        horizontal_check = [[rectangle[0], rectangle[2]] for rectangle in rectangles]\n",
    "        vertical_check.sort()\n",
    "        horizontal_check.sort()\n",
    "        check = [horizontal_check, vertical_check]\n",
    "        print(check)\n",
    "        for check_type in check:\n",
    "            merged = [check_type[0]]\n",
    "            # print(merged)\n",
    "            # c_s is current start, c_e is current end\n",
    "            # l_s is last start, l_e is last end\n",
    "            for c_s, c_e in check_type[1:]:\n",
    "                l_s, l_e  = merged[-1]\n",
    "                if c_s < l_e:\n",
    "                    merged[-1] = [l_s, max(l_e, c_e)]\n",
    "                else:\n",
    "                    merged.append([c_s, c_e])\n",
    "            print(merged)\n",
    "            if len(merged) == 3:\n",
    "                return True\n",
    "        return False\n",
    "\n",
    "\n",
    "        "
   ]
  },
  {
   "cell_type": "markdown",
   "metadata": {},
   "source": [
    "# **DRAFT**"
   ]
  },
  {
   "cell_type": "code",
   "execution_count": 27,
   "metadata": {},
   "outputs": [
    {
     "name": "stdout",
     "output_type": "stream",
     "text": [
      "[[[0, 1], [1, 2], [2, 3], [3, 4]], [[0, 4], [0, 4], [0, 4], [0, 4]]]\n",
      "[[0, 1], [1, 2], [2, 3], [3, 4]]\n",
      "[[0, 4]]\n"
     ]
    },
    {
     "data": {
      "text/plain": [
       "False"
      ]
     },
     "execution_count": 27,
     "metadata": {},
     "output_type": "execute_result"
    }
   ],
   "source": [
    "test_sol = Solution()\n",
    "n = 4\n",
    "recs = [[0,0,1,4],[1,0,2,4],[2,0,3,4],[3,0,4,4]]\n",
    "\n",
    "test_sol.checkValidCuts(n, recs)"
   ]
  },
  {
   "cell_type": "markdown",
   "metadata": {},
   "source": [
    "# **TESTCASES**"
   ]
  },
  {
   "cell_type": "code",
   "execution_count": 23,
   "metadata": {},
   "outputs": [
    {
     "name": "stdout",
     "output_type": "stream",
     "text": [
      "[[[0, 2], [0, 4], [1, 5], [3, 5]], [[0, 2], [2, 3], [2, 4], [4, 5]]]\n",
      "[[0, 5]]\n",
      "[[0, 2], [2, 4], [4, 5]]\n",
      "Case 1 - n: 5, rectangles: [[1, 0, 5, 2], [0, 2, 2, 4], [3, 2, 5, 3], [0, 4, 4, 5]], Output: True, Expected: True, Status: PASSED\n",
      "[[[0, 1], [0, 2], [2, 3], [3, 4]], [[0, 1], [0, 3], [0, 4], [2, 3]]]\n",
      "[[0, 2], [2, 3], [3, 4]]\n",
      "Case 2 - n: 4, rectangles: [[0, 0, 1, 1], [2, 0, 3, 4], [0, 2, 2, 3], [3, 0, 4, 3]], Output: True, Expected: True, Status: PASSED\n",
      "[[[0, 2], [1, 3], [2, 3], [3, 4], [3, 4]], [[0, 2], [0, 2], [2, 4], [2, 4], [2, 4]]]\n",
      "[[0, 3], [3, 4]]\n",
      "[[0, 2], [2, 4]]\n",
      "Case 3 - n: 4, rectangles: [[0, 2, 2, 4], [1, 0, 3, 2], [2, 2, 3, 4], [3, 0, 4, 2], [3, 2, 4, 4]], Output: False, Expected: False, Status: PASSED\n"
     ]
    }
   ],
   "source": [
    "solution = Solution()\n",
    "\n",
    "def run_test_case(case_number, input_n, input_rectangles, expected):\n",
    "    result = solution.checkValidCuts(input_n, input_rectangles)\n",
    "    status = \"PASSED\" if result == expected else \"FAILED\"\n",
    "    print(f\"Case {case_number} - n: {input_n}, rectangles: {input_rectangles}, Output: {result}, Expected: {expected}, Status: {status}\")\n",
    "\n",
    "test_cases = [\n",
    "    (1, 5, [[1,0,5,2],[0,2,2,4],[3,2,5,3],[0,4,4,5]], True),\n",
    "    (2, 4, [[0,0,1,1],[2,0,3,4],[0,2,2,3],[3,0,4,3]], True),\n",
    "    (3, 4, [[0,2,2,4],[1,0,3,2],[2,2,3,4],[3,0,4,2],[3,2,4,4]], False)\n",
    "]\n",
    "\n",
    "for case_number, input_n, input_rectangles, expected in test_cases:\n",
    "    run_test_case(case_number, input_n, input_rectangles, expected)"
   ]
  }
 ],
 "metadata": {
  "kernelspec": {
   "display_name": "base",
   "language": "python",
   "name": "python3"
  },
  "language_info": {
   "codemirror_mode": {
    "name": "ipython",
    "version": 3
   },
   "file_extension": ".py",
   "mimetype": "text/x-python",
   "name": "python",
   "nbconvert_exporter": "python",
   "pygments_lexer": "ipython3",
   "version": "3.11.5"
  }
 },
 "nbformat": 4,
 "nbformat_minor": 2
}
