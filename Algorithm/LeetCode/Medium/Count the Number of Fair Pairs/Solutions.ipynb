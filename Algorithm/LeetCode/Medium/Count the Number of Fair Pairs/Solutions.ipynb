{
 "cells": [
  {
   "cell_type": "markdown",
   "metadata": {},
   "source": [
    "# **SOLUTION**"
   ]
  },
  {
   "cell_type": "code",
   "execution_count": null,
   "metadata": {},
   "outputs": [],
   "source": [
    "class Solution(object):\n",
    "    def countFairPairs(self, nums, lower, upper):\n",
    "        \"\"\"\n",
    "        :type nums: List[int]\n",
    "        :type lower: int\n",
    "        :type upper: int\n",
    "        :rtype: int\n",
    "        \"\"\"\n",
    "        "
   ]
  },
  {
   "cell_type": "markdown",
   "metadata": {},
   "source": [
    "# **DRAFT**"
   ]
  },
  {
   "cell_type": "markdown",
   "metadata": {},
   "source": [
    "# **TESTCASES**"
   ]
  },
  {
   "cell_type": "code",
   "execution_count": null,
   "metadata": {},
   "outputs": [
    {
     "name": "stdout",
     "output_type": "stream",
     "text": [
      "Case 1 - nums: [2, 0, 2], queries: [[0, 2, 1], [0, 2, 1], [1, 1, 3]], Output: 2, Expected: 2, Status: PASSED\n",
      "Case 2 - nums: [4, 3, 2, 1], queries: [[1, 3, 2], [0, 2, 1]], Output: -1, Expected: -1, Status: PASSED\n"
     ]
    }
   ],
   "source": [
    "solution = Solution()\n",
    "\n",
    "def run_test_case(case_number, input_nums, input_lower, input_upper, expected):\n",
    "    result = solution.countFairPairs(input_nums, input_lower, input_upper)\n",
    "    status = \"PASSED\" if result == expected else \"FAILED\"\n",
    "    print(f\"Case {case_number} - nums: {input_nums}, lower: {input_lower}, upper: {input_upper} Output: {result}, Expected: {expected}, Status: {status}\")\n",
    "\n",
    "test_cases = [\n",
    "    (1, [0,1,7,4,4,5], 3, 6, 6),\n",
    "    (2, [4,3,2,1], [[1,3,2],[0,2,1]], -1),\n",
    "]\n",
    "\n",
    "for case_number, input_nums, input_lower, input_upper, expected in test_cases:\n",
    "    run_test_case(case_number, input_nums, input_lower, input_upper, expected)"
   ]
  }
 ],
 "metadata": {
  "kernelspec": {
   "display_name": "Python 3",
   "language": "python",
   "name": "python3"
  },
  "language_info": {
   "codemirror_mode": {
    "name": "ipython",
    "version": 3
   },
   "file_extension": ".py",
   "mimetype": "text/x-python",
   "name": "python",
   "nbconvert_exporter": "python",
   "pygments_lexer": "ipython3",
   "version": "3.10.12"
  }
 },
 "nbformat": 4,
 "nbformat_minor": 2
}
