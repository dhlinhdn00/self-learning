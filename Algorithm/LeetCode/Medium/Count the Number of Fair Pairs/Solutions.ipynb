{
 "cells": [
  {
   "cell_type": "markdown",
   "metadata": {},
   "source": [
    "# **SOLUTION**"
   ]
  },
  {
   "cell_type": "code",
   "execution_count": 1,
   "metadata": {},
   "outputs": [],
   "source": [
    "class Solution(object):\n",
    "    def countFairPairs(self, nums, lower, upper):\n",
    "        \"\"\"\n",
    "        :type nums: List[int]\n",
    "        :type lower: int\n",
    "        :type upper: int\n",
    "        :rtype: int\n",
    "        \"\"\"\n",
    "        return self.solverNaive(nums, lower, upper)\n",
    "\n",
    "    def solverNaive(self, nums, lower, upper):\n",
    "        count = 0\n",
    "        n = len(nums)\n",
    "        for i in range(n):\n",
    "            for j in range(i + 1, n):\n",
    "                check = nums[i] + nums[j]\n",
    "                if check >= lower and check <= upper:\n",
    "                    count += 1\n",
    "        return count        "
   ]
  },
  {
   "cell_type": "markdown",
   "metadata": {},
   "source": [
    "# **DRAFT**"
   ]
  },
  {
   "cell_type": "markdown",
   "metadata": {},
   "source": [
    "# **TESTCASES**"
   ]
  },
  {
   "cell_type": "code",
   "execution_count": 2,
   "metadata": {},
   "outputs": [
    {
     "name": "stdout",
     "output_type": "stream",
     "text": [
      "Case 1 - nums: [0, 1, 7, 4, 4, 5], lower: 3, upper: 6 Output: 6, Expected: 6, Status: PASSED\n",
      "Case 2 - nums: [1, 7, 9, 2, 5], lower: 11, upper: 11 Output: 1, Expected: 1, Status: PASSED\n"
     ]
    }
   ],
   "source": [
    "solution = Solution()\n",
    "\n",
    "def run_test_case(case_number, input_nums, input_lower, input_upper, expected):\n",
    "    result = solution.countFairPairs(input_nums, input_lower, input_upper)\n",
    "    status = \"PASSED\" if result == expected else \"FAILED\"\n",
    "    print(f\"Case {case_number} - nums: {input_nums}, lower: {input_lower}, upper: {input_upper} Output: {result}, Expected: {expected}, Status: {status}\")\n",
    "\n",
    "test_cases = [\n",
    "    (1, [0,1,7,4,4,5], 3, 6, 6),\n",
    "    (2, [1,7,9,2,5], 11, 11, 1),\n",
    "]\n",
    "\n",
    "for case_number, input_nums, input_lower, input_upper, expected in test_cases:\n",
    "    run_test_case(case_number, input_nums, input_lower, input_upper, expected)"
   ]
  }
 ],
 "metadata": {
  "kernelspec": {
   "display_name": "Python 3",
   "language": "python",
   "name": "python3"
  },
  "language_info": {
   "codemirror_mode": {
    "name": "ipython",
    "version": 3
   },
   "file_extension": ".py",
   "mimetype": "text/x-python",
   "name": "python",
   "nbconvert_exporter": "python",
   "pygments_lexer": "ipython3",
   "version": "3.10.12"
  }
 },
 "nbformat": 4,
 "nbformat_minor": 2
}
