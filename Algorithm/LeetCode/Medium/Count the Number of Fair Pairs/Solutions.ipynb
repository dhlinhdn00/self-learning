{
 "cells": [
  {
   "cell_type": "markdown",
   "metadata": {},
   "source": [
    "# **SOLUTION**"
   ]
  },
  {
   "cell_type": "code",
   "execution_count": 20,
   "metadata": {},
   "outputs": [],
   "source": [
    "def bisectLeft(arr, t, l, h):\n",
    "    \"\"\"\n",
    "    :note: t = targer, l = low, h = high, m = mid\n",
    "    :statement: Perform binary search on the range arr[l : h] to find the first position where its value >= target. \n",
    "                If no such elements exist, returns the insertion point to keep the array sorted in ascending order.\n",
    "    :time-complexity: O(logn)\n",
    "    \"\"\"\n",
    "    while l < h:\n",
    "        m = (l + h) // 2\n",
    "        if arr[m] < t:\n",
    "            l = m + 1\n",
    "        else:\n",
    "            h = m\n",
    "    return l\n",
    "\n",
    "def bisectRight(arr, t, l, h):\n",
    "    \"\"\"\n",
    "    :note: t = target, l = low, h = high, m = mid\n",
    "    :statement: Perform binary search on the range arr[l : h] to find the first position where its value > target.\n",
    "                If no such elements exist, returns the insertion point to keep sorted in ascending order.\n",
    "                :time-complexity: O(logn)\n",
    "    \"\"\"\n",
    "    while l < h:\n",
    "        m = (l + h) // 2\n",
    "        if arr[m] <= t:\n",
    "            l = m + 1\n",
    "        else:\n",
    "            h = m\n",
    "    return l\n",
    "\n",
    "\n",
    "class Solution(object):\n",
    "    def countFairPairs(self, nums, lower, upper):\n",
    "        \"\"\"\n",
    "        :type nums: List[int]\n",
    "        :type lower: int\n",
    "        :type upper: int\n",
    "        :rtype: int\n",
    "        \"\"\"\n",
    "        # return self.solverNaive(nums, lower, upper)\n",
    "        return self.solverBN(nums, lower, upper)\n",
    "\n",
    "    def solverNaive(self, nums, lower, upper):\n",
    "        \"\"\"\n",
    "        :cost: Time Limit Exceeded\n",
    "        \"\"\"\n",
    "        count = 0\n",
    "        n = len(nums)\n",
    "        for i in range(n):\n",
    "            for j in range(i + 1, n):\n",
    "                check = nums[i] + nums[j]\n",
    "                if check >= lower and check <= upper:\n",
    "                    count += 1\n",
    "        return count\n",
    "    def solverBN(self, nums, lower, upper):\n",
    "        \"\"\"\n",
    "        :note: BN meaning Binary Search\n",
    "        :cost: 1139ms | 20.87MB\n",
    "        :idea: convert => lower - nums[i] <= nums[j] <= upper - nums[i]\n",
    "        \"\"\"\n",
    "        n = len(nums)\n",
    "\n",
    "        nums.sort()\n",
    "        count = 0\n",
    "\n",
    "        for i in range(n):\n",
    "            l = bisectLeft(nums, lower - nums[i], i + 1, n)\n",
    "            r = bisectRight(nums, upper - nums[i], i + 1, n)\n",
    "            count += r - l\n",
    "\n",
    "        return count \n"
   ]
  },
  {
   "cell_type": "markdown",
   "metadata": {},
   "source": [
    "# **DRAFT**"
   ]
  },
  {
   "cell_type": "code",
   "execution_count": 14,
   "metadata": {},
   "outputs": [],
   "source": [
    "def bisectLeft(arr, t, l, h):\n",
    "    \"\"\"\n",
    "    :note: t = targer, l = low, h = high, m = mid\n",
    "    :statement: Perform binary search on the range arr[l : h] to find the first position where its value >= target. \n",
    "                If no such elements exist, returns the insertion point to keep the array sorted in ascending order.\n",
    "    :time-complexity: O(logn)\n",
    "    \"\"\"\n",
    "    while l < h:\n",
    "        m = (l + h) // 2\n",
    "        print(\"step 1:\")\n",
    "        print(\"m = \", m)\n",
    "        if arr[m] < t:\n",
    "            l = m + 1\n",
    "            print(\"update: l = \", l)\n",
    "            print(\"h = \", h)\n",
    "        else:\n",
    "            h = m\n",
    "            print(\"l = \", l)\n",
    "            print(\"update: h = \", h)\n",
    "        print(\"\\n\")\n",
    "    return l\n",
    "\n",
    "def bisectRight(arr, t, l, h):\n",
    "    \"\"\"\n",
    "    :note: t = target, l = low, h = high, m = mid\n",
    "    :statement: Perform binary search on the range arr[l : h] to find the first position where its value > target.\n",
    "                If no such elements exist, returns the insertion point to keep sorted in ascending order.\n",
    "                :time-complexity: O(logn)\n",
    "    \"\"\"\n",
    "    while l < h:\n",
    "        m = (l + h) // 2\n",
    "        if arr[m] <= t:\n",
    "            l = m + 1\n",
    "        else:\n",
    "            h = m\n",
    "    return l\n"
   ]
  },
  {
   "cell_type": "code",
   "execution_count": null,
   "metadata": {},
   "outputs": [
    {
     "name": "stdout",
     "output_type": "stream",
     "text": [
      "step 1:\n",
      "m =  3\n",
      "update: l =  4\n",
      "h =  6\n",
      "\n",
      "\n",
      "step 1:\n",
      "m =  5\n",
      "l =  4\n",
      "update: h =  5\n",
      "\n",
      "\n",
      "step 1:\n",
      "m =  4\n",
      "l =  4\n",
      "update: h =  4\n",
      "\n",
      "\n"
     ]
    },
    {
     "data": {
      "text/plain": [
       "4"
      ]
     },
     "execution_count": 10,
     "metadata": {},
     "output_type": "execute_result"
    }
   ],
   "source": [
    "nums = [1, 3, 5, 6, 8, 11, 12]\n",
    "bisectLeft(nums, 7, 0, 6)"
   ]
  },
  {
   "cell_type": "markdown",
   "metadata": {},
   "source": [
    "# **TESTCASES**"
   ]
  },
  {
   "cell_type": "code",
   "execution_count": 21,
   "metadata": {},
   "outputs": [
    {
     "name": "stdout",
     "output_type": "stream",
     "text": [
      "Case 1 - nums: [0, 1, 4, 4, 5, 7], lower: 3, upper: 6 Output: 6, Expected: 6, Status: PASSED\n",
      "Case 2 - nums: [1, 2, 5, 7, 9], lower: 11, upper: 11 Output: 1, Expected: 1, Status: PASSED\n"
     ]
    }
   ],
   "source": [
    "solution = Solution()\n",
    "\n",
    "def run_test_case(case_number, input_nums, input_lower, input_upper, expected):\n",
    "    result = solution.countFairPairs(input_nums, input_lower, input_upper)\n",
    "    status = \"PASSED\" if result == expected else \"FAILED\"\n",
    "    print(f\"Case {case_number} - nums: {input_nums}, lower: {input_lower}, upper: {input_upper} Output: {result}, Expected: {expected}, Status: {status}\")\n",
    "\n",
    "test_cases = [\n",
    "    (1, [0,1,7,4,4,5], 3, 6, 6),\n",
    "    (2, [1,7,9,2,5], 11, 11, 1),\n",
    "]\n",
    "\n",
    "for case_number, input_nums, input_lower, input_upper, expected in test_cases:\n",
    "    run_test_case(case_number, input_nums, input_lower, input_upper, expected)"
   ]
  }
 ],
 "metadata": {
  "kernelspec": {
   "display_name": "Python 3",
   "language": "python",
   "name": "python3"
  },
  "language_info": {
   "codemirror_mode": {
    "name": "ipython",
    "version": 3
   },
   "file_extension": ".py",
   "mimetype": "text/x-python",
   "name": "python",
   "nbconvert_exporter": "python",
   "pygments_lexer": "ipython3",
   "version": "3.10.12"
  }
 },
 "nbformat": 4,
 "nbformat_minor": 2
}
