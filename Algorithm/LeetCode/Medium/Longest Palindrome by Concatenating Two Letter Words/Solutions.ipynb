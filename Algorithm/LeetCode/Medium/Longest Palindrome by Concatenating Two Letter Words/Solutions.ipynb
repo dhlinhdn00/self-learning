{
 "cells": [
  {
   "cell_type": "markdown",
   "metadata": {},
   "source": [
    "# **SOLUTION**"
   ]
  },
  {
   "cell_type": "code",
   "execution_count": 30,
   "metadata": {},
   "outputs": [],
   "source": [
    "class Solution(object):\n",
    "    def longestPalindrome(self, words):\n",
    "        \"\"\"\n",
    "        :type words: List[str]\n",
    "        :rtype: int\n",
    "        \"\"\"\n",
    "        return self.solverNaive(words)\n",
    "    \n",
    "    def solverNaive(self, words):\n",
    "        freq = {}\n",
    "\n",
    "        for word in words:\n",
    "            if word in freq:\n",
    "                freq[word] += 1\n",
    "            else:\n",
    "                freq[word] = 1\n",
    "\n",
    "        dual_count = 0\n",
    "        palindrome_count = 0\n",
    "\n",
    "        for word in list(freq.keys()):\n",
    "            if word not in freq:\n",
    "                continue\n",
    "            \n",
    "            rev_word = word[::-1]\n",
    "\n",
    "            if word == rev_word:\n",
    "                dual_count += freq[word]\n",
    "                palindrome_count += freq[word] // 2\n",
    "                del freq[word]\n",
    "            elif rev_word in freq:\n",
    "                palindrome_count += 1\n",
    "                del freq[word]\n",
    "                del freq[rev_word]\n",
    "\n",
    "        return (palindrome_count * 2 + dual_count % 2) * 2"
   ]
  },
  {
   "cell_type": "markdown",
   "metadata": {},
   "source": [
    "# **DRAFT**"
   ]
  },
  {
   "cell_type": "code",
   "execution_count": 35,
   "metadata": {},
   "outputs": [],
   "source": [
    "class Solution(object):\n",
    "    def longestPalindrome(self, words):\n",
    "        \"\"\"\n",
    "        :type words: List[str]\n",
    "        :rtype: int\n",
    "        \"\"\"\n",
    "        return self.solverNaive(words)\n",
    "\n",
    "    def solverNaive(self, words):\n",
    "        freq = {}\n",
    "\n",
    "        for word in words:\n",
    "            freq[word] = freq.get(word, 0) + 1\n",
    "\n",
    "        dual_count = 0\n",
    "        palindrome_count = 0\n",
    "\n",
    "        for word in list(freq.keys()):\n",
    "            if word not in freq or freq[word] == 0:\n",
    "                continue\n",
    "\n",
    "            rev_word = word[::-1]\n",
    "\n",
    "            if word == rev_word:\n",
    "                count = freq[word]\n",
    "                palindrome_count += count // 2\n",
    "                dual_count += count % 2\n",
    "                freq[word] = 0\n",
    "            elif rev_word in freq and freq[rev_word] > 0:\n",
    "                pairs = min(freq[word], freq[rev_word])\n",
    "                palindrome_count += pairs\n",
    "                freq[word] -= pairs\n",
    "                freq[rev_word] -= pairs\n",
    "\n",
    "        return (palindrome_count * 2 + (1 if dual_count > 0 else 0)) * 2\n"
   ]
  },
  {
   "cell_type": "markdown",
   "metadata": {},
   "source": [
    "# **TESTCASES**"
   ]
  },
  {
   "cell_type": "code",
   "execution_count": 36,
   "metadata": {},
   "outputs": [
    {
     "name": "stdout",
     "output_type": "stream",
     "text": [
      "Case 1 - words: ['lc', 'cl', 'gg'], Output: 6, Expected: 6, Status: PASSED\n",
      "Case 2 - words: ['ab', 'ty', 'yt', 'lc', 'cl', 'ab'], Output: 8, Expected: 8, Status: PASSED\n",
      "Case 3 - words: ['cc', 'll', 'xx'], Output: 2, Expected: 2, Status: PASSED\n"
     ]
    }
   ],
   "source": [
    "solution = Solution()\n",
    "\n",
    "def run_test_case(case_number, input_words, expected):\n",
    "    result = solution.longestPalindrome(input_words)\n",
    "    status = \"PASSED\" if result == expected else \"FAILED\"\n",
    "    print(f\"Case {case_number} - words: {input_words}, Output: {result}, Expected: {expected}, Status: {status}\")\n",
    "\n",
    "test_cases = [\n",
    "    (1, [\"lc\",\"cl\",\"gg\"], 6),\n",
    "    (2, [\"ab\",\"ty\",\"yt\",\"lc\",\"cl\",\"ab\"], 8),\n",
    "    (3, [\"cc\",\"ll\",\"xx\"], 2)\n",
    "]\n",
    "\n",
    "for case_number, input_words, expected in test_cases:\n",
    "    run_test_case(case_number, input_words, expected)"
   ]
  }
 ],
 "metadata": {
  "kernelspec": {
   "display_name": "base",
   "language": "python",
   "name": "python3"
  },
  "language_info": {
   "codemirror_mode": {
    "name": "ipython",
    "version": 3
   },
   "file_extension": ".py",
   "mimetype": "text/x-python",
   "name": "python",
   "nbconvert_exporter": "python",
   "pygments_lexer": "ipython3",
   "version": "3.11.5"
  }
 },
 "nbformat": 4,
 "nbformat_minor": 2
}
