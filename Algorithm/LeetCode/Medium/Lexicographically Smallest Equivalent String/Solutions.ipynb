{
 "cells": [
  {
   "cell_type": "markdown",
   "metadata": {},
   "source": [
    "# **SOLUTION**"
   ]
  },
  {
   "cell_type": "code",
   "execution_count": 1,
   "metadata": {},
   "outputs": [],
   "source": [
    "from collections import deque\n",
    "class Solution(object):\n",
    "    def smallestEquivalentString(self, s1, s2, baseStr):\n",
    "        \"\"\"\n",
    "        :type s1: str\n",
    "        :type s2: str\n",
    "        :type baseStr: str\n",
    "        :rtype: str\n",
    "        \"\"\"\n",
    "        return self.solverBFS(s1, s2, baseStr)\n",
    "\n",
    "    def solverBFS(self, s1, s2, baseStr):\n",
    "        adj = [[0] * 26 for _ in range(26)]\n",
    "        for a, b in zip(s1, s2):\n",
    "            u = ord(a) - ord('a')\n",
    "            v = ord(b) - ord('a')\n",
    "            adj[u][v] = 1\n",
    "            adj[v][u] = 1\n",
    "\n",
    "        rep = [''] * 26 \n",
    "        visited = [False] * 26\n",
    "\n",
    "        for i in range(26):\n",
    "            if not visited[i]:\n",
    "                queue = deque([i])\n",
    "                group = []\n",
    "\n",
    "                while queue:\n",
    "                    u = queue.popleft()\n",
    "                    if visited[u]:\n",
    "                        continue\n",
    "                    visited[u] = True\n",
    "                    group.append(u)\n",
    "\n",
    "                    for v in range(26):\n",
    "                        if adj[u][v] and not visited[v]:\n",
    "                            queue.append(v)\n",
    "\n",
    "                min_char = min(group)\n",
    "                for u in group:\n",
    "                    rep[u] = chr(min_char + ord('a'))\n",
    "\n",
    "        result = ''\n",
    "        for c in baseStr:\n",
    "            idx = ord(c) - ord('a')\n",
    "            result += rep[idx] if rep[idx] else c \n",
    "\n",
    "        return result"
   ]
  },
  {
   "cell_type": "markdown",
   "metadata": {},
   "source": [
    "# **DRAFT**"
   ]
  },
  {
   "cell_type": "code",
   "execution_count": null,
   "metadata": {},
   "outputs": [
    {
     "name": "stdout",
     "output_type": "stream",
     "text": [
      "[0, 0, 0, 0, 0, 0, 0, 0, 0, 0, 0, 0, 0, 0, 1, 0, 0, 0, 0, 0, 0, 0, 0, 0, 0, 0]\n",
      "[0, 0, 0, 0, 0, 0, 0, 0, 0, 0, 0, 0, 0, 0, 0, 0, 0, 0, 0, 0, 0, 0, 0, 0, 0, 0]\n",
      "[0, 0, 0, 0, 0, 0, 0, 0, 0, 0, 0, 0, 0, 0, 0, 0, 0, 0, 0, 0, 0, 0, 0, 0, 0, 0]\n",
      "[0, 0, 0, 0, 0, 0, 0, 0, 0, 0, 0, 0, 0, 0, 0, 0, 0, 0, 0, 0, 0, 0, 0, 0, 0, 0]\n",
      "[0, 0, 0, 0, 0, 0, 0, 0, 1, 0, 0, 0, 0, 0, 0, 0, 0, 0, 0, 0, 0, 0, 0, 0, 0, 0]\n",
      "[0, 0, 0, 0, 0, 0, 0, 0, 0, 0, 0, 0, 0, 0, 0, 0, 0, 0, 0, 0, 0, 0, 0, 0, 0, 0]\n",
      "[0, 0, 0, 0, 0, 0, 0, 0, 0, 0, 0, 0, 0, 0, 0, 0, 0, 0, 0, 0, 0, 0, 0, 0, 0, 0]\n",
      "[0, 0, 0, 0, 0, 0, 0, 0, 0, 0, 0, 0, 0, 0, 0, 0, 0, 0, 0, 0, 0, 0, 0, 0, 0, 0]\n",
      "[0, 0, 0, 0, 1, 0, 0, 0, 0, 0, 0, 0, 0, 0, 0, 0, 0, 0, 0, 0, 0, 0, 0, 0, 0, 0]\n",
      "[0, 0, 0, 0, 0, 0, 0, 0, 0, 0, 0, 0, 0, 0, 0, 0, 0, 0, 0, 0, 0, 0, 0, 0, 0, 0]\n",
      "[0, 0, 0, 0, 0, 0, 0, 0, 0, 0, 0, 0, 0, 0, 0, 0, 0, 1, 0, 0, 0, 0, 0, 0, 0, 0]\n",
      "[0, 0, 0, 0, 0, 0, 0, 0, 0, 0, 0, 0, 0, 0, 0, 0, 0, 0, 0, 0, 0, 0, 0, 0, 0, 0]\n",
      "[0, 0, 0, 0, 0, 0, 0, 0, 0, 0, 0, 0, 0, 0, 0, 1, 0, 0, 0, 0, 0, 0, 0, 0, 0, 0]\n",
      "[0, 0, 0, 0, 0, 0, 0, 0, 0, 0, 0, 0, 0, 0, 0, 0, 0, 0, 0, 0, 0, 0, 0, 0, 0, 0]\n",
      "[1, 0, 0, 0, 0, 0, 0, 0, 0, 0, 0, 0, 0, 0, 0, 0, 0, 0, 0, 0, 0, 0, 0, 0, 0, 0]\n",
      "[0, 0, 0, 0, 0, 0, 0, 0, 0, 0, 0, 0, 1, 0, 0, 0, 0, 0, 0, 0, 0, 0, 0, 0, 0, 0]\n",
      "[0, 0, 0, 0, 0, 0, 0, 0, 0, 0, 0, 0, 0, 0, 0, 0, 0, 0, 0, 0, 0, 0, 0, 0, 0, 0]\n",
      "[0, 0, 0, 0, 0, 0, 0, 0, 0, 0, 1, 0, 0, 0, 0, 0, 0, 1, 1, 0, 0, 0, 0, 0, 0, 0]\n",
      "[0, 0, 0, 0, 0, 0, 0, 0, 0, 0, 0, 0, 0, 0, 0, 0, 0, 1, 0, 0, 0, 0, 0, 0, 0, 0]\n",
      "[0, 0, 0, 0, 0, 0, 0, 0, 0, 0, 0, 0, 0, 0, 0, 0, 0, 0, 0, 0, 0, 0, 0, 0, 0, 0]\n",
      "[0, 0, 0, 0, 0, 0, 0, 0, 0, 0, 0, 0, 0, 0, 0, 0, 0, 0, 0, 0, 0, 0, 0, 0, 0, 0]\n",
      "[0, 0, 0, 0, 0, 0, 0, 0, 0, 0, 0, 0, 0, 0, 0, 0, 0, 0, 0, 0, 0, 0, 0, 0, 0, 0]\n",
      "[0, 0, 0, 0, 0, 0, 0, 0, 0, 0, 0, 0, 0, 0, 0, 0, 0, 0, 0, 0, 0, 0, 0, 0, 0, 0]\n",
      "[0, 0, 0, 0, 0, 0, 0, 0, 0, 0, 0, 0, 0, 0, 0, 0, 0, 0, 0, 0, 0, 0, 0, 0, 0, 0]\n",
      "[0, 0, 0, 0, 0, 0, 0, 0, 0, 0, 0, 0, 0, 0, 0, 0, 0, 0, 0, 0, 0, 0, 0, 0, 0, 0]\n",
      "[0, 0, 0, 0, 0, 0, 0, 0, 0, 0, 0, 0, 0, 0, 0, 0, 0, 0, 0, 0, 0, 0, 0, 0, 0, 0]\n"
     ]
    }
   ],
   "source": [
    "s1, s2, baseStr =  \"parker\", \"morris\", \"parser\"\n",
    "\n",
    "adj = [[0] * 26 for _ in range(26)]\n",
    "for a, b in zip(s1, s2):\n",
    "    u = ord(a) - ord('a')\n",
    "    v = ord(b) - ord('a')\n",
    "    adj[u][v] = 1\n",
    "    adj[v][u] = 1\n",
    "    \n",
    "for i in range(len(adj)):\n",
    "    print(adj[i])"
   ]
  },
  {
   "cell_type": "code",
   "execution_count": 13,
   "metadata": {},
   "outputs": [
    {
     "name": "stdout",
     "output_type": "stream",
     "text": [
      "makkek\n"
     ]
    }
   ],
   "source": [
    "from collections import deque\n",
    "\n",
    "rep = [''] * 26 \n",
    "visited = [False] * 26\n",
    "\n",
    "for i in range(26):\n",
    "    if not visited[i]:\n",
    "        queue = deque([i])\n",
    "        group = []\n",
    "\n",
    "        while queue:\n",
    "            u = queue.popleft()\n",
    "            if visited[u]:\n",
    "                continue\n",
    "            visited[u] = True\n",
    "            group.append(u)\n",
    "\n",
    "            for v in range(26):\n",
    "                if adj[u][v] and not visited[v]:\n",
    "                    queue.append(v)\n",
    "\n",
    "        min_char = min(group)\n",
    "        for u in group:\n",
    "            rep[u] = chr(min_char + ord('a'))\n",
    "\n",
    "result = ''\n",
    "for c in baseStr:\n",
    "    idx = ord(c) - ord('a')\n",
    "    result += rep[idx] if rep[idx] else c \n",
    "\n",
    "print(result)"
   ]
  },
  {
   "cell_type": "markdown",
   "metadata": {},
   "source": [
    "# **TESTCASES**"
   ]
  },
  {
   "cell_type": "code",
   "execution_count": 2,
   "metadata": {},
   "outputs": [
    {
     "name": "stdout",
     "output_type": "stream",
     "text": [
      "Case 1 - s1: parker, s2: morris, baseStr: parser, Output: makkek, Expected: makkek, Status: PASSED\n",
      "Case 2 - s1: hello, s2: world, baseStr: hold, Output: hdld, Expected: hdld, Status: PASSED\n",
      "Case 3 - s1: leetcode, s2: programs, baseStr: sourcecode, Output: aauaaaaada, Expected: aauaaaaada, Status: PASSED\n"
     ]
    }
   ],
   "source": [
    "solution = Solution()\n",
    "\n",
    "def run_test_case(case_number, input_s1, input_s2, input_baseStr, expected):\n",
    "    result = solution.smallestEquivalentString(input_s1, input_s2, input_baseStr)\n",
    "    status = \"PASSED\" if result == expected else \"FAILED\"\n",
    "    print(f\"Case {case_number} - s1: {input_s1}, s2: {input_s2}, baseStr: {input_baseStr}, Output: {result}, Expected: {expected}, Status: {status}\")\n",
    "\n",
    "test_cases = [\n",
    "    (1, \"parker\", \"morris\", \"parser\", \"makkek\"),\n",
    "    (2, \"hello\", \"world\", \"hold\", \"hdld\"),\n",
    "    (3, \"leetcode\", \"programs\", \"sourcecode\", \"aauaaaaada\")\n",
    "]\n",
    "\n",
    "for case_number, input_s1, input_s2, input_baseStr, expected in test_cases:\n",
    "    run_test_case(case_number, input_s1, input_s2, input_baseStr, expected)"
   ]
  }
 ],
 "metadata": {
  "kernelspec": {
   "display_name": "base",
   "language": "python",
   "name": "python3"
  },
  "language_info": {
   "codemirror_mode": {
    "name": "ipython",
    "version": 3
   },
   "file_extension": ".py",
   "mimetype": "text/x-python",
   "name": "python",
   "nbconvert_exporter": "python",
   "pygments_lexer": "ipython3",
   "version": "3.11.5"
  }
 },
 "nbformat": 4,
 "nbformat_minor": 2
}
