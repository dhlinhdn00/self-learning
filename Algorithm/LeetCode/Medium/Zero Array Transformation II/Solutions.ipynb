{
 "cells": [
  {
   "cell_type": "markdown",
   "metadata": {},
   "source": [
    "# **SOLUTION**"
   ]
  },
  {
   "cell_type": "code",
   "execution_count": 1,
   "metadata": {},
   "outputs": [],
   "source": [
    "class Solution(object):\n",
    "    def minZeroArray(self, nums, queries):\n",
    "        \"\"\"\n",
    "        :type nums: List[int]\n",
    "        :type queries: List[List[int]]\n",
    "        :rtype: int\n",
    "        \"\"\"\n",
    "        return self.solverNaive(nums, queries)\n",
    "    \n",
    "    def solverNaive(self, nums, queries):\n",
    "        def check(k):\n",
    "            delta = [0] * (len(nums) + 2)\n",
    "            for i in range(k):\n",
    "                l, r, val = queries[i]\n",
    "                delta[l] += val\n",
    "                delta[r+1] -= val\n",
    "            \n",
    "            total_decrease = [0] * len(nums)\n",
    "            curr = 0\n",
    "            for i in range(len(nums)):\n",
    "                curr += delta[i]\n",
    "                total_decrease[i] = curr\n",
    "            \n",
    "            for i in range(len(nums)):\n",
    "                if total_decrease[i] < nums[i]:\n",
    "                    return False\n",
    "            return True\n",
    "\n",
    "        low, high = 0, len(queries)\n",
    "        res = -1\n",
    "        while low <= high:\n",
    "            mid = (low + high) // 2\n",
    "            if check(mid):\n",
    "                res = mid\n",
    "                high = mid - 1\n",
    "            else:\n",
    "                low = mid + 1\n",
    "        return res\n",
    "        "
   ]
  },
  {
   "cell_type": "markdown",
   "metadata": {},
   "source": [
    "# **DRAFT**"
   ]
  },
  {
   "cell_type": "code",
   "execution_count": 5,
   "metadata": {},
   "outputs": [],
   "source": [
    "test_sol = Solution()\n",
    "nums = [2, 0 ,2]\n",
    "queries = [[0, 2, 1], [0, 2, 1], [1, 1, 3]]"
   ]
  },
  {
   "cell_type": "markdown",
   "metadata": {},
   "source": [
    "# **TESTCASES**"
   ]
  },
  {
   "cell_type": "code",
   "execution_count": 3,
   "metadata": {},
   "outputs": [
    {
     "name": "stdout",
     "output_type": "stream",
     "text": [
      "Case 1 - nums: [2, 0, 2], queries: [[0, 2, 1], [0, 2, 1], [1, 1, 3]], Output: 2, Expected: 2, Status: PASSED\n",
      "Case 2 - nums: [4, 3, 2, 1], queries: [[1, 3, 2], [0, 2, 1]], Output: -1, Expected: -1, Status: PASSED\n"
     ]
    }
   ],
   "source": [
    "solution = Solution()\n",
    "\n",
    "def run_test_case(case_number, input_nums, input_queries, expected):\n",
    "    result = solution.minZeroArray(input_nums, input_queries)\n",
    "    status = \"PASSED\" if result == expected else \"FAILED\"\n",
    "    print(f\"Case {case_number} - nums: {input_nums}, queries: {input_queries}, Output: {result}, Expected: {expected}, Status: {status}\")\n",
    "\n",
    "test_cases = [\n",
    "    (1, [2,0,2], [[0,2,1],[0,2,1],[1,1,3]], 2),\n",
    "    (2, [4,3,2,1], [[1,3,2],[0,2,1]], -1),\n",
    "]\n",
    "\n",
    "for case_number, input_nums, input_queries, expected in test_cases:\n",
    "    run_test_case(case_number, input_nums, input_queries, expected)"
   ]
  }
 ],
 "metadata": {
  "kernelspec": {
   "display_name": "Python 3",
   "language": "python",
   "name": "python3"
  },
  "language_info": {
   "codemirror_mode": {
    "name": "ipython",
    "version": 3
   },
   "file_extension": ".py",
   "mimetype": "text/x-python",
   "name": "python",
   "nbconvert_exporter": "python",
   "pygments_lexer": "ipython3",
   "version": "3.10.12"
  }
 },
 "nbformat": 4,
 "nbformat_minor": 2
}
