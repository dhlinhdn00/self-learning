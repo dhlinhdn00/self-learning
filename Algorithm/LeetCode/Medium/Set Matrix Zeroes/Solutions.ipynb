{
 "cells": [
  {
   "cell_type": "markdown",
   "metadata": {},
   "source": [
    "# **SOLUTION**"
   ]
  },
  {
   "cell_type": "code",
   "execution_count": null,
   "metadata": {},
   "outputs": [],
   "source": [
    "class Solution(object):\n",
    "    def setZeroes(self, matrix):\n",
    "        \"\"\"\n",
    "        :type matrix: List[List[int]]\n",
    "        :rtype: None Do not return anything, modify matrix in-place instead.\n",
    "        \"\"\"\n",
    "        initial_matrix = matrix.copy()\n",
    "        return self.solverNaive(matrix), initial_matrix\n",
    "\n",
    "    def solverNaive(self, matrix):\n",
    "        \"\"\"\n",
    "        :cost: 9ms (28.12%) | 13.39MB (7.08%)\n",
    "        \"\"\"\n",
    "        h, w = len(matrix), len(matrix[0])\n",
    "\n",
    "        for i in range(h):\n",
    "            if 0 in matrix[i]:\n",
    "                zero_indices = [j for j, val in enumerate(matrix[i]) if val == 0]\n",
    "                matrix[i] = [\"-\"] * w\n",
    "                for k in zero_indices:\n",
    "                    for j in range(h):\n",
    "                        if matrix[j][k] != 0:\n",
    "                            matrix[j][k] = \"-\"\n",
    "                    matrix[i][k] = 0\n",
    "\n",
    "        for i in range(h):\n",
    "            for j in range(w):\n",
    "                if matrix[i][j] == \"-\":\n",
    "                    matrix[i][j] = 0\n",
    "        return matrix"
   ]
  },
  {
   "cell_type": "markdown",
   "metadata": {},
   "source": [
    "# **DRAFT**"
   ]
  },
  {
   "cell_type": "code",
   "execution_count": 44,
   "metadata": {},
   "outputs": [
    {
     "data": {
      "text/plain": [
       "[[0, 0, 0, 0], [0, 0, 0, 4], [0, 0, 0, 0], [0, 0, 0, 3], [0, 0, 0, 0]]"
      ]
     },
     "execution_count": 44,
     "metadata": {},
     "output_type": "execute_result"
    }
   ],
   "source": [
    "matrix =  [[0,0,0,5],[4,3,1,4],[0,1,1,4],[1,2,1,3],[0,0,1,1]]\n",
    "h, w = len(matrix), len(matrix[0])\n",
    "\n",
    "for i in range(h):\n",
    "    if 0 in matrix[i]:\n",
    "        zero_indices = [j for j, val in enumerate(matrix[i]) if val == 0]\n",
    "        matrix[i] = [\"-\"] * w\n",
    "        for k in zero_indices:\n",
    "            for j in range(h):\n",
    "                if matrix[j][k] != 0:\n",
    "                    matrix[j][k] = \"-\"\n",
    "            matrix[i][k] = 0\n",
    "\n",
    "\n",
    "\n",
    "for i in range(h):\n",
    "    for j in range(w):\n",
    "        if matrix[i][j] == \"-\":\n",
    "            matrix[i][j] = 0\n",
    "matrix"
   ]
  },
  {
   "cell_type": "code",
   "execution_count": null,
   "metadata": {},
   "outputs": [
    {
     "name": "stdout",
     "output_type": "stream",
     "text": [
      "False\n",
      "False\n"
     ]
    },
    {
     "data": {
      "text/plain": [
       "[[1, 0, 1], [0, 0, 0], [1, 0, 1]]"
      ]
     },
     "execution_count": 3,
     "metadata": {},
     "output_type": "execute_result"
    }
   ],
   "source": [
    "# Improved Way\n",
    "matrix = [[1,1,1],[1,0,1],[1,1,1]]\n",
    "m, n = len(matrix), len(matrix[0])\n",
    "    \n",
    "first_row_has_zero = any(matrix[0][j] == 0 for j in range(n))\n",
    "first_col_has_zero = any(matrix[i][0] == 0 for i in range(m))\n",
    "print(first_col_has_zero)\n",
    "print(first_row_has_zero)\n",
    "\n",
    "for i in range(1, m):\n",
    "    for j in range(1, n):\n",
    "        if matrix[i][j] == 0:\n",
    "            matrix[i][0] = 0\n",
    "            matrix[0][j] = 0\n",
    "\n",
    "for i in range(1, m):\n",
    "    for j in range(1, n):\n",
    "        if matrix[i][0] == 0 or matrix[0][j] == 0:\n",
    "            matrix[i][j] = 0\n",
    "\n",
    "if first_row_has_zero:\n",
    "    for j in range(n):\n",
    "        matrix[0][j] = 0\n",
    "\n",
    "if first_col_has_zero:\n",
    "    for i in range(m):\n",
    "        matrix[i][0] = 0\n",
    "\n",
    "matrix"
   ]
  },
  {
   "cell_type": "markdown",
   "metadata": {},
   "source": [
    "# **TESTCASES**"
   ]
  },
  {
   "cell_type": "code",
   "execution_count": 48,
   "metadata": {},
   "outputs": [
    {
     "name": "stdout",
     "output_type": "stream",
     "text": [
      "Case 1 - initial_matrix: [[1, 0, 1], [1, 0, 1], [1, 0, 1]], Output: [[1, 0, 1], [0, 0, 0], [1, 0, 1]], Expected: [[1, 0, 1], [0, 0, 0], [1, 0, 1]], Status: PASSED\n",
      "Case 2 - initial_matrix: [[0, 1, 2, 0], [0, 4, 5, 0], [0, 3, 1, 0]], Output: [[0, 0, 0, 0], [0, 4, 5, 0], [0, 3, 1, 0]], Expected: [[0, 0, 0, 0], [0, 4, 5, 0], [0, 3, 1, 0]], Status: PASSED\n"
     ]
    }
   ],
   "source": [
    "solution = Solution()\n",
    "\n",
    "def run_test_case(case_number, input_matrix, expected):\n",
    "    result, initial_matrix = solution.setZeroes(input_matrix)\n",
    "    status = \"PASSED\" if result == expected else \"FAILED\"\n",
    "    print(f\"Case {case_number} - initial_matrix: {initial_matrix}, Output: {result}, Expected: {expected}, Status: {status}\")\n",
    "\n",
    "test_cases = [\n",
    "    (1, [[1,1,1],[1,0,1],[1,1,1]], [[1,0,1],[0,0,0],[1,0,1]]),\n",
    "    (2, [[0,1,2,0],[3,4,5,2],[1,3,1,5]], [[0,0,0,0],[0,4,5,0],[0,3,1,0]])\n",
    "]\n",
    "\n",
    "for case_number, input_matrix, expected in test_cases:\n",
    "    run_test_case(case_number, input_matrix, expected)"
   ]
  }
 ],
 "metadata": {
  "kernelspec": {
   "display_name": "base",
   "language": "python",
   "name": "python3"
  },
  "language_info": {
   "codemirror_mode": {
    "name": "ipython",
    "version": 3
   },
   "file_extension": ".py",
   "mimetype": "text/x-python",
   "name": "python",
   "nbconvert_exporter": "python",
   "pygments_lexer": "ipython3",
   "version": "3.11.5"
  }
 },
 "nbformat": 4,
 "nbformat_minor": 2
}
