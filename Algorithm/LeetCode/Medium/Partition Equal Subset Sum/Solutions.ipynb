{
 "cells": [
  {
   "cell_type": "markdown",
   "metadata": {},
   "source": [
    "# **SOLUTION**"
   ]
  },
  {
   "cell_type": "code",
   "execution_count": 2,
   "metadata": {},
   "outputs": [],
   "source": [
    "class Solution(object):\n",
    "    def canPartition(self, nums):\n",
    "        \"\"\"\n",
    "        :type nums: List[int]\n",
    "        :rtype: bool\n",
    "        \"\"\"\n",
    "        return self.dpSolver(nums)\n",
    "    \n",
    "    def dpSolver(self, nums):\n",
    "        s = sum(nums)\n",
    "        if s % 2 == 1:\n",
    "            return False\n",
    "        t = int(s / 2)\n",
    "        dp = [False] * (t + 1)\n",
    "        dp[0] = True\n",
    "        for num in nums:\n",
    "            for i in range(t, num - 1, -1):\n",
    "                if dp[i - num]:\n",
    "                    dp[i] = True\n",
    "            if dp[t] == True:\n",
    "                return True\n",
    "\n",
    "        return False\n",
    "    \n",
    "    def dpExplainer(self, nums):\n",
    "        print(f\"Nums: {nums}\")\n",
    "        s = sum(nums)\n",
    "        print(f\"\\nTotal sum of nums: {s}\")\n",
    "\n",
    "        if s % 2 == 1:\n",
    "            print(\"=> The total sum is odd, so it's impossible to split nums into two equal subsets.\")\n",
    "            return False\n",
    "\n",
    "        t = s // 2\n",
    "        print(f\"=> Target sum for each subset: {t}\")\n",
    "        \n",
    "        dp = [False] * (t + 1)\n",
    "        dp[0] = True \n",
    "        print(f\"\\nInitial dp state: {dp}\")\n",
    "\n",
    "        for idx, num in enumerate(nums):\n",
    "            print(f\"\\nProcessing nums[{idx}] = {num}\")\n",
    "            for i in range(t, num - 1, -1):\n",
    "\n",
    "                print(f\"  Checking i = {i} (dp[{i - num}] = {dp[i - num]})\")\n",
    "                if dp[i - num]:\n",
    "                    dp[i] = True\n",
    "\n",
    "            print(f\"=> dp after using {num}: {dp}\")\n",
    "\n",
    "        print(f\"\\nFinal result: {dp[t]}\")\n",
    "        return dp[t]\n",
    "\n",
    "    "
   ]
  },
  {
   "cell_type": "markdown",
   "metadata": {},
   "source": [
    "# **DRAFT**"
   ]
  },
  {
   "cell_type": "code",
   "execution_count": 3,
   "metadata": {},
   "outputs": [
    {
     "name": "stdout",
     "output_type": "stream",
     "text": [
      "Nums: [1, 5, 11, 5]\n",
      "\n",
      "Total sum of nums: 22\n",
      "=> Target sum for each subset: 11\n",
      "\n",
      "Initial dp state: [True, False, False, False, False, False, False, False, False, False, False, False]\n",
      "\n",
      "Processing nums[0] = 1\n",
      "  Checking i = 11 (dp[10] = False)\n",
      "  Checking i = 10 (dp[9] = False)\n",
      "  Checking i = 9 (dp[8] = False)\n",
      "  Checking i = 8 (dp[7] = False)\n",
      "  Checking i = 7 (dp[6] = False)\n",
      "  Checking i = 6 (dp[5] = False)\n",
      "  Checking i = 5 (dp[4] = False)\n",
      "  Checking i = 4 (dp[3] = False)\n",
      "  Checking i = 3 (dp[2] = False)\n",
      "  Checking i = 2 (dp[1] = False)\n",
      "  Checking i = 1 (dp[0] = True)\n",
      "=> dp after using 1: [True, True, False, False, False, False, False, False, False, False, False, False]\n",
      "\n",
      "Processing nums[1] = 5\n",
      "  Checking i = 11 (dp[6] = False)\n",
      "  Checking i = 10 (dp[5] = False)\n",
      "  Checking i = 9 (dp[4] = False)\n",
      "  Checking i = 8 (dp[3] = False)\n",
      "  Checking i = 7 (dp[2] = False)\n",
      "  Checking i = 6 (dp[1] = True)\n",
      "  Checking i = 5 (dp[0] = True)\n",
      "=> dp after using 5: [True, True, False, False, False, True, True, False, False, False, False, False]\n",
      "\n",
      "Processing nums[2] = 11\n",
      "  Checking i = 11 (dp[0] = True)\n",
      "=> dp after using 11: [True, True, False, False, False, True, True, False, False, False, False, True]\n",
      "\n",
      "Processing nums[3] = 5\n",
      "  Checking i = 11 (dp[6] = True)\n",
      "  Checking i = 10 (dp[5] = True)\n",
      "  Checking i = 9 (dp[4] = False)\n",
      "  Checking i = 8 (dp[3] = False)\n",
      "  Checking i = 7 (dp[2] = False)\n",
      "  Checking i = 6 (dp[1] = True)\n",
      "  Checking i = 5 (dp[0] = True)\n",
      "=> dp after using 5: [True, True, False, False, False, True, True, False, False, False, True, True]\n",
      "\n",
      "Final result: True\n"
     ]
    },
    {
     "data": {
      "text/plain": [
       "True"
      ]
     },
     "execution_count": 3,
     "metadata": {},
     "output_type": "execute_result"
    }
   ],
   "source": [
    "test = Solution()\n",
    "nums = [1,5,11,5]\n",
    "test.dpExplainer(nums)"
   ]
  },
  {
   "cell_type": "markdown",
   "metadata": {},
   "source": [
    "# **TESTCASES**"
   ]
  },
  {
   "cell_type": "code",
   "execution_count": 15,
   "metadata": {},
   "outputs": [
    {
     "name": "stdout",
     "output_type": "stream",
     "text": [
      "Case 1 - nums: [1, 5, 11, 5], Output: True, Expected: True, Status: PASSED\n",
      "Case 2 - nums: [1, 2, 3, 5], Output: False, Expected: False, Status: PASSED\n"
     ]
    }
   ],
   "source": [
    "solution = Solution()\n",
    "\n",
    "def run_test_case(case_number, input_nums, expected):\n",
    "    result = solution.canPartition(input_nums)\n",
    "    status = \"PASSED\" if result == expected else \"FAILED\"\n",
    "    print(f\"Case {case_number} - nums: {input_nums}, Output: {result}, Expected: {expected}, Status: {status}\")\n",
    "\n",
    "test_cases = [\n",
    "    (1, [1,5,11,5], True),\n",
    "    (2, [1,2,3,5], False),\n",
    "]\n",
    "\n",
    "for case_number, input_nums, expected in test_cases:\n",
    "    run_test_case(case_number, input_nums, expected)\n"
   ]
  }
 ],
 "metadata": {
  "kernelspec": {
   "display_name": "Python 3",
   "language": "python",
   "name": "python3"
  },
  "language_info": {
   "codemirror_mode": {
    "name": "ipython",
    "version": 3
   },
   "file_extension": ".py",
   "mimetype": "text/x-python",
   "name": "python",
   "nbconvert_exporter": "python",
   "pygments_lexer": "ipython3",
   "version": "3.10.12"
  }
 },
 "nbformat": 4,
 "nbformat_minor": 2
}
