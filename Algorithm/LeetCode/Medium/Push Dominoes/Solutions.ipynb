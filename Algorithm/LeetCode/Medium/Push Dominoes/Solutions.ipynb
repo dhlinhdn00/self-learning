{
 "cells": [
  {
   "cell_type": "markdown",
   "metadata": {},
   "source": [
    "# **SOLUTION**"
   ]
  },
  {
   "cell_type": "code",
   "execution_count": 1,
   "metadata": {},
   "outputs": [],
   "source": [
    "class Solution(object):\n",
    "    def pushDominoes(self, dominoes):\n",
    "        \"\"\"\n",
    "        :type dominoes: str\n",
    "        :rtype: str\n",
    "        \"\"\"\n",
    "        pass\n",
    "    \n",
    "        "
   ]
  },
  {
   "cell_type": "markdown",
   "metadata": {},
   "source": [
    "# **DRAFT**"
   ]
  },
  {
   "cell_type": "code",
   "execution_count": null,
   "metadata": {},
   "outputs": [
    {
     "name": "stdout",
     "output_type": "stream",
     "text": [
      "origin:  .L.RR...LR..L..\n",
      "len:  15\n",
      "[[4, 8, 'pair'], [9, 12, 'pair']]\n",
      "[[0, 3, 'unpair'], [4, 8, 'pair'], [9, 12, 'pair'], [13, 14, 'unpair']]\n",
      "['.', 'L', '.', 'R']\n",
      ".L.R\n",
      "['R', '.', '.', '.', 'L']\n",
      "['R', '.', '.', 'L']\n",
      "['.', '.']\n",
      "..\n",
      ".L.RRR.LLRRLL..\n",
      "15\n"
     ]
    }
   ],
   "source": [
    "dominoes = \".L.R...LR..L..\"\n",
    "print('origin: ', dominoes)\n",
    "print('len: ', len(dominoes))\n",
    "dominoes_list = list(dominoes)\n",
    "n = len(dominoes_list)\n",
    "dominoes_list\n",
    "\n",
    "# .L.R...LR..L.. -> .L. R...L R..L .. -> LL. RR.LL RRLL ..\n",
    "#                 -> --- 3---7 8--11 --\n",
    "\n",
    "segments = []\n",
    "temp_L = 0\n",
    "temp_R = 0\n",
    "i = 0\n",
    "while i < n:\n",
    "    if dominoes_list[i] == \"R\": # open\n",
    "\n",
    "        temp_R = max(i, temp_R)\n",
    "\n",
    "    if dominoes_list[i] == \"L\": # close\n",
    "        temp_L = max(i, temp_L)\n",
    "\n",
    "    if temp_L != 0 and temp_R != 0 and temp_R < temp_L:\n",
    "        segments.append([temp_R, temp_L, \"pair\"])\n",
    "        i = temp_L + 1\n",
    "        temp_L = 0\n",
    "        temp_R = 0\n",
    "    else:\n",
    "        i += 1\n",
    "    \n",
    "print(segments)\n",
    "\n",
    "full_segments = []\n",
    "prev_e = 0\n",
    "\n",
    "for seg in segments:\n",
    "    s, e, l = seg\n",
    "    if s > prev_e:\n",
    "        full_segments.append([prev_e, s - 1, \"unpair\"])\n",
    "    full_segments.append(seg)\n",
    "    prev_e = e + 1\n",
    "\n",
    "if prev_e < n:\n",
    "    full_segments.append([prev_e, n - 1, \"unpair\"])\n",
    "\n",
    "print(full_segments)\n",
    "\n",
    "ans = \"\"\n",
    "\n",
    "for i in range(len(full_segments)):\n",
    "\n",
    "    sub = dominoes_list[full_segments[i][0] : full_segments[i][1] + 1]\n",
    "    print(sub)\n",
    "    len_sub = len(sub)\n",
    "    if full_segments[i][2] == \"pair\":\n",
    "        \n",
    "        if (len_sub % 2 == 0):\n",
    "            sub_str = \"R\" * (len_sub // 2) + \"L\" * (len_sub // 2)\n",
    "        else:\n",
    "            sub_str = \"R\" * (len_sub // 2) + \".\" + \"L\" * (len_sub // 2)\n",
    "    elif full_segments[i][2] == \"unpair\":\n",
    "        temp_R_sub = float('inf')\n",
    "        temp_L_sub = 0\n",
    "        for j in range(len_sub):\n",
    "            if dominoes_list[j] == \"R\":\n",
    "                # print(1)\n",
    "                temp_R_sub = min(temp_R_sub, j)\n",
    "            if dominoes_list[j] == \"L\":\n",
    "                temp_L_sub = max(temp_L_sub, j)\n",
    "\n",
    "        sub_str = dominoes[full_segments[i][0] : full_segments[i][1] + 1]\n",
    "        print(sub_str)\n",
    "\n",
    "        if temp_L_sub != 0:\n",
    "            sub_str = \"L\" * (temp_L_sub - 1) + sub_str[temp_L_sub - 1:]\n",
    "        if temp_R_sub != float('inf'):\n",
    "            sub_str = sub_str[:temp_R_sub] + \"R\" * (len_sub - temp_R_sub)\n",
    "\n",
    "\n",
    "    ans += sub_str\n",
    "\n",
    "print(ans)\n",
    "print(len(ans))\n",
    "    "
   ]
  },
  {
   "cell_type": "code",
   "execution_count": 9,
   "metadata": {},
   "outputs": [
    {
     "data": {
      "text/plain": [
       "False"
      ]
     },
     "execution_count": 9,
     "metadata": {},
     "output_type": "execute_result"
    }
   ],
   "source": [
    "float('inf') != float('inf')"
   ]
  },
  {
   "cell_type": "code",
   "execution_count": 51,
   "metadata": {},
   "outputs": [
    {
     "data": {
      "text/plain": [
       "'RRRLLL'"
      ]
     },
     "execution_count": 51,
     "metadata": {},
     "output_type": "execute_result"
    }
   ],
   "source": [
    "test_1 = \"R\" *3\n",
    "test_2 = \"L\" * 3\n",
    "test_1 + test_2"
   ]
  },
  {
   "cell_type": "markdown",
   "metadata": {},
   "source": [
    "# **TESTCASES**"
   ]
  },
  {
   "cell_type": "code",
   "execution_count": 2,
   "metadata": {},
   "outputs": [
    {
     "name": "stdout",
     "output_type": "stream",
     "text": [
      "Case 1 - dominoes: RR.L, Output: None, Expected: RR.L, Status: FAILED\n",
      "Case 2 - dominoes: .L.R...LR..L.., Output: None, Expected: LL.RR.LLRRLL.., Status: FAILED\n"
     ]
    }
   ],
   "source": [
    "solution = Solution()\n",
    "\n",
    "def run_test_case(case_number, input_dominoes, expected):\n",
    "    result = solution.pushDominoes(input_dominoes)\n",
    "    status = \"PASSED\" if result == expected else \"FAILED\"\n",
    "    print(f\"Case {case_number} - dominoes: {input_dominoes}, Output: {result}, Expected: {expected}, Status: {status}\")\n",
    "\n",
    "test_cases = [\n",
    "    (1, \"RR.L\", \"RR.L\"),\n",
    "    (2, \".L.R...LR..L..\", \"LL.RR.LLRRLL..\"),\n",
    "]\n",
    "\n",
    "for case_number, input_dominoes, expected in test_cases:\n",
    "    run_test_case(case_number, input_dominoes, expected)\n"
   ]
  }
 ],
 "metadata": {
  "kernelspec": {
   "display_name": "Python 3",
   "language": "python",
   "name": "python3"
  },
  "language_info": {
   "codemirror_mode": {
    "name": "ipython",
    "version": 3
   },
   "file_extension": ".py",
   "mimetype": "text/x-python",
   "name": "python",
   "nbconvert_exporter": "python",
   "pygments_lexer": "ipython3",
   "version": "3.10.12"
  }
 },
 "nbformat": 4,
 "nbformat_minor": 2
}
