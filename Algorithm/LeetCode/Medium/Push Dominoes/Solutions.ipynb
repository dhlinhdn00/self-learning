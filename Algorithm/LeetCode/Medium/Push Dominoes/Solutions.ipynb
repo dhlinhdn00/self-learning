{
 "cells": [
  {
   "cell_type": "markdown",
   "metadata": {},
   "source": [
    "# **SOLUTION**"
   ]
  },
  {
   "cell_type": "code",
   "execution_count": 1,
   "metadata": {},
   "outputs": [],
   "source": [
    "class Solution(object):\n",
    "    def pushDominoes(self, dominoes):\n",
    "        \"\"\"\n",
    "        :type dominoes: str\n",
    "        :rtype: str\n",
    "        \"\"\"\n",
    "        pass\n",
    "    \n",
    "        "
   ]
  },
  {
   "cell_type": "markdown",
   "metadata": {},
   "source": [
    "# **DRAFT**"
   ]
  },
  {
   "cell_type": "markdown",
   "metadata": {},
   "source": [
    "# **TESTCASES**"
   ]
  },
  {
   "cell_type": "code",
   "execution_count": 2,
   "metadata": {},
   "outputs": [
    {
     "name": "stdout",
     "output_type": "stream",
     "text": [
      "Case 1 - dominoes: RR.L, Output: None, Expected: RR.L, Status: FAILED\n",
      "Case 2 - dominoes: .L.R...LR..L.., Output: None, Expected: LL.RR.LLRRLL.., Status: FAILED\n"
     ]
    }
   ],
   "source": [
    "solution = Solution()\n",
    "\n",
    "def run_test_case(case_number, input_dominoes, expected):\n",
    "    result = solution.pushDominoes(input_dominoes)\n",
    "    status = \"PASSED\" if result == expected else \"FAILED\"\n",
    "    print(f\"Case {case_number} - dominoes: {input_dominoes}, Output: {result}, Expected: {expected}, Status: {status}\")\n",
    "\n",
    "test_cases = [\n",
    "    (1, \"RR.L\", \"RR.L\"),\n",
    "    (2, \".L.R...LR..L..\", \"LL.RR.LLRRLL..\"),\n",
    "]\n",
    "\n",
    "for case_number, input_dominoes, expected in test_cases:\n",
    "    run_test_case(case_number, input_dominoes, expected)\n"
   ]
  }
 ],
 "metadata": {
  "kernelspec": {
   "display_name": "Python 3",
   "language": "python",
   "name": "python3"
  },
  "language_info": {
   "codemirror_mode": {
    "name": "ipython",
    "version": 3
   },
   "file_extension": ".py",
   "mimetype": "text/x-python",
   "name": "python",
   "nbconvert_exporter": "python",
   "pygments_lexer": "ipython3",
   "version": "3.10.12"
  }
 },
 "nbformat": 4,
 "nbformat_minor": 2
}
