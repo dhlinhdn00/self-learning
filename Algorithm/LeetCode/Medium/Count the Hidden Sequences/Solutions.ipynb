{
 "cells": [
  {
   "cell_type": "markdown",
   "metadata": {},
   "source": [
    "# **SOLUTION**"
   ]
  },
  {
   "cell_type": "code",
   "execution_count": 2,
   "metadata": {},
   "outputs": [],
   "source": [
    "class Solution(object):\n",
    "    def numberOfArrays(self, differences, lower, upper):\n",
    "        \"\"\"\n",
    "        :type differences: List[int]\n",
    "        :type lower: int\n",
    "        :type upper: int\n",
    "        :rtype: int\n",
    "        \"\"\"\n",
    "        return self.solverMath(differences, lower, upper)\n",
    "    \n",
    "    def solverMath(self, difs, l, u):\n",
    "        \"\"\"\n",
    "        :idea: convert differences to cumulative differences as [d0, d1, ..., dn+1] with d0 = 0.\n",
    "             : value-of-x array: [x, x + d1, x + d2, ... x + dn+1] with x is initialized.\n",
    "             : we know lower <= xi <= upper with xi in value-of-x array, or xi aka x + di.\n",
    "             : to satisfy the requirement, lower - di <= x <= upper - di.\n",
    "             : so that, di in lower - di should be minimum and di in upper - di should be maximum.\n",
    "        :cost: 96ms (93.75%) | 24MB (18.75%)\n",
    "        \"\"\"\n",
    "        cum_difs = [0]\n",
    "        temp = difs[0]\n",
    "        for i in range(1, len(difs)):\n",
    "            cum_difs.append(temp)\n",
    "            temp += difs[i]\n",
    "        cum_difs.append(temp)\n",
    "        check = (u - max(cum_difs)) - (l - min(cum_difs)) + 1\n",
    "        return check if check > 0 else 0\n",
    "        "
   ]
  },
  {
   "cell_type": "markdown",
   "metadata": {},
   "source": [
    "# **DRAFT**"
   ]
  },
  {
   "cell_type": "markdown",
   "metadata": {},
   "source": [
    "# **TESTCASES**"
   ]
  },
  {
   "cell_type": "code",
   "execution_count": 4,
   "metadata": {},
   "outputs": [
    {
     "name": "stdout",
     "output_type": "stream",
     "text": [
      "Case 1 - differences: [1, -3, 4], lower: 1, upper: 6, Output: 2, Expected: 2, Status: PASSED\n",
      "Case 2 - differences: [3, -4, 5, 1, -2], lower: -4, upper: 5, Output: 4, Expected: 4, Status: PASSED\n",
      "Case 3 - differences: [4, -7, 2], lower: 3, upper: 6, Output: 0, Expected: 0, Status: PASSED\n"
     ]
    }
   ],
   "source": [
    "solution = Solution()\n",
    "\n",
    "def run_test_case(case_number, input_differences, input_lower, input_upper, expected):\n",
    "    result = solution.numberOfArrays(input_differences, input_lower, input_upper)\n",
    "    status = \"PASSED\" if result == expected else \"FAILED\"\n",
    "    print(f\"Case {case_number} - differences: {input_differences}, lower: {input_lower}, upper: {input_upper}, Output: {result}, Expected: {expected}, Status: {status}\")\n",
    "\n",
    "test_cases = [\n",
    "    (1, [1,-3,4], 1, 6, 2),\n",
    "    (2, [3,-4,5,1,-2], -4, 5, 4),\n",
    "    (3, [4,-7,2], 3, 6, 0)\n",
    "]\n",
    "\n",
    "for case_number, input_differences, input_lower, input_upper, expected in test_cases:\n",
    "    run_test_case(case_number, input_differences, input_lower, input_upper, expected)"
   ]
  }
 ],
 "metadata": {
  "kernelspec": {
   "display_name": "base",
   "language": "python",
   "name": "python3"
  },
  "language_info": {
   "codemirror_mode": {
    "name": "ipython",
    "version": 3
   },
   "file_extension": ".py",
   "mimetype": "text/x-python",
   "name": "python",
   "nbconvert_exporter": "python",
   "pygments_lexer": "ipython3",
   "version": "3.11.5"
  }
 },
 "nbformat": 4,
 "nbformat_minor": 2
}
