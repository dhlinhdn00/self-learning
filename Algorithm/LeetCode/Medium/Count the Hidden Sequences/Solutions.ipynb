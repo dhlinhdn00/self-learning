{
 "cells": [
  {
   "cell_type": "markdown",
   "metadata": {},
   "source": [
    "# **SOLUTION**"
   ]
  },
  {
   "cell_type": "code",
   "execution_count": 2,
   "metadata": {},
   "outputs": [],
   "source": [
    "class Solution(object):\n",
    "    def numberOfArrays(self, differences, lower, upper):\n",
    "        \"\"\"\n",
    "        :type differences: List[int]\n",
    "        :type lower: int\n",
    "        :type upper: int\n",
    "        :rtype: int\n",
    "        \"\"\"\n",
    "        return self.solverMath(differences, lower, upper)\n",
    "    \n",
    "    def solverMath(self, difs, l, u):\n",
    "        \"\"\"\n",
    "        :idea: convert differences to cumulative differences as [d0, d1, ..., dn+1] with d0 = 0.\n",
    "             : value-of-x array: [x, x + d1, x + d2, ... x + dn+1] with x is initialized.\n",
    "             : we know lower <= xi <= upper with xi in value-of-x array, or xi aka x + di.\n",
    "             : to satisfy the requirement, lower - di <= x <= upper - di.\n",
    "             : so that, di in lower - di should be minimum and di in upper - di should be maximum.\n",
    "        :cost: 96ms (93.75%) | 24MB (18.75%)\n",
    "        \"\"\"\n",
    "        cum_difs = [0]\n",
    "        temp = difs[0]\n",
    "        for i in range(1, len(difs)):\n",
    "            cum_difs.append(temp)\n",
    "            temp += difs[i]\n",
    "        cum_difs.append(temp)\n",
    "        check = (u - max(cum_difs)) - (l - min(cum_difs)) + 1\n",
    "        return check if check > 0 else 0\n",
    "        "
   ]
  },
  {
   "cell_type": "markdown",
   "metadata": {},
   "source": [
    "# **DRAFT**"
   ]
  },
  {
   "cell_type": "markdown",
   "metadata": {},
   "source": [
    "# **TESTCASES**"
   ]
  },
  {
   "cell_type": "code",
   "execution_count": null,
   "metadata": {},
   "outputs": [
    {
     "ename": "ValueError",
     "evalue": "too many values to unpack (expected 3)",
     "output_type": "error",
     "traceback": [
      "\u001b[1;31m---------------------------------------------------------------------------\u001b[0m",
      "\u001b[1;31mValueError\u001b[0m                                Traceback (most recent call last)",
      "Cell \u001b[1;32mIn[3], line 14\u001b[0m\n\u001b[0;32m      6\u001b[0m     \u001b[38;5;28mprint\u001b[39m(\u001b[38;5;124mf\u001b[39m\u001b[38;5;124m\"\u001b[39m\u001b[38;5;124mCase \u001b[39m\u001b[38;5;132;01m{\u001b[39;00mcase_number\u001b[38;5;132;01m}\u001b[39;00m\u001b[38;5;124m - differences: \u001b[39m\u001b[38;5;132;01m{\u001b[39;00minput_differences\u001b[38;5;132;01m}\u001b[39;00m\u001b[38;5;124m, lower: \u001b[39m\u001b[38;5;132;01m{\u001b[39;00minput_lower\u001b[38;5;132;01m}\u001b[39;00m\u001b[38;5;124m, upper: \u001b[39m\u001b[38;5;132;01m{\u001b[39;00minput_upper\u001b[38;5;132;01m}\u001b[39;00m\u001b[38;5;124m, Output: \u001b[39m\u001b[38;5;132;01m{\u001b[39;00mresult\u001b[38;5;132;01m}\u001b[39;00m\u001b[38;5;124m, Expected: \u001b[39m\u001b[38;5;132;01m{\u001b[39;00mexpected\u001b[38;5;132;01m}\u001b[39;00m\u001b[38;5;124m, Status: \u001b[39m\u001b[38;5;132;01m{\u001b[39;00mstatus\u001b[38;5;132;01m}\u001b[39;00m\u001b[38;5;124m\"\u001b[39m)\n\u001b[0;32m      8\u001b[0m test_cases \u001b[38;5;241m=\u001b[39m [\n\u001b[0;32m      9\u001b[0m     (\u001b[38;5;241m1\u001b[39m, [\u001b[38;5;241m1\u001b[39m,\u001b[38;5;241m-\u001b[39m\u001b[38;5;241m3\u001b[39m,\u001b[38;5;241m4\u001b[39m], \u001b[38;5;241m1\u001b[39m, \u001b[38;5;241m6\u001b[39m, \u001b[38;5;241m2\u001b[39m),\n\u001b[0;32m     10\u001b[0m     (\u001b[38;5;241m2\u001b[39m, [\u001b[38;5;241m3\u001b[39m,\u001b[38;5;241m-\u001b[39m\u001b[38;5;241m4\u001b[39m,\u001b[38;5;241m5\u001b[39m,\u001b[38;5;241m1\u001b[39m,\u001b[38;5;241m-\u001b[39m\u001b[38;5;241m2\u001b[39m], \u001b[38;5;241m-\u001b[39m\u001b[38;5;241m4\u001b[39m, \u001b[38;5;241m5\u001b[39m, \u001b[38;5;241m4\u001b[39m),\n\u001b[0;32m     11\u001b[0m     (\u001b[38;5;241m3\u001b[39m, [\u001b[38;5;241m4\u001b[39m,\u001b[38;5;241m-\u001b[39m\u001b[38;5;241m7\u001b[39m,\u001b[38;5;241m2\u001b[39m], \u001b[38;5;241m3\u001b[39m, \u001b[38;5;241m6\u001b[39m, \u001b[38;5;241m0\u001b[39m)\n\u001b[0;32m     12\u001b[0m ]\n\u001b[1;32m---> 14\u001b[0m \u001b[38;5;28;01mfor\u001b[39;00m case_number, input_n, expected \u001b[38;5;129;01min\u001b[39;00m test_cases:\n\u001b[0;32m     15\u001b[0m     run_test_case(case_number, input_n, expected)\n",
      "\u001b[1;31mValueError\u001b[0m: too many values to unpack (expected 3)"
     ]
    }
   ],
   "source": [
    "solution = Solution()\n",
    "\n",
    "def run_test_case(case_number, input_differences, input_lower, input_upper, expected):\n",
    "    result = solution.numberOfArrays(input_differences, input_lower, input_upper)\n",
    "    status = \"PASSED\" if result == expected else \"FAILED\"\n",
    "    print(f\"Case {case_number} - differences: {input_differences}, lower: {input_lower}, upper: {input_upper}, Output: {result}, Expected: {expected}, Status: {status}\")\n",
    "\n",
    "test_cases = [\n",
    "    (1, [1,-3,4], 1, 6, 2),\n",
    "    (2, [3,-4,5,1,-2], -4, 5, 4),\n",
    "    (3, [4,-7,2], 3, 6, 0)\n",
    "]\n",
    "\n",
    "for case_number, input_differences, input_lower, input_upper, expected in test_cases:\n",
    "    run_test_case(case_number, input_differences, input_lower, input_upper, expected)"
   ]
  }
 ],
 "metadata": {
  "kernelspec": {
   "display_name": "base",
   "language": "python",
   "name": "python3"
  },
  "language_info": {
   "codemirror_mode": {
    "name": "ipython",
    "version": 3
   },
   "file_extension": ".py",
   "mimetype": "text/x-python",
   "name": "python",
   "nbconvert_exporter": "python",
   "pygments_lexer": "ipython3",
   "version": "3.11.5"
  }
 },
 "nbformat": 4,
 "nbformat_minor": 2
}
