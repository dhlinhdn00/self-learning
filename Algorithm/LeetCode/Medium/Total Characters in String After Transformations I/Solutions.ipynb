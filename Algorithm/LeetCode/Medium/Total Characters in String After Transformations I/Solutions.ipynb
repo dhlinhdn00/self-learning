{
 "cells": [
  {
   "cell_type": "markdown",
   "metadata": {},
   "source": [
    "# **SOLUTION**"
   ]
  },
  {
   "cell_type": "code",
   "execution_count": 9,
   "metadata": {},
   "outputs": [],
   "source": [
    "class Solution(object):\n",
    "    def lengthAfterTransformations(self, s, t):\n",
    "        \"\"\"\n",
    "        :type s: str\n",
    "        :type t: int\n",
    "        :rtype: int\n",
    "        \"\"\"\n",
    "        MOD = 10**9 + 7\n",
    "        return self.solverDP(s, t, MOD)\n",
    "    \n",
    "    def solverDP(self, s, t, MOD):\n",
    "        \"\"\"\n",
    "        :cost: 6695ms (50%) | 1423MB (62.50%)\n",
    "        \"\"\"\n",
    "        f = 26 *[0]\n",
    "        \n",
    "        for ch in s:\n",
    "            f[ord(ch) - ord(\"a\")] += 1\n",
    "\n",
    "        for _ in range(t):\n",
    "            nf = 26 * [0]\n",
    "            for i in range(26):\n",
    "                if i == 25:\n",
    "                    nf[0] = (nf[0] + f[i]) % MOD\n",
    "                    nf[1] = (nf[1] + f[i]) % MOD\n",
    "                else:\n",
    "                    nf[i + 1] = (nf[i + 1] + f[i]) % MOD\n",
    "            f = nf\n",
    "        \n",
    "        return (sum(f) % MOD)\n"
   ]
  },
  {
   "cell_type": "markdown",
   "metadata": {},
   "source": [
    "# **DRAFT**"
   ]
  },
  {
   "cell_type": "code",
   "execution_count": null,
   "metadata": {},
   "outputs": [
    {
     "name": "stdout",
     "output_type": "stream",
     "text": [
      "7\n"
     ]
    }
   ],
   "source": [
    "s = \"abcyy\"\n",
    "t = 2\n",
    "\n",
    "MOD = 10**9 + 7\n",
    "\n",
    "f = [0] * 26\n",
    "\n",
    "for ch in s:\n",
    "    f[ord(ch) - ord('a')] += 1\n",
    "\n",
    "for _ in range(t):\n",
    "    nf = [0] * 26\n",
    "    for i in range(26):\n",
    "        if i == 25:\n",
    "            nf[0] = (nf[0] + f[i]) % MOD\n",
    "            nf[1] = (nf[1] + f[i]) % MOD\n",
    "        else:\n",
    "            nf[i + 1] = (nf[i + 1] + f[i]) % MOD\n",
    "        \n",
    "    f = nf\n",
    "\n",
    "print(sum(f) % MOD)\n",
    "        \n"
   ]
  },
  {
   "cell_type": "markdown",
   "metadata": {},
   "source": [
    "# **TESTCASES**"
   ]
  },
  {
   "cell_type": "code",
   "execution_count": 8,
   "metadata": {},
   "outputs": [
    {
     "name": "stdout",
     "output_type": "stream",
     "text": [
      "Case 1 - s: abcyy, t: 2, Output: 7, Expected: 7, Status: PASSED\n",
      "Case 2 - s: azbk, t: 1, Output: 5, Expected: 5, Status: PASSED\n"
     ]
    }
   ],
   "source": [
    "solution = Solution()\n",
    "\n",
    "def run_test_case(case_number, input_s, input_t, expected):\n",
    "    result = solution.lengthAfterTransformations(input_s, input_t)\n",
    "    status = \"PASSED\" if result == expected else \"FAILED\"\n",
    "    print(f\"Case {case_number} - s: {input_s}, t: {input_t}, Output: {result}, Expected: {expected}, Status: {status}\")\n",
    "\n",
    "test_cases = [\n",
    "    (1, \"abcyy\", 2, 7),\n",
    "    (2, \"azbk\", 1, 5)\n",
    "]\n",
    "\n",
    "for case_number, input_s, input_t, expected in test_cases:\n",
    "    run_test_case(case_number, input_s, input_t, expected)"
   ]
  }
 ],
 "metadata": {
  "kernelspec": {
   "display_name": "Python 3",
   "language": "python",
   "name": "python3"
  },
  "language_info": {
   "codemirror_mode": {
    "name": "ipython",
    "version": 3
   },
   "file_extension": ".py",
   "mimetype": "text/x-python",
   "name": "python",
   "nbconvert_exporter": "python",
   "pygments_lexer": "ipython3",
   "version": "3.10.12"
  }
 },
 "nbformat": 4,
 "nbformat_minor": 2
}
