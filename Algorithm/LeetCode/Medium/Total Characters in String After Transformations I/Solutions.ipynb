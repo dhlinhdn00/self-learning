{
 "cells": [
  {
   "cell_type": "markdown",
   "metadata": {},
   "source": [
    "# **SOLUTION**"
   ]
  },
  {
   "cell_type": "code",
   "execution_count": 1,
   "metadata": {},
   "outputs": [],
   "source": [
    "class Solution(object):\n",
    "    def lengthAfterTransformations(self, s, t, nums):\n",
    "        \"\"\"\n",
    "        :type s: str\n",
    "        :type t: int\n",
    "        :type nums: List[int]\n",
    "        :rtype: int\n",
    "        \"\"\"\n",
    "        MOD = 10**9 + 7\n",
    "        return self.solverGPT(s, t, nums, MOD)\n",
    "    \n",
    "    def solverGPT(self, s, t, nums, MOD):\n",
    "        n = 26\n",
    "        \n",
    "        M = [[0]*n for _ in range(n)]\n",
    "        for a in range(n):\n",
    "            for k in range(1, nums[a] + 1):\n",
    "                b = (a + k) % n\n",
    "                M[a][b] += 1\n",
    "        \n",
    "        def matMul(A, B):\n",
    "            C = [[0]*n for _ in range(n)]\n",
    "            for i in range(n):\n",
    "                for k in range(n):\n",
    "                    if A[i][k]:\n",
    "                        aik = A[i][k]\n",
    "                        rowC = C[i]\n",
    "                        rowB = B[k]\n",
    "                        for j in range(n):\n",
    "                            rowC[j] = (rowC[j] + aik * rowB[j]) % MOD\n",
    "            return C\n",
    "        \n",
    "        def matPow(mat, power):\n",
    "            I = [[1 if i==j else 0 for j in range(n)] for i in range(n)]\n",
    "            base = mat\n",
    "            res = I\n",
    "            while power:\n",
    "                if power & 1:\n",
    "                    res = matMul(res, base)\n",
    "                base = matMul(base, base)\n",
    "                power >>= 1\n",
    "            return res\n",
    "        \n",
    "        P = matPow(M, t)\n",
    "        \n",
    "        cnt = [0]*n\n",
    "        for ch in s:\n",
    "            cnt[ord(ch)-97] += 1\n",
    "        \n",
    "        ans = 0\n",
    "        for a in range(n):\n",
    "            if cnt[a]:\n",
    "                total_from_a = sum(P[a]) % MOD\n",
    "                ans = (ans + cnt[a] * total_from_a) % MOD\n",
    "        \n",
    "        return ans"
   ]
  },
  {
   "cell_type": "markdown",
   "metadata": {},
   "source": [
    "# **DRAFT**"
   ]
  },
  {
   "cell_type": "markdown",
   "metadata": {},
   "source": [
    "# **TESTCASES**"
   ]
  },
  {
   "cell_type": "code",
   "execution_count": 2,
   "metadata": {},
   "outputs": [
    {
     "name": "stdout",
     "output_type": "stream",
     "text": [
      "Case 1 - s: abcyy, t: 2, nums: [1, 1, 1, 1, 1, 1, 1, 1, 1, 1, 1, 1, 1, 1, 1, 1, 1, 1, 1, 1, 1, 1, 1, 1, 1, 2], Output: 7, Expected: 7, Status: PASSED\n",
      "Case 2 - s: azbk, t: 1, nums: [2, 2, 2, 2, 2, 2, 2, 2, 2, 2, 2, 2, 2, 2, 2, 2, 2, 2, 2, 2, 2, 2, 2, 2, 2, 2], Output: 8, Expected: 8, Status: PASSED\n"
     ]
    }
   ],
   "source": [
    "solution = Solution()\n",
    "\n",
    "def run_test_case(case_number, input_s, input_t, input_nums, expected):\n",
    "    result = solution.lengthAfterTransformations(input_s, input_t, input_nums)\n",
    "    status = \"PASSED\" if result == expected else \"FAILED\"\n",
    "    print(f\"Case {case_number} - s: {input_s}, t: {input_t}, nums: {input_nums}, Output: {result}, Expected: {expected}, Status: {status}\")\n",
    "\n",
    "test_cases = [\n",
    "    (1, \"abcyy\", 2, [1,1,1,1,1,1,1,1,1,1,1,1,1,1,1,1,1,1,1,1,1,1,1,1,1,2], 7),\n",
    "    (2, \"azbk\", 1, [2,2,2,2,2,2,2,2,2,2,2,2,2,2,2,2,2,2,2,2,2,2,2,2,2,2], 8)\n",
    "]\n",
    "\n",
    "for case_number, input_s, input_t, input_nums, expected in test_cases:\n",
    "    run_test_case(case_number, input_s, input_t, input_nums, expected)"
   ]
  }
 ],
 "metadata": {
  "kernelspec": {
   "display_name": "Python 3",
   "language": "python",
   "name": "python3"
  },
  "language_info": {
   "codemirror_mode": {
    "name": "ipython",
    "version": 3
   },
   "file_extension": ".py",
   "mimetype": "text/x-python",
   "name": "python",
   "nbconvert_exporter": "python",
   "pygments_lexer": "ipython3",
   "version": "3.10.12"
  }
 },
 "nbformat": 4,
 "nbformat_minor": 2
}
