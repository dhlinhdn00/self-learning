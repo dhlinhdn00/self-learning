{
 "cells": [
  {
   "cell_type": "markdown",
   "metadata": {},
   "source": [
    "# **SOLUTION**"
   ]
  },
  {
   "cell_type": "code",
   "execution_count": 7,
   "metadata": {},
   "outputs": [],
   "source": [
    "class Solution(object):\n",
    "    def countOfSubstrings(self, word, k):\n",
    "        \"\"\"\n",
    "        :type word: str\n",
    "        :type k: int\n",
    "        :rtype: int\n",
    "        \"\"\"\n",
    "        return self.solverNaive(word, k)\n",
    "\n",
    "    def solverNaive(self, word, k):\n",
    "        subn = k + 5\n",
    "        vowels = set(aeiou)\n",
    "        n = len(word)\n",
    "        for i in range(n - subn):\n",
    "            if vowels.issubset(set(word)):\n",
    "                \n",
    "\n",
    "        \n"
   ]
  },
  {
   "cell_type": "markdown",
   "metadata": {},
   "source": [
    "# **DRAFT**"
   ]
  },
  {
   "cell_type": "code",
   "execution_count": 9,
   "metadata": {},
   "outputs": [],
   "source": [
    "word = \"aeiuoqq\"\n",
    "k = 1\n",
    "vowels = set(\"aeiou\")"
   ]
  },
  {
   "cell_type": "code",
   "execution_count": 10,
   "metadata": {},
   "outputs": [
    {
     "name": "stdout",
     "output_type": "stream",
     "text": [
      "True\n"
     ]
    }
   ],
   "source": [
    "if vowels.issubset(set(word)):\n",
    "    print(True)"
   ]
  },
  {
   "cell_type": "markdown",
   "metadata": {},
   "source": [
    "# **TESTCASES**"
   ]
  },
  {
   "cell_type": "code",
   "execution_count": 9,
   "metadata": {},
   "outputs": [
    {
     "name": "stdout",
     "output_type": "stream",
     "text": [
      "Case 1 - words1: ['amazon', 'apple', 'facebook', 'google', 'leetcode'], words2: ['e', 'o'], Output: ['facebook', 'google', 'leetcode'], Expected: ['facebook', 'google', 'leetcode'], Status: PASSED\n",
      "Case 2 - words1: ['amazon', 'apple', 'facebook', 'google', 'leetcode'], words2: ['lc', 'eo'], Output: ['leetcode'], Expected: ['leetcode'], Status: PASSED\n",
      "Case 3 - words1: ['acaac', 'cccbb', 'aacbb', 'caacc', 'bcbbb'], words2: ['c', 'cc', 'b'], Output: ['cccbb'], Expected: ['cccbb'], Status: PASSED\n"
     ]
    }
   ],
   "source": [
    "solution = Solution()\n",
    "\n",
    "def run_test_case(case_number, input_word, input_k, expected):\n",
    "    result = solution.countOfSubstrings(input_word, input_k)\n",
    "    status = \"PASSED\" if result == expected else \"FAILED\"\n",
    "    print(f\"Case {case_number} - word: {input_word}, k: {input_k}, Output: {result}, Expected: {expected}, Status: {status}\")\n",
    "\n",
    "test_cases = [\n",
    "    (1, \"aeioqq\", 1, 0),\n",
    "    (2, \"aeiou\", 0, 1),\n",
    "    (3, \"ieaouqqieaouqq\", 1, 3)\n",
    "]\n",
    "\n",
    "for case_number, input_word, input_k, expected in test_cases:\n",
    "    run_test_case(case_number, input_word, input_k, expected)"
   ]
  }
 ],
 "metadata": {
  "kernelspec": {
   "display_name": "base",
   "language": "python",
   "name": "python3"
  },
  "language_info": {
   "codemirror_mode": {
    "name": "ipython",
    "version": 3
   },
   "file_extension": ".py",
   "mimetype": "text/x-python",
   "name": "python",
   "nbconvert_exporter": "python",
   "pygments_lexer": "ipython3",
   "version": "3.10.12"
  }
 },
 "nbformat": 4,
 "nbformat_minor": 2
}
