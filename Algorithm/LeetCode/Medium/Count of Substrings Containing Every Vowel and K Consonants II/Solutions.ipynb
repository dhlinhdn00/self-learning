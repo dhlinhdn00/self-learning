{
 "cells": [
  {
   "cell_type": "markdown",
   "metadata": {},
   "source": [
    "# **SOLUTION**"
   ]
  },
  {
   "cell_type": "code",
   "execution_count": 4,
   "metadata": {},
   "outputs": [],
   "source": [
    "class Solution(object):\n",
    "    def countOfSubstrings(self, word, k):\n",
    "        \"\"\"\n",
    "        :type word: str\n",
    "        :type k: int\n",
    "        :rtype: int\n",
    "        \"\"\"\n",
    "        return self.solverImproved(word, k)\n",
    "\n",
    "    def solverNaive(self, word, k):\n",
    "        vowels = set(\"aeiou\")\n",
    "        n = len(word)\n",
    "        count = 0\n",
    "        min_length = k + 5\n",
    "        \n",
    "        for i in range(n - min_length + 1):\n",
    "            cons_count = 0\n",
    "            vowels_seen = set()\n",
    "            for idx in range(min_length):\n",
    "                c = word[i + idx]\n",
    "                if c in vowels:\n",
    "                    vowels_seen.add(c)\n",
    "                else:\n",
    "                    cons_count += 1\n",
    "            if cons_count == k and len(vowels_seen) == 5:\n",
    "                count += 1\n",
    "            for j in range(min_length, n - i):\n",
    "                c = word[i + j]\n",
    "                if c in vowels:\n",
    "                    vowels_seen.add(c)\n",
    "                else:\n",
    "                    cons_count += 1\n",
    "                if cons_count > k:\n",
    "                    break  \n",
    "                if cons_count == k and len(vowels_seen) == 5:\n",
    "                    count += 1\n",
    "        return count\n",
    "\n",
    "    def solverImproved(self, word, k):\n",
    "        def upper_bound(a, x):\n",
    "            low, high = 0, len(a)\n",
    "            while low < high:\n",
    "                mid = (low + high) // 2\n",
    "                if a[mid] <= x:\n",
    "                    low = mid + 1\n",
    "                else:\n",
    "                    high = mid\n",
    "            return low\n",
    "    \n",
    "        n = len(word)\n",
    "        if n < 5:\n",
    "            return 0\n",
    "\n",
    "        vowels = {'a','e','i','o','u'}\n",
    "        \n",
    "        p = [0] * (n+1)\n",
    "        for i in range(n):\n",
    "            p[i+1] = p[i] + (0 if word[i] in vowels else 1)\n",
    "        \n",
    "        total_cons = p[n]  \n",
    "        if total_cons < k:\n",
    "            return 0\n",
    "        \n",
    "        sumToIndices = {}\n",
    "        for i in range(n+1):\n",
    "            s = p[i]\n",
    "            if s not in sumToIndices:\n",
    "                sumToIndices[s] = []\n",
    "            sumToIndices[s].append(i)\n",
    "\n",
    "        def vowel_index(ch):\n",
    "            if ch == 'a': return 0\n",
    "            if ch == 'e': return 1\n",
    "            if ch == 'i': return 2\n",
    "            if ch == 'o': return 3\n",
    "            return 4  # 'u'\n",
    "        \n",
    "        lastPos = [-1, -1, -1, -1, -1]\n",
    "        ans = 0\n",
    "        \n",
    "        for R in range(n):\n",
    "            ch = word[R]\n",
    "            if ch in vowels:\n",
    "                lastPos[vowel_index(ch)] = R\n",
    "            \n",
    "            if -1 in lastPos:\n",
    "                continue\n",
    "            \n",
    "            m = min(lastPos)  \n",
    "            \n",
    "            s = p[R+1] - k\n",
    "            if s not in sumToIndices:\n",
    "                continue\n",
    "            \n",
    "            arr = sumToIndices[s]\n",
    "            c = upper_bound(arr, m)\n",
    "            ans += c\n",
    "        \n",
    "        return ans"
   ]
  },
  {
   "cell_type": "markdown",
   "metadata": {},
   "source": [
    "# **DRAFT**"
   ]
  },
  {
   "cell_type": "code",
   "execution_count": 1,
   "metadata": {},
   "outputs": [],
   "source": [
    "word = \"aeiuoqq\"\n",
    "k = 1\n",
    "vowels = set(\"aeiou\")"
   ]
  },
  {
   "cell_type": "code",
   "execution_count": 2,
   "metadata": {},
   "outputs": [
    {
     "name": "stdout",
     "output_type": "stream",
     "text": [
      "True\n"
     ]
    }
   ],
   "source": [
    "if vowels.issubset(set(word)):\n",
    "    print(True)"
   ]
  },
  {
   "cell_type": "markdown",
   "metadata": {},
   "source": [
    "# **TESTCASES**"
   ]
  },
  {
   "cell_type": "code",
   "execution_count": 5,
   "metadata": {},
   "outputs": [
    {
     "name": "stdout",
     "output_type": "stream",
     "text": [
      "Case 1 - word: aeioqq, k: 1, Output: 0, Expected: 0, Status: PASSED\n",
      "Case 2 - word: aeiou, k: 0, Output: 1, Expected: 1, Status: PASSED\n",
      "Case 3 - word: ieaouqqieaouqq, k: 1, Output: 3, Expected: 3, Status: PASSED\n"
     ]
    }
   ],
   "source": [
    "solution = Solution()\n",
    "\n",
    "def run_test_case(case_number, input_word, input_k, expected):\n",
    "    result = solution.countOfSubstrings(input_word, input_k)\n",
    "    status = \"PASSED\" if result == expected else \"FAILED\"\n",
    "    print(f\"Case {case_number} - word: {input_word}, k: {input_k}, Output: {result}, Expected: {expected}, Status: {status}\")\n",
    "\n",
    "test_cases = [\n",
    "    (1, \"aeioqq\", 1, 0),\n",
    "    (2, \"aeiou\", 0, 1),\n",
    "    (3, \"ieaouqqieaouqq\", 1, 3)\n",
    "]\n",
    "\n",
    "for case_number, input_word, input_k, expected in test_cases:\n",
    "    run_test_case(case_number, input_word, input_k, expected)"
   ]
  }
 ],
 "metadata": {
  "kernelspec": {
   "display_name": "Python 3",
   "language": "python",
   "name": "python3"
  },
  "language_info": {
   "codemirror_mode": {
    "name": "ipython",
    "version": 3
   },
   "file_extension": ".py",
   "mimetype": "text/x-python",
   "name": "python",
   "nbconvert_exporter": "python",
   "pygments_lexer": "ipython3",
   "version": "3.10.12"
  }
 },
 "nbformat": 4,
 "nbformat_minor": 2
}
