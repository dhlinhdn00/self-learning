{
 "cells": [
  {
   "cell_type": "markdown",
   "metadata": {},
   "source": [
    "# **SOLUTION**"
   ]
  },
  {
   "cell_type": "code",
   "execution_count": 1,
   "metadata": {},
   "outputs": [],
   "source": [
    "class Solution(object):\n",
    "    def findRedundantConnection(self, edges):\n",
    "        \"\"\"\n",
    "        :type edges: List[List[int]]\n",
    "        :rtype: List[int]\n",
    "        \"\"\"\n",
    "        return self.solverGPT(edges)\n",
    "\n",
    "    def solverGPT(self, edges):\n",
    "        parent = {}\n",
    "\n",
    "        def find(x):\n",
    "            # Find the ancestor of x with path compression\n",
    "            if parent[x] != x:\n",
    "                parent[x] = find(parent[x])\n",
    "            return parent[x]\n",
    "\n",
    "        for edge in edges:\n",
    "            a, b = edge\n",
    "            # If the vertex hasn't been initialized, set it as its own ancestor\n",
    "            if a not in parent:\n",
    "                parent[a] = a\n",
    "            if b not in parent:\n",
    "                parent[b] = b\n",
    "\n",
    "            # Find the ancestors of a and b\n",
    "            root_a = find(a)\n",
    "            root_b = find(b)\n",
    "\n",
    "            if root_a == root_b:\n",
    "                # If they have the same ancestor, this edge creates a cycle\n",
    "                redundant = edge\n",
    "            else:\n",
    "                # If they have different ancestors, merge the two sets\n",
    "                parent[root_b] = root_a\n",
    "\n",
    "        return redundant"
   ]
  },
  {
   "cell_type": "markdown",
   "metadata": {},
   "source": [
    "# **DRAFT**"
   ]
  },
  {
   "cell_type": "code",
   "execution_count": 3,
   "metadata": {},
   "outputs": [
    {
     "name": "stdout",
     "output_type": "stream",
     "text": [
      "Not completed\n"
     ]
    }
   ],
   "source": [
    "print(\"Not completed\")"
   ]
  },
  {
   "cell_type": "code",
   "execution_count": 1,
   "metadata": {},
   "outputs": [
    {
     "name": "stdout",
     "output_type": "stream",
     "text": [
      "Not completed\n"
     ]
    }
   ],
   "source": [
    "print(\"Not completed\")"
   ]
  },
  {
   "cell_type": "markdown",
   "metadata": {},
   "source": [
    "# **TESTCASES**"
   ]
  },
  {
   "cell_type": "code",
   "execution_count": 2,
   "metadata": {},
   "outputs": [
    {
     "name": "stdout",
     "output_type": "stream",
     "text": [
      "Case 1 - edges: [[1, 2], [1, 3], [2, 3]], Output: [2, 3], Expected: [2, 3], Status: PASSED\n",
      "Case 2 - edges: [[1, 2], [2, 3], [3, 4], [1, 4], [1, 5]], Output: [1, 4], Expected: [1, 4], Status: PASSED\n"
     ]
    }
   ],
   "source": [
    "solution = Solution()\n",
    "\n",
    "def run_test_case(case_number, input_edges, expected):\n",
    "    result = solution.findRedundantConnection(input_edges)\n",
    "    status = \"PASSED\" if result == expected else \"FAILED\"\n",
    "    print(f\"Case {case_number} - edges: {input_edges}, Output: {result}, Expected: {expected}, Status: {status}\")\n",
    "\n",
    "test_cases = [\n",
    "    (1, [[1,2],[1,3],[2,3]], [2,3]),\n",
    "    (2, [[1,2],[2,3],[3,4],[1,4],[1,5]], [1,4])\n",
    "]\n",
    "\n",
    "for case_number, input_edges, expected in test_cases:\n",
    "    run_test_case(case_number, input_edges, expected)"
   ]
  }
 ],
 "metadata": {
  "kernelspec": {
   "display_name": "Python 3",
   "language": "python",
   "name": "python3"
  },
  "language_info": {
   "codemirror_mode": {
    "name": "ipython",
    "version": 3
   },
   "file_extension": ".py",
   "mimetype": "text/x-python",
   "name": "python",
   "nbconvert_exporter": "python",
   "pygments_lexer": "ipython3",
   "version": "3.10.12"
  }
 },
 "nbformat": 4,
 "nbformat_minor": 2
}
