{
 "cells": [
  {
   "cell_type": "markdown",
   "metadata": {},
   "source": [
    "# **SOLUTION**"
   ]
  },
  {
   "cell_type": "code",
   "execution_count": null,
   "metadata": {},
   "outputs": [],
   "source": [
    "class Solution(object):\n",
    "    def closestMeetingNode(self, edges, node1, node2):\n",
    "        \"\"\"\n",
    "        :type edges: List[int]\n",
    "        :type node1: int\n",
    "        :type node2: int\n",
    "        :rtype: int\n",
    "        \"\"\"\n",
    "        return self.solverDFS(edges, node1, node2)\n",
    "    \n",
    "    @staticmethod\n",
    "    def _dfsDistanceList(edges, start_node, n):\n",
    "        visited = [-1] * n\n",
    "        current_node = start_node\n",
    "        distance_temp = 0\n",
    "\n",
    "        while current_node != -1 and visited[current_node] == -1: # visited[current_node] == -1 for countering cycle\n",
    "            visited[current_node] = distance_temp\n",
    "            current_node = edges[current_node]\n",
    "            distance_temp += 1\n",
    "\n",
    "        return visited\n",
    "\n",
    "    \n",
    "    def solverDFS(self, edges, node1, node2):\n",
    "        \"\"\"\n",
    "        :cost: 119ms (94.12%) | 26.01MB (94.12%)\n",
    "        \"\"\"\n",
    "        n = len(edges)\n",
    "        dist_l1 = Solution._dfsDistanceList(edges, node1, n)\n",
    "        dist_l2 = Solution._dfsDistanceList(edges, node2, n)\n",
    "        \n",
    "        min_of_max_val = float(\"inf\")\n",
    "        min_index = -1\n",
    "        for i in range(n):\n",
    "            if dist_l1[i] != -1 and dist_l2[i] != -1:\n",
    "                max_val = max(dist_l1[i], dist_l2[i])\n",
    "                if max_val < min_of_max_val:\n",
    "                    min_of_max_val = max_val\n",
    "                    min_index = i\n",
    "        return min_index\n",
    "        "
   ]
  },
  {
   "cell_type": "markdown",
   "metadata": {},
   "source": [
    "# **DRAFT**"
   ]
  },
  {
   "cell_type": "code",
   "execution_count": 17,
   "metadata": {},
   "outputs": [],
   "source": [
    "# DFS\n",
    "edges = [1,2,-1]\n",
    "n = len(edges)\n",
    "node1 = 0\n",
    "node2 = 2\n",
    "\n",
    "def _dfsDistanceList(edges, start_node, n):\n",
    "    visited = [-1] * n\n",
    "    current_node = start_node\n",
    "    distance_temp = 0\n",
    "    while current_node != -1 and visited[current_node] == -1:\n",
    "        visited[current_node] = distance_temp\n",
    "        current_node = edges[current_node]\n",
    "        distance_temp += 1\n",
    "    \n",
    "    return visited"
   ]
  },
  {
   "cell_type": "code",
   "execution_count": 18,
   "metadata": {},
   "outputs": [
    {
     "name": "stdout",
     "output_type": "stream",
     "text": [
      "[0, 1, 2]\n",
      "[-1, -1, 0]\n",
      "2\n"
     ]
    }
   ],
   "source": [
    "dist_l1 = _dfsDistanceList(edges, node1, n)\n",
    "dist_l2 = _dfsDistanceList(edges, node2, n)\n",
    "print(dist_l1)\n",
    "print(dist_l2)\n",
    "\n",
    "min_of_max_val = float(\"inf\")\n",
    "min_index = None\n",
    "\n",
    "for i in range(n):\n",
    "    if dist_l1[i] != -1 and dist_l2[i] != -1:\n",
    "        max_val = max(dist_l1[i], dist_l2[i])\n",
    "        if min_of_max_val > max_val:\n",
    "            min_of_max_val = max_val\n",
    "            min_index = i\n",
    "\n",
    "    \n",
    "print(min_index)"
   ]
  },
  {
   "cell_type": "markdown",
   "metadata": {},
   "source": [
    "# **TESTCASES**"
   ]
  },
  {
   "cell_type": "code",
   "execution_count": null,
   "metadata": {},
   "outputs": [
    {
     "name": "stdout",
     "output_type": "stream",
     "text": [
      "Case 1 - edges: [2, 2, 3, -1], node1: 0, input_node2: 1, Output: 2, Expected: 2, Status: PASSED\n",
      "Case 2 - edges: [1, 2, -1], node1: 0, input_node2: 2, Output: 2, Expected: 2, Status: PASSED\n"
     ]
    }
   ],
   "source": [
    "solution = Solution()\n",
    "\n",
    "def run_test_case(case_number, input_edges, input_node1, input_node2, expected):\n",
    "    result = solution.closestMeetingNode(input_edges, input_node1, input_node2)\n",
    "    status = \"PASSED\" if result == expected else \"FAILED\"\n",
    "    print(f\"Case {case_number} - edges: {input_edges}, node1: {input_node1}, node2: {input_node2}, Output: {result}, Expected: {expected}, Status: {status}\")\n",
    "\n",
    "test_cases = [\n",
    "    (1, [2,2,3,-1], 0, 1, 2),\n",
    "    (2, [1,2,-1], 0, 2, 2)\n",
    "]\n",
    "\n",
    "for case_number, input_edges, input_node1, input_node2, expected in test_cases:\n",
    "    run_test_case(case_number, input_edges, input_node1, input_node2, expected)"
   ]
  }
 ],
 "metadata": {
  "kernelspec": {
   "display_name": "base",
   "language": "python",
   "name": "python3"
  },
  "language_info": {
   "codemirror_mode": {
    "name": "ipython",
    "version": 3
   },
   "file_extension": ".py",
   "mimetype": "text/x-python",
   "name": "python",
   "nbconvert_exporter": "python",
   "pygments_lexer": "ipython3",
   "version": "3.11.5"
  }
 },
 "nbformat": 4,
 "nbformat_minor": 2
}
