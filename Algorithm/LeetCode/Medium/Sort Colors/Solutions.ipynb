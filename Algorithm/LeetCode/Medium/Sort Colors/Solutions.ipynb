{
 "cells": [
  {
   "cell_type": "markdown",
   "metadata": {},
   "source": [
    "# **SOLUTION**"
   ]
  },
  {
   "cell_type": "code",
   "execution_count": 5,
   "metadata": {},
   "outputs": [],
   "source": [
    "class Solution(object):\n",
    "    def sortColors(self, nums):\n",
    "        \"\"\"\n",
    "        :type nums: List[int]\n",
    "        :rtype: None (Do not return anything, modify nums in-place instead)\n",
    "        \"\"\"\n",
    "        return self.solverNaive(nums)\n",
    "    \n",
    "    def solverNaive(self, nums):\n",
    "        count_0, count_1, count_2 = 0, 0, 0\n",
    "        for num in nums:\n",
    "            if num == 0:\n",
    "                count_0 += 1\n",
    "            elif num == 1:\n",
    "                count_1 += 1\n",
    "            elif num == 2:\n",
    "                count_2 += 1\n",
    "        \n",
    "        index = 0\n",
    "        for _ in range(count_0):\n",
    "            nums[index] = 0\n",
    "            index += 1\n",
    "        for _ in range(count_1):\n",
    "            nums[index] = 1\n",
    "            index += 1\n",
    "        for _ in range(count_2):\n",
    "            nums[index] = 2\n",
    "            index += 1\n",
    "\n",
    "        return nums\n",
    "            "
   ]
  },
  {
   "cell_type": "markdown",
   "metadata": {},
   "source": [
    "# **DRAFT**"
   ]
  },
  {
   "cell_type": "markdown",
   "metadata": {},
   "source": [
    "# **TESTCASES**"
   ]
  },
  {
   "cell_type": "code",
   "execution_count": 6,
   "metadata": {},
   "outputs": [
    {
     "name": "stdout",
     "output_type": "stream",
     "text": [
      "Case 1 - nums: [0, 0, 1, 1, 2, 2], Output: [0, 0, 1, 1, 2, 2], Expected: [0, 0, 1, 1, 2, 2], Status: PASSED\n",
      "Case 2 - nums: [0, 1, 2], Output: [0, 1, 2], Expected: [0, 1, 2], Status: PASSED\n"
     ]
    }
   ],
   "source": [
    "solution = Solution()\n",
    "\n",
    "def run_test_case(case_number, input_nums, expected):\n",
    "    result = solution.sortColors(input_nums)\n",
    "    status = \"PASSED\" if result == expected else \"FAILED\"\n",
    "    print(f\"Case {case_number} - nums: {input_nums}, Output: {result}, Expected: {expected}, Status: {status}\")\n",
    "\n",
    "test_cases = [\n",
    "    (1, [2,0,2,1,1,0], [0,0,1,1,2,2]),\n",
    "    (2, [2,0,1], [0,1,2])\n",
    "]\n",
    "\n",
    "for case_number, input_nums, expected in test_cases:\n",
    "    run_test_case(case_number, input_nums, expected)"
   ]
  }
 ],
 "metadata": {
  "kernelspec": {
   "display_name": "base",
   "language": "python",
   "name": "python3"
  },
  "language_info": {
   "codemirror_mode": {
    "name": "ipython",
    "version": 3
   },
   "file_extension": ".py",
   "mimetype": "text/x-python",
   "name": "python",
   "nbconvert_exporter": "python",
   "pygments_lexer": "ipython3",
   "version": "3.11.5"
  }
 },
 "nbformat": 4,
 "nbformat_minor": 2
}
