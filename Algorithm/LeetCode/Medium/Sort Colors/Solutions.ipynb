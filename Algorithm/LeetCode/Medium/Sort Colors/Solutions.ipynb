{
 "cells": [
  {
   "cell_type": "markdown",
   "metadata": {},
   "source": [
    "# **SOLUTION**"
   ]
  },
  {
   "cell_type": "code",
   "execution_count": null,
   "metadata": {},
   "outputs": [],
   "source": [
    "class Solution(object):\n",
    "    def sortColors(self, nums):\n",
    "        \"\"\"\n",
    "        :type nums: List[int]\n",
    "        :rtype: None (Do not return anything, modify nums in-place instead)\n",
    "        \"\"\"\n",
    "        # return self.solverNaive(nums)\n",
    "        init_nums = nums.copy()\n",
    "        return self.solver3Pointers(nums), init_nums\n",
    "    \n",
    "    def solverNaive(self, nums):\n",
    "        \"\"\"\n",
    "        :cost: 0ms (100%) | 12.50MB (52.15%) | time: O(n) with 2 passes, memory: O(1)\n",
    "        \"\"\"\n",
    "        count_0, count_1, count_2 = 0, 0, 0\n",
    "        for num in nums:\n",
    "            if num == 0:\n",
    "                count_0 += 1\n",
    "            elif num == 1:\n",
    "                count_1 += 1\n",
    "            elif num == 2:\n",
    "                count_2 += 1\n",
    "        \n",
    "        index = 0\n",
    "        for _ in range(count_0):\n",
    "            nums[index] = 0\n",
    "            index += 1\n",
    "        for _ in range(count_1):\n",
    "            nums[index] = 1\n",
    "            index += 1\n",
    "        for _ in range(count_2):\n",
    "            nums[index] = 2\n",
    "            index += 1\n",
    "\n",
    "        return nums\n",
    "    \n",
    "    def solver3Pointers(self, nums):\n",
    "        \"\"\"\n",
    "        :idea: Dutch National Flag\n",
    "        :cost: 0ms (100%) | 12.50MB (52.15%) | time: O(n) with 1 pass, memory: O(1)\n",
    "        \"\"\"\n",
    "        l, m , h = 0, 0, len(nums) - 1\n",
    "\n",
    "        while m <= h:\n",
    "            if nums[m] == 0:\n",
    "                temp_l = nums[m]\n",
    "                nums[m] = nums[l]\n",
    "                nums[l] = temp_l              \n",
    "                m += 1\n",
    "                l += 1\n",
    "            elif nums[m] == 1:\n",
    "                m += 1\n",
    "            elif nums[m] == 2:\n",
    "                temp_h = nums[m]\n",
    "                nums[m] = nums[h]\n",
    "                nums[h] = temp_h\n",
    "                h -= 1\n",
    "        return nums\n",
    "\n",
    "            "
   ]
  },
  {
   "cell_type": "markdown",
   "metadata": {},
   "source": [
    "# **DRAFT**"
   ]
  },
  {
   "cell_type": "code",
   "execution_count": 12,
   "metadata": {},
   "outputs": [
    {
     "name": "stdout",
     "output_type": "stream",
     "text": [
      "init nums:  [2, 0, 2, 1, 1, 0]\n",
      "init l, m, h:  [0, 0, 5]\n",
      "Step 1:\n",
      "- In case m = 0, nums[m] = 2:\n",
      "--    Update: l = 0, m = 0, h = 4\n",
      "--    Update: nums = [0, 0, 2, 1, 1, 2]\n",
      "\n",
      "Step 2:\n",
      "- In case m = 0, nums[m] = 0:\n",
      "--    Update: l = 1, m = 1, h = 4\n",
      "--    Update: nums = [0, 0, 2, 1, 1, 2]\n",
      "\n",
      "Step 3:\n",
      "- In case m = 1, nums[m] = 0:\n",
      "--    Update: l = 2, m = 2, h = 4\n",
      "--    Update: nums = [0, 0, 2, 1, 1, 2]\n",
      "\n",
      "Step 4:\n",
      "- In case m = 2, nums[m] = 2:\n",
      "--    Update: l = 2, m = 2, h = 3\n",
      "--    Update: nums = [0, 0, 1, 1, 2, 2]\n",
      "\n",
      "Step 5:\n",
      "- In case m = 2, nums[m] = 1:\n",
      "--    Update: l = 2, m = 3, h = 3\n",
      "--    Update: nums = [0, 0, 1, 1, 2, 2]\n",
      "\n",
      "Step 6:\n",
      "- In case m = 3, nums[m] = 1:\n",
      "--    Update: l = 2, m = 4, h = 3\n",
      "--    Update: nums = [0, 0, 1, 1, 2, 2]\n",
      "\n",
      "result:  [0, 0, 1, 1, 2, 2]\n"
     ]
    }
   ],
   "source": [
    "nums = [2,0,2,1,1,0]\n",
    "print(\"init nums: \", nums)\n",
    "l, m , h = 0, 0, len(nums) - 1\n",
    "print(\"init l, m, h: \", [l, m, h])\n",
    "\n",
    "step = 1\n",
    "while m <= h:\n",
    "    print(f\"Step {step}:\")\n",
    "    print(f\"- In case m = {m}, nums[m] = {nums[m]}:\")\n",
    "    if nums[m] == 0:\n",
    "        temp_l = nums[m]\n",
    "        nums[m] = nums[l]\n",
    "        nums[l] = temp_l              \n",
    "        m += 1\n",
    "        l += 1\n",
    "    elif nums[m] == 1:\n",
    "        m += 1\n",
    "    elif nums[m] == 2:\n",
    "        temp_h = nums[m]\n",
    "        nums[m] = nums[h]\n",
    "        nums[h] = temp_h\n",
    "        h -= 1\n",
    "    print(f\"--    Update: l = {l}, m = {m}, h = {h}\")\n",
    "    print(f\"--    Update: nums = {nums}\")\n",
    "    print()\n",
    "    step += 1\n",
    "print(\"result: \", nums)\n"
   ]
  },
  {
   "cell_type": "markdown",
   "metadata": {},
   "source": [
    "# **TESTCASES**"
   ]
  },
  {
   "cell_type": "code",
   "execution_count": 6,
   "metadata": {},
   "outputs": [
    {
     "name": "stdout",
     "output_type": "stream",
     "text": [
      "Case 1 - nums: [2, 0, 2, 1, 1, 0], Output: [0, 0, 1, 1, 2, 2], Expected: [0, 0, 1, 1, 2, 2], Status: PASSED\n",
      "Case 2 - nums: [2, 0, 1], Output: [0, 1, 2], Expected: [0, 1, 2], Status: PASSED\n"
     ]
    }
   ],
   "source": [
    "solution = Solution()\n",
    "\n",
    "def run_test_case(case_number, input_nums, expected):\n",
    "    result, input_init_nums = solution.sortColors(input_nums)\n",
    "    status = \"PASSED\" if result == expected else \"FAILED\"\n",
    "    print(f\"Case {case_number} - nums: {input_init_nums}, Output: {result}, Expected: {expected}, Status: {status}\")\n",
    "\n",
    "test_cases = [\n",
    "    (1, [2,0,2,1,1,0], [0,0,1,1,2,2]),\n",
    "    (2, [2,0,1], [0,1,2])\n",
    "]\n",
    "\n",
    "for case_number, input_nums, expected in test_cases:\n",
    "    run_test_case(case_number, input_nums, expected)"
   ]
  }
 ],
 "metadata": {
  "kernelspec": {
   "display_name": "base",
   "language": "python",
   "name": "python3"
  },
  "language_info": {
   "codemirror_mode": {
    "name": "ipython",
    "version": 3
   },
   "file_extension": ".py",
   "mimetype": "text/x-python",
   "name": "python",
   "nbconvert_exporter": "python",
   "pygments_lexer": "ipython3",
   "version": "3.11.5"
  }
 },
 "nbformat": 4,
 "nbformat_minor": 2
}
