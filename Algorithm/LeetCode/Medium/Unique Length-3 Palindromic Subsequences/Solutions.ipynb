{
 "cells": [
  {
   "cell_type": "markdown",
   "metadata": {},
   "source": [
    "# **SOLUTION**"
   ]
  },
  {
   "cell_type": "code",
   "execution_count": 1,
   "metadata": {},
   "outputs": [],
   "source": [
    "class Solution(object):\n",
    "    def countPalindromicSubsequence(self, s):\n",
    "        \"\"\"\n",
    "        :type s: str\n",
    "        :rtype: int\n",
    "        \"\"\"\n",
    "        return self.solver(s)    \n",
    "    def solver(self, s):\n",
    "        duplicates = {}\n",
    "\n",
    "        for i, char in enumerate(s):\n",
    "            if char in duplicates:\n",
    "                duplicates[char][1] = i \n",
    "            else:\n",
    "                duplicates[char] = [i, i]\n",
    "\n",
    "        results = [] \n",
    "\n",
    "        for char, indices in duplicates.items():\n",
    "            if indices[0] != indices[1]:\n",
    "                results.append([indices[0], indices[1]])\n",
    "\n",
    "        # ans = 0\n",
    "        # for i in range(len(results)):\n",
    "        #     ans += len(set(s[result[i][0]+1:result[i][1]]))\n",
    "\n",
    "        ans = sum(len(set(s[start + 1:end])) for start, end in results)\n",
    "        return ans"
   ]
  },
  {
   "cell_type": "markdown",
   "metadata": {},
   "source": [
    "# **DRAFT**"
   ]
  },
  {
   "cell_type": "code",
   "execution_count": 3,
   "metadata": {},
   "outputs": [
    {
     "data": {
      "text/plain": [
       "['a']"
      ]
     },
     "execution_count": 3,
     "metadata": {},
     "output_type": "execute_result"
    }
   ],
   "source": [
    "s = \"aabca\"\n",
    "list(set([char for char in s if s.count(char) > 1]))\n"
   ]
  },
  {
   "cell_type": "code",
   "execution_count": 5,
   "metadata": {},
   "outputs": [
    {
     "name": "stdout",
     "output_type": "stream",
     "text": [
      "{'a': (0, 4)}\n"
     ]
    }
   ],
   "source": [
    "def get_duplicate_char_indices(s):\n",
    "    duplicates = {}\n",
    "    \n",
    "    for i, char in enumerate(s):\n",
    "        if char in duplicates:\n",
    "            duplicates[char][1] = i\n",
    "        else:\n",
    "            duplicates[char] = [i, i]\n",
    "    \n",
    "    result = {char: (indices[0], indices[1]) for char, indices in duplicates.items() if indices[0] != indices[1]}\n",
    "    return result\n",
    "\n",
    "# Ví dụ\n",
    "s = \"aabca\"\n",
    "duplicates_with_indices = get_duplicate_char_indices(s)\n",
    "print(duplicates_with_indices)\n"
   ]
  },
  {
   "cell_type": "markdown",
   "metadata": {},
   "source": [
    "# **TESTCASES**"
   ]
  },
  {
   "cell_type": "code",
   "execution_count": 23,
   "metadata": {},
   "outputs": [
    {
     "name": "stdout",
     "output_type": "stream",
     "text": [
      "Case 1 - Input: [10, 4, -8, 7], Output: 2, Expected: 2, Status: PASSED\n",
      "Case 2 - Input: [2, 3, 1, 0], Output: 2, Expected: 2, Status: PASSED\n"
     ]
    }
   ],
   "source": [
    "solution = Solution()\n",
    "\n",
    "def run_test_case(case_number, input_nums, expected):\n",
    "    result = solution.countPalindromicSubsequence(input_nums)\n",
    "    status = \"PASSED\" if result == expected else \"FAILED\"\n",
    "    print(f\"Case {case_number} - Input: {input_nums}, Output: {result}, Expected: {expected}, Status: {status}\")\n",
    "\n",
    "test_cases = [\n",
    "    (1, \"aabca\", 3),\n",
    "    (2, \"adc\", 0)\n",
    "]\n",
    "\n",
    "for case_number, input_nums, expected in test_cases:\n",
    "    run_test_case(case_number, input_nums, expected)"
   ]
  }
 ],
 "metadata": {
  "kernelspec": {
   "display_name": "Python 3",
   "language": "python",
   "name": "python3"
  },
  "language_info": {
   "codemirror_mode": {
    "name": "ipython",
    "version": 3
   },
   "file_extension": ".py",
   "mimetype": "text/x-python",
   "name": "python",
   "nbconvert_exporter": "python",
   "pygments_lexer": "ipython3",
   "version": "3.10.12"
  }
 },
 "nbformat": 4,
 "nbformat_minor": 2
}
