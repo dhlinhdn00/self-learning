{
 "cells": [
  {
   "cell_type": "markdown",
   "metadata": {},
   "source": [
    "# **SOLUTION**"
   ]
  },
  {
   "cell_type": "code",
   "execution_count": null,
   "metadata": {},
   "outputs": [],
   "source": [
    "class Solution(object):\n",
    "    def isZeroArray(self, nums, queries):\n",
    "        \"\"\"\n",
    "        :type nums: List[int]\n",
    "        :type queries: List[List[int]]\n",
    "        :rtype: bool\n",
    "        \"\"\"\n",
    "        return self.solverImproved(nums, queries)\n",
    "    \n",
    "    def solverNaive1(self, nums, queries):\n",
    "        \"\"\"\n",
    "        :cost: Time Limit Exceeded\n",
    "        \"\"\"\n",
    "        n = len(nums)\n",
    "        q = len(queries)\n",
    "        pref = n * [0]\n",
    "\n",
    "        for i in range(q):\n",
    "            for j in range(queries[i][0], queries[i][1] + 1):\n",
    "                pref[j] += 1\n",
    "\n",
    "        for i in range(n):\n",
    "            nums[i] = nums[i] - pref[i]\n",
    "            if nums[i] < 0:\n",
    "                nums[i] = 0\n",
    "\n",
    "        return True if sum(nums) == 0 else False\n",
    "    \n",
    "    def solverNaive2(self, nums, queries):\n",
    "        \"\"\"\n",
    "        :cost: Time Limit Exceeded\n",
    "        \"\"\"\n",
    "        n = len(nums)\n",
    "        q = len(queries)\n",
    "        pref = n * [0]\n",
    "\n",
    "        for i in range(q):\n",
    "            for j in range(queries[i][0], queries[i][1] + 1):\n",
    "                \n",
    "                if nums[j] > 0:\n",
    "                    nums[j] -= 1\n",
    "\n",
    "        return True if sum(nums) == 0 else False\n",
    "\n",
    "    def solverImproved(self, nums, queries):\n",
    "        \"\"\"\n",
    "        :cost: 139ms (28.05%) | 49.20MB (10.98%)\n",
    "        \"\"\"\n",
    "        n = len(nums)\n",
    "        diff = [0] * (n + 1)  \n",
    "\n",
    "        for l, r in queries:\n",
    "            diff[l] += 1\n",
    "            if r + 1 < len(diff):\n",
    "                diff[r + 1] -= 1\n",
    "\n",
    "        cover = [0] * n\n",
    "        cover[0] = diff[0]\n",
    "        for i in range(1, n):\n",
    "            cover[i] = cover[i - 1] + diff[i]\n",
    "\n",
    "        for i in range(n):\n",
    "            if nums[i] > cover[i]:\n",
    "                return False\n",
    "        return True"
   ]
  },
  {
   "cell_type": "markdown",
   "metadata": {},
   "source": [
    "# **DRAFT**"
   ]
  },
  {
   "cell_type": "code",
   "execution_count": null,
   "metadata": {},
   "outputs": [
    {
     "name": "stdout",
     "output_type": "stream",
     "text": [
      "[1, 1, 1, 1]\n"
     ]
    }
   ],
   "source": [
    "n, q = [4,3,2,1], [[0, 0], [1, 2], [3, 3]]\n",
    "\n",
    "pref = len(n) * [0]\n",
    "\n",
    "\n",
    "for i in range(len(q)):\n",
    "    for j in range(q[i][0], q[i][1] + 1):\n",
    "        pref[j] += 1\n",
    "\n",
    "print(pref)\n",
    "for i in range(len(n)):\n",
    "    n[i] = n[i] - pref[i] if n[i] > 0 else 0\n",
    "\n",
    "print(n)"
   ]
  },
  {
   "cell_type": "code",
   "execution_count": null,
   "metadata": {},
   "outputs": [
    {
     "name": "stdout",
     "output_type": "stream",
     "text": [
      "[1, 1, 0, -1, 0]\n",
      "False\n",
      "False\n"
     ]
    }
   ],
   "source": [
    "nums, queries = [4,3,2,1], [[1,3],[0,2]]\n",
    "n = len(nums)\n",
    "diff = [0] * (n + 1) \n",
    "\n",
    "for l, r in queries:\n",
    "    diff[l] += 1\n",
    "    if r + 1 < n:\n",
    "        diff[r + 1] -= 1\n",
    "print(diff)\n",
    "\n",
    "cover = [0] * n # cover[i]: number of queries that cover value of index\n",
    "cover[0] = diff[0]\n",
    "for i in range(1, n):\n",
    "    cover[i] = cover[i - 1] + diff[i]\n",
    "\n",
    "for i in range(n):\n",
    "    if nums[i] > cover[i]:\n",
    "        print(False)\n"
   ]
  },
  {
   "cell_type": "markdown",
   "metadata": {},
   "source": [
    "# **TESTCASES**"
   ]
  },
  {
   "cell_type": "code",
   "execution_count": 38,
   "metadata": {},
   "outputs": [
    {
     "name": "stdout",
     "output_type": "stream",
     "text": [
      "Case 1 - nums: [0, 0, 0], queries: [[0, 2]], Output: True, Expected: True, Status: PASSED\n",
      "Case 2 - nums: [3, 1, 0, 0], queries: [[1, 3], [0, 2]], Output: False, Expected: False, Status: PASSED\n"
     ]
    }
   ],
   "source": [
    "solution = Solution()\n",
    "\n",
    "def run_test_case(case_number, input_nums, input_queries, expected):\n",
    "    result = solution.isZeroArray(input_nums, input_queries)\n",
    "    status = \"PASSED\" if result == expected else \"FAILED\"\n",
    "    print(f\"Case {case_number} - nums: {input_nums}, queries: {input_queries}, Output: {result}, Expected: {expected}, Status: {status}\")\n",
    "\n",
    "test_cases = [\n",
    "    (1, [1,0,1], [[0,2]], True),\n",
    "    (2, [4,3,2,1], [[1,3],[0,2]], False)\n",
    "]\n",
    "\n",
    "for case_number, input_nums, input_queries, expected in test_cases:\n",
    "    run_test_case(case_number, input_nums, input_queries, expected)"
   ]
  }
 ],
 "metadata": {
  "kernelspec": {
   "display_name": "base",
   "language": "python",
   "name": "python3"
  },
  "language_info": {
   "codemirror_mode": {
    "name": "ipython",
    "version": 3
   },
   "file_extension": ".py",
   "mimetype": "text/x-python",
   "name": "python",
   "nbconvert_exporter": "python",
   "pygments_lexer": "ipython3",
   "version": "3.11.5"
  }
 },
 "nbformat": 4,
 "nbformat_minor": 2
}
