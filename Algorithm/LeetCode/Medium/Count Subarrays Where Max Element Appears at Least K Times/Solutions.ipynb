{
 "cells": [
  {
   "cell_type": "markdown",
   "metadata": {},
   "source": [
    "# **SOLUTION**"
   ]
  },
  {
   "cell_type": "code",
   "execution_count": null,
   "metadata": {},
   "outputs": [],
   "source": [
    "class Solution(object):\n",
    "    def countSubarrays(self, nums, k):\n",
    "        \"\"\"\n",
    "        :type nums: List[int]\n",
    "        :type k: int\n",
    "        :rtype: int\n",
    "        \"\"\"\n",
    "        return self.solver2Pointers(nums, k)\n",
    "    \n",
    "    def solver2Pointers(self, nums, k):\n",
    "        \"\"\"\n",
    "        :cost: 107ms (85.71%) | 21.85MB (47.62%)\n",
    "        \"\"\"\n",
    "        max_num = max(nums)\n",
    "        n = len(nums)\n",
    "        l = 0\n",
    "        ans = 0\n",
    "        max_count = 0\n",
    "\n",
    "        for r in range(n):\n",
    "            if nums[r] == max_num:\n",
    "                max_count += 1\n",
    "            while max_count >= k:\n",
    "                # ans += (n - r) # way to count 1\n",
    "                if nums[l] == max_num:\n",
    "                    max_count -= 1\n",
    "                l += 1\n",
    "            ans += l # way to count 2\n",
    "        return ans\n",
    "    "
   ]
  },
  {
   "cell_type": "markdown",
   "metadata": {},
   "source": [
    "# **DRAFT**"
   ]
  },
  {
   "cell_type": "markdown",
   "metadata": {},
   "source": [
    "# **TESTCASES**"
   ]
  },
  {
   "cell_type": "code",
   "execution_count": 6,
   "metadata": {},
   "outputs": [
    {
     "name": "stdout",
     "output_type": "stream",
     "text": [
      "Case 1 - nums: [1, 3, 2, 3, 3], k: 2, Output: 6, Expected: 6, Status: PASSED\n",
      "Case 2 - nums: [1, 4, 2, 1], k: 3, Output: 0, Expected: 0, Status: PASSED\n"
     ]
    }
   ],
   "source": [
    "solution = Solution()\n",
    "\n",
    "def run_test_case(case_number, input_nums, input_k, expected):\n",
    "    result = solution.countSubarrays(input_nums, input_k)\n",
    "    status = \"PASSED\" if result == expected else \"FAILED\"\n",
    "    print(f\"Case {case_number} - nums: {input_nums}, k: {input_k}, Output: {result}, Expected: {expected}, Status: {status}\")\n",
    "\n",
    "test_cases = [\n",
    "    (1, [1,3,2,3,3], 2, 6),\n",
    "    (2, [1,4,2,1], 3, 0),\n",
    "]\n",
    "\n",
    "for case_number, input_nums, input_k, expected in test_cases:\n",
    "    run_test_case(case_number, input_nums, input_k, expected)"
   ]
  }
 ],
 "metadata": {
  "kernelspec": {
   "display_name": "Python 3",
   "language": "python",
   "name": "python3"
  },
  "language_info": {
   "codemirror_mode": {
    "name": "ipython",
    "version": 3
   },
   "file_extension": ".py",
   "mimetype": "text/x-python",
   "name": "python",
   "nbconvert_exporter": "python",
   "pygments_lexer": "ipython3",
   "version": "3.10.12"
  }
 },
 "nbformat": 4,
 "nbformat_minor": 2
}
