{
 "cells": [
  {
   "cell_type": "markdown",
   "metadata": {},
   "source": [
    "# **SOLUTION**"
   ]
  },
  {
   "cell_type": "code",
   "execution_count": null,
   "metadata": {},
   "outputs": [],
   "source": [
    "class Solution(object):\n",
    "    def closestPrimes(self, left, right):\n",
    "        \"\"\"\n",
    "        :type left: int\n",
    "        :type right: int\n",
    "        :rtype: List[int]\n",
    "        \"\"\"\n",
    "        return self.solverNaive(left, right)\n",
    "\n",
    "    def isPrimeNumNaive(self, n):\n",
    "        \"\"\"\n",
    "        :type: n: int\n",
    "        :rtype: bool\n",
    "        :theorem: A number n is a prime number if and only if it is not \n",
    "                  divisible by any number in range from 2 to the square root of 2.\n",
    "        \"\"\"\n",
    "        if n < 2:\n",
    "            return False\n",
    "\n",
    "        for i in range(2, int(n**0.5) + 1):\n",
    "            if n % i == 0:\n",
    "                return False\n",
    "        return True\n",
    "\n",
    "    def solverNaive(self, left, right):\n",
    "        \"\"\"\n",
    "        :status: Time Limit Exceeded\n",
    "        \"\"\"\n",
    "        prim_list = [num for num in range(left, right + 1) if self.isPrimeNumNaive(num)]\n",
    "\n",
    "        if len(prim_list) < 2:\n",
    "            return [-1, -1]\n",
    "        \n",
    "        min_dis = float(\"inf\")\n",
    "        for i in range(len(prim_list) - 1, 0, -1):\n",
    "            # print(i)\n",
    "            min_dis = min(prim_list[i] - prim_list[i - 1], min_dis)\n",
    "            if prim_list[i] - prim_list[i - 1] == min_dis:\n",
    "                ans = [prim_list[i - 1], prim_list[i]]\n",
    "        return ans\n",
    "    \n",
    "    def isPrimeNumImproved(self, n):\n",
    "        if n < 2:\n",
    "            return False\n",
    "        if n == 2:\n",
    "            return True\n",
    "        if n % 2 == 0: \n",
    "            return False\n",
    "        for i in range(3, int(n ** 0.5) + 1, 2): \n",
    "            if n % i == 0:\n",
    "                return False\n",
    "        return True\n",
    "    \n",
    "    def solverImproved(self, left, right):\n",
    "        \"\"\"\n",
    "        :status: Time Limit Exceeded\n",
    "        \"\"\"\n",
    "        prim_list = [num for num in range(left, right + 1) if self.isPrimeNumImproved(num)]\n",
    "\n",
    "        if len(prim_list) < 2:\n",
    "            return [-1, -1]\n",
    "        \n",
    "        min_dis = float(\"inf\")\n",
    "        for i in range(len(prim_list) - 1, 0, -1):\n",
    "            # print(i)\n",
    "            min_dis = min(prim_list[i] - prim_list[i - 1], min_dis)\n",
    "            if prim_list[i] - prim_list[i - 1] == min_dis:\n",
    "                ans = [prim_list[i - 1], prim_list[i]]\n",
    "\n",
    "            if min_dis == 2:\n",
    "                break\n",
    "\n",
    "        return ans"
   ]
  },
  {
   "cell_type": "markdown",
   "metadata": {},
   "source": [
    "# **DRAFT**"
   ]
  },
  {
   "cell_type": "code",
   "execution_count": 24,
   "metadata": {},
   "outputs": [],
   "source": [
    "def isPrimeNum(n):\n",
    "    if n < 2:\n",
    "        return False\n",
    "\n",
    "    for i in range(2, int(n**0.5) + 1):\n",
    "        if n % i == 0:\n",
    "            return False\n",
    "    return True\n"
   ]
  },
  {
   "cell_type": "code",
   "execution_count": 28,
   "metadata": {},
   "outputs": [
    {
     "data": {
      "text/plain": [
       "[11, 13, 17, 19]"
      ]
     },
     "execution_count": 28,
     "metadata": {},
     "output_type": "execute_result"
    }
   ],
   "source": [
    "left = 10\n",
    "right = 20\n",
    "\n",
    "prim_list = [num for num in range(left, right + 1) if isPrimeNum(num)]\n",
    "prim_list"
   ]
  },
  {
   "cell_type": "code",
   "execution_count": null,
   "metadata": {},
   "outputs": [
    {
     "name": "stdout",
     "output_type": "stream",
     "text": [
      "3\n",
      "1\n"
     ]
    },
    {
     "data": {
      "text/plain": [
       "[11, 13]"
      ]
     },
     "execution_count": 29,
     "metadata": {},
     "output_type": "execute_result"
    }
   ],
   "source": [
    "min_dis = 9999\n",
    "for i in range(len(prim_list) - 1, 0, -1):\n",
    "    # print(i)\n",
    "    min_dis = min(prim_list[i] - prim_list[i - 1], min_dis)\n",
    "    if prim_list[i] - prim_list[i - 1] == min_dis:\n",
    "        ans = [prim_list[i - 1], prim_list[i]]\n",
    "        # print(i)\n",
    "ans"
   ]
  },
  {
   "cell_type": "code",
   "execution_count": null,
   "metadata": {},
   "outputs": [],
   "source": []
  },
  {
   "cell_type": "markdown",
   "metadata": {},
   "source": [
    "# **TESTCASES**"
   ]
  },
  {
   "cell_type": "code",
   "execution_count": 31,
   "metadata": {},
   "outputs": [
    {
     "name": "stdout",
     "output_type": "stream",
     "text": [
      "Case 1 - left: 10, right: 19, Output: [11, 13], Expected: [11, 13], Status: PASSED\n",
      "Case 2 - left: 4, right: 6, Output: [-1, -1], Expected: [-1, -1], Status: PASSED\n"
     ]
    }
   ],
   "source": [
    "solution = Solution()\n",
    "\n",
    "def run_test_case(case_number, input_left, input_right, expected):\n",
    "    result = solution.closestPrimes(input_left, input_right)\n",
    "    status = \"PASSED\" if result == expected else \"FAILED\"\n",
    "    print(f\"Case {case_number} - left: {input_left}, right: {input_right}, Output: {result}, Expected: {expected}, Status: {status}\")\n",
    "\n",
    "test_cases = [\n",
    "    (1, 10, 19, [11, 13]),\n",
    "    (2, 4, 6, [-1, -1])\n",
    "]\n",
    "\n",
    "for case_number, input_left, input_right, expected in test_cases:\n",
    "    run_test_case(case_number, input_left, input_right, expected)"
   ]
  }
 ],
 "metadata": {
  "kernelspec": {
   "display_name": "base",
   "language": "python",
   "name": "python3"
  },
  "language_info": {
   "codemirror_mode": {
    "name": "ipython",
    "version": 3
   },
   "file_extension": ".py",
   "mimetype": "text/x-python",
   "name": "python",
   "nbconvert_exporter": "python",
   "pygments_lexer": "ipython3",
   "version": "3.11.5"
  }
 },
 "nbformat": 4,
 "nbformat_minor": 2
}
