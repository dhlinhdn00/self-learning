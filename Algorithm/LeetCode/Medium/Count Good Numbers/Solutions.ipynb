{
 "cells": [
  {
   "cell_type": "markdown",
   "metadata": {},
   "source": [
    "# **SOLUTION**"
   ]
  },
  {
   "cell_type": "code",
   "execution_count": 1,
   "metadata": {},
   "outputs": [],
   "source": [
    "class Solution(object):\n",
    "    def countGoodNumbers(self, n):\n",
    "        \"\"\"\n",
    "        :type n: int\n",
    "        :rtype: int\n",
    "        \"\"\"\n",
    "        return self.solverNaive(n)\n",
    "\n",
    "    def solverNaive(self, n):\n",
    "        MOD = 10**9 + 7\n",
    "        even_count = ((n - 1) // 2) + 1\n",
    "        odd_count = n - even_count\n",
    "\n",
    "        five_pow = self.fastPower(5, even_count, MOD)\n",
    "        four_pow = self.fastPower(4, odd_count, MOD)\n",
    "        return (five_pow * four_pow) % MOD\n",
    "\n",
    "    def fastPower(self, base, exponent, mod):\n",
    "        result = 1\n",
    "        base = base % mod\n",
    "        while exponent > 0:\n",
    "            if exponent % 2 == 1:\n",
    "                result = (result * base ) % mod\n",
    "            base = (base * base) % mod\n",
    "            exponent = exponent //2\n",
    "        return result"
   ]
  },
  {
   "cell_type": "markdown",
   "metadata": {},
   "source": [
    "# **DRAFT**"
   ]
  },
  {
   "cell_type": "markdown",
   "metadata": {},
   "source": [
    "# **TESTCASES**"
   ]
  },
  {
   "cell_type": "code",
   "execution_count": 3,
   "metadata": {},
   "outputs": [
    {
     "name": "stdout",
     "output_type": "stream",
     "text": [
      "Case 1 - n: 1, Output: 5, Expected: 5, Status: PASSED\n",
      "Case 2 - n: 4, Output: 400, Expected: 400, Status: PASSED\n",
      "Case 3 - n: 50, Output: 564908303, Expected: 564908303, Status: PASSED\n"
     ]
    }
   ],
   "source": [
    "solution = Solution()\n",
    "\n",
    "def run_test_case(case_number, input_n, expected):\n",
    "    result = solution.countGoodNumbers(input_n)\n",
    "    status = \"PASSED\" if result == expected else \"FAILED\"\n",
    "    print(f\"Case {case_number} - n: {input_n}, Output: {result}, Expected: {expected}, Status: {status}\")\n",
    "\n",
    "test_cases = [\n",
    "    (1, 1, 5),\n",
    "    (2, 4, 400),\n",
    "    (3, 50, 564908303)\n",
    "]\n",
    "\n",
    "for case_number, input_n, expected in test_cases:\n",
    "    run_test_case(case_number, input_n, expected)"
   ]
  }
 ],
 "metadata": {
  "kernelspec": {
   "display_name": "base",
   "language": "python",
   "name": "python3"
  },
  "language_info": {
   "codemirror_mode": {
    "name": "ipython",
    "version": 3
   },
   "file_extension": ".py",
   "mimetype": "text/x-python",
   "name": "python",
   "nbconvert_exporter": "python",
   "pygments_lexer": "ipython3",
   "version": "3.11.5"
  }
 },
 "nbformat": 4,
 "nbformat_minor": 2
}
