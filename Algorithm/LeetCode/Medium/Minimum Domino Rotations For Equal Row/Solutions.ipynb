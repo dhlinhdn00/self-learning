{
 "cells": [
  {
   "cell_type": "markdown",
   "metadata": {},
   "source": [
    "# **SOLUTION**"
   ]
  },
  {
   "cell_type": "code",
   "execution_count": 42,
   "metadata": {},
   "outputs": [],
   "source": [
    "from collections import Counter\n",
    "import numpy as np\n",
    "\n",
    "class Solution(object):\n",
    "    def minDominoRotations(self, tops, bottoms):\n",
    "        \"\"\"\n",
    "        :type tops: List[int]\n",
    "        :type bottoms: List[int]\n",
    "        :rtype: int\n",
    "        \"\"\"\n",
    "        return self.solverNaive(tops, bottoms)\n",
    "    \n",
    "    def solverNaive(self, tops , bottoms):\n",
    "        top_arr = np.array(tops)\n",
    "        bot_arr = np.array(bottoms)\n",
    "        n = len(tops)\n",
    "        all = tops + bottoms\n",
    "        counter = Counter(all)\n",
    "        candidates = [k for k, v in sorted(counter.items(), key=lambda item: item[1], reverse=True) if v >= n]\n",
    "        if candidates == []:\n",
    "            return -1\n",
    "        ans = []\n",
    "        for candidate in candidates:\n",
    "            top_temp = top_arr * (top_arr == candidate)\n",
    "            bot_temp = bot_arr * (bot_arr == candidate)\n",
    "            if 0 not in (top_temp + bot_temp):\n",
    "                if sum(top_temp) >= sum(bot_temp):\n",
    "                    ans.append(np.sum(top_temp == 0))\n",
    "                else:\n",
    "                    ans.append(np.sum(bot_temp == 0))\n",
    "        \n",
    "        return min(ans) if ans else -1\n",
    "                               "
   ]
  },
  {
   "cell_type": "markdown",
   "metadata": {},
   "source": [
    "# **DRAFT**"
   ]
  },
  {
   "cell_type": "code",
   "execution_count": 37,
   "metadata": {},
   "outputs": [
    {
     "name": "stdout",
     "output_type": "stream",
     "text": [
      "Counter({3: 5, 5: 1, 1: 1, 2: 1, 6: 1, 4: 1})\n",
      "[3]\n",
      "[3 0 0 0 3]\n",
      "[3 0 3 3 0]\n",
      "-1\n"
     ]
    }
   ],
   "source": [
    "from collections import Counter\n",
    "import numpy as np\n",
    "\n",
    "top, bot = [3,5,1,2,3], [3,6,3,3,4]\n",
    "top_arr = np.array(top)\n",
    "bot_arr = np.array(bot)\n",
    "n = len(top)\n",
    "all = top + bot\n",
    "counter = Counter(all)\n",
    "print(counter)\n",
    "candidates = [k for k, v in sorted(counter.items(), key=lambda item: item[1], reverse=True) if v >= n]\n",
    "print(candidates)\n",
    "if candidates == []:\n",
    "    print(-1)\n",
    "\n",
    "count = []\n",
    "for candidate in candidates:\n",
    "    top_temp = top_arr * (top_arr == candidate)\n",
    "    print(top_temp)\n",
    "    bot_temp = bot_arr * (bot_arr == candidate)\n",
    "    print(bot_temp)\n",
    "    if 0 not in (top_temp + bot_temp):\n",
    "        if sum(top_temp) >= sum(bot_temp):\n",
    "            count.append(np.sum(top_temp == 0))\n",
    "        else:\n",
    "            count.append(np.sum(bot_temp == 0))\n",
    "print(min(count) if count else -1)"
   ]
  },
  {
   "cell_type": "code",
   "execution_count": null,
   "metadata": {},
   "outputs": [],
   "source": []
  },
  {
   "cell_type": "markdown",
   "metadata": {},
   "source": [
    "# **TESTCASES**"
   ]
  },
  {
   "cell_type": "code",
   "execution_count": null,
   "metadata": {},
   "outputs": [
    {
     "name": "stdout",
     "output_type": "stream",
     "text": [
      "Case 1 - tops: [2, 1, 2, 4, 2, 2], bottoms: [5, 2, 6, 2, 3, 2], Output: 2, Expected: 2, Status: PASSED\n",
      "Case 2 - tops: [3, 5, 1, 2, 3], bottoms: [3, 6, 3, 3, 4], Output: -1, Expected: -1, Status: PASSED\n"
     ]
    }
   ],
   "source": [
    "solution = Solution()\n",
    "\n",
    "def run_test_case(case_number, input_tops, input_bottoms, expected):\n",
    "    result = solution.minDominoRotations(input_tops, input_bottoms)\n",
    "    status = \"PASSED\" if result == expected else \"FAILED\"\n",
    "    print(f\"Case {case_number} - tops: {input_tops}, bottoms: {input_bottoms}, Output: {result}, Expected: {expected}, Status: {status}\")\n",
    "\n",
    "test_cases = [\n",
    "    (1, [2,1,2,4,2,2], [5,2,6,2,3,2], 2),\n",
    "    (2, [3,5,1,2,3], [3,6,3,3,4], -1)\n",
    "]\n",
    "\n",
    "for case_number, input_tops, input_bottoms, expected in test_cases:\n",
    "    run_test_case(case_number, input_tops, input_bottoms, expected)"
   ]
  }
 ],
 "metadata": {
  "kernelspec": {
   "display_name": "Python 3",
   "language": "python",
   "name": "python3"
  },
  "language_info": {
   "codemirror_mode": {
    "name": "ipython",
    "version": 3
   },
   "file_extension": ".py",
   "mimetype": "text/x-python",
   "name": "python",
   "nbconvert_exporter": "python",
   "pygments_lexer": "ipython3",
   "version": "3.10.12"
  }
 },
 "nbformat": 4,
 "nbformat_minor": 2
}
