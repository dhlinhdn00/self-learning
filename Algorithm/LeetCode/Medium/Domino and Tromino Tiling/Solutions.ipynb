{
 "cells": [
  {
   "cell_type": "markdown",
   "metadata": {},
   "source": [
    "# **SOLUTION**"
   ]
  },
  {
   "cell_type": "code",
   "execution_count": 5,
   "metadata": {},
   "outputs": [],
   "source": [
    "class Solution(object):\n",
    "    def numTilings(self, n):\n",
    "        \"\"\"\n",
    "        :type n: int\n",
    "        :rtype: int\n",
    "        \"\"\"        \n",
    "        MOD = 10**9 + 7\n",
    "        return self.solverImproved(n, MOD)\n",
    "    \n",
    "    def solverDP(self, n, MOD):\n",
    "\n",
    "        if n == 0: return 1\n",
    "        if n == 1: return 1\n",
    "        if n == 2: return 2\n",
    "\n",
    "        dp = [0] * (n + 1)\n",
    "        dp[0], dp[1], dp[2] = 1, 1, 2\n",
    "\n",
    "        for i in range(3, n + 1):\n",
    "            dp[i] = (2 * dp[i - 1] + dp[i - 3]) % MOD\n",
    "\n",
    "        return dp[n]\n",
    "    \n",
    "    def solverImproved(self, n, MOD):\n",
    "        if n == 0: return 1\n",
    "        if n == 1: return 1\n",
    "        if n == 2: return 2\n",
    "\n",
    "        a, b, c = 1, 1, 2\n",
    "\n",
    "        for i in range(3, n + 1):\n",
    "\n",
    "            d = (2 * c + a) % MOD\n",
    "\n",
    "            a, b, c = b, c, d\n",
    "\n",
    "        return c"
   ]
  },
  {
   "cell_type": "markdown",
   "metadata": {},
   "source": [
    "# **DRAFT**"
   ]
  },
  {
   "cell_type": "markdown",
   "metadata": {},
   "source": [
    "# **TESTCASES**"
   ]
  },
  {
   "cell_type": "code",
   "execution_count": 6,
   "metadata": {},
   "outputs": [
    {
     "name": "stdout",
     "output_type": "stream",
     "text": [
      "Case 1 - n: 3, Output: 5, Expected: 5, Status: PASSED\n",
      "Case 2 - n: 1, Output: 1, Expected: 1, Status: PASSED\n"
     ]
    }
   ],
   "source": [
    "solution = Solution()\n",
    "\n",
    "def run_test_case(case_number, input_n, expected):\n",
    "    result = solution.numTilings(input_n)\n",
    "    status = \"PASSED\" if result == expected else \"FAILED\"\n",
    "    print(f\"Case {case_number} - n: {input_n}, Output: {result}, Expected: {expected}, Status: {status}\")\n",
    "\n",
    "test_cases = [\n",
    "    (1, 3, 5),\n",
    "    (2, 1, 1)\n",
    "]\n",
    "\n",
    "for case_number, input_edges, expected in test_cases:\n",
    "    run_test_case(case_number, input_edges, expected)"
   ]
  }
 ],
 "metadata": {
  "kernelspec": {
   "display_name": "Python 3",
   "language": "python",
   "name": "python3"
  },
  "language_info": {
   "codemirror_mode": {
    "name": "ipython",
    "version": 3
   },
   "file_extension": ".py",
   "mimetype": "text/x-python",
   "name": "python",
   "nbconvert_exporter": "python",
   "pygments_lexer": "ipython3",
   "version": "3.10.12"
  }
 },
 "nbformat": 4,
 "nbformat_minor": 2
}
