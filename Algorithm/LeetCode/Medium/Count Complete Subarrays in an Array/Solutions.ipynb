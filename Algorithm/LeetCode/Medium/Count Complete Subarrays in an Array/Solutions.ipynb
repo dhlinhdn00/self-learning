{
 "cells": [
  {
   "cell_type": "markdown",
   "metadata": {},
   "source": [
    "# **SOLUTION**"
   ]
  },
  {
   "cell_type": "code",
   "execution_count": 8,
   "metadata": {},
   "outputs": [],
   "source": [
    "from collections import defaultdict\n",
    "\n",
    "class Solution(object):\n",
    "    def countCompleteSubarrays(self, nums):\n",
    "        \"\"\"\n",
    "        :type nums: List[int]\n",
    "        :rtype: int\n",
    "        \"\"\"\n",
    "        return self.solverLib(nums)\n",
    "    def solverNaive(self, nums):\n",
    "        \"\"\"\n",
    "        :idea: hashmap + sliding window\n",
    "        :cost: 9ms(100%) | 12.70MB(12.50%)\n",
    "        \"\"\"\n",
    "        n = len(nums)\n",
    "        unique_len = len(set(nums))\n",
    "        l = 0\n",
    "        count_map = {}\n",
    "        ans = 0\n",
    "\n",
    "        for r in range(n):\n",
    "            if nums[r] not in count_map:\n",
    "                count_map[nums[r]] = 1\n",
    "            else:\n",
    "                count_map[nums[r]] += 1\n",
    "\n",
    "            while len(count_map) == unique_len:\n",
    "                ans += n - r\n",
    "                count_map[nums[l]] -= 1\n",
    "                if count_map[nums[l]] == 0:\n",
    "                    del count_map[nums[l]]\n",
    "\n",
    "                l += 1\n",
    "        \n",
    "        return ans\n",
    "    \n",
    "    def solverLib(self, nums):\n",
    "        \"\"\"\n",
    "        :idea: hashmap + sliding window but using defaultdict\n",
    "        :cost:\n",
    "        \"\"\"\n",
    "        n = len(nums)\n",
    "        unique_len = len(set(nums))\n",
    "        l = 0\n",
    "        count_map = defaultdict(int)\n",
    "        ans = 0\n",
    "        for r in range(n):\n",
    "            count_map[nums[r]] += 1\n",
    "\n",
    "            while len(count_map) == unique_len:\n",
    "                ans += n - r\n",
    "                count_map[nums[l]] -= 1\n",
    "                if count_map[nums[l]] == 0:\n",
    "                    del count_map[nums[l]]\n",
    "\n",
    "                l += 1\n",
    "        \n",
    "        return ans\n",
    "\n",
    "\n",
    "        "
   ]
  },
  {
   "cell_type": "markdown",
   "metadata": {},
   "source": [
    "# **DRAFT**"
   ]
  },
  {
   "cell_type": "markdown",
   "metadata": {},
   "source": [
    "# **TESTCASES**"
   ]
  },
  {
   "cell_type": "code",
   "execution_count": 9,
   "metadata": {},
   "outputs": [
    {
     "name": "stdout",
     "output_type": "stream",
     "text": [
      "Case 1 - Input: [1, 3, 1, 2, 2], Output: 4, Expected: 4, Status: PASSED\n",
      "Case 2 - Input: [5, 5, 5, 5], Output: 10, Expected: 10, Status: PASSED\n"
     ]
    }
   ],
   "source": [
    "solution = Solution()\n",
    "\n",
    "def run_test_case(case_number, input_nums, expected):\n",
    "    result = solution.countCompleteSubarrays(input_nums)\n",
    "    status = \"PASSED\" if result == expected else \"FAILED\"\n",
    "    print(f\"Case {case_number} - Input: {input_nums}, Output: {result}, Expected: {expected}, Status: {status}\")\n",
    "\n",
    "test_cases = [\n",
    "    (1, [1,3,1,2,2], 4),\n",
    "    (2, [5,5,5,5], 10)\n",
    "]\n",
    "\n",
    "for case_number, input_nums, expected in test_cases:\n",
    "    run_test_case(case_number, input_nums, expected)"
   ]
  }
 ],
 "metadata": {
  "kernelspec": {
   "display_name": "Python 3",
   "language": "python",
   "name": "python3"
  },
  "language_info": {
   "codemirror_mode": {
    "name": "ipython",
    "version": 3
   },
   "file_extension": ".py",
   "mimetype": "text/x-python",
   "name": "python",
   "nbconvert_exporter": "python",
   "pygments_lexer": "ipython3",
   "version": "3.10.12"
  }
 },
 "nbformat": 4,
 "nbformat_minor": 2
}
