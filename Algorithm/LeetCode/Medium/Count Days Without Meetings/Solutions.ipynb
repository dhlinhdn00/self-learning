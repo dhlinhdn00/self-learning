{
 "cells": [
  {
   "cell_type": "markdown",
   "metadata": {},
   "source": [
    "# **SOLUTION**"
   ]
  },
  {
   "cell_type": "code",
   "execution_count": null,
   "metadata": {},
   "outputs": [],
   "source": [
    "class Solution(object):\n",
    "    def countDays(self, days, meetings):\n",
    "        \"\"\"\n",
    "        :type days: int\n",
    "        :type meetings: List[List[int]]\n",
    "        :rtype: int\n",
    "        \"\"\"\n",
    "        return self.solverNaive(days, meetings)\n",
    "\n",
    "    def solverNaive(self, days, meetings):\n",
    "        meetings.sort()\n",
    "        merged = [meetings[0]]\n",
    "        for current_s, current_e in meetings[1:]:\n",
    "            # last -> current\n",
    "            last_s, last_e = merged[-1]\n",
    "            if current_s <= last_e:\n",
    "                merged[-1] = [last_s, max(last_e, current_e)]\n",
    "            else:\n",
    "                merged.append([current_s, current_e])\n",
    "\n",
    "        count = 0\n",
    "        for meeting in merged:\n",
    "            count += (meeting[1] - meeting[0] + 1)\n",
    "\n",
    "        return days - count\n",
    "\n",
    "        \n",
    "        "
   ]
  },
  {
   "cell_type": "markdown",
   "metadata": {},
   "source": [
    "# **DRAFT**"
   ]
  },
  {
   "cell_type": "markdown",
   "metadata": {},
   "source": [
    "# **TESTCASES**"
   ]
  },
  {
   "cell_type": "code",
   "execution_count": null,
   "metadata": {},
   "outputs": [
    {
     "name": "stdout",
     "output_type": "stream",
     "text": [
      "Case 1 - words1: ['amazon', 'apple', 'facebook', 'google', 'leetcode'], words2: ['e', 'o'], Output: ['facebook', 'google', 'leetcode'], Expected: ['facebook', 'google', 'leetcode'], Status: PASSED\n",
      "Case 2 - words1: ['amazon', 'apple', 'facebook', 'google', 'leetcode'], words2: ['lc', 'eo'], Output: ['leetcode'], Expected: ['leetcode'], Status: PASSED\n",
      "Case 3 - words1: ['acaac', 'cccbb', 'aacbb', 'caacc', 'bcbbb'], words2: ['c', 'cc', 'b'], Output: ['cccbb'], Expected: ['cccbb'], Status: PASSED\n"
     ]
    }
   ],
   "source": [
    "solution = Solution()\n",
    "\n",
    "def run_test_case(case_number, input_days, input_meetings, expected):\n",
    "    result = solution.countDays(input_days, input_meetings)\n",
    "    status = \"PASSED\" if result == expected else \"FAILED\"\n",
    "    print(f\"Case {case_number} - days: {input_days}, meetings: {input_meetings}, Output: {result}, Expected: {expected}, Status: {status}\")\n",
    "\n",
    "\n",
    "test_cases = [\n",
    "    (1, 10, [[5,7],[1,3],[9,10]], 2),\n",
    "    (2, 5, [[2,4],[1,3]], 1),\n",
    "    (3, 6, [[1,6]], 0)\n",
    "]\n",
    "\n",
    "for case_number, input_days, input_meetings, expected in test_cases:\n",
    "    run_test_case(case_number, input_days, input_meetings, expected)"
   ]
  }
 ],
 "metadata": {
  "kernelspec": {
   "display_name": "base",
   "language": "python",
   "name": "python3"
  },
  "language_info": {
   "codemirror_mode": {
    "name": "ipython",
    "version": 3
   },
   "file_extension": ".py",
   "mimetype": "text/x-python",
   "name": "python",
   "nbconvert_exporter": "python",
   "pygments_lexer": "ipython3",
   "version": "3.10.12"
  }
 },
 "nbformat": 4,
 "nbformat_minor": 2
}
