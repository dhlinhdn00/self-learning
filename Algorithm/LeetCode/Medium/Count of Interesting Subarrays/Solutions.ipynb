{
 "cells": [
  {
   "cell_type": "markdown",
   "metadata": {},
   "source": [
    "# **SOLUTION**"
   ]
  },
  {
   "cell_type": "code",
   "execution_count": null,
   "metadata": {},
   "outputs": [],
   "source": [
    "class Solution(object):\n",
    "    def countInterestingSubarrays(self, nums, modulo, k):\n",
    "        \"\"\"\n",
    "        :type nums: List[int]\n",
    "        :type modulo: int\n",
    "        :type k: int\n",
    "        :rtype: int\n",
    "        \"\"\"\n",
    "\n",
    "        return self.solverNaive(nums, modulo, k)\n",
    "    \n",
    "    def solverNaive(self, nums, modulo, k):\n",
    "        n = len(nums)\n",
    "        l = 0\n",
    "        ans = 0\n",
    "        for r in range(n):\n",
    "            cnt = 0\n",
    "            for l in range(r, -1, -1):\n",
    "                if nums[l] % modulo == k:\n",
    "                    cnt += 1\n",
    "                if cnt % modulo == k:\n",
    "                    ans += 1\n",
    "        return ans\n"
   ]
  },
  {
   "cell_type": "markdown",
   "metadata": {},
   "source": [
    "# **DRAFT**"
   ]
  },
  {
   "cell_type": "code",
   "execution_count": 25,
   "metadata": {},
   "outputs": [],
   "source": [
    "nums, modulo, k = [3,1,9,6], 3, 0\n",
    "n = len(nums)\n",
    "l = 0\n",
    "cnt = 0\n",
    "ans = 0"
   ]
  },
  {
   "cell_type": "code",
   "execution_count": 26,
   "metadata": {},
   "outputs": [
    {
     "name": "stdout",
     "output_type": "stream",
     "text": [
      "loop  0\n",
      "r:  0\n",
      "l:  0\n",
      "loop  1\n",
      "r:  1\n",
      "l:  0\n",
      "loop  2\n",
      "r:  2\n",
      "l:  0\n",
      "loop  3\n",
      "r:  3\n",
      "l:  1\n",
      "1\n"
     ]
    }
   ],
   "source": [
    "for r in range(n):\n",
    "    print(\"loop \", r)\n",
    "    print(\"r: \", r)\n",
    "    if nums[r] % modulo == k:\n",
    "        cnt += 1\n",
    "    while cnt % modulo == k:\n",
    "        ans += 1\n",
    "        if nums[l] % modulo == k:\n",
    "            cnt -= 1\n",
    "        l += 1\n",
    "    print(\"l: \", l)\n",
    "print(ans)"
   ]
  },
  {
   "cell_type": "code",
   "execution_count": 28,
   "metadata": {},
   "outputs": [
    {
     "name": "stdout",
     "output_type": "stream",
     "text": [
      "2\n"
     ]
    }
   ],
   "source": [
    "nums, modulo, k = [3,1,9,6], 3, 0\n",
    "n = len(nums)\n",
    "l = 0\n",
    "cnt = 0\n",
    "ans = 0\n",
    "\n",
    "for r in range(n):\n",
    "    cnt = 0\n",
    "    for l in range(r, -1, -1):\n",
    "        if nums[l] % modulo == k:\n",
    "            cnt += 1\n",
    "        if cnt % modulo == k:\n",
    "            ans += 1\n",
    "print(ans)"
   ]
  },
  {
   "cell_type": "markdown",
   "metadata": {},
   "source": [
    "# **TESTCASES**"
   ]
  },
  {
   "cell_type": "code",
   "execution_count": 29,
   "metadata": {},
   "outputs": [
    {
     "name": "stdout",
     "output_type": "stream",
     "text": [
      "Case 1 - Nums: [3, 2, 4], Modulo: 2, K: 1, Output: None, Expected: 3, Status: FAILED\n",
      "Case 2 - Nums: [3, 1, 9, 6], Modulo: 3, K: 0, Output: None, Expected: 2, Status: FAILED\n"
     ]
    }
   ],
   "source": [
    "solution = Solution()\n",
    "\n",
    "def run_test_case(case_number, input_nums, input_modulo, input_k, expected):\n",
    "    result = solution.countInterestingSubarrays(input_nums, input_modulo, input_k)\n",
    "    status = \"PASSED\" if result == expected else \"FAILED\"\n",
    "    print(f\"Case {case_number} - Nums: {input_nums}, Modulo: {input_modulo}, K: {input_k}, Output: {result}, Expected: {expected}, Status: {status}\")\n",
    "\n",
    "test_cases = [\n",
    "    (1, [3,2,4], 2, 1, 3),\n",
    "    (2, [3,1,9,6], 3, 0, 2)\n",
    "]\n",
    "\n",
    "for case_number, input_nums, input_modulo, input_k, expected in test_cases:\n",
    "    run_test_case(case_number, input_nums, input_modulo, input_k, expected)"
   ]
  }
 ],
 "metadata": {
  "kernelspec": {
   "display_name": "Python 3",
   "language": "python",
   "name": "python3"
  },
  "language_info": {
   "codemirror_mode": {
    "name": "ipython",
    "version": 3
   },
   "file_extension": ".py",
   "mimetype": "text/x-python",
   "name": "python",
   "nbconvert_exporter": "python",
   "pygments_lexer": "ipython3",
   "version": "3.10.12"
  }
 },
 "nbformat": 4,
 "nbformat_minor": 2
}
