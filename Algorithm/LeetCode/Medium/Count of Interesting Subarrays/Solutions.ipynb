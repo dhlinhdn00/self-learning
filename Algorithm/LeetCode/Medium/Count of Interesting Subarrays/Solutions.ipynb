{
 "cells": [
  {
   "cell_type": "markdown",
   "metadata": {},
   "source": [
    "# **SOLUTION**"
   ]
  },
  {
   "cell_type": "code",
   "execution_count": 1,
   "metadata": {},
   "outputs": [],
   "source": [
    "class Solution(object):\n",
    "    def countInterestingSubarrays(self, nums, modulo, k):\n",
    "        \"\"\"\n",
    "        :type nums: List[int]\n",
    "        :type modulo: int\n",
    "        :type k: int\n",
    "        :rtype: int\n",
    "        \"\"\"\n",
    "\n",
    "        return self.solverNaive(nums, modulo, k)\n",
    "    \n",
    "    def solverNaive(self, nums, modulo, k):\n",
    "        \n",
    "        pass"
   ]
  },
  {
   "cell_type": "markdown",
   "metadata": {},
   "source": [
    "# **DRAFT**"
   ]
  },
  {
   "cell_type": "markdown",
   "metadata": {},
   "source": [
    "# **TESTCASES**"
   ]
  },
  {
   "cell_type": "code",
   "execution_count": 3,
   "metadata": {},
   "outputs": [
    {
     "name": "stdout",
     "output_type": "stream",
     "text": [
      "Case 1 - Nums: [3, 2, 4], Modulo: 2, K: 1, Output: None, Expected: 3, Status: FAILED\n",
      "Case 2 - Nums: [3, 1, 9, 6], Modulo: 3, K: 0, Output: None, Expected: 2, Status: FAILED\n"
     ]
    }
   ],
   "source": [
    "solution = Solution()\n",
    "\n",
    "def run_test_case(case_number, input_nums, input_modulo, input_k, expected):\n",
    "    result = solution.countInterestingSubarrays(input_nums, input_modulo, input_k)\n",
    "    status = \"PASSED\" if result == expected else \"FAILED\"\n",
    "    print(f\"Case {case_number} - Nums: {input_nums}, Modulo: {input_modulo}, K: {input_k}, Output: {result}, Expected: {expected}, Status: {status}\")\n",
    "\n",
    "test_cases = [\n",
    "    (1, [3,2,4], 2, 1, 3),\n",
    "    (2, [3,1,9,6], 3, 0, 2)\n",
    "]\n",
    "\n",
    "for case_number, input_nums, input_modulo, input_k, expected in test_cases:\n",
    "    run_test_case(case_number, input_nums, input_modulo, input_k, expected)"
   ]
  }
 ],
 "metadata": {
  "kernelspec": {
   "display_name": "Python 3",
   "language": "python",
   "name": "python3"
  },
  "language_info": {
   "codemirror_mode": {
    "name": "ipython",
    "version": 3
   },
   "file_extension": ".py",
   "mimetype": "text/x-python",
   "name": "python",
   "nbconvert_exporter": "python",
   "pygments_lexer": "ipython3",
   "version": "3.10.12"
  }
 },
 "nbformat": 4,
 "nbformat_minor": 2
}
