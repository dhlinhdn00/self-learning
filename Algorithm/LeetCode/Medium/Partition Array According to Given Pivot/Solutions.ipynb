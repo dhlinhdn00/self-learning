{
 "cells": [
  {
   "cell_type": "markdown",
   "metadata": {},
   "source": [
    "# **SOLUTION**"
   ]
  },
  {
   "cell_type": "code",
   "execution_count": 1,
   "metadata": {},
   "outputs": [],
   "source": [
    "class Solution(object):\n",
    "    def pivotArray(self, nums, pivot):\n",
    "        \"\"\"\n",
    "        :type nums: List[int]\n",
    "        :type pivot: int\n",
    "        :rtype: List[int]\n",
    "        \"\"\"\n",
    "        return self.solverNaive(nums, pivot)\n",
    "    \n",
    "    def solverNaive(self, nums, pivot):\n",
    "        \"\"\"\n",
    "        :method: Partitioning\n",
    "        \"\"\"\n",
    "        # # Check pivot (no need)\n",
    "        # if pivot not in nums:\n",
    "        #     pass\n",
    "\n",
    "        less = []\n",
    "        equal = []\n",
    "        greater = []\n",
    "\n",
    "        for num in nums:\n",
    "            if num < pivot:\n",
    "                less.append(num)\n",
    "            elif num == pivot:\n",
    "                equal.append(num)\n",
    "            else:\n",
    "                greater.append(num)\n",
    "        \n",
    "        return less + equal + greater\n"
   ]
  },
  {
   "cell_type": "markdown",
   "metadata": {},
   "source": [
    "# **DRAFT**"
   ]
  },
  {
   "cell_type": "markdown",
   "metadata": {},
   "source": [
    "# **TESTCASES**"
   ]
  },
  {
   "cell_type": "code",
   "execution_count": 2,
   "metadata": {},
   "outputs": [
    {
     "name": "stdout",
     "output_type": "stream",
     "text": [
      "Case 1 - Nums: [9, 12, 5, 10, 14, 3, 10], Pivot: 10, Output: [9, 5, 3, 10, 10, 12, 14], Expected: [9, 5, 3, 10, 10, 12, 14], Status: PASSED\n",
      "Case 2 - Nums: [-3, 4, 3, 2], Pivot: 2, Output: [-3, 2, 4, 3], Expected: [-3, 2, 4, 3], Status: PASSED\n"
     ]
    }
   ],
   "source": [
    "solution = Solution()\n",
    "\n",
    "def run_test_case(case_number, input_nums, input_pivot, expected):\n",
    "    result = solution.pivotArray(input_nums, input_pivot)\n",
    "    status = \"PASSED\" if result == expected else \"FAILED\"\n",
    "    print(f\"Case {case_number} - Nums: {input_nums}, Pivot: {input_pivot}, Output: {result}, Expected: {expected}, Status: {status}\")\n",
    "\n",
    "test_cases = [\n",
    "    (1, [9,12,5,10,14,3,10], 10, [9,5,3,10,10,12,14]),\n",
    "    (2, [-3,4,3,2], 2, [-3,2,4,3])\n",
    "]\n",
    "\n",
    "for case_number, input_nums, input_pivot, expected in test_cases:\n",
    "    run_test_case(case_number, input_nums, input_pivot, expected)"
   ]
  }
 ],
 "metadata": {
  "kernelspec": {
   "display_name": "base",
   "language": "python",
   "name": "python3"
  },
  "language_info": {
   "codemirror_mode": {
    "name": "ipython",
    "version": 3
   },
   "file_extension": ".py",
   "mimetype": "text/x-python",
   "name": "python",
   "nbconvert_exporter": "python",
   "pygments_lexer": "ipython3",
   "version": "3.11.5"
  }
 },
 "nbformat": 4,
 "nbformat_minor": 2
}
