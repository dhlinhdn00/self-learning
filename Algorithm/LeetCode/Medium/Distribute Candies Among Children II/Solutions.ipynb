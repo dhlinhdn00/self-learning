{
 "cells": [
  {
   "cell_type": "markdown",
   "metadata": {},
   "source": [
    "# **SOLUTION**"
   ]
  },
  {
   "cell_type": "code",
   "execution_count": 36,
   "metadata": {},
   "outputs": [],
   "source": [
    "class Solution(object):\n",
    "    def distributeCandies(self, n, limit):\n",
    "        \"\"\"\n",
    "        :type n: int\n",
    "        :type limit: int\n",
    "        :rtype: int\n",
    "        \"\"\"\n",
    "        return self.solverMath(n, limit)\n",
    "    \n",
    "    def solverNaive(self, n, limit):\n",
    "        \"\"\"\n",
    "        :cost: MLE\n",
    "        \"\"\"\n",
    "        candidates = []\n",
    "\n",
    "        for a in range(limit + 1):\n",
    "            for b in range(limit + 1):\n",
    "                c = n - a - b\n",
    "                if 0 <= c <= limit:\n",
    "                    candidates.append((a, b, c))\n",
    "\n",
    "        return len(candidates)\n",
    "    \n",
    "    def solverImproved(self, n, limit):\n",
    "        \"\"\"\n",
    "        :cost: TLE\n",
    "        \"\"\"\n",
    "        comb3dif_count = 0\n",
    "        comb2dif_count = 0\n",
    "        comb0dif_count = 0\n",
    "        ans = 0\n",
    "        for a in range(limit + 1):\n",
    "            for b in range(a, limit + 1):\n",
    "                if a + b > n:\n",
    "                    break \n",
    "                c = n - a - b\n",
    "                if b <= c <= limit:\n",
    "                    if a == b == c:\n",
    "                        comb0dif_count += 1\n",
    "                    elif a != b and b != c and a != c:\n",
    "                        comb3dif_count += 1\n",
    "                    else:\n",
    "                        comb2dif_count += 1\n",
    "        return (comb3dif_count * 6 + comb2dif_count * 3 + comb0dif_count)\n",
    "    \n",
    "    def solverMath(self, n, limit):\n",
    "        \"\"\"\n",
    "        :main idea: bars and stars problem\n",
    "        \"\"\"\n",
    "        def _combination2(u):\n",
    "            # simplified and transformed \n",
    "            if u < 2:\n",
    "                return 0\n",
    "            return (u * (u - 1)) // 2\n",
    "        without_constrainst_counts = _combination2(n + 2)\n",
    "        violated_counts = 3 * _combination2(n - limit + 1) - 3 * _combination2(n - 2 * limit) + _combination2(n - 3 * limit - 1)\n",
    "        return without_constrainst_counts - violated_counts\n",
    "\n"
   ]
  },
  {
   "cell_type": "markdown",
   "metadata": {},
   "source": [
    "# **DRAFT**"
   ]
  },
  {
   "cell_type": "code",
   "execution_count": 14,
   "metadata": {},
   "outputs": [
    {
     "data": {
      "text/plain": [
       "[(0, 0, 3),\n",
       " (0, 1, 2),\n",
       " (0, 2, 1),\n",
       " (0, 3, 0),\n",
       " (1, 0, 2),\n",
       " (1, 1, 1),\n",
       " (1, 2, 0),\n",
       " (2, 0, 1),\n",
       " (2, 1, 0),\n",
       " (3, 0, 0)]"
      ]
     },
     "execution_count": 14,
     "metadata": {},
     "output_type": "execute_result"
    }
   ],
   "source": [
    "n, limit = 3, 3\n",
    "candidates = []\n",
    "\n",
    "for a in range(limit + 1):\n",
    "    for b in range(limit + 1):\n",
    "        c = n - a - b\n",
    "        if 0 <= c <= limit:\n",
    "            candidates.append((a, b, c))\n",
    "\n",
    "candidates"
   ]
  },
  {
   "cell_type": "code",
   "execution_count": 23,
   "metadata": {},
   "outputs": [
    {
     "name": "stdout",
     "output_type": "stream",
     "text": [
      "10\n"
     ]
    }
   ],
   "source": [
    "n, limit = 3, 3\n",
    "comb3dif_count = 0\n",
    "comb2dif_count = 0\n",
    "comb0dif_count = 0\n",
    "ans = 0\n",
    "for a in range(limit + 1):\n",
    "    for b in range(a, limit + 1):\n",
    "        c = n - a - b\n",
    "        if b <= c <= limit:\n",
    "            if a == b == c:\n",
    "                comb0dif_count += 1\n",
    "            elif a != b != c:\n",
    "                comb3dif_count += 1\n",
    "            else:\n",
    "                comb2dif_count += 1\n",
    "        \n",
    "\n",
    "print(comb3dif_count * 6 + comb2dif_count * 3 + comb0dif_count)"
   ]
  },
  {
   "cell_type": "markdown",
   "metadata": {},
   "source": [
    "# **TESTCASES**"
   ]
  },
  {
   "cell_type": "code",
   "execution_count": 37,
   "metadata": {},
   "outputs": [
    {
     "name": "stdout",
     "output_type": "stream",
     "text": [
      "Case 1 - n: 5, limit: 2, Output: 3, Expected: 3, Status: PASSED\n",
      "Case 2 - n: 3, limit: 3, Output: 10, Expected: 10, Status: PASSED\n"
     ]
    }
   ],
   "source": [
    "solution = Solution()\n",
    "\n",
    "def run_test_case(case_number, input_n, input_limit, expected):\n",
    "    result = solution.distributeCandies(input_n, input_limit)\n",
    "    status = \"PASSED\" if result == expected else \"FAILED\"\n",
    "    print(f\"Case {case_number} - n: {input_n}, limit: {input_limit}, Output: {result}, Expected: {expected}, Status: {status}\")\n",
    "\n",
    "test_cases = [\n",
    "    (1, 5, 2, 3),\n",
    "    (2, 3, 3, 10)\n",
    "]\n",
    "\n",
    "for case_number, input_n, input_limit, expected in test_cases:\n",
    "    run_test_case(case_number, input_n, input_limit, expected)"
   ]
  }
 ],
 "metadata": {
  "kernelspec": {
   "display_name": "base",
   "language": "python",
   "name": "python3"
  },
  "language_info": {
   "codemirror_mode": {
    "name": "ipython",
    "version": 3
   },
   "file_extension": ".py",
   "mimetype": "text/x-python",
   "name": "python",
   "nbconvert_exporter": "python",
   "pygments_lexer": "ipython3",
   "version": "3.11.5"
  }
 },
 "nbformat": 4,
 "nbformat_minor": 2
}
