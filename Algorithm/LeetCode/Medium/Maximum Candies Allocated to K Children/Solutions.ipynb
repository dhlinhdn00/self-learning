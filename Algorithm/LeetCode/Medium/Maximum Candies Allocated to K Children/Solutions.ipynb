{
 "cells": [
  {
   "cell_type": "markdown",
   "metadata": {},
   "source": [
    "# **SOLUTION**"
   ]
  },
  {
   "cell_type": "code",
   "execution_count": 3,
   "metadata": {},
   "outputs": [],
   "source": [
    "class Solution(object):\n",
    "    def maximumCandies(self, candies, k):\n",
    "        \"\"\"\n",
    "        :type candies: List[int]\n",
    "        :type k: int\n",
    "        :rtype: int\n",
    "        \"\"\"\n",
    "        return self.solverNaive(candies, k)\n",
    "\n",
    "    def solverNaive(self, candies, k):\n",
    "        \"\"\"\n",
    "        :note: l is left, r is right, c is count, m is mid, k is kid\n",
    "        :method: binary search. Consider at max_candy of candies, find mid - the \n",
    "                 candidate number of candies each child could receive.\n",
    "        :complexity: O(nlog(max(candies))) with n is len(candies)\n",
    "        \"\"\"\n",
    "        if sum(candies) < k:\n",
    "            return 0\n",
    "        elif sum(candies) == k:\n",
    "            return 1\n",
    "        else:\n",
    "            l, r = 1, max(candies)\n",
    "            ans = 0\n",
    "            while l <= r:\n",
    "                m = (l + r) // 2\n",
    "                c = sum(candy // m for candy in candies)\n",
    "                if c >= k:\n",
    "                    # accepted\n",
    "                    ans = m\n",
    "                    l = m + 1\n",
    "                else:\n",
    "                    r = m - 1\n",
    "            return ans"
   ]
  },
  {
   "cell_type": "markdown",
   "metadata": {},
   "source": [
    "# **DRAFT**"
   ]
  },
  {
   "cell_type": "markdown",
   "metadata": {},
   "source": [
    "# **TESTCASES**"
   ]
  },
  {
   "cell_type": "code",
   "execution_count": 4,
   "metadata": {},
   "outputs": [
    {
     "name": "stdout",
     "output_type": "stream",
     "text": [
      "Case 1 - candies: [5, 8, 6], k: 3, Output: 5, Expected: 5, Status: PASSED\n",
      "Case 2 - candies: [2, 5], k: 11, Output: 0, Expected: 0, Status: PASSED\n"
     ]
    }
   ],
   "source": [
    "solution = Solution()\n",
    "\n",
    "def run_test_case(case_number, input_candies, input_k, expected):\n",
    "    result = solution.maximumCandies(input_candies, input_k)\n",
    "    status = \"PASSED\" if result == expected else \"FAILED\"\n",
    "    print(f\"Case {case_number} - candies: {input_candies}, k: {input_k}, Output: {result}, Expected: {expected}, Status: {status}\")\n",
    "\n",
    "test_cases = [\n",
    "    (1, [5, 8, 6], 3, 5),\n",
    "    (2, [2, 5], 11, 0)\n",
    "    ]\n",
    "\n",
    "for case_number, input_candies, input_k, expected in test_cases:\n",
    "    run_test_case(case_number, input_candies, input_k, expected)"
   ]
  }
 ],
 "metadata": {
  "kernelspec": {
   "display_name": "base",
   "language": "python",
   "name": "python3"
  },
  "language_info": {
   "codemirror_mode": {
    "name": "ipython",
    "version": 3
   },
   "file_extension": ".py",
   "mimetype": "text/x-python",
   "name": "python",
   "nbconvert_exporter": "python",
   "pygments_lexer": "ipython3",
   "version": "3.10.12"
  }
 },
 "nbformat": 4,
 "nbformat_minor": 2
}
