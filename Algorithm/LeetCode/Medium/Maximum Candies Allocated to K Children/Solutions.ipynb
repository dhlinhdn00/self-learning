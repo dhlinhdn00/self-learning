{
 "cells": [
  {
   "cell_type": "markdown",
   "metadata": {},
   "source": [
    "# **SOLUTION**"
   ]
  },
  {
   "cell_type": "code",
   "execution_count": 1,
   "metadata": {},
   "outputs": [],
   "source": [
    "class Solution(object):\n",
    "    def maximumCandies(self, candies, k):\n",
    "        \"\"\"\n",
    "        :type candies: List[int]\n",
    "        :type k: int\n",
    "        :rtype: int\n",
    "        \"\"\"\n",
    "        return self.solverNaive(candies, k)\n",
    "\n",
    "    "
   ]
  },
  {
   "cell_type": "markdown",
   "metadata": {},
   "source": [
    "# **DRAFT**"
   ]
  },
  {
   "cell_type": "markdown",
   "metadata": {},
   "source": [
    "# **TESTCASES**"
   ]
  },
  {
   "cell_type": "code",
   "execution_count": 2,
   "metadata": {},
   "outputs": [
    {
     "ename": "AttributeError",
     "evalue": "'Solution' object has no attribute 'wordSubsets'",
     "output_type": "error",
     "traceback": [
      "\u001b[0;31m---------------------------------------------------------------------------\u001b[0m",
      "\u001b[0;31mAttributeError\u001b[0m                            Traceback (most recent call last)",
      "Cell \u001b[0;32mIn[2], line 14\u001b[0m\n\u001b[1;32m      8\u001b[0m test_cases \u001b[38;5;241m=\u001b[39m [\n\u001b[1;32m      9\u001b[0m     (\u001b[38;5;241m1\u001b[39m, [\u001b[38;5;241m5\u001b[39m, \u001b[38;5;241m8\u001b[39m, \u001b[38;5;241m6\u001b[39m], \u001b[38;5;241m3\u001b[39m, \u001b[38;5;241m5\u001b[39m),\n\u001b[1;32m     10\u001b[0m     (\u001b[38;5;241m2\u001b[39m, [\u001b[38;5;241m2\u001b[39m, \u001b[38;5;241m5\u001b[39m], \u001b[38;5;241m11\u001b[39m, \u001b[38;5;241m0\u001b[39m)\n\u001b[1;32m     11\u001b[0m     ]\n\u001b[1;32m     13\u001b[0m \u001b[38;5;28;01mfor\u001b[39;00m case_number, input_words1, input_words2, expected \u001b[38;5;129;01min\u001b[39;00m test_cases:\n\u001b[0;32m---> 14\u001b[0m     \u001b[43mrun_test_case\u001b[49m\u001b[43m(\u001b[49m\u001b[43mcase_number\u001b[49m\u001b[43m,\u001b[49m\u001b[43m \u001b[49m\u001b[43minput_words1\u001b[49m\u001b[43m,\u001b[49m\u001b[43m \u001b[49m\u001b[43minput_words2\u001b[49m\u001b[43m,\u001b[49m\u001b[43m \u001b[49m\u001b[43mexpected\u001b[49m\u001b[43m)\u001b[49m\n",
      "Cell \u001b[0;32mIn[2], line 4\u001b[0m, in \u001b[0;36mrun_test_case\u001b[0;34m(case_number, input_candies, input_k, expected)\u001b[0m\n\u001b[1;32m      3\u001b[0m \u001b[38;5;28;01mdef\u001b[39;00m \u001b[38;5;21mrun_test_case\u001b[39m(case_number, input_candies, input_k, expected):\n\u001b[0;32m----> 4\u001b[0m     result \u001b[38;5;241m=\u001b[39m \u001b[43msolution\u001b[49m\u001b[38;5;241;43m.\u001b[39;49m\u001b[43mwordSubsets\u001b[49m(input_candies, input_k)\n\u001b[1;32m      5\u001b[0m     status \u001b[38;5;241m=\u001b[39m \u001b[38;5;124m\"\u001b[39m\u001b[38;5;124mPASSED\u001b[39m\u001b[38;5;124m\"\u001b[39m \u001b[38;5;28;01mif\u001b[39;00m result \u001b[38;5;241m==\u001b[39m expected \u001b[38;5;28;01melse\u001b[39;00m \u001b[38;5;124m\"\u001b[39m\u001b[38;5;124mFAILED\u001b[39m\u001b[38;5;124m\"\u001b[39m\n\u001b[1;32m      6\u001b[0m     \u001b[38;5;28mprint\u001b[39m(\u001b[38;5;124mf\u001b[39m\u001b[38;5;124m\"\u001b[39m\u001b[38;5;124mCase \u001b[39m\u001b[38;5;132;01m{\u001b[39;00mcase_number\u001b[38;5;132;01m}\u001b[39;00m\u001b[38;5;124m - candies: \u001b[39m\u001b[38;5;132;01m{\u001b[39;00minput_candies\u001b[38;5;132;01m}\u001b[39;00m\u001b[38;5;124m, k: \u001b[39m\u001b[38;5;132;01m{\u001b[39;00minput_k\u001b[38;5;132;01m}\u001b[39;00m\u001b[38;5;124m, Output: \u001b[39m\u001b[38;5;132;01m{\u001b[39;00mresult\u001b[38;5;132;01m}\u001b[39;00m\u001b[38;5;124m, Expected: \u001b[39m\u001b[38;5;132;01m{\u001b[39;00mexpected\u001b[38;5;132;01m}\u001b[39;00m\u001b[38;5;124m, Status: \u001b[39m\u001b[38;5;132;01m{\u001b[39;00mstatus\u001b[38;5;132;01m}\u001b[39;00m\u001b[38;5;124m\"\u001b[39m)\n",
      "\u001b[0;31mAttributeError\u001b[0m: 'Solution' object has no attribute 'wordSubsets'"
     ]
    }
   ],
   "source": [
    "solution = Solution()\n",
    "\n",
    "def run_test_case(case_number, input_candies, input_k, expected):\n",
    "    result = solution.maximumCandies(input_candies, input_k)\n",
    "    status = \"PASSED\" if result == expected else \"FAILED\"\n",
    "    print(f\"Case {case_number} - candies: {input_candies}, k: {input_k}, Output: {result}, Expected: {expected}, Status: {status}\")\n",
    "\n",
    "test_cases = [\n",
    "    (1, [5, 8, 6], 3, 5),\n",
    "    (2, [2, 5], 11, 0)\n",
    "    ]\n",
    "\n",
    "for case_number, input_candies, input_k, expected in test_cases:\n",
    "    run_test_case(case_number, input_candies, input_k, expected)"
   ]
  }
 ],
 "metadata": {
  "kernelspec": {
   "display_name": "base",
   "language": "python",
   "name": "python3"
  },
  "language_info": {
   "codemirror_mode": {
    "name": "ipython",
    "version": 3
   },
   "file_extension": ".py",
   "mimetype": "text/x-python",
   "name": "python",
   "nbconvert_exporter": "python",
   "pygments_lexer": "ipython3",
   "version": "3.10.12"
  }
 },
 "nbformat": 4,
 "nbformat_minor": 2
}
