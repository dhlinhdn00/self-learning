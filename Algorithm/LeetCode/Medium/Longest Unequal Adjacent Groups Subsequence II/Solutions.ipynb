{
 "cells": [
  {
   "cell_type": "markdown",
   "metadata": {},
   "source": [
    "# **SOLUTION**"
   ]
  },
  {
   "cell_type": "code",
   "execution_count": 1,
   "metadata": {},
   "outputs": [],
   "source": [
    "class Solution(object):\n",
    "    def getWordsInLongestSubsequence(self, words, groups):\n",
    "        \"\"\"\n",
    "        :type words: List[str]\n",
    "        :type groups: List[int]\n",
    "        :rtype: List[str]\n",
    "        \"\"\"\n",
    "        "
   ]
  },
  {
   "cell_type": "markdown",
   "metadata": {},
   "source": [
    "# **DRAFT**"
   ]
  },
  {
   "cell_type": "markdown",
   "metadata": {},
   "source": [
    "# **TESTCASES**"
   ]
  },
  {
   "cell_type": "code",
   "execution_count": 2,
   "metadata": {},
   "outputs": [
    {
     "name": "stdout",
     "output_type": "stream",
     "text": [
      "Case 1 - words: ['a', 'b', 'c', 'd'], groups: [1, 2, 3, 4], Output: None, Expected: ['a', 'b', 'c', 'd'], Status: FAILED\n",
      "Case 2 - words: ['bab', 'dab', 'cab'], groups: [1, 2, 2], Output: None, Expected: ['bab', 'cab'], Status: FAILED\n"
     ]
    }
   ],
   "source": [
    "solution = Solution()\n",
    "\n",
    "def run_test_case(case_number, input_words, input_groups, expected):\n",
    "    result = solution.getWordsInLongestSubsequence(input_words, input_groups)\n",
    "    status = \"PASSED\" if result == expected else \"FAILED\"\n",
    "    print(f\"Case {case_number} - words: {input_words}, groups: {input_groups}, Output: {result}, Expected: {expected}, Status: {status}\")\n",
    "\n",
    "test_cases = [\n",
    "    (1, [\"a\", \"b\", \"c\", \"d\"], [1, 2, 3, 4], [\"a\", \"b\", \"c\", \"d\"]),\n",
    "    (2, [\"bab\", \"dab\", \"cab\"], [1, 2, 2], [\"bab\", \"cab\"])\n",
    "]\n",
    "\n",
    "for case_number, input_words, input_groups, expected in test_cases:\n",
    "    run_test_case(case_number, input_words, input_groups, expected)"
   ]
  }
 ],
 "metadata": {
  "kernelspec": {
   "display_name": "base",
   "language": "python",
   "name": "python3"
  },
  "language_info": {
   "codemirror_mode": {
    "name": "ipython",
    "version": 3
   },
   "file_extension": ".py",
   "mimetype": "text/x-python",
   "name": "python",
   "nbconvert_exporter": "python",
   "pygments_lexer": "ipython3",
   "version": "3.11.5"
  }
 },
 "nbformat": 4,
 "nbformat_minor": 2
}
