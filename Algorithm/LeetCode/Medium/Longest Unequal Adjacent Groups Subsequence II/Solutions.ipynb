{
 "cells": [
  {
   "cell_type": "markdown",
   "metadata": {},
   "source": [
    "# **SOLUTION**"
   ]
  },
  {
   "cell_type": "code",
   "execution_count": null,
   "metadata": {},
   "outputs": [],
   "source": [
    "class Solution(object):\n",
    "    def getWordsInLongestSubsequence(self, words, groups):\n",
    "        \"\"\"\n",
    "        :type words: List[str]\n",
    "        :type groups: List[int]\n",
    "        :rtype: List[str]\n",
    "        \"\"\"\n",
    "        return self.solverNaive(words, groups)\n",
    "\n",
    "    def solverDP(self, words, groups):\n",
    "        def hammingDistance(s1, s2):\n",
    "            return sum(ch1 != ch2 for ch1, ch2 in zip(s1, s2))\n",
    "\n",
    "        n = len(words)\n",
    "        dp = [1] * n\n",
    "        prev = [-1] * n\n",
    "\n",
    "        for i in range(n):\n",
    "            for j in range(i):\n",
    "                if (groups[i] != groups[j] \n",
    "                    and len(words[i]) == len(words[j]) \n",
    "                    and hammingDistance(words[i], words[j]) == 1):\n",
    "                    if dp[j] + 1 > dp[i]:\n",
    "                        dp[i] = dp[j] + 1\n",
    "                        prev[i] = j\n",
    "\n",
    "        max_i = max(range(n), key=lambda x: dp[x])\n",
    "\n",
    "        res = []\n",
    "        i = max_i\n",
    "        while i != -1:\n",
    "            res.append(words[i])\n",
    "            i = prev[i]\n",
    "        return res[::-1]\n",
    "        "
   ]
  },
  {
   "cell_type": "markdown",
   "metadata": {},
   "source": [
    "# **DRAFT**"
   ]
  },
  {
   "cell_type": "code",
   "execution_count": 9,
   "metadata": {},
   "outputs": [
    {
     "data": {
      "text/plain": [
       "1"
      ]
     },
     "execution_count": 9,
     "metadata": {},
     "output_type": "execute_result"
    }
   ],
   "source": [
    "def _hammingDistance(s1, s2):\n",
    "    if len(s1) != len(s2):\n",
    "        return -1\n",
    "    return sum(ch1 != ch2 for ch1, ch2 in zip(s1, s2))\n",
    "\n",
    "_hammingDistance(\"aaa\", \"ada\")"
   ]
  },
  {
   "cell_type": "markdown",
   "metadata": {},
   "source": [
    "# **TESTCASES**"
   ]
  },
  {
   "cell_type": "code",
   "execution_count": 11,
   "metadata": {},
   "outputs": [
    {
     "name": "stdout",
     "output_type": "stream",
     "text": [
      "Case 1 - words: ['a', 'b', 'c', 'd'], groups: [1, 2, 3, 4], Output: ['a', 'b', 'c', 'd'], Expected: ['a', 'b', 'c', 'd'], Status: PASSED\n",
      "Case 2 - words: ['bab', 'dab', 'cab'], groups: [1, 2, 2], Output: ['bab', 'dab'], Expected: ['bab', 'cab'], Status: FAILED\n"
     ]
    }
   ],
   "source": [
    "solution = Solution()\n",
    "\n",
    "def run_test_case(case_number, input_words, input_groups, expected):\n",
    "    result = solution.getWordsInLongestSubsequence(input_words, input_groups)\n",
    "    status = \"PASSED\" if result == expected else \"FAILED\"\n",
    "    print(f\"Case {case_number} - words: {input_words}, groups: {input_groups}, Output: {result}, Expected: {expected}, Status: {status}\")\n",
    "\n",
    "test_cases = [\n",
    "    (1, [\"a\", \"b\", \"c\", \"d\"], [1, 2, 3, 4], [\"a\", \"b\", \"c\", \"d\"]),\n",
    "    (2, [\"bab\", \"dab\", \"cab\"], [1, 2, 2], [\"bab\", \"cab\"])\n",
    "]\n",
    "\n",
    "for case_number, input_words, input_groups, expected in test_cases:\n",
    "    run_test_case(case_number, input_words, input_groups, expected)"
   ]
  }
 ],
 "metadata": {
  "kernelspec": {
   "display_name": "base",
   "language": "python",
   "name": "python3"
  },
  "language_info": {
   "codemirror_mode": {
    "name": "ipython",
    "version": 3
   },
   "file_extension": ".py",
   "mimetype": "text/x-python",
   "name": "python",
   "nbconvert_exporter": "python",
   "pygments_lexer": "ipython3",
   "version": "3.11.5"
  }
 },
 "nbformat": 4,
 "nbformat_minor": 2
}
