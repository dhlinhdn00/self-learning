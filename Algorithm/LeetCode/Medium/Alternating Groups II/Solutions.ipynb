{
 "cells": [
  {
   "cell_type": "markdown",
   "metadata": {},
   "source": [
    "# **SOLUTION**"
   ]
  },
  {
   "cell_type": "code",
   "execution_count": 7,
   "metadata": {},
   "outputs": [],
   "source": [
    "class Solution(object):\n",
    "    def numberOfAlternatingGroups(self, colors, k):\n",
    "        \"\"\"\n",
    "        :type colors: List[int]\n",
    "        :type k: int\n",
    "        :rtype: int\n",
    "        \"\"\"\n",
    "        return self.solverImproved(colors, k)\n",
    "\n",
    "    def solverNaive(self, colors, k):\n",
    "        \"\"\"\n",
    "        :method: sliding window + circular array\n",
    "        :status: Time Limit Exceeded\n",
    "        \"\"\"\n",
    "        count = 0\n",
    "        extended_colors = colors + colors[:k-1]\n",
    "        for i in range(len(colors)):\n",
    "            if self.isAlternating(extended_colors[i:i+k]):\n",
    "                count += 1\n",
    "        return count\n",
    "\n",
    "    def isAlternating(self, arr):\n",
    "        for i in range(1, len(arr)):\n",
    "            if arr[i] == arr[i - 1]:\n",
    "                return False\n",
    "        return True\n",
    "\n",
    "    def solverImproved(self, colors, k):\n",
    "        \"\"\"\n",
    "        :method: sliding window + circular array\n",
    "        :improvement: new way to handle extended_colors\n",
    "                    : use alternating_count instead of isAlternating loop\n",
    "        \"\"\"\n",
    "        n = len(colors)\n",
    "\n",
    "        count = 0\n",
    "        alternating_count = 0 \n",
    "\n",
    "        for i in range(k - 1):\n",
    "            if colors[i] != colors[(i + 1) % n]:\n",
    "                alternating_count += 1\n",
    "\n",
    "        for i in range(n):\n",
    "            if alternating_count == k - 1:\n",
    "                count += 1\n",
    "\n",
    "            if colors[i] != colors[(i + 1) % n]:\n",
    "                alternating_count -= 1\n",
    "            \n",
    "            if colors[(i + k - 1) % n] != colors[(i + k) % n]:\n",
    "                alternating_count += 1\n",
    "\n",
    "        return count\n"
   ]
  },
  {
   "cell_type": "markdown",
   "metadata": {},
   "source": [
    "# **DRAFT**"
   ]
  },
  {
   "cell_type": "markdown",
   "metadata": {},
   "source": [
    "# **TESTCASES**"
   ]
  },
  {
   "cell_type": "code",
   "execution_count": 9,
   "metadata": {},
   "outputs": [
    {
     "name": "stdout",
     "output_type": "stream",
     "text": [
      "Case 1 - words1: ['amazon', 'apple', 'facebook', 'google', 'leetcode'], words2: ['e', 'o'], Output: ['facebook', 'google', 'leetcode'], Expected: ['facebook', 'google', 'leetcode'], Status: PASSED\n",
      "Case 2 - words1: ['amazon', 'apple', 'facebook', 'google', 'leetcode'], words2: ['lc', 'eo'], Output: ['leetcode'], Expected: ['leetcode'], Status: PASSED\n",
      "Case 3 - words1: ['acaac', 'cccbb', 'aacbb', 'caacc', 'bcbbb'], words2: ['c', 'cc', 'b'], Output: ['cccbb'], Expected: ['cccbb'], Status: PASSED\n"
     ]
    }
   ],
   "source": [
    "solution = Solution()\n",
    "\n",
    "def run_test_case(case_number, input_colors, input_k, expected):\n",
    "    result = solution.numberOfAlternatingGroups(input_colors, input_k)\n",
    "    status = \"PASSED\" if result == expected else \"FAILED\"\n",
    "    print(f\"Case {case_number} - Colors: {input_colors}, k: {input_k}, Output: {result}, Expected: {expected}, Status: {status}\")\n",
    "\n",
    "test_cases = [\n",
    "    (1, [0,1,0,1,0], 3, 3),\n",
    "    (2, [0,1,0,0,1,0,1], 6, 2),\n",
    "    (3, [1, 1, 0, 1], 4, 0)\n",
    "]\n",
    "\n",
    "for case_number, input_colors, input_k, expected in test_cases:\n",
    "    run_test_case(case_number, input_colors, input_k, expected)"
   ]
  }
 ],
 "metadata": {
  "kernelspec": {
   "display_name": "base",
   "language": "python",
   "name": "python3"
  },
  "language_info": {
   "codemirror_mode": {
    "name": "ipython",
    "version": 3
   },
   "file_extension": ".py",
   "mimetype": "text/x-python",
   "name": "python",
   "nbconvert_exporter": "python",
   "pygments_lexer": "ipython3",
   "version": "3.10.12"
  }
 },
 "nbformat": 4,
 "nbformat_minor": 2
}
