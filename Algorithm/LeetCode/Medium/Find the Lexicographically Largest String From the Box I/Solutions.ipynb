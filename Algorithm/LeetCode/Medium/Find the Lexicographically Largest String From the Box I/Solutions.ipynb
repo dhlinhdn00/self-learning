{
 "cells": [
  {
   "cell_type": "markdown",
   "metadata": {},
   "source": [
    "# **SOLUTION**"
   ]
  },
  {
   "cell_type": "code",
   "execution_count": null,
   "metadata": {},
   "outputs": [],
   "source": [
    "class Solution(object):\n",
    "    def answerString(self, word, numFriends):\n",
    "        \"\"\"\n",
    "        :type word: str\n",
    "        :type numFriends: int\n",
    "        :rtype: str\n",
    "        \"\"\"\n",
    "        return self.solverNaive(word, numFriends)\n",
    "    \n",
    "    def solverNaive(self, word, numFriends):\n",
    "        candidates = []\n",
    "        if numFriends == 1:\n",
    "            return word\n",
    "        n = len(word)\n",
    "        if n == numFriends:\n",
    "            return max(word)\n",
    "        candidates = []\n",
    "        for i in range(n):\n",
    "            candidates.append(word[i: i + n - numFriends + 1])\n",
    "        return max(candidates)\n",
    "        "
   ]
  },
  {
   "cell_type": "markdown",
   "metadata": {},
   "source": [
    "# **DRAFT**"
   ]
  },
  {
   "cell_type": "code",
   "execution_count": 65,
   "metadata": {},
   "outputs": [
    {
     "name": "stdout",
     "output_type": "stream",
     "text": [
      "3\n",
      "0\n",
      "1\n",
      "2\n",
      "3\n"
     ]
    },
    {
     "data": {
      "text/plain": [
       "'nn'"
      ]
     },
     "execution_count": 65,
     "metadata": {},
     "output_type": "execute_result"
    }
   ],
   "source": [
    "word = \"aann\"\n",
    "numFriends = 2\n",
    "max_len = len(word) - numFriends + 1\n",
    "print(max_len)\n",
    "candidates = []\n",
    "for i in range(len(word)):\n",
    "    print(i)\n",
    "    candidates.append(word[i: i + max_len])\n",
    "\n",
    "max(candidates)"
   ]
  },
  {
   "cell_type": "markdown",
   "metadata": {},
   "source": [
    "# **TESTCASES**"
   ]
  },
  {
   "cell_type": "code",
   "execution_count": 62,
   "metadata": {},
   "outputs": [
    {
     "name": "stdout",
     "output_type": "stream",
     "text": [
      "0\n",
      "1\n",
      "Case 1 - word: dbca, numFriends: 2, Output: dbc, Expected: dbc, Status: PASSED\n",
      "Case 2 - word: gggg, numFriends: 4, Output: g, Expected: g, Status: PASSED\n"
     ]
    }
   ],
   "source": [
    "solution = Solution()\n",
    "\n",
    "def run_test_case(case_number, input_word, input_numFriends, expected):\n",
    "    result = solution.answerString(input_word, input_numFriends)\n",
    "    status = \"PASSED\" if result == expected else \"FAILED\"\n",
    "    print(f\"Case {case_number} - word: {input_word}, numFriends: {input_numFriends}, Output: {result}, Expected: {expected}, Status: {status}\")\n",
    "\n",
    "test_cases = [\n",
    "    (1, \"dbca\", 2, \"dbc\"),\n",
    "    (2, \"gggg\", 4, \"g\")\n",
    "]\n",
    "\n",
    "for case_number, input_word, input_numFriends, expected in test_cases:\n",
    "    run_test_case(case_number, input_word, input_numFriends, expected)"
   ]
  }
 ],
 "metadata": {
  "kernelspec": {
   "display_name": "base",
   "language": "python",
   "name": "python3"
  },
  "language_info": {
   "codemirror_mode": {
    "name": "ipython",
    "version": 3
   },
   "file_extension": ".py",
   "mimetype": "text/x-python",
   "name": "python",
   "nbconvert_exporter": "python",
   "pygments_lexer": "ipython3",
   "version": "3.11.5"
  }
 },
 "nbformat": 4,
 "nbformat_minor": 2
}
