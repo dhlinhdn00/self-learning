{
 "cells": [
  {
   "cell_type": "markdown",
   "metadata": {},
   "source": [
    "# **SOLUTION**"
   ]
  },
  {
   "cell_type": "code",
   "execution_count": null,
   "metadata": {},
   "outputs": [],
   "source": [
    "class Solution(object):\n",
    "    def minSum(self, nums1, nums2):\n",
    "        \"\"\"\n",
    "        :type nums1: List[int]\n",
    "        :type nums2: List[int]\n",
    "        :rtype: int\n",
    "        \"\"\"\n",
    "        return self.solverNaive(nums1, nums2)\n",
    "    \n",
    "    def solverNaive(self, nums1, nums2):\n",
    "        \"\"\"\n",
    "        :cost: 893ms (77.96%) | 26MB (79.25%)\n",
    "        \"\"\"\n",
    "        sums1, sums2 = sum(nums1), sum(nums2)\n",
    "        zero_count_s1 = sum([1 for i in nums1 if i == 0])\n",
    "        zero_count_s2 = sum([1 for i in nums2 if i == 0])\n",
    "        min_sums1, min_sums2 = sums1 + zero_count_s1, sums2 + zero_count_s2\n",
    "\n",
    "        if min_sums1 == min_sums2:\n",
    "            return min_sums1\n",
    "        elif min_sums1 < min_sums2:\n",
    "            return min_sums2 if zero_count_s1 > 0 else -1\n",
    "        else:\n",
    "            return min_sums1 if zero_count_s2 > 0 else -1\n",
    "\n"
   ]
  },
  {
   "cell_type": "markdown",
   "metadata": {},
   "source": [
    "# **DRAFT**"
   ]
  },
  {
   "cell_type": "markdown",
   "metadata": {},
   "source": [
    "# **TESTCASES**"
   ]
  },
  {
   "cell_type": "code",
   "execution_count": 41,
   "metadata": {},
   "outputs": [
    {
     "name": "stdout",
     "output_type": "stream",
     "text": [
      "Case 1 - nums1: [3, 2, 0, 1, 0], nums2: [6, 5, 0], Output: 12, Expected: 12, Status: PASSED\n",
      "Case 2 - nums1: [2, 0, 2, 0], nums2: [1, 4], Output: -1, Expected: -1, Status: PASSED\n"
     ]
    }
   ],
   "source": [
    "solution = Solution()\n",
    "\n",
    "def run_test_case(case_number, input_nums1, input_nums2, expected):\n",
    "    result = solution.minSum(input_nums1, input_nums2)\n",
    "    status = \"PASSED\" if result == expected else \"FAILED\"\n",
    "    print(f\"Case {case_number} - nums1: {input_nums1}, nums2: {input_nums2}, Output: {result}, Expected: {expected}, Status: {status}\")\n",
    "\n",
    "test_cases = [\n",
    "    (1, [3,2,0,1,0], [6,5,0], 12),\n",
    "    (2, [2,0,2,0], [1,4], -1)\n",
    "]\n",
    "\n",
    "for case_number, input_nums1, input_nums2, expected in test_cases:\n",
    "    run_test_case(case_number, input_nums1, input_nums2, expected)"
   ]
  }
 ],
 "metadata": {
  "kernelspec": {
   "display_name": "Python 3",
   "language": "python",
   "name": "python3"
  },
  "language_info": {
   "codemirror_mode": {
    "name": "ipython",
    "version": 3
   },
   "file_extension": ".py",
   "mimetype": "text/x-python",
   "name": "python",
   "nbconvert_exporter": "python",
   "pygments_lexer": "ipython3",
   "version": "3.10.12"
  }
 },
 "nbformat": 4,
 "nbformat_minor": 2
}
