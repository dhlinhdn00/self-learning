{
 "cells": [
  {
   "cell_type": "markdown",
   "metadata": {},
   "source": [
    "# **SOLUTION**"
   ]
  },
  {
   "cell_type": "code",
   "execution_count": null,
   "metadata": {},
   "outputs": [],
   "source": [
    "class Solution(object):\n",
    "    def snakesAndLadders(self, board):\n",
    "        return self.solverBFS(board)\n",
    "    \n",
    "    @staticmethod\n",
    "    def _convertBoustrophedonList(board):\n",
    "        n = len(board)\n",
    "        flatten_board = []\n",
    "        for i in range(n - 1, -1, -1):\n",
    "            row = board[i]\n",
    "            if (n - 1 - i) % 2 == 0:\n",
    "                flatten_board.extend(row)\n",
    "            else:\n",
    "                flatten_board.extend(row[::-1])\n",
    "        return flatten_board\n",
    "    \n",
    "    def solverBFS(self, board):\n",
    "        from collections import deque\n",
    "\n",
    "        n = len(board)\n",
    "        fboard = Solution._convertBoustrophedonList(board)\n",
    "\n",
    "        q = deque([(0, 0)])  # (current index, moves)\n",
    "        visited = set()\n",
    "\n",
    "        while q:\n",
    "            cn, m = q.popleft()\n",
    "            for i in range(1, 7):\n",
    "                nn = cn + i\n",
    "                if nn >= n * n:\n",
    "                    continue\n",
    "\n",
    "                d = fboard[nn]\n",
    "                if d != -1:\n",
    "                    nn = d - 1 \n",
    "\n",
    "                if nn == n * n - 1:\n",
    "                    return m + 1\n",
    "\n",
    "                if nn not in visited:\n",
    "                    visited.add(nn)\n",
    "                    q.append((nn, m + 1))\n",
    "\n",
    "        return -1\n"
   ]
  },
  {
   "cell_type": "markdown",
   "metadata": {},
   "source": [
    "# **DRAFT**"
   ]
  },
  {
   "cell_type": "code",
   "execution_count": 45,
   "metadata": {},
   "outputs": [
    {
     "name": "stdout",
     "output_type": "stream",
     "text": [
      "-- 5\n",
      "1\n",
      "2\n",
      "3\n",
      "4\n",
      "5\n",
      "6\n",
      "-- 4\n",
      "7\n",
      "8\n",
      "9\n",
      "10\n",
      "11\n",
      "12\n",
      "-- 3\n",
      "13\n",
      "14\n",
      "15\n",
      "16\n",
      "17\n",
      "18\n",
      "-- 2\n",
      "19\n",
      "20\n",
      "21\n",
      "22\n",
      "23\n",
      "24\n",
      "-- 1\n",
      "25\n",
      "26\n",
      "27\n",
      "28\n",
      "29\n",
      "30\n",
      "-- 0\n",
      "31\n",
      "32\n",
      "33\n",
      "34\n",
      "35\n",
      "36\n"
     ]
    },
    {
     "data": {
      "text/plain": [
       "[]"
      ]
     },
     "execution_count": 45,
     "metadata": {},
     "output_type": "execute_result"
    }
   ],
   "source": [
    "board = [[36,35,34,33,32,31],\n",
    "         [25,26,27,28,29,30],\n",
    "         [24,23,22,21,20,19],\n",
    "         [13,14,15,16,17,18],\n",
    "         [12,11,10,9,8,7],\n",
    "         [1,2,3,4,5,6]]\n",
    "\n",
    "h, w = len(board), len(board[0])\n",
    "\n",
    "flatten_board = []\n",
    "for i in range(w - 1, -1, -1):\n",
    "    if i % 2 == 0:\n",
    "        print(\"--\", i)\n",
    "        for j in range(h -1, -1, -1):\n",
    "            print(board[i][j])\n",
    "    else:\n",
    "        print(\"--\", i)\n",
    "        for k in range(h):\n",
    "            print(board[i][k])\n",
    "\n",
    "\n",
    "flatten_board"
   ]
  },
  {
   "cell_type": "code",
   "execution_count": 46,
   "metadata": {},
   "outputs": [
    {
     "data": {
      "text/plain": [
       "[-1,\n",
       " 15,\n",
       " -1,\n",
       " -1,\n",
       " -1,\n",
       " -1,\n",
       " -1,\n",
       " -1,\n",
       " -1,\n",
       " -1,\n",
       " -1,\n",
       " -1,\n",
       " -1,\n",
       " 35,\n",
       " -1,\n",
       " -1,\n",
       " 13,\n",
       " -1,\n",
       " -1,\n",
       " -1,\n",
       " -1,\n",
       " -1,\n",
       " -1,\n",
       " -1,\n",
       " -1,\n",
       " -1,\n",
       " -1,\n",
       " -1,\n",
       " -1,\n",
       " -1,\n",
       " -1,\n",
       " -1,\n",
       " -1,\n",
       " -1,\n",
       " -1,\n",
       " -1]"
      ]
     },
     "execution_count": 46,
     "metadata": {},
     "output_type": "execute_result"
    }
   ],
   "source": [
    "board = [[-1,-1,-1,-1,-1,-1],\n",
    "         [-1,-1,-1,-1,-1,-1],\n",
    "         [-1,-1,-1,-1,-1,-1],\n",
    "         [-1,35,-1,-1,13,-1],\n",
    "         [-1,-1,-1,-1,-1,-1],\n",
    "         [-1,15,-1,-1,-1,-1]]\n",
    "\n",
    "n = len(board)\n",
    "\n",
    "flatten_board = []\n",
    "for i in range(n - 1, -1, -1):\n",
    "    if i % 2 == 0:\n",
    "        for j in range(n -1, -1, -1):\n",
    "            flatten_board.append(board[i][j])\n",
    "    else:\n",
    "        for k in range(n):\n",
    "            flatten_board.append(board[i][k])\n",
    "\n",
    "\n",
    "flatten_board"
   ]
  },
  {
   "cell_type": "code",
   "execution_count": 47,
   "metadata": {},
   "outputs": [
    {
     "name": "stdout",
     "output_type": "stream",
     "text": [
      "4\n",
      "5\n",
      "5\n",
      "5\n",
      "5\n",
      "6\n"
     ]
    }
   ],
   "source": [
    "from collections import deque\n",
    "\n",
    "visited = set()\n",
    "queue = deque([(0, 0)])  # index, moves\n",
    "\n",
    "while queue:\n",
    "    curr, moves = queue.popleft()\n",
    "    for i in range(1, 7):\n",
    "        next_pos = curr + i\n",
    "        if next_pos >= n * n:\n",
    "            continue\n",
    "\n",
    "        dest = flatten_board[next_pos]\n",
    "        if dest != -1:\n",
    "            dest -= 1  \n",
    "        else:\n",
    "            dest = next_pos\n",
    "\n",
    "        if dest == n * n - 1:\n",
    "            print(moves + 1)\n",
    "\n",
    "        if dest not in visited:\n",
    "            visited.add(dest)\n",
    "            queue.append((dest, moves + 1))\n",
    "\n"
   ]
  },
  {
   "cell_type": "markdown",
   "metadata": {},
   "source": [
    "# **TESTCASES**"
   ]
  },
  {
   "cell_type": "code",
   "execution_count": 55,
   "metadata": {},
   "outputs": [
    {
     "name": "stdout",
     "output_type": "stream",
     "text": [
      "Case 1 - board: [[-1, -1, -1, -1, -1, -1], [-1, -1, -1, -1, -1, -1], [-1, -1, -1, -1, -1, -1], [-1, 35, -1, -1, 13, -1], [-1, -1, -1, -1, -1, -1], [-1, 15, -1, -1, -1, -1]], Output: 4, Expected: 4, Status: PASSED\n",
      "Case 2 - board: [[-1, -1], [-1, 3]], Output: 1, Expected: 1, Status: PASSED\n"
     ]
    }
   ],
   "source": [
    "solution = Solution()\n",
    "\n",
    "def run_test_case(case_number, input_board, expected):\n",
    "    result = solution.snakesAndLadders(input_board)\n",
    "    status = \"PASSED\" if result == expected else \"FAILED\"\n",
    "    print(f\"Case {case_number} - board: {input_board}, Output: {result}, Expected: {expected}, Status: {status}\")\n",
    "\n",
    "test_cases = [\n",
    "    (1, [[-1,-1,-1,-1,-1,-1],[-1,-1,-1,-1,-1,-1],[-1,-1,-1,-1,-1,-1],[-1,35,-1,-1,13,-1],[-1,-1,-1,-1,-1,-1],[-1,15,-1,-1,-1,-1]], 4),\n",
    "    (2, [[-1,-1],[-1,3]], 1)\n",
    "]\n",
    "\n",
    "for case_number, input_board, expected in test_cases:\n",
    "    run_test_case(case_number, input_board, expected)"
   ]
  }
 ],
 "metadata": {
  "kernelspec": {
   "display_name": "base",
   "language": "python",
   "name": "python3"
  },
  "language_info": {
   "codemirror_mode": {
    "name": "ipython",
    "version": 3
   },
   "file_extension": ".py",
   "mimetype": "text/x-python",
   "name": "python",
   "nbconvert_exporter": "python",
   "pygments_lexer": "ipython3",
   "version": "3.11.5"
  }
 },
 "nbformat": 4,
 "nbformat_minor": 2
}
