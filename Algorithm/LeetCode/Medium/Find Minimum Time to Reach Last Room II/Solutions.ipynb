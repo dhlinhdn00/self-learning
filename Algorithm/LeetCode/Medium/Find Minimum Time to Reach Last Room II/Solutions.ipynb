{
 "cells": [
  {
   "cell_type": "markdown",
   "metadata": {},
   "source": [
    "# **SOLUTION**"
   ]
  },
  {
   "cell_type": "code",
   "execution_count": 8,
   "metadata": {},
   "outputs": [],
   "source": [
    "import heapq\n",
    "\n",
    "class Solution(object):\n",
    "    def minTimeToReach(self, moveTime):\n",
    "        \"\"\"\n",
    "        :type moveTime: List[List[int]]\n",
    "        :rtype: int\n",
    "        \"\"\"\n",
    "        return self.solverPQ(moveTime)\n",
    "    \n",
    "    def solverPQ(self, moveTime):\n",
    "        \"\"\"\n",
    "        :cost: 2622ms (42.86%) | 88.85MB (85.71%)\n",
    "        \"\"\"\n",
    "        h, w = len(moveTime), len(moveTime[0]) # matrix [hxw]\n",
    "        directions = [(-1, 0), (1, 0), (0, -1), (0, 1)] # up - down - left - right\n",
    "        visited = []\n",
    "\n",
    "        for i in range(h):\n",
    "            row = []\n",
    "            for j in range(w):\n",
    "                row.append(float('inf'))\n",
    "            visited.append(row)\n",
    "        \n",
    "        visited[0][0] = 0\n",
    "\n",
    "        pq = [(0, 0, 0, 1)] # time, x, y, cost\n",
    "        while pq:\n",
    "            time, x, y, cost = heapq.heappop(pq) # time here is current time\n",
    "\n",
    "            # Advanced\n",
    "            if time > visited[x][y]:\n",
    "                continue\n",
    "\n",
    "            if x == h - 1 and y == w - 1:\n",
    "                return time\n",
    "                \n",
    "            for dx, dy in directions:\n",
    "                nx, ny = x + dx, y + dy # n meaning next => nx: next x, ny: next y, ntime: next time\n",
    "                if 0 <= nx < h and 0 <= ny < w:\n",
    "                    ntime = max(time, moveTime[nx][ny]) + cost\n",
    "                    ncost = 2 if cost == 1 else 1\n",
    "                    if ntime < visited[nx][ny]:\n",
    "                        visited[nx][ny] = ntime\n",
    "                        heapq.heappush(pq, (ntime, nx, ny, ncost))\n",
    "        return -1\n",
    "\n"
   ]
  },
  {
   "cell_type": "markdown",
   "metadata": {},
   "source": [
    "# **DRAFT**"
   ]
  },
  {
   "cell_type": "code",
   "execution_count": null,
   "metadata": {},
   "outputs": [
    {
     "name": "stdout",
     "output_type": "stream",
     "text": [
      "[[0, 4], [4, 4]] [0, 4]\n",
      "[[0, inf], [inf, inf]]\n"
     ]
    }
   ],
   "source": [
    "import heapq\n",
    "\n",
    "moveTime = [[0, 4],\n",
    "            [4, 4]]\n",
    "n, m = len(moveTime), len(moveTime[0]) # h x w ~ n x m => h is n; w is m\n",
    "print(moveTime, moveTime[0])\n",
    "n, m\n",
    "directions = [(-1, 0), (1, 0), (0, -1), (0, 1)] # up, down, left, right\n",
    "\n",
    "visited = []\n",
    "\n",
    "for i in range(n):\n",
    "    row = []\n",
    "    for j in range(m):\n",
    "        row.append(float('inf'))\n",
    "    visited.append(row)\n",
    "visited[0][0] = 0\n",
    "print(visited)\n",
    "\n",
    "heap = [(0, 0, 0)] # (time, x, y)\n",
    "\n",
    "while heap:\n",
    "    time, x, y = heapq.heappop(heap)\n",
    "    if (x, y) == (n - 1, m - 1):\n",
    "        print(time)\n",
    "\n",
    "    for dx, dy in directions:\n",
    "        nx, ny = x + dx, y + dy\n",
    "        if 0 <= nx < n and 0 <= ny < m:\n",
    "            next_time = max(time + 1, moveTime[nx][ny]) # get the current step time or limit step time at position\n",
    "\n",
    "            if visited[nx][ny] > next_time:\n",
    "                visited[nx][ny] = next_time\n",
    "                heapq.heappush(heap, (next_time, nx, ny))\n"
   ]
  },
  {
   "cell_type": "code",
   "execution_count": 9,
   "metadata": {},
   "outputs": [
    {
     "name": "stdout",
     "output_type": "stream",
     "text": [
      "[1, 3, 2, 4]\n",
      "pop from heaptest:  1\n",
      "heaptest after pop:  [2, 3, 4]\n"
     ]
    }
   ],
   "source": [
    "import heapq\n",
    "\n",
    "heaptest = []\n",
    "\n",
    "\n",
    "heapq.heappush(heaptest, 3)\n",
    "heapq.heappush(heaptest, 1)\n",
    "heapq.heappush(heaptest, 2)\n",
    "heapq.heappush(heaptest, 4)\n",
    "\n",
    "print(heaptest) # tree format\n",
    "min_val = heapq.heappop(heaptest)\n",
    "print(\"pop from heaptest: \", min_val)\n",
    "print(\"heaptest after pop: \", heaptest)"
   ]
  },
  {
   "cell_type": "code",
   "execution_count": 14,
   "metadata": {},
   "outputs": [
    {
     "name": "stdout",
     "output_type": "stream",
     "text": [
      "Processing: send_email (priority-1=1, priority-2=1)\n",
      "Processing: resize_image (priority-1=1, priority-2=3)\n",
      "Processing: compress_video (priority-1=2, priority-2=2)\n",
      "Processing: download_file (priority-1=3, priority-2=0)\n",
      "Processing: generate_report (priority-1=4, priority-2=4)\n"
     ]
    }
   ],
   "source": [
    "import heapq\n",
    "\n",
    "pq = []\n",
    "\n",
    "heapq.heappush(pq, (3, 0, \"download_file\"))\n",
    "heapq.heappush(pq, (1, 1, \"send_email\"))\n",
    "heapq.heappush(pq, (2, 2, \"compress_video\"))\n",
    "heapq.heappush(pq, (1, 3, \"resize_image\"))\n",
    "heapq.heappush(pq, (4, 4, \"generate_report\"))\n",
    "\n",
    "while pq:\n",
    "    priority_1, priority_2, task = heapq.heappop(pq)\n",
    "    print(f\"Processing: {task} (priority-1={priority_1}, priority-2={priority_2})\")\n"
   ]
  },
  {
   "cell_type": "markdown",
   "metadata": {},
   "source": [
    "# **TESTCASES**"
   ]
  },
  {
   "cell_type": "code",
   "execution_count": 9,
   "metadata": {},
   "outputs": [
    {
     "name": "stdout",
     "output_type": "stream",
     "text": [
      "Case 1 - moveTime: [[0, 4], [4, 4]], Output: 7, Expected: 7, Status: PASSED\n",
      "Case 2 - moveTime: [[0, 0, 0, 0], [0, 0, 0, 0]], Output: 6, Expected: 6, Status: PASSED\n",
      "Case 3 - moveTime: [[0, 1], [1, 2]], Output: 4, Expected: 4, Status: PASSED\n"
     ]
    }
   ],
   "source": [
    "solution = Solution()\n",
    "\n",
    "def run_test_case(case_number, input_moveTime, expected):\n",
    "    result = solution.minTimeToReach(input_moveTime)\n",
    "    status = \"PASSED\" if result == expected else \"FAILED\"\n",
    "    print(f\"Case {case_number} - moveTime: {input_moveTime}, Output: {result}, Expected: {expected}, Status: {status}\")\n",
    "\n",
    "test_cases = [\n",
    "    (1, [[0,4],[4,4]], 7),\n",
    "    (2, [[0,0,0,0],[0,0,0,0]], 6),\n",
    "    (3, [[0,1],[1,2]], 4)\n",
    "]\n",
    "\n",
    "for case_number, input_moveTime, expected in test_cases:\n",
    "    run_test_case(case_number, input_moveTime, expected)"
   ]
  }
 ],
 "metadata": {
  "kernelspec": {
   "display_name": "Python 3",
   "language": "python",
   "name": "python3"
  },
  "language_info": {
   "codemirror_mode": {
    "name": "ipython",
    "version": 3
   },
   "file_extension": ".py",
   "mimetype": "text/x-python",
   "name": "python",
   "nbconvert_exporter": "python",
   "pygments_lexer": "ipython3",
   "version": "3.10.12"
  }
 },
 "nbformat": 4,
 "nbformat_minor": 2
}
