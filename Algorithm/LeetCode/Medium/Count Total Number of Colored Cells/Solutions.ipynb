{
 "cells": [
  {
   "cell_type": "markdown",
   "metadata": {},
   "source": [
    "# **SOLUTION**"
   ]
  },
  {
   "cell_type": "code",
   "execution_count": null,
   "metadata": {},
   "outputs": [],
   "source": [
    "class Solution(object):\n",
    "    def coloredCells(self, n):\n",
    "        \"\"\"\n",
    "        :type n: int\n",
    "        :rtype: int\n",
    "        \"\"\"\n",
    "        return self.solverNaive(n)\n",
    "    \n",
    "    def solverNaive(self, n):\n",
    "        \"\"\"\n",
    "        :equation: (n * 2 - 1) + 2 * (n - 1) ^ 2\n",
    "        :method: arithmetic sequence: 1, 3, 5, ...\n",
    "        \"\"\"\n",
    "        return n * 2 - 1 + 2 * (n - 1) * (n - 1)\n",
    "        "
   ]
  },
  {
   "cell_type": "markdown",
   "metadata": {},
   "source": [
    "# **DRAFT**"
   ]
  },
  {
   "cell_type": "markdown",
   "metadata": {},
   "source": [
    "# **TESTCASES**"
   ]
  },
  {
   "cell_type": "code",
   "execution_count": null,
   "metadata": {},
   "outputs": [
    {
     "name": "stdout",
     "output_type": "stream",
     "text": [
      "Case 1 - words1: ['amazon', 'apple', 'facebook', 'google', 'leetcode'], words2: ['e', 'o'], Output: ['facebook', 'google', 'leetcode'], Expected: ['facebook', 'google', 'leetcode'], Status: PASSED\n",
      "Case 2 - words1: ['amazon', 'apple', 'facebook', 'google', 'leetcode'], words2: ['lc', 'eo'], Output: ['leetcode'], Expected: ['leetcode'], Status: PASSED\n",
      "Case 3 - words1: ['acaac', 'cccbb', 'aacbb', 'caacc', 'bcbbb'], words2: ['c', 'cc', 'b'], Output: ['cccbb'], Expected: ['cccbb'], Status: PASSED\n"
     ]
    }
   ],
   "source": [
    "solution = Solution()\n",
    "\n",
    "def run_test_case(case_number, input_n, expected):\n",
    "    result = solution.coloredCells(input_n)\n",
    "    status = \"PASSED\" if result == expected else \"FAILED\"\n",
    "    print(f\"Case {case_number} - n: {input_n}, Output: {result}, Expected: {expected}, Status: {status}\")\n",
    "\n",
    "test_cases = [\n",
    "    (1, 1, 1),\n",
    "    (2, 2, 5)\n",
    "]\n",
    "\n",
    "for case_number, input_n, expected in test_cases:\n",
    "    run_test_case(case_number, input_n, expected)"
   ]
  }
 ],
 "metadata": {
  "kernelspec": {
   "display_name": "base",
   "language": "python",
   "name": "python3"
  },
  "language_info": {
   "codemirror_mode": {
    "name": "ipython",
    "version": 3
   },
   "file_extension": ".py",
   "mimetype": "text/x-python",
   "name": "python",
   "nbconvert_exporter": "python",
   "pygments_lexer": "ipython3",
   "version": "3.10.12"
  }
 },
 "nbformat": 4,
 "nbformat_minor": 2
}
