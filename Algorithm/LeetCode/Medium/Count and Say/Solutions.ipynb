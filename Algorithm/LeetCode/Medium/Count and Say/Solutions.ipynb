{
 "cells": [
  {
   "cell_type": "markdown",
   "metadata": {},
   "source": [
    "# **SOLUTION**"
   ]
  },
  {
   "cell_type": "code",
   "execution_count": 4,
   "metadata": {},
   "outputs": [],
   "source": [
    "class Solution(object):\n",
    "    def countAndSay(self, n):\n",
    "        \"\"\"\n",
    "        :type n: int\n",
    "        :rtype: str\n",
    "        \"\"\"\n",
    "        return self.solverNaive(n)\n",
    "    \n",
    "    def solverNaive(self, n):\n",
    "        \"\"\"\n",
    "        :cost: 9ms | 12.79MB\n",
    "        \"\"\"\n",
    "        def _encode(s):\n",
    "            res = []\n",
    "            count = 1\n",
    "            n = len(s)\n",
    "            for i in range(1, n):\n",
    "                if s[i] == s[i-1]:\n",
    "                    count += 1\n",
    "                else:\n",
    "                    res.append(str(count))\n",
    "                    res.append(s[i - 1])\n",
    "                    count = 1\n",
    "            res.append(str(count))\n",
    "            res.append(s[-1])\n",
    "            return \"\".join(res)\n",
    "\n",
    "        s = \"1\"\n",
    "        for i in range(2, n + 1):\n",
    "            s = _encode(s)\n",
    "        return s\n"
   ]
  },
  {
   "cell_type": "markdown",
   "metadata": {},
   "source": [
    "# **DRAFT**"
   ]
  },
  {
   "cell_type": "markdown",
   "metadata": {},
   "source": [
    "# **TESTCASES**"
   ]
  },
  {
   "cell_type": "code",
   "execution_count": 5,
   "metadata": {},
   "outputs": [
    {
     "name": "stdout",
     "output_type": "stream",
     "text": [
      "Case 1 - n: 4, Output: 1211, Expected: 1211, Status: PASSED\n",
      "Case 2 - n: 1, Output: 1, Expected: 1, Status: PASSED\n"
     ]
    }
   ],
   "source": [
    "solution = Solution()\n",
    "\n",
    "def run_test_case(case_number, input_n, expected):\n",
    "    result = solution.countAndSay(input_n)\n",
    "    status = \"PASSED\" if result == expected else \"FAILED\"\n",
    "    print(f\"Case {case_number} - n: {input_n}, Output: {result}, Expected: {expected}, Status: {status}\")\n",
    "\n",
    "test_cases = [\n",
    "    (1, 4, \"1211\"),\n",
    "    (2, 1, \"1\"),\n",
    "]\n",
    "\n",
    "for case_number, input_n, expected in test_cases:\n",
    "    run_test_case(case_number, input_n, expected)"
   ]
  }
 ],
 "metadata": {
  "kernelspec": {
   "display_name": "Python 3",
   "language": "python",
   "name": "python3"
  },
  "language_info": {
   "codemirror_mode": {
    "name": "ipython",
    "version": 3
   },
   "file_extension": ".py",
   "mimetype": "text/x-python",
   "name": "python",
   "nbconvert_exporter": "python",
   "pygments_lexer": "ipython3",
   "version": "3.10.12"
  }
 },
 "nbformat": 4,
 "nbformat_minor": 2
}
