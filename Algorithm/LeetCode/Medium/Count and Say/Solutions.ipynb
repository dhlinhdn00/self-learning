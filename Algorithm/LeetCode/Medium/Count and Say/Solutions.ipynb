{
 "cells": [
  {
   "cell_type": "markdown",
   "metadata": {},
   "source": [
    "# **SOLUTION**"
   ]
  },
  {
   "cell_type": "code",
   "execution_count": 45,
   "metadata": {},
   "outputs": [],
   "source": [
    "class Solution(object):\n",
    "    def countAndSay(self, n):\n",
    "        \"\"\"\n",
    "        :type n: int\n",
    "        :rtype: str\n",
    "        \"\"\"\n",
    "        return self.solverNaive(n)\n",
    "    \n",
    "    def solverNaive(self, n):\n",
    "        \"\"\"\n",
    "        :cost: 6ms | 12.54MB\n",
    "        \"\"\"\n",
    "        def _encode(s):\n",
    "            temp = s + \"0\"\n",
    "            res_str = \"\"\n",
    "            count = 1\n",
    "            n = len(temp)\n",
    "\n",
    "            for i in range(1, n):\n",
    "                if temp[i] == temp[i - 1]:\n",
    "                    count += 1\n",
    "                else:\n",
    "                    res_str += str(count) + temp[i - 1]\n",
    "                    count = 1\n",
    "            \n",
    "            return res_str\n",
    "        \n",
    "        s = \"1\"\n",
    "        for i in range(2, n + 1):\n",
    "            s = _encode(s)\n",
    "        return s\n"
   ]
  },
  {
   "cell_type": "markdown",
   "metadata": {},
   "source": [
    "# **DRAFT**"
   ]
  },
  {
   "cell_type": "code",
   "execution_count": 11,
   "metadata": {},
   "outputs": [
    {
     "name": "stdout",
     "output_type": "stream",
     "text": [
      "['2', '1']\n",
      "21\n"
     ]
    }
   ],
   "source": [
    "num_str = \"11\"\n",
    "\n",
    "res = []\n",
    "count = 1\n",
    "n = len(num_str)\n",
    "for i in range(1, n):\n",
    "    if num_str[i] == num_str[i-1]:\n",
    "        count += 1\n",
    "    else:\n",
    "        res.append(str(count))\n",
    "        res.append(num_str[i - 1])\n",
    "        count = 1\n",
    "res.append(str(count))\n",
    "res.append(num_str[-1])\n",
    "print(res)\n",
    "print(\"\".join(res))"
   ]
  },
  {
   "cell_type": "code",
   "execution_count": 19,
   "metadata": {},
   "outputs": [
    {
     "name": "stdout",
     "output_type": "stream",
     "text": [
      "3132\n"
     ]
    }
   ],
   "source": [
    "num_str = \"111222\" + \"0\"\n",
    "\n",
    "res_str = \"\"\n",
    "count = 1\n",
    "n = len(num_str)\n",
    "\n",
    "for i in range(1, n ):\n",
    "    if num_str[i] == num_str[i - 1]:\n",
    "        count += 1\n",
    "    else:\n",
    "        res_str += str(count) + num_str[i - 1]\n",
    "        count = 1\n",
    "print(res_str)"
   ]
  },
  {
   "cell_type": "code",
   "execution_count": null,
   "metadata": {},
   "outputs": [],
   "source": []
  },
  {
   "cell_type": "code",
   "execution_count": 42,
   "metadata": {},
   "outputs": [
    {
     "data": {
      "text/plain": [
       "'2122'"
      ]
     },
     "execution_count": 42,
     "metadata": {},
     "output_type": "execute_result"
    }
   ],
   "source": [
    "def _encode(s):\n",
    "    temp = s + \"0\"\n",
    "    res_str = \"\"\n",
    "    count = 1\n",
    "    n = len(temp)\n",
    "\n",
    "    for i in range(1, n):\n",
    "        if temp[i] == temp[i - 1]:\n",
    "            count += 1\n",
    "        else:\n",
    "            res_str += str(count) + temp[i - 1]\n",
    "            count = 1\n",
    "    \n",
    "    return res_str\n",
    "\n",
    "# s = \"1\"\n",
    "# n = 3\n",
    "# for i in range(2, n + 1):\n",
    "#     s = _encode(s)\n",
    "\n",
    "# print(s)\n",
    "s = \"1122\"\n",
    "_encode(s)"
   ]
  },
  {
   "cell_type": "markdown",
   "metadata": {},
   "source": [
    "# **TESTCASES**"
   ]
  },
  {
   "cell_type": "code",
   "execution_count": null,
   "metadata": {},
   "outputs": [
    {
     "name": "stdout",
     "output_type": "stream",
     "text": [
      "Case 1 - n: 4, Output: 1211, Expected: 1211, Status: PASSED\n",
      "Case 2 - n: 1, Output: 1, Expected: 1, Status: PASSED\n"
     ]
    }
   ],
   "source": [
    "solution = Solution()\n",
    "\n",
    "def run_test_case(case_number, input_n, expected):\n",
    "    result = solution.countAndSay(input_n)\n",
    "    status = \"PASSED\" if result == expected else \"FAILED\"\n",
    "    print(f\"Case {case_number} - n: {input_n}, Output: {result}, Expected: {expected}, Status: {status}\")\n",
    "\n",
    "test_cases = [\n",
    "    (1, 4, \"1211\"),\n",
    "    (2, 1, \"1\"),\n",
    "]\n",
    "\n",
    "for case_number, input_n, expected in test_cases:\n",
    "    run_test_case(case_number, input_n, expected)"
   ]
  }
 ],
 "metadata": {
  "kernelspec": {
   "display_name": "Python 3",
   "language": "python",
   "name": "python3"
  },
  "language_info": {
   "codemirror_mode": {
    "name": "ipython",
    "version": 3
   },
   "file_extension": ".py",
   "mimetype": "text/x-python",
   "name": "python",
   "nbconvert_exporter": "python",
   "pygments_lexer": "ipython3",
   "version": "3.10.12"
  }
 },
 "nbformat": 4,
 "nbformat_minor": 2
}
