{
 "cells": [
  {
   "cell_type": "markdown",
   "metadata": {},
   "source": [
    "# **SOLUTION**"
   ]
  },
  {
   "cell_type": "code",
   "execution_count": 1,
   "metadata": {},
   "outputs": [],
   "source": [
    "class Solution(object):\n",
    "    def countGood(self, nums, k):\n",
    "        \"\"\"\n",
    "        :type nums: List[int]\n",
    "        :type k: int\n",
    "        :rtype: int\n",
    "        \"\"\"\n",
    "        return self.solverNaive(nums, k)\n",
    "    def solverNaive(self, nums, k):\n",
    "        \"\"\"\n",
    "        :idea: sliding window\n",
    "        :cost: \n",
    "        \"\"\"\n",
    "        freq = {} # key=value : val=NumberOfPresents\n",
    "        l = 0\n",
    "        count = 0\n",
    "        ans = 0\n",
    "        n = len(nums)\n",
    "        for r in range(n):\n",
    "            r_val = nums[r]\n",
    "            if r_val in freq:\n",
    "                count += freq[r_val]\n",
    "                freq[r_val] += 1\n",
    "            else:\n",
    "                freq[r_val] = 1\n",
    "            \n",
    "            while count >= k:\n",
    "                ans += n - r\n",
    "                l_val = nums[l]\n",
    "                if l_val in freq:\n",
    "                    freq[l_val] -= 1\n",
    "                    count -= freq[l_val]\n",
    "                l += 1\n",
    "        return ans\n",
    "                "
   ]
  },
  {
   "cell_type": "markdown",
   "metadata": {},
   "source": [
    "# **DRAFT**"
   ]
  },
  {
   "cell_type": "code",
   "execution_count": 4,
   "metadata": {},
   "outputs": [
    {
     "name": "stdout",
     "output_type": "stream",
     "text": [
      "4\n"
     ]
    }
   ],
   "source": [
    "nums = [3, 1, 4, 3, 2, 2, 4]\n",
    "k = 2\n",
    "freq = {} # key=val : value=numbersOfApperance\n",
    "l = 0\n",
    "count = 0\n",
    "result = 0\n",
    "n = len(nums)\n",
    "for r in range(n):\n",
    "    r_num = nums[r]\n",
    "    if r_num in freq:\n",
    "        count += freq[r_num]\n",
    "        freq[r_num] += 1\n",
    "    else:\n",
    "        freq[r_num] = 1\n",
    "\n",
    "    while count >= k:\n",
    "        result += n - r\n",
    "        l_num = nums[l]\n",
    "        if l_num in freq:\n",
    "            freq[l_num] -= 1\n",
    "            count -= freq[l_num]\n",
    "        l += 1 \n",
    "print(result)   "
   ]
  },
  {
   "cell_type": "code",
   "execution_count": 5,
   "metadata": {},
   "outputs": [
    {
     "data": {
      "text/plain": [
       "3"
      ]
     },
     "execution_count": 5,
     "metadata": {},
     "output_type": "execute_result"
    }
   ],
   "source": [
    "nums = [3, 1, 4, 3, 2, 2, 4]\n",
    "nums[0]"
   ]
  },
  {
   "cell_type": "markdown",
   "metadata": {},
   "source": [
    "# **TESTCASES**"
   ]
  },
  {
   "cell_type": "code",
   "execution_count": null,
   "metadata": {},
   "outputs": [
    {
     "name": "stdout",
     "output_type": "stream",
     "text": [
      "Case 1 - nums: [1, 1, 1, 1, 1], k: 10, Output: 1, Expected: 1, Status: PASSED\n",
      "Case 2 - nums: [3, 1, 4, 3, 2, 2, 4], k: 2, Output: 4, Expected: 4, Status: PASSED\n"
     ]
    }
   ],
   "source": [
    "solution = Solution()\n",
    "\n",
    "def run_test_case(case_number, input_nums, input_k, expected):\n",
    "    result = solution.countGood(input_nums, input_k)\n",
    "    status = \"PASSED\" if result == expected else \"FAILED\"\n",
    "    print(f\"Case {case_number} - nums: {input_nums}, k: {input_k}, Output: {result}, Expected: {expected}, Status: {status}\")\n",
    "\n",
    "test_cases = [\n",
    "    (1, [1,1,1,1,1], 10, 1),\n",
    "    (2, [3,1,4,3,2,2,4], 2, 4),\n",
    "]\n",
    "\n",
    "for case_number, input_nums, input_k, expected in test_cases:\n",
    "    run_test_case(case_number, input_nums, input_k, expected)"
   ]
  }
 ],
 "metadata": {
  "kernelspec": {
   "display_name": "Python 3",
   "language": "python",
   "name": "python3"
  },
  "language_info": {
   "codemirror_mode": {
    "name": "ipython",
    "version": 3
   },
   "file_extension": ".py",
   "mimetype": "text/x-python",
   "name": "python",
   "nbconvert_exporter": "python",
   "pygments_lexer": "ipython3",
   "version": "3.10.12"
  }
 },
 "nbformat": 4,
 "nbformat_minor": 2
}
