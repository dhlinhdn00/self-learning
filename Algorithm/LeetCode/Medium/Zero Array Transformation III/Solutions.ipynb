{
 "cells": [
  {
   "cell_type": "markdown",
   "metadata": {},
   "source": [
    "# **SOLUTION**"
   ]
  },
  {
   "cell_type": "code",
   "execution_count": 77,
   "metadata": {},
   "outputs": [],
   "source": [
    "import heapq\n",
    "class Solution(object):\n",
    "    def maxRemoval(self, nums, queries):\n",
    "        \"\"\"\n",
    "        :type nums: List[int]\n",
    "        :type queries: List[List[int]]\n",
    "        :rtype: int\n",
    "        \"\"\"\n",
    "        return self.solverNaive(nums, queries)\n",
    "    \n",
    "    def solverNaive(self, nums, queries):\n",
    "        n = len(nums)\n",
    "        q = len(queries)\n",
    "        starts = [[] for _ in range(n)]\n",
    "        for l, r in queries:\n",
    "            if 0 <= l < n:\n",
    "                starts[l].append(r)\n",
    "\n",
    "        available = []\n",
    "        active = []\n",
    "        active_count = 0   \n",
    "        selected = 0         \n",
    "\n",
    "        for i in range(n):\n",
    "            for r in starts[i]:\n",
    "                heapq.heappush(available, -r)\n",
    "\n",
    "            while active and active[0] < i:\n",
    "                heapq.heappop(active)\n",
    "                active_count -= 1\n",
    "\n",
    "            while active_count < nums[i]:\n",
    "                if not available:\n",
    "                    return -1\n",
    "                r_max = -heapq.heappop(available)\n",
    "                if r_max < i:\n",
    "                    continue\n",
    "                heapq.heappush(active, r_max)\n",
    "                active_count += 1\n",
    "                selected += 1\n",
    "\n",
    "        return q - selected"
   ]
  },
  {
   "cell_type": "markdown",
   "metadata": {},
   "source": [
    "# **DRAFT**"
   ]
  },
  {
   "cell_type": "code",
   "execution_count": null,
   "metadata": {},
   "outputs": [
    {
     "name": "stdout",
     "output_type": "stream",
     "text": [
      "[[2, 2], [1], []]\n"
     ]
    }
   ],
   "source": [
    "nums, queries = [2,0,2], [[0,2], [0,2], [1,1]],\n",
    "n = len(nums)\n",
    "q = len(queries)\n",
    "starts = [[] for _ in range(n)]\n",
    "# print(starts)\n",
    "for l, r in queries:\n",
    "    if 0 <= l < n:\n",
    "        starts[l].append(r)\n",
    "\n",
    "print(starts)\n",
    "available = []\n",
    "active = []\n",
    "active_count = 0   \n",
    "selected = 0         \n",
    "\n",
    "for i in range(n):\n",
    "    for r in starts[i]:\n",
    "        heapq.heappush(available, -r)\n",
    "\n",
    "    while active and active[0] < i:\n",
    "        heapq.heappop(active)\n",
    "        active_count -= 1\n",
    "\n",
    "    while active_count < nums[i]:\n",
    "        if not available:\n",
    "            print(-1) \n",
    "        r_max = -heapq.heappop(available)\n",
    "        if r_max < i:\n",
    "            continue\n",
    "        heapq.heappush(active, r_max)\n",
    "        active_count += 1\n",
    "        selected += 1\n",
    "\n",
    "print(q - selected)"
   ]
  },
  {
   "cell_type": "markdown",
   "metadata": {},
   "source": [
    "# **TESTCASES**"
   ]
  },
  {
   "cell_type": "code",
   "execution_count": 75,
   "metadata": {},
   "outputs": [
    {
     "name": "stdout",
     "output_type": "stream",
     "text": [
      "Case 1 - nums: [0, 0, 0], queries: [[1, 1]], Output: 1, Expected: 1, Status: PASSED\n",
      "Case 2 - nums: [0, 0, 0, 0], queries: [[1, 3], [1, 2]], Output: 2, Expected: 2, Status: PASSED\n",
      "Case 3 - nums: [0, 1, 2, 3], queries: [], Output: -1, Expected: -1, Status: PASSED\n"
     ]
    }
   ],
   "source": [
    "solution = Solution()\n",
    "\n",
    "def run_test_case(case_number, input_nums, input_queries, expected):\n",
    "    result = solution.maxRemoval(input_nums, input_queries)\n",
    "    status = \"PASSED\" if result == expected else \"FAILED\"\n",
    "    print(f\"Case {case_number} - nums: {input_nums}, queries: {input_queries}, Output: {result}, Expected: {expected}, Status: {status}\")\n",
    "\n",
    "test_cases = [\n",
    "    (1, [2,0,2], [[0,2], [0,2], [1,1]], 1),\n",
    "    (2, [1,1,1,1], [[1,3],[0,2],[1,3],[1,2]], 2),\n",
    "    (3, [1,2,3,4], [[0,3]], -1)\n",
    "]\n",
    "\n",
    "for case_number, input_nums, input_queries, expected in test_cases:\n",
    "    run_test_case(case_number, input_nums, input_queries, expected)"
   ]
  }
 ],
 "metadata": {
  "kernelspec": {
   "display_name": "base",
   "language": "python",
   "name": "python3"
  },
  "language_info": {
   "codemirror_mode": {
    "name": "ipython",
    "version": 3
   },
   "file_extension": ".py",
   "mimetype": "text/x-python",
   "name": "python",
   "nbconvert_exporter": "python",
   "pygments_lexer": "ipython3",
   "version": "3.11.5"
  }
 },
 "nbformat": 4,
 "nbformat_minor": 2
}
