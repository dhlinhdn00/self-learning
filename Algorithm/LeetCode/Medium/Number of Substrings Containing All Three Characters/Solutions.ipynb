{
 "cells": [
  {
   "cell_type": "markdown",
   "metadata": {},
   "source": [
    "# **SOLUTION**"
   ]
  },
  {
   "cell_type": "code",
   "execution_count": 87,
   "metadata": {},
   "outputs": [],
   "source": [
    "class Solution(object):\n",
    "    def numberOfSubstrings(self, s):\n",
    "        \"\"\"\n",
    "        :type s: str\n",
    "        :rtype: int\n",
    "        \"\"\"\n",
    "        return self.solver2Pointers(s)\n",
    "\n",
    "    def solverNaive(self, s):\n",
    "        \"\"\"\n",
    "        :status: Time Limit Exceeded\n",
    "        \"\"\"\n",
    "        abc_set = set(\"abc\")\n",
    "        n = len(s)\n",
    "        count = 0\n",
    "\n",
    "        for i in range(n - 2):\n",
    "            min_right = 3\n",
    "            while i + min_right <= n:\n",
    "                if all(c in set(s[i : i + min_right]) for c in \"abc\"):\n",
    "                    count += (n - (i + min_right) + 1)\n",
    "                    break\n",
    "                min_right += 1\n",
    "        return count\n",
    "\n",
    "    def solver2Pointers(self, s):\n",
    "        \"\"\"\n",
    "        :method: 2 pointers\n",
    "        \"\"\"\n",
    "        n = len(s)\n",
    "        left = 0\n",
    "        count = 0\n",
    "        freq = {'a' : 0, 'b' : 0, 'c' : 0}\n",
    "        \n",
    "        for right in range(n):\n",
    "            if s[right] in freq:\n",
    "                freq[s[right]] += 1\n",
    "            while all(freq[c] > 0 for c in \"abc\"):\n",
    "                count += n -right\n",
    "                if s[left] in freq:\n",
    "                    freq[s[left]] -= 1\n",
    "                left += 1\n",
    "        return count\n"
   ]
  },
  {
   "cell_type": "markdown",
   "metadata": {},
   "source": [
    "# **DRAFT**"
   ]
  },
  {
   "cell_type": "code",
   "execution_count": 80,
   "metadata": {},
   "outputs": [
    {
     "name": "stdout",
     "output_type": "stream",
     "text": [
      "acbbcac\n",
      "loop 0\n",
      "s:  acb\n",
      "count truoc:  0\n",
      "acb\n",
      "count sau:  5\n",
      "________\n",
      "loop 1\n",
      "s:  cbb\n",
      "count truoc:  5\n",
      "cbbca\n",
      "count sau:  7\n",
      "________\n",
      "loop 2\n",
      "s:  bbcac\n",
      "count truoc:  7\n",
      "bbca\n",
      "count sau:  9\n",
      "________\n",
      "loop 3\n",
      "s:  bcac\n",
      "count truoc:  9\n",
      "bca\n",
      "count sau:  11\n",
      "________\n",
      "loop 4\n",
      "s:  cac\n",
      "count truoc:  11\n",
      "count sau:  11\n",
      "________\n",
      "11\n"
     ]
    }
   ],
   "source": [
    "# s = \"ababbbc\"\n",
    "s = \"acbbcac\"\n",
    "print(s)\n",
    "n = len(s)\n",
    "count = 0\n",
    "\n",
    "for i in range(n - 2):\n",
    "    print(f\"loop {i}\")\n",
    "    print(\"s: \", s[i : i + min_right])\n",
    "    min_right = 3\n",
    "    print(\"count truoc: \", count)\n",
    "\n",
    "    while i + min_right <= n:\n",
    "        if all(c in set(s[i : i + min_right]) for c in \"abc\"):\n",
    "            print(s[i : i + min_right])\n",
    "            count += (n - (i + min_right) + 1)\n",
    "            break\n",
    "        min_right += 1\n",
    "    print(\"count sau: \", count)\n",
    "\n",
    "    print(\"________\")\n",
    "print(count)\n"
   ]
  },
  {
   "cell_type": "code",
   "execution_count": 37,
   "metadata": {},
   "outputs": [
    {
     "data": {
      "text/plain": [
       "'bbc'"
      ]
     },
     "execution_count": 37,
     "metadata": {},
     "output_type": "execute_result"
    }
   ],
   "source": [
    "s = \"ababbbc\"\n",
    "s[i:len(s)]"
   ]
  },
  {
   "cell_type": "markdown",
   "metadata": {},
   "source": [
    "# **TESTCASES**"
   ]
  },
  {
   "cell_type": "code",
   "execution_count": 88,
   "metadata": {},
   "outputs": [
    {
     "name": "stdout",
     "output_type": "stream",
     "text": [
      "Case 1 - s: abcabc, Output: 10, Expected: 10, Status: PASSED\n",
      "Case 2 - s: aaacb, Output: 3, Expected: 3, Status: PASSED\n",
      "Case 3 - s: abc, Output: 1, Expected: 1, Status: PASSED\n"
     ]
    }
   ],
   "source": [
    "solution = Solution()\n",
    "\n",
    "def run_test_case(case_number, input_s, expected):\n",
    "    result = solution.numberOfSubstrings(input_s)\n",
    "    status = \"PASSED\" if result == expected else \"FAILED\"\n",
    "    print(f\"Case {case_number} - s: {input_s}, Output: {result}, Expected: {expected}, Status: {status}\")\n",
    "\n",
    "test_cases = [\n",
    "    (1, \"abcabc\", 10),\n",
    "    (2, \"aaacb\", 3),\n",
    "    (3, \"abc\", 1)\n",
    "]\n",
    "\n",
    "for case_number, input_s, expected in test_cases:\n",
    "    run_test_case(case_number, input_s, expected)"
   ]
  }
 ],
 "metadata": {
  "kernelspec": {
   "display_name": "base",
   "language": "python",
   "name": "python3"
  },
  "language_info": {
   "codemirror_mode": {
    "name": "ipython",
    "version": 3
   },
   "file_extension": ".py",
   "mimetype": "text/x-python",
   "name": "python",
   "nbconvert_exporter": "python",
   "pygments_lexer": "ipython3",
   "version": "3.10.12"
  }
 },
 "nbformat": 4,
 "nbformat_minor": 2
}
