{
 "cells": [
  {
   "cell_type": "markdown",
   "metadata": {},
   "source": [
    "# **SOLUTION**"
   ]
  },
  {
   "cell_type": "code",
   "execution_count": 2,
   "metadata": {},
   "outputs": [],
   "source": [
    "class Solution(object):\n",
    "    def numberOfSubstrings(self, s):\n",
    "        \"\"\"\n",
    "        :type s: str\n",
    "        :rtype: int\n",
    "        \"\"\"\n",
    "        return self.solverNaive(s)\n",
    "\n",
    "    def solverNaive(self, s):\n",
    "        abc_set = set(\"abc\")\n",
    "        n = len(s)\n",
    "        count = 0\n",
    "\n",
    "        for i in range(n - 2):\n",
    "            if set(s[i:i + 2]).issubset(abc_set):\n",
    "                if count == 0:\n",
    "                    count += (n - 3)\n",
    "                else:\n",
    "                    count += (len(s[i + 1:]))\n",
    "        return count\n"
   ]
  },
  {
   "cell_type": "markdown",
   "metadata": {},
   "source": [
    "# **DRAFT**"
   ]
  },
  {
   "cell_type": "markdown",
   "metadata": {},
   "source": [
    "# **TESTCASES**"
   ]
  },
  {
   "cell_type": "code",
   "execution_count": 3,
   "metadata": {},
   "outputs": [
    {
     "name": "stdout",
     "output_type": "stream",
     "text": [
      "Case 1 - s: abcabc, Output: 12, Expected: 10, Status: FAILED\n",
      "Case 2 - s: aaacb, Output: 7, Expected: 3, Status: FAILED\n",
      "Case 3 - s: abc, Output: 0, Expected: 1, Status: FAILED\n"
     ]
    }
   ],
   "source": [
    "solution = Solution()\n",
    "\n",
    "def run_test_case(case_number, input_s, expected):\n",
    "    result = solution.numberOfSubstrings(input_s)\n",
    "    status = \"PASSED\" if result == expected else \"FAILED\"\n",
    "    print(f\"Case {case_number} - s: {input_s}, Output: {result}, Expected: {expected}, Status: {status}\")\n",
    "\n",
    "test_cases = [\n",
    "    (1, \"abcabc\", 10),\n",
    "    (2, \"aaacb\", 3),\n",
    "    (3, \"abc\", 1)\n",
    "]\n",
    "\n",
    "for case_number, input_s, expected in test_cases:\n",
    "    run_test_case(case_number, input_s, expected)"
   ]
  }
 ],
 "metadata": {
  "kernelspec": {
   "display_name": "base",
   "language": "python",
   "name": "python3"
  },
  "language_info": {
   "codemirror_mode": {
    "name": "ipython",
    "version": 3
   },
   "file_extension": ".py",
   "mimetype": "text/x-python",
   "name": "python",
   "nbconvert_exporter": "python",
   "pygments_lexer": "ipython3",
   "version": "3.10.12"
  }
 },
 "nbformat": 4,
 "nbformat_minor": 2
}
